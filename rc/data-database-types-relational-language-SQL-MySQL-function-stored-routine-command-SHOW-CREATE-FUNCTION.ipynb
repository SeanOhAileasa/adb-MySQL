{
 "cells": [
  {
   "cell_type": "markdown",
   "metadata": {},
   "source": [
    "# data-database-types-relational-language-SQL-MySQL-function-stored-routine-command-SHOW-CREATE-FUNCTION\n",
    "> [TABLE OF CONTENTS](https://nbviewer.jupyter.org/github/SeanOhAileasa/adb-MySQL/blob/main/adb-MySQL.ipynb#top)\n",
    "***"
   ]
  },
  {
   "cell_type": "markdown",
   "metadata": {},
   "source": [
    "- **review** **code** of - **function** - **procedure** - commands - **SHOW** **CREATE** **FUNCTION** - **SHOW** **CREATE** **PROCEDURE** - give a not-so-friendly view of the actual code [1]"
   ]
  },
  {
   "cell_type": "markdown",
   "metadata": {},
   "source": [
    "```sql\n",
    "mysql> SHOW CREATE FUNCTION AddTwoNumbers;\n",
    "+---------------+--------------------------------------------+-------------------------------------------------------------------------------------------------------------------------------------------+----------------------+----------------------+--------------------+\n",
    "| Function      | sql_mode                                   | Create Function                                                                                                                           | character_set_client | collation_connection | Database Collation |\n",
    "+---------------+--------------------------------------------+-------------------------------------------------------------------------------------------------------------------------------------------+----------------------+----------------------+--------------------+\n",
    "| AddTwoNumbers | STRICT_TRANS_TABLES,NO_ENGINE_SUBSTITUTION | CREATE DEFINER=`root`@`localhost` FUNCTION `AddTwoNumbers`(num1 INT,num2 INT) RETURNS int\n",
    "    DETERMINISTIC\n",
    "BEGIN\n",
    "  RETURN num1+num2;\n",
    "END | cp850                | cp850_general_ci     | utf8mb4_0900_ai_ci |\n",
    "+---------------+--------------------------------------------+-------------------------------------------------------------------------------------------------------------------------------------------+----------------------+----------------------+--------------------+\n",
    "1 row in set (0.00 sec)\n",
    "```"
   ]
  },
  {
   "cell_type": "markdown",
   "metadata": {},
   "source": [
    "***\n",
    "# END"
   ]
  }
 ],
 "metadata": {
  "kernelspec": {
   "display_name": "Python 3",
   "language": "python",
   "name": "python3"
  },
  "language_info": {
   "codemirror_mode": {
    "name": "ipython",
    "version": 3
   },
   "file_extension": ".py",
   "mimetype": "text/x-python",
   "name": "python",
   "nbconvert_exporter": "python",
   "pygments_lexer": "ipython3",
   "version": "3.7.6"
  }
 },
 "nbformat": 4,
 "nbformat_minor": 4
}
