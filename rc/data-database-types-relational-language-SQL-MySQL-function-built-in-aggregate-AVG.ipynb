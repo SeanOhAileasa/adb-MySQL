{
 "cells": [
  {
   "cell_type": "markdown",
   "metadata": {},
   "source": [
    "# data-database-types-relational-language-SQL-MySQL-function-built-in-aggregate-AVG\n",
    "> [TABLE OF CONTENTS](https://nbviewer.jupyter.org/github/SeanOhAileasa/adb-MySQL/blob/main/adb-MySQL.ipynb#top)\n",
    "***"
   ]
  },
  {
   "cell_type": "markdown",
   "metadata": {},
   "source": [
    "```sql\n",
    "mysql> use school;\n",
    "Database changed\n",
    "```"
   ]
  },
  {
   "cell_type": "markdown",
   "metadata": {},
   "source": [
    "```sql\n",
    "mysql> show tables;\n",
    "+------------------+\n",
    "| Tables_in_school |\n",
    "+------------------+\n",
    "| subject          |\n",
    "| teacher          |\n",
    "+------------------+\n",
    "2 rows in set (0.00 sec)\n",
    "```"
   ]
  },
  {
   "cell_type": "markdown",
   "metadata": {},
   "source": [
    "```sql\n",
    "mysql> DESCRIBE teacher;\n",
    "+------------+---------------+------+-----+---------+----------------+\n",
    "| Field      | Type          | Null | Key | Default | Extra          |\n",
    "+------------+---------------+------+-----+---------+----------------+\n",
    "| tid        | int           | NO   | PRI | NULL    | auto_increment |\n",
    "| Name       | varchar(20)   | YES  |     | NULL    |                |\n",
    "| level      | enum('J','L') | YES  |     | NULL    |                |\n",
    "| experience | int           | YES  |     | NULL    |                |\n",
    "| dob        | date          | YES  |     | NULL    |                |\n",
    "+------------+---------------+------+-----+---------+----------------+\n",
    "5 rows in set (0.00 sec)\n",
    "```\n"
   ]
  },
  {
   "cell_type": "markdown",
   "metadata": {},
   "source": [
    "```sql\n",
    "mysql> SELECT *\n",
    "    -> FROM teacher;\n",
    "+-----+--------------+-------+------------+------------+\n",
    "| tid | Name         | level | experience | dob        |\n",
    "+-----+--------------+-------+------------+------------+\n",
    "|   1 | Mr. Pasteur  | L     |         15 | 1960-02-02 |\n",
    "|   2 | Ms. Dubois   | L     |         22 | 1967-09-02 |\n",
    "|   3 | Ms. Smith    | J     |          4 | 1980-03-23 |\n",
    "|   4 | Mr. Hawking  | L     |         40 | 1951-02-19 |\n",
    "|   5 | Mr. Kavanagh | J     |         50 | 1949-11-01 |\n",
    "|   6 | Mr. Picasso  | J     |         42 | 1939-03-30 |\n",
    "|   7 | Fr. Lynch    | L     |         55 | 1939-03-31 |\n",
    "+-----+--------------+-------+------------+------------+\n",
    "7 rows in set (0.00 sec)\n",
    "```"
   ]
  },
  {
   "cell_type": "markdown",
   "metadata": {},
   "source": [
    "- may require other information that is not stored such as the average experience of the teachers - requires the use of the - **aggregate** **function** - **AVG** - to **perform** a **calculation** on the **set** of the **column** - attribute - field - experience - **values** [1]"
   ]
  },
  {
   "cell_type": "markdown",
   "metadata": {},
   "source": [
    "```sql\n",
    "mysql> SELECT AVG(experience)\n",
    "    -> FROM teacher;\n",
    "+-----------------+\n",
    "| AVG(experience) |\n",
    "+-----------------+\n",
    "|         32.5714 |\n",
    "+-----------------+\n",
    "1 row in set (0.01 sec)\n",
    "```"
   ]
  },
  {
   "cell_type": "markdown",
   "metadata": {},
   "source": [
    "***\n",
    "# END"
   ]
  }
 ],
 "metadata": {
  "kernelspec": {
   "display_name": "Python 3",
   "language": "python",
   "name": "python3"
  },
  "language_info": {
   "codemirror_mode": {
    "name": "ipython",
    "version": 3
   },
   "file_extension": ".py",
   "mimetype": "text/x-python",
   "name": "python",
   "nbconvert_exporter": "python",
   "pygments_lexer": "ipython3",
   "version": "3.7.6"
  }
 },
 "nbformat": 4,
 "nbformat_minor": 4
}
