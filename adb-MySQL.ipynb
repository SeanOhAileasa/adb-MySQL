{
 "cells": [
  {
   "cell_type": "code",
   "execution_count": null,
   "id": "619ad17b",
   "metadata": {},
   "outputs": [
    {
     "data": {
      "text/html": [
       "<script>Jupyter.notebook.kernel.restart()</script>"
      ]
     },
     "metadata": {},
     "output_type": "display_data"
    }
   ],
   "source": [
    "from IPython.core.display import display_html\n",
    "display_html(\"<script>Jupyter.notebook.kernel.restart()</script>\",raw=True)"
   ]
  },
  {
   "cell_type": "code",
   "execution_count": 1,
   "id": "fcd41d05",
   "metadata": {},
   "outputs": [
    {
     "data": {
      "text/html": [
       "<style>.container { width:100% !important; }</style>"
      ],
      "text/plain": [
       "<IPython.core.display.HTML object>"
      ]
     },
     "metadata": {},
     "output_type": "display_data"
    },
    {
     "data": {
      "text/html": [
       "<style>.container { width:100% !important; }</style>"
      ],
      "text/plain": [
       "<IPython.core.display.HTML object>"
      ]
     },
     "metadata": {},
     "output_type": "display_data"
    }
   ],
   "source": [
    "from sys import path; path.insert(1,\"../src\");\n",
    "import fubar; from importlib import reload; reload(fubar);"
   ]
  },
  {
   "cell_type": "code",
   "execution_count": 2,
   "id": "47a216bf",
   "metadata": {},
   "outputs": [],
   "source": [
    "from sys import path; path.insert(2,\"./hide\"); from MySQL import mysql"
   ]
  },
  {
   "cell_type": "markdown",
   "id": "984a78bb",
   "metadata": {},
   "source": [
    "***\n",
    "< [GMIT Data Analytics](https://web.archive.org/web/20201029063153/https://www.gmit.ie/computer-science-and-applied-physics/higher-diploma-science-computing-data-analytics-ict) | [Home](https://github.com/SeanOhAileasa) | [README](https://github.com/SeanOhAileasa/adb-MySQL/blob/main/README.md) >\n",
    "\n",
    "[![GMIT](https://github.com/SeanOhAileasa/SeanOhAileasa/blob/master/rc/gmit.png?raw=true)](https://web.archive.org/web/20201029063153/https://www.gmit.ie/computer-science-and-applied-physics/higher-diploma-science-computing-data-analytics-ict)\n",
    "\n",
    "## Applied Databases - Course Material 2020\n",
    "### Topic: [MySQL](https://nbviewer.jupyter.org/github/SeanOhAileasa/adb-MySQL/blob/main/adb-MySQL.ipynb)\n",
    "\n",
    "***"
   ]
  },
  {
   "cell_type": "markdown",
   "id": "7179cfd1",
   "metadata": {},
   "source": [
    "Course material for the ``Applied Databases`` module (5 Credits) of the ``Higher Diploma in Science in Computing (Data Analytics) (H.Dip)`` programme (75 Credits) at **Galway-Mayo Institute of Technology (GMIT)**."
   ]
  },
  {
   "cell_type": "markdown",
   "id": "2b369580",
   "metadata": {},
   "source": [
    "***"
   ]
  },
  {
   "cell_type": "code",
   "execution_count": 3,
   "id": "c8f0c11d",
   "metadata": {},
   "outputs": [],
   "source": [
    "from sys import path; path.insert(1,\"../src\")\n",
    "from fubar import fFile"
   ]
  },
  {
   "cell_type": "code",
   "execution_count": 4,
   "id": "f61346c5",
   "metadata": {},
   "outputs": [
    {
     "name": "stdout",
     "output_type": "stream",
     "text": [
      "# repository ./SeanOhAileasa\r\n",
      "def fFile(nParPath):\r\n",
      "    \"\"\"Start a file with its associated application.\r\n",
      "\r\n",
      "Input: nParPath\r\n",
      "Process: (os.path.realpath; os.startfile)\r\n",
      "Output: file opened with associated application\r\n",
      "\"\"\"\r\n",
      "    from os import path,startfile\r\n",
      "    return startfile(path.realpath(nParPath))\r\n",
      "# --- END ---\r\n"
     ]
    }
   ],
   "source": [
    "%%script bash\n",
    "grep -1 \"def fFile\" ../src/fubar.py -A 9"
   ]
  },
  {
   "cell_type": "markdown",
   "id": "a996cbe5",
   "metadata": {},
   "source": [
    "<a id=\"top\"></a>\n",
    "***\n",
    "## Table of Contents\n",
    "***\n",
    "\n",
    "## [Abstract](#abstract)\n",
    "\n",
    "* [data](https://nbviewer.jupyter.org/github/SeanOhAileasa/adb-MySQL/blob/main/rc/data.ipynb)\n",
    "\n",
    "* [database](https://nbviewer.jupyter.org/github/SeanOhAileasa/adb-MySQL/blob/main/rc/data-database.ipynb)\n",
    "\n",
    "* [schema](https://nbviewer.jupyter.org/github/SeanOhAileasa/adb-MySQL/blob/main/rc/data-database-schema.ipynb)\n",
    "\n",
    "    * [types](https://nbviewer.jupyter.org/github/SeanOhAileasa/adb-MySQL/blob/main/rc/data-database-schema-types-intentionally-blank.ipynb)\n",
    "\n",
    "        * [physical](https://nbviewer.jupyter.org/github/SeanOhAileasa/adb-MySQL/blob/main/rc/data-database-schema-types-physical.ipynb)\n",
    "\n",
    "        * [logical](https://nbviewer.jupyter.org/github/SeanOhAileasa/adb-MySQL/blob/main/rc/data-database-schema-types-logical.ipynb)\n",
    "\n",
    "* [DBMS](https://nbviewer.jupyter.org/github/SeanOhAileasa/adb-MySQL/blob/main/rc/data-database-DBMS.ipynb)\n",
    "\n",
    "    * [mysql](https://nbviewer.jupyter.org/github/SeanOhAileasa/adb-MySQL/blob/main/rc/data-database-DBMS-MySQL.ipynb)\n",
    "\n",
    "    * [functions](https://nbviewer.jupyter.org/github/SeanOhAileasa/adb-MySQL/blob/main/rc/data-database-DBMS-functions-intentionally-blank.ipynb)\n",
    "\n",
    "        * [CRUD](https://nbviewer.jupyter.org/github/SeanOhAileasa/adb-MySQL/blob/main/rc/data-database-DBMS-functions-CRUD.ipynb)\n",
    "\n",
    "        * [storage](https://nbviewer.jupyter.org/github/SeanOhAileasa/adb-MySQL/blob/main/rc/data-database-DBMS-functions-storage.ipynb)\n",
    "\n",
    "        * [security](https://nbviewer.jupyter.org/github/SeanOhAileasa/adb-MySQL/blob/main/rc/data-database-DBMS-functions-security.ipynb)\n",
    "\n",
    "        * [backup](https://nbviewer.jupyter.org/github/SeanOhAileasa/adb-MySQL/blob/main/rc/data-database-DBMS-functions-backup.ipynb)\n",
    "\n",
    "        * [transactions](https://nbviewer.jupyter.org/github/SeanOhAileasa/adb-MySQL/blob/main/rc/data-database-DBMS-functions-transactions.ipynb)\n",
    "\n",
    "        * [integrity](https://nbviewer.jupyter.org/github/SeanOhAileasa/adb-MySQL/blob/main/rc/data-database-DBMS-functions-integrity.ipynb)\n",
    "\n",
    "        * [concurrency](https://nbviewer.jupyter.org/github/SeanOhAileasa/adb-MySQL/blob/main/rc/data-database-DBMS-functions-concurrency.ipynb)\n",
    "\n",
    "        * [advantages](https://nbviewer.jupyter.org/github/SeanOhAileasa/adb-MySQL/blob/main/rc/data-database-DBMS-functions-advantages-intentionally-blank.ipynb) \n",
    "\n",
    "            * [redundancy](https://nbviewer.jupyter.org/github/SeanOhAileasa/adb-MySQL/blob/main/rc/data-database-DBMS-functions-advantages-redundancy.ipynb)\n",
    "\n",
    "            * [standards](https://nbviewer.jupyter.org/github/SeanOhAileasa/adb-MySQL/blob/main/rc/data-database-DBMS-functions-advantages-standards.ipynb)\n",
    "\n",
    "        * [disadvantages](https://nbviewer.jupyter.org/github/SeanOhAileasa/adb-MySQL/blob/main/rc/data-database-DBMS-functions-disadvantages-intentionally-blank.ipynb)\n",
    "\n",
    "            * [complexity](https://nbviewer.jupyter.org/github/SeanOhAileasa/adb-MySQL/blob/main/rc/data-database-DBMS-functions-disadvantages-complexity.ipynb)\n",
    "\n",
    "                * [size](https://nbviewer.jupyter.org/github/SeanOhAileasa/adb-MySQL/blob/main/rc/data-database-DBMS-functions-disadvantages-complexity-size.ipynb)\n",
    "\n",
    "            * [performance](https://nbviewer.jupyter.org/github/SeanOhAileasa/adb-MySQL/blob/main/rc/data-database-DBMS-functions-disadvantages-performance.ipynb)\n",
    "\n",
    "            * [failure](https://nbviewer.jupyter.org/github/SeanOhAileasa/adb-MySQL/blob/main/rc/data-database-DBMS-functions-disadvantages-failure.ipynb)\n",
    "\n",
    "    * [normalisation](https://nbviewer.jupyter.org/github/SeanOhAileasa/adb-MySQL/blob/main/rc/data-database-types-relational-normalisation.ipynb)\n",
    "\n",
    "        * [anomaly](https://nbviewer.jupyter.org/github/SeanOhAileasa/adb-MySQL/blob/main/rc/data-database-types-relational-normalisation-anomaly-intentionally-blank.ipynb) \n",
    "\n",
    "            * [update](https://nbviewer.jupyter.org/github/SeanOhAileasa/adb-MySQL/blob/main/rc/data-database-types-relational-normalisation-anomaly-update.ipynb)\n",
    "\n",
    "            * [insertion](https://nbviewer.jupyter.org/github/SeanOhAileasa/adb-MySQL/blob/main/rc/data-database-types-relational-normalisation-anomaly-insertion.ipynb)\n",
    "\n",
    "            * [deletion](https://nbviewer.jupyter.org/github/SeanOhAileasa/adb-MySQL/blob/main/rc/data-database-types-relational-normalisation-anomaly-deletion.ipynb)\n",
    "\n",
    "        * [process](https://nbviewer.jupyter.org/github/SeanOhAileasa/adb-MySQL/blob/main/rc/data-database-types-relational-normalisation-process.ipynb)\n",
    "\n",
    "            * [foreign-key](https://nbviewer.jupyter.org/github/SeanOhAileasa/adb-MySQL/blob/main/rc/data-database-types-relational-normalisation-process-foreign-key.ipynb)\n",
    "\n",
    "                * [referential-integrity](https://nbviewer.jupyter.org/github/SeanOhAileasa/adb-MySQL/blob/main/rc/data-database-types-relational-normalisation-process-foreign-key-referential-integrity.ipynb)\n",
    "\n",
    "* [types](https://nbviewer.jupyter.org/github/SeanOhAileasa/adb-MySQL/blob/main/rc/data-database-types.ipynb)\n",
    "\n",
    "## [Introduction](#introduction)\n",
    "\n",
    "* [relational](https://nbviewer.jupyter.org/github/SeanOhAileasa/adb-MySQL/blob/main/rc/data-database-types-relational.ipynb)\n",
    "\n",
    "    * [table](https://nbviewer.jupyter.org/github/SeanOhAileasa/adb-MySQL/blob/main/rc/data-database-types-relational-table.ipynb)\n",
    "\n",
    "        * [column](https://nbviewer.jupyter.org/github/SeanOhAileasa/adb-MySQL/blob/main/rc/data-database-types-relational-table-column.ipynb)\n",
    "\n",
    "        * [row](https://nbviewer.jupyter.org/github/SeanOhAileasa/adb-MySQL/blob/main/rc/data-database-types-relational-table-row.ipynb)\n",
    "\n",
    "    * [spreadsheets](https://nbviewer.jupyter.org/github/SeanOhAileasa/adb-MySQL/blob/main/rc/data-database-types-relational-spreadsheets.ipynb)\n",
    "\n",
    "    * [language](https://nbviewer.jupyter.org/github/SeanOhAileasa/adb-MySQL/blob/main/rc/data-database-types-relational-language-intentionally-blank.ipynb)\n",
    "\n",
    "        * [SQL](https://nbviewer.jupyter.org/github/SeanOhAileasa/adb-MySQL/blob/main/rc/data-database-types-relational-language-SQL.ipynb)\n",
    "\n",
    "            * [MySQL](https://nbviewer.jupyter.org/github/SeanOhAileasa/adb-MySQL/blob/main/rc/data-database-types-relational-language-SQL-MySQL.ipynb)\n",
    "\n",
    "                * [MongoDB](https://nbviewer.jupyter.org/github/SeanOhAileasa/adb-MySQL/blob/main/rc/data-database-types-relational-language-SQL-MySQL-MongoDB.ipynb)\n",
    "\n",
    "                * [data-types](https://nbviewer.jupyter.org/github/SeanOhAileasa/adb-MySQL/blob/main/rc/data-database-types-relational-language-SQL-MySQL-data-types.ipynb)\n",
    "\n",
    "                * [command](https://nbviewer.jupyter.org/github/SeanOhAileasa/adb-MySQL/blob/main/rc/data-database-types-relational-language-SQL-MySQL-command-intentionally-blank.ipynb) \n",
    "\n",
    "                    * [create-database](https://nbviewer.jupyter.org/github/SeanOhAileasa/adb-MySQL/blob/main/rc/data-database-types-relational-language-SQL-MySQL-command-CREATE-DATABASE.ipynb)\n",
    "\n",
    "                    * [show-databases](https://nbviewer.jupyter.org/github/SeanOhAileasa/adb-MySQL/blob/main/rc/data-database-types-relational-language-SQL-MySQL-command-SHOW-DATABASES.ipynb)\n",
    "\n",
    "                    * [use](https://nbviewer.jupyter.org/github/SeanOhAileasa/adb-MySQL/blob/main/rc/data-database-types-relational-language-SQL-MySQL-command-USE.ipynb)\n",
    "\n",
    "                    * [CREATE-TABLE](https://nbviewer.jupyter.org/github/SeanOhAileasa/adb-MySQL/blob/main/rc/data-database-types-relational-language-SQL-MySQL-command-CREATE-TABLE.ipynb)\n",
    "\n",
    "                    * [DESCRIBE](https://nbviewer.jupyter.org/github/SeanOhAileasa/adb-MySQL/blob/main/rc/data-database-types-relational-language-SQL-MySQL-command-DESCRIBE.ipynb)\n",
    "\n",
    "                    * [SHOW-CREATE-TABLE](https://nbviewer.jupyter.org/github/SeanOhAileasa/adb-MySQL/blob/main/rc/data-database-types-relational-language-SQL-MySQL-command-SHOW-CREATE-TABLE.ipynb)\n",
    "\n",
    "            * [C_R_UD-read-command](https://nbviewer.jupyter.org/github/SeanOhAileasa/adb-MySQL/blob/main/rc/data-database-types-relational-language-SQL-MySQL-C_R_UD-read-command-intentionally-blank.ipynb)\n",
    "\n",
    "                * [SELECT](https://nbviewer.jupyter.org/github/SeanOhAileasa/adb-MySQL/blob/main/rc/data-database-types-relational-language-SQL-MySQL-C_R_UD-read-command-SELECT.ipynb)\n",
    "\n",
    "                    * [alias](https://nbviewer.jupyter.org/github/SeanOhAileasa/adb-MySQL/blob/main/rc/data-database-types-relational-language-SQL-MySQL-C_R_UD-read-command-SELECT-alias.ipynb)\n",
    "\n",
    "                    * [INNER-JOIN](https://nbviewer.jupyter.org/github/SeanOhAileasa/adb-MySQL/blob/main/rc/data-database-types-relational-language-SQL-MySQL-C_R_UD-read-command-SELECT-INNER-JOIN.ipynb)\n",
    "\n",
    "                    * [LEFT-JOIN](https://nbviewer.jupyter.org/github/SeanOhAileasa/adb-MySQL/blob/main/rc/data-database-types-relational-language-SQL-MySQL-C_R_UD-read-command-SELECT-LEFT-JOIN.ipynb)\n",
    "\n",
    "                    * [WHERE](https://nbviewer.jupyter.org/github/SeanOhAileasa/adb-MySQL/blob/main/rc/data-database-types-relational-language-SQL-MySQL-C_R_UD-read-command-SELECT-WHERE.ipynb)\n",
    "\n",
    "                        * < [operator](https://nbviewer.jupyter.org/github/SeanOhAileasa/adb-MySQL/blob/main/rc/data-database-types-relational-language-SQL-MySQL-C_R_UD-read-command-SELECT-WHERE-operator.ipynb)&nbsp;&nbsp;|&nbsp;&nbsp;[AND-OR](https://nbviewer.jupyter.org/github/SeanOhAileasa/adb-MySQL/blob/main/rc/data-database-types-relational-language-SQL-MySQL-C_R_UD-read-command-SELECT-WHERE-operator-AND-OR.ipynb)&nbsp;&nbsp;|&nbsp;&nbsp;[BETWEEN](https://nbviewer.jupyter.org/github/SeanOhAileasa/adb-MySQL/blob/main/rc/data-database-types-relational-language-SQL-MySQL-C_R_UD-read-command-SELECT-WHERE-operator-BETWEEN.ipynb)&nbsp;&nbsp;|&nbsp;&nbsp;[LIKE](https://nbviewer.jupyter.org/github/SeanOhAileasa/adb-MySQL/blob/main/rc/data-database-types-relational-language-SQL-MySQL-C_R_UD-read-command-SELECT-WHERE-operator-LIKE.ipynb)&nbsp;&nbsp;|&nbsp;&nbsp;[IN](https://nbviewer.jupyter.org/github/SeanOhAileasa/adb-MySQL/blob/main/rc/data-database-types-relational-language-SQL-MySQL-C_R_UD-read-command-SELECT-WHERE-operator-IN.ipynb) >\n",
    "\n",
    "                    * [LIMIT](https://nbviewer.jupyter.org/github/SeanOhAileasa/adb-MySQL/blob/main/rc/data-database-types-relational-language-SQL-MySQL-C_R_UD-read-command-SELECT-LIMIT.ipynb)\n",
    "\n",
    "                    * [DISTINCT](https://nbviewer.jupyter.org/github/SeanOhAileasa/adb-MySQL/blob/main/rc/data-database-types-relational-language-SQL-MySQL-C_R_UD-read-command-SELECT-DISTINCT.ipynb)\n",
    "\n",
    "                    * [ORDER-BY](https://nbviewer.jupyter.org/github/SeanOhAileasa/adb-MySQL/blob/main/rc/data-database-types-relational-language-SQL-MySQL-C_R_UD-read-command-SELECT-ORDER-BY.ipynb)\n",
    "\n",
    "                    * [process](https://nbviewer.jupyter.org/github/SeanOhAileasa/adb-MySQL/blob/main/rc/data-database-types-relational-language-SQL-MySQL-C_R_UD-read-command-SELECT-process.ipynb)\n",
    "                    \n",
    "                        * [subquery](https://nbviewer.jupyter.org/github/SeanOhAileasa/adb-MySQL/blob/main/rc/data-database-types-relational-language-SQL-MySQL-C_R_UD-read-command-SELECT-process-subquery.ipynb)\n",
    "\n",
    "            * [\\_C_RUD-create-command](https://nbviewer.jupyter.org/github/SeanOhAileasa/adb-MySQL/blob/main/rc/data-database-types-relational-language-SQL-MySQL-_C_RUD-create-command-intentionally-blank.ipynb)\n",
    "\n",
    "                * [INSERT-INTO](https://nbviewer.jupyter.org/github/SeanOhAileasa/adb-MySQL/blob/main/rc/data-database-types-relational-language-SQL-MySQL-_C_RUD-create-command-INSERT-INTO.ipynb)\n",
    "\n",
    "            * [CR_U_D-update-command](https://nbviewer.jupyter.org/github/SeanOhAileasa/adb-MySQL/blob/main/rc/data-database-types-relational-language-SQL-MySQL-CR_U_D-update-command-intentionally-blank.ipynb)\n",
    "\n",
    "                * [UPDATE-SET](https://nbviewer.jupyter.org/github/SeanOhAileasa/adb-MySQL/blob/main/rc/data-database-types-relational-language-SQL-MySQL-CR_U_D-update-command-UPDATE-SET.ipynb)\n",
    "\n",
    "            * [CRU_D_-delete-command](https://nbviewer.jupyter.org/github/SeanOhAileasa/adb-MySQL/blob/main/rc/data-database-types-relational-language-SQL-MySQL-CRU_D_-delete-command-intentionally-blank.ipynb)\n",
    "\n",
    "                * [DELETE](https://nbviewer.jupyter.org/github/SeanOhAileasa/adb-MySQL/blob/main/rc/data-database-types-relational-language-SQL-MySQL-CRU_D_-delete-command-DELETE.ipynb)\n",
    "\n",
    "                    * < [foreign-key](https://nbviewer.jupyter.org/github/SeanOhAileasa/adb-MySQL/blob/main/rc/data-database-types-relational-language-SQL-MySQL-CRU_D_-delete-command-DELETE-foreign-key-intentionally-blank.ipynb)&nbsp;&nbsp;|&nbsp;&nbsp;[ON-DELETE-RESTRICT](https://nbviewer.jupyter.org/github/SeanOhAileasa/adb-MySQL/blob/main/rc/data-database-types-relational-language-SQL-MySQL-CRU_D_-delete-command-DELETE-foreign-key-ON-DELETE-RESTRICT.ipynb)&nbsp;&nbsp;|&nbsp;&nbsp;[ON-DELETE-CASCADE](https://nbviewer.jupyter.org/github/SeanOhAileasa/adb-MySQL/blob/main/rc/data-database-types-relational-language-SQL-MySQL-CRU_D_-delete-command-DELETE-foreign-key-ON-DELETE-CASCADE.ipynb)&nbsp;&nbsp;|&nbsp;&nbsp;[ON-DELETE-SET-NULL](https://nbviewer.jupyter.org/github/SeanOhAileasa/adb-MySQL/blob/main/rc/data-database-types-relational-language-SQL-MySQL-CRU_D_-delete-command-DELETE-foreign-key-ON-DELETE-SET-NULL.ipynb) >\n",
    "\n",
    "        * [primary-key](https://nbviewer.jupyter.org/github/SeanOhAileasa/adb-MySQL/blob/main/rc/data-database-types-relational-language-SQL-MySQL-primary-key.ipynb)\n",
    "\n",
    "        * [function](https://nbviewer.jupyter.org/github/SeanOhAileasa/adb-MySQL/blob/main/rc/data-database-types-relational-language-SQL-MySQL-function.ipynb)\n",
    "\n",
    "            * [built-in](https://nbviewer.jupyter.org/github/SeanOhAileasa/adb-MySQL/blob/main/rc/data-database-types-relational-language-SQL-MySQL-function-built-in.ipynb)\n",
    "\n",
    "                * [string](https://nbviewer.jupyter.org/github/SeanOhAileasa/adb-MySQL/blob/main/rc/data-database-types-relational-language-SQL-MySQL-function-built-in-string-intentionally-blank.ipynb)\n",
    "\n",
    "                    * [UPPER](https://nbviewer.jupyter.org/github/SeanOhAileasa/adb-MySQL/blob/main/rc/data-database-types-relational-language-SQL-MySQL-function-built-in-string-UPPER.ipynb)\n",
    "\n",
    "                    * [STRCMP](https://nbviewer.jupyter.org/github/SeanOhAileasa/adb-MySQL/blob/main/rc/data-database-types-relational-language-SQL-MySQL-function-built-in-string-STRCMP.ipynb)\n",
    "\n",
    "                    * [ASCII](https://nbviewer.jupyter.org/github/SeanOhAileasa/adb-MySQL/blob/main/rc/data-database-types-relational-language-SQL-MySQL-function-built-in-string-ASCII.ipynb)\n",
    "\n",
    "                    * [REPLACE](https://nbviewer.jupyter.org/github/SeanOhAileasa/adb-MySQL/blob/main/rc/data-database-types-relational-language-SQL-MySQL-function-built-in-string-REPLACE.ipynb)\n",
    "\n",
    "                    * [SUBSTR](https://nbviewer.jupyter.org/github/SeanOhAileasa/adb-MySQL/blob/main/rc/data-database-types-relational-language-SQL-MySQL-function-built-in-string-SUBSTR.ipynb)\n",
    "\n",
    "                    * [CONCAT](https://nbviewer.jupyter.org/github/SeanOhAileasa/adb-MySQL/blob/main/rc/data-database-types-relational-language-SQL-MySQL-function-built-in-string-CONCAT.ipynb)\n",
    "\n",
    "                * [numeric](https://nbviewer.jupyter.org/github/SeanOhAileasa/adb-MySQL/blob/main/rc/data-database-types-relational-language-SQL-MySQL-function-built-in-numeric-intentionally-blank.ipynb)\n",
    "\n",
    "                    * [SQRT](https://nbviewer.jupyter.org/github/SeanOhAileasa/adb-MySQL/blob/main/rc/data-database-types-relational-language-SQL-MySQL-function-built-in-numeric-SQRT.ipynb)\n",
    "\n",
    "                    * [ROUND](https://nbviewer.jupyter.org/github/SeanOhAileasa/adb-MySQL/blob/main/rc/data-database-types-relational-language-SQL-MySQL-function-built-in-numeric-ROUND.ipynb)\n",
    "\n",
    "                * [date](https://nbviewer.jupyter.org/github/SeanOhAileasa/adb-MySQL/blob/main/rc/data-database-types-relational-language-SQL-MySQL-function-built-in-date-intentionally-blank.ipynb)\n",
    "\n",
    "                    * [DATEDIFF](https://nbviewer.jupyter.org/github/SeanOhAileasa/adb-MySQL/blob/main/rc/data-database-types-relational-language-SQL-MySQL-function-built-in-date-DATEDIFF.ipynb)\n",
    "\n",
    "                    * [DATE_FORMAT](https://nbviewer.jupyter.org/github/SeanOhAileasa/adb-MySQL/blob/main/rc/data-database-types-relational-language-SQL-MySQL-function-built-in-date-DATE_FORMAT.ipynb)\n",
    "\n",
    "                * [aggregate](https://nbviewer.jupyter.org/github/SeanOhAileasa/adb-MySQL/blob/main/rc/data-database-types-relational-language-SQL-MySQL-function-built-in-aggregate.ipynb)\n",
    "\n",
    "                    * [AVG](https://nbviewer.jupyter.org/github/SeanOhAileasa/adb-MySQL/blob/main/rc/data-database-types-relational-language-SQL-MySQL-function-built-in-aggregate-AVG.ipynb)\n",
    "\n",
    "                    * [COUNT](https://nbviewer.jupyter.org/github/SeanOhAileasa/adb-MySQL/blob/main/rc/data-database-types-relational-language-SQL-MySQL-function-built-in-aggregate-COUNT.ipynb)\n",
    "\n",
    "                * [clause](https://nbviewer.jupyter.org/github/SeanOhAileasa/adb-MySQL/blob/main/rc/data-database-types-relational-language-SQL-MySQL-function-built-in-aggregate-clause-intentionally-blank.ipynb)\n",
    "\n",
    "                    * [GROUP-BY](https://nbviewer.jupyter.org/github/SeanOhAileasa/adb-MySQL/blob/main/rc/data-database-types-relational-language-SQL-MySQL-function-built-in-aggregate-clause-GROUP-BY.ipynb)\n",
    "\n",
    "                        * [HAVING](https://nbviewer.jupyter.org/github/SeanOhAileasa/adb-MySQL/blob/main/rc/data-database-types-relational-language-SQL-MySQL-function-built-in-aggregate-clause-GROUP-BY-HAVING.ipynb)\n",
    "\n",
    "                * [information](https://nbviewer.jupyter.org/github/SeanOhAileasa/adb-MySQL/blob/main/rc/data-database-types-relational-language-SQL-MySQL-function-built-in-information-intentionally-blank.ipynb)\n",
    "\n",
    "                    * [DATABASE](https://nbviewer.jupyter.org/github/SeanOhAileasa/adb-MySQL/blob/main/rc/data-database-types-relational-language-SQL-MySQL-function-built-in-information-DATABASE.ipynb)\n",
    "\n",
    "                    * [USER](https://nbviewer.jupyter.org/github/SeanOhAileasa/adb-MySQL/blob/main/rc/data-database-types-relational-language-SQL-MySQL-function-built-in-information-USER.ipynb)\n",
    "\n",
    "                * [control-flow](https://nbviewer.jupyter.org/github/SeanOhAileasa/adb-MySQL/blob/main/rc/data-database-types-relational-language-SQL-MySQL-function-built-in-control-flow.ipynb)\n",
    "\n",
    "                    * [conditional](https://nbviewer.jupyter.org/github/SeanOhAileasa/adb-MySQL/blob/main/rc/data-database-types-relational-language-SQL-MySQL-function-built-in-control-flow-conditional.ipynb)\n",
    "\n",
    "                    * [CASE](https://nbviewer.jupyter.org/github/SeanOhAileasa/adb-MySQL/blob/main/rc/data-database-types-relational-language-SQL-MySQL-function-built-in-control-flow-CASE.ipynb)\n",
    "\n",
    "            * [stored-routine](https://nbviewer.jupyter.org/github/SeanOhAileasa/adb-MySQL/blob/main/rc/data-database-types-relational-language-SQL-MySQL-function-stored-routine.ipynb)\n",
    "\n",
    "                * [CREATE-FUNCTION](https://nbviewer.jupyter.org/github/SeanOhAileasa/adb-MySQL/blob/main/rc/data-database-types-relational-language-SQL-MySQL-function-stored-routine-CREATE-FUNCTION.ipynb)\n",
    "\n",
    "                * [information_schema](https://nbviewer.jupyter.org/github/SeanOhAileasa/adb-MySQL/blob/main/rc/data-database-types-relational-language-SQL-MySQL-function-stored-routine-information_schema.ipynb)\n",
    "\n",
    "                * [command](https://nbviewer.jupyter.org/github/SeanOhAileasa/adb-MySQL/blob/main/rc/data-database-types-relational-language-SQL-MySQL-function-stored-routine-command-intentionally-blank.ipynb)\n",
    "\n",
    "                    * [SHOW-CREATE-FUNCTION](https://nbviewer.jupyter.org/github/SeanOhAileasa/adb-MySQL/blob/main/rc/data-database-types-relational-language-SQL-MySQL-function-stored-routine-command-SHOW-CREATE-FUNCTION.ipynb)\n",
    "\n",
    "                    * [DROP](https://nbviewer.jupyter.org/github/SeanOhAileasa/adb-MySQL/blob/main/rc/data-database-types-relational-language-SQL-MySQL-function-stored-routine-command-DROP.ipynb)\n",
    "\n",
    "                * [stored-procedure](https://nbviewer.jupyter.org/github/SeanOhAileasa/adb-MySQL/blob/main/rc/data-database-types-relational-language-SQL-MySQL-function-stored-procedure.ipynb)\n",
    "\n",
    "                    * [CREATE-PROCEDURE](https://nbviewer.jupyter.org/github/SeanOhAileasa/adb-MySQL/blob/main/rc/data-database-types-relational-language-SQL-MySQL-function-stored-procedures-CREATE-PROCEDURE.ipynb)\n",
    "\n",
    "                    * [information_schema](https://nbviewer.jupyter.org/github/SeanOhAileasa/adb-MySQL/blob/main/rc/data-database-types-relational-language-SQL-MySQL-function-stored-procedures-information_schema.ipynb)\n",
    "\n",
    "                    * < [command](https://nbviewer.jupyter.org/github/SeanOhAileasa/adb-MySQL/blob/main/rc/data-database-types-relational-language-SQL-MySQL-function-stored-procedures-command-intentionally-blank.ipynb)&nbsp;&nbsp;|&nbsp;&nbsp;[SHOW-CREATE-PROCEDURE](https://nbviewer.jupyter.org/github/SeanOhAileasa/adb-MySQL/blob/main/rc/data-database-types-relational-language-SQL-MySQL-function-stored-procedures-command-SHOW-CREATE-PROCEDURE.ipynb)&nbsp;&nbsp;|&nbsp;&nbsp;[DROP](https://nbviewer.jupyter.org/github/SeanOhAileasa/adb-MySQL/blob/main/rc/data-database-types-relational-language-SQL-MySQL-function-stored-procedures-command-DROP.ipynb) >\n",
    "\n",
    "## [Solution](#solution)\n",
    "\n",
    "- &#x1F6A7;\n",
    "\n",
    "## [Conclusion](#conclusion)\n",
    "\n",
    "- &#x1F6A7;"
   ]
  },
  {
   "cell_type": "markdown",
   "id": "d1a51b6a",
   "metadata": {},
   "source": [
    "***\n",
    "## END"
   ]
  },
  {
   "cell_type": "markdown",
   "id": "25093738",
   "metadata": {},
   "source": [
    "< [Table of Contents](#top) | [Introduction](#introduction) | [Solution](#solution) | [Conclusion](#conclusion) | [References](#references) >\n",
    "<a id=\"abstract\"></a>\n",
    "***\n",
    "## Abstract\n",
    "***"
   ]
  },
  {
   "cell_type": "markdown",
   "id": "e899d595",
   "metadata": {},
   "source": [
    "&#x1F6A7;"
   ]
  },
  {
   "cell_type": "markdown",
   "id": "2f83601c",
   "metadata": {},
   "source": [
    "***\n",
    "## END"
   ]
  },
  {
   "cell_type": "markdown",
   "id": "4586c244",
   "metadata": {},
   "source": [
    "< [Table of Contents](#top) | [Abstract](#abstract) | [Solution](#solution) | [Conclusion](#conclusion) | [References](#references) >\n",
    "<a id=\"introduction\"></a>\n",
    "***\n",
    "## Introduction\n",
    "***"
   ]
  },
  {
   "cell_type": "markdown",
   "id": "10302b14",
   "metadata": {},
   "source": [
    "&#x1F6A7;"
   ]
  },
  {
   "cell_type": "markdown",
   "id": "49a4b15e",
   "metadata": {},
   "source": [
    "***\n",
    "## END"
   ]
  },
  {
   "cell_type": "markdown",
   "id": "cdfbb4d7",
   "metadata": {},
   "source": [
    "< [Table of Contents](#top) | [Abstract](#abstract) | [Introduction](#introduction) | [Conclusion](#conclusion) | [References](#references) >\n",
    "<a id=\"solution\"></a>\n",
    "***\n",
    "## Solution\n",
    "***"
   ]
  },
  {
   "cell_type": "markdown",
   "id": "7ba9ebdb",
   "metadata": {},
   "source": [
    "&#x1F6A7;"
   ]
  },
  {
   "cell_type": "markdown",
   "id": "8483b1b5",
   "metadata": {},
   "source": [
    "<!-- - refer [Appendix](#appendix-df) to view the full dataset <a id=\"go-back-df\"></a> -->\n",
    "<!-- print(fGetModuleType(___x___),fDocumentation(___x___)) -->\n",
    "***\n",
    "## END"
   ]
  },
  {
   "cell_type": "markdown",
   "id": "5187682b",
   "metadata": {},
   "source": [
    "< [Table of Contents](#top) | [Abstract](#abstract) | [Introduction](#introduction) | [Solution](#solution) | [References](#references) >\n",
    "<a id=\"conclusion\"></a>\n",
    "***\n",
    "## Conclusion\n",
    "***"
   ]
  },
  {
   "cell_type": "markdown",
   "id": "9deeba11",
   "metadata": {},
   "source": [
    "&#x1F6A7;"
   ]
  },
  {
   "cell_type": "markdown",
   "id": "28dae2a6",
   "metadata": {},
   "source": [
    "***\n",
    "## END"
   ]
  },
  {
   "cell_type": "markdown",
   "id": "bcd28c42",
   "metadata": {},
   "source": [
    "< [Table of Contents](#top) | [Abstract](#abstract) | [Introduction](#introduction) | [Solution](#solution) | [Conclusion](#conclusion) | [References](#references) >\n",
    "<a id=\"references\"></a>\n",
    "***\n",
    "## References\n",
    "***\n",
    "&#x1F6A7;"
   ]
  },
  {
   "cell_type": "markdown",
   "id": "f4ea552a",
   "metadata": {},
   "source": [
    "***\n",
    "## END"
   ]
  },
  {
   "cell_type": "markdown",
   "id": "d9f1a942",
   "metadata": {},
   "source": [
    "< [Table of Contents](#top) | [Abstract](#abstract) | [Introduction](#introduction) | [Solution](#solution) | [Conclusion](#conclusion) | [References](#references) >\n",
    "<a id=\"appendix\"></a>\n",
    "***\n",
    "## Appendix\n",
    "***"
   ]
  },
  {
   "cell_type": "markdown",
   "id": "c60a9640",
   "metadata": {},
   "source": [
    "&#x1F6A7;"
   ]
  },
  {
   "cell_type": "markdown",
   "id": "7ae1a9ca",
   "metadata": {},
   "source": [
    "<a id=\"appendix-some-reference\"></a>\n",
    "< [Go Back](#top) >"
   ]
  },
  {
   "cell_type": "markdown",
   "id": "7bed59ab",
   "metadata": {},
   "source": [
    "```python\n",
    "from matplotlib.pyplot import box,yticks,xlabel,bar,text,title,show\n",
    "\n",
    "from sys import path; path.insert(1,\"../src\")\n",
    "from fubar import fDarkReader\n",
    "\n",
    "%%script bash\n",
    "grep -1 \"def fDarkReader\" ../src/fubar.py -A 9\n",
    "\n",
    "fDarkReader()\n",
    "```"
   ]
  },
  {
   "cell_type": "markdown",
   "id": "2bf8b5c1",
   "metadata": {},
   "source": [
    "⚡"
   ]
  },
  {
   "cell_type": "markdown",
   "id": "0df8d142",
   "metadata": {},
   "source": [
    "```python\n",
    "from sys import path; path.insert(1,\"../src\")\n",
    "from fubar import fFile\n",
    "\n",
    "%%script bash\n",
    "grep -1 \"def fFile\" ../src/fubar.py -A 9\n",
    "\n",
    "fFile(nParPath=\"\")\n",
    "\n",
    "exit()\n",
    "```"
   ]
  },
  {
   "cell_type": "markdown",
   "id": "d2504e28",
   "metadata": {},
   "source": [
    "###### Github\n",
    "***"
   ]
  },
  {
   "cell_type": "markdown",
   "id": "b713f5c4",
   "metadata": {},
   "source": [
    "```\n",
    "git push -f origin HEAD^:master && git reset HEAD~\n",
    "```"
   ]
  },
  {
   "cell_type": "markdown",
   "id": "d5c48461",
   "metadata": {},
   "source": [
    "###### Functions\n",
    "***"
   ]
  },
  {
   "cell_type": "markdown",
   "id": "87d57653",
   "metadata": {},
   "source": [
    "```python\n",
    "# %%writefile -a ../src/fubar.py\n",
    "# repository ./fubar-python\n",
    "def f():\n",
    "    \"\"\"\n",
    "\n",
    "Input:\n",
    "Process:\n",
    "Output:\n",
    "\"\"\"\n",
    "    pass\n",
    "# -- END ---\n",
    "```"
   ]
  },
  {
   "cell_type": "markdown",
   "id": "5d59eb2c",
   "metadata": {},
   "source": [
    "###### Functions - ../src/fubar.py\n",
    "***"
   ]
  },
  {
   "cell_type": "markdown",
   "id": "a456a6d6",
   "metadata": {},
   "source": [
    "```\n",
    "%%script bash\n",
    "cat ../src/fubar.py\n",
    "```"
   ]
  },
  {
   "cell_type": "code",
   "execution_count": 7,
   "id": "99842d5b",
   "metadata": {},
   "outputs": [
    {
     "name": "stdout",
     "output_type": "stream",
     "text": [
      "# repository ./SeanOhAileasa\r\n",
      "def fFullScreen():\r\n",
      "\t\"\"\"Utilise full Jupyter notebook screen.\r\n",
      "\r\n",
      "Input:\r\n",
      "Process: (IPython.core.display.display; IPython.core.display.HTML)\r\n",
      "Output:\r\n",
      "\"\"\"\r\n",
      "\tfrom IPython.core.display import display,HTML\r\n",
      "\tdisplay(HTML(\"<style>.container { width:100% !important; }</style>\"))\r\n",
      "# --- END ---\r\n"
     ]
    }
   ],
   "source": [
    "%%script bash\n",
    "grep -1 \"def fFullScreen\" ../src/fubar.py -A 9"
   ]
  },
  {
   "cell_type": "markdown",
   "id": "731eb12e",
   "metadata": {},
   "source": [
    "```\n",
    "git commit -m \"update repository ./fubar-python - Everything in python is an object.\"\n",
    "```"
   ]
  },
  {
   "cell_type": "markdown",
   "id": "c196264c",
   "metadata": {},
   "source": [
    "###### Images\n",
    "***"
   ]
  },
  {
   "cell_type": "markdown",
   "id": "89a4e22a",
   "metadata": {},
   "source": [
    "![gumball](https://github.com/SeanOhAileasa/SeanOhAileasa/blob/master/rc/cta/analysing/gumball.png?raw=true)\n",
    "\n",
    "***(Image) P. Mannion, \"03 Analysing Algorithms Part 1,\" GMIT, October 2017.***"
   ]
  },
  {
   "cell_type": "markdown",
   "id": "d62e45f1",
   "metadata": {},
   "source": [
    "###### Tables\n",
    "***"
   ]
  },
  {
   "cell_type": "markdown",
   "id": "4e55a50f",
   "metadata": {},
   "source": [
    "|aaa|bbbbbb|ccccccccc|\n",
    "|:------------------------- | :------------------------- | :------------------------- |\n",
    "|aaa|bbbbbb|ccccccccc|"
   ]
  },
  {
   "cell_type": "markdown",
   "id": "18979118",
   "metadata": {},
   "source": [
    "###### References\n",
    "***"
   ]
  },
  {
   "cell_type": "markdown",
   "id": "00549c34",
   "metadata": {},
   "source": [
    "&nbsp;&nbsp;&nbsp;&nbsp;&nbsp;&nbsp;&nbsp;&nbsp;&nbsp;[1] x. xxx, \"xxx,\" xxx, JanXXXry 2XX1.\n",
    "\n",
    "&nbsp;&nbsp;&nbsp;&nbsp;&nbsp;&nbsp;&nbsp;&nbsp;&nbsp;[0] Anaconda (built-in), \"range,\" Docstring, Conda:4.9.2 (Python:3.8.5).\n",
    "\n",
    "&nbsp;&nbsp;&nbsp;&nbsp;&nbsp;&nbsp;&nbsp;&nbsp;&nbsp;[0] Anaconda (plot), \"matplotlib.pyplot,\" Docstring, Conda:4.9.2 (Python:3.8.5).\n",
    "\n",
    "&nbsp;&nbsp;&nbsp;&nbsp;&nbsp;&nbsp;&nbsp;&nbsp;&nbsp;[0] D. Carr, \"CTA - Lecture 1 Part 1,\" GMIT, January 2021.\n",
    "\n",
    "&nbsp;&nbsp;&nbsp;&nbsp;&nbsp;&nbsp;&nbsp;&nbsp;&nbsp;[0] A. Beatty, \"xxx,\" GMIT, January 202x.\n",
    "\n",
    "&nbsp;&nbsp;&nbsp;&nbsp;&nbsp;&nbsp;&nbsp;&nbsp;&nbsp;[0] M. R. Fellows, I. Parberry, \"SIGACT Trying to Get Children Excited About CS,\" [ianparberry](https://web.archive.org/web/20210220071000/http://ianparberry.com/research/cseducation), January 1993.\n",
    "\n",
    "###### fubar-000\n",
    "\n",
    "&nbsp;&nbsp;&nbsp;&nbsp;&nbsp;&nbsp;&nbsp;&nbsp;&nbsp;[0] A. Beatty, \"prog 0.0 introduction (Module: Programming for Cybersecurity),\" GMIT (Programme: Certificate in Cybersecurity Operations), January 2021."
   ]
  },
  {
   "cell_type": "markdown",
   "id": "ef2b2bdc",
   "metadata": {},
   "source": [
    "***\n",
    "## END"
   ]
  },
  {
   "cell_type": "markdown",
   "id": "79011a80",
   "metadata": {},
   "source": [
    "# END JUPYTER NOTEBOOK"
   ]
  }
 ],
 "metadata": {
  "kernelspec": {
   "display_name": "Python 3",
   "language": "python",
   "name": "python3"
  },
  "language_info": {
   "codemirror_mode": {
    "name": "ipython",
    "version": 3
   },
   "file_extension": ".py",
   "mimetype": "text/x-python",
   "name": "python",
   "nbconvert_exporter": "python",
   "pygments_lexer": "ipython3",
   "version": "3.8.8"
  }
 },
 "nbformat": 4,
 "nbformat_minor": 5
}
