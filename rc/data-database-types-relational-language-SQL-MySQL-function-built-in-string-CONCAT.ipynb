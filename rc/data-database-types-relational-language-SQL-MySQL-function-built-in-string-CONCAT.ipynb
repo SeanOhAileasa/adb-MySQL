{
 "cells": [
  {
   "cell_type": "markdown",
   "metadata": {},
   "source": [
    "# data-database-types-relational-language-SQL-MySQL-function-built-in-string-CONCAT\n",
    "> [TABLE OF CONTENTS](https://nbviewer.jupyter.org/github/SeanOhAileasa/adb-MySQL/blob/main/adb-MySQL.ipynb#top)\n",
    "***"
   ]
  },
  {
   "cell_type": "markdown",
   "metadata": {},
   "source": [
    "- **joins** **two** **strings** **together** [1]"
   ]
  },
  {
   "cell_type": "markdown",
   "metadata": {},
   "source": [
    "```sql\n",
    "mysql> use lab5;\n",
    "Database changed\n",
    "```"
   ]
  },
  {
   "cell_type": "markdown",
   "metadata": {},
   "source": [
    "```sql\n",
    "mysql> show tables;\n",
    "+----------------+\n",
    "| Tables_in_lab5 |\n",
    "+----------------+\n",
    "| car            |\n",
    "| person         |\n",
    "+----------------+\n",
    "2 rows in set (0.00 sec)\n",
    "```"
   ]
  },
  {
   "cell_type": "markdown",
   "metadata": {},
   "source": [
    "```sql\n",
    "mysql> SELECT *\n",
    "    -> FROM person;\n",
    "+----------+----------+------+------+-----------+\n",
    "| personID | name     | age  | sex  | isStudent |\n",
    "+----------+----------+------+------+-----------+\n",
    "|        1 | John     |   24 | M    |         1 |\n",
    "|        2 | Mary     |   31 | F    |         0 |\n",
    "|        3 | Tom      | NULL | M    |         0 |\n",
    "|        4 | Alan     |   19 | M    |         1 |\n",
    "|        5 | Laura    |   18 | F    |         1 |\n",
    "|        6 | Bob      |   19 | M    |         0 |\n",
    "|        7 | Johnny   |   24 | M    |         1 |\n",
    "|        8 | Mary     |   31 | F    |         0 |\n",
    "|        9 | Jonathan |   24 | M    |         0 |\n",
    "|       10 | Tommy    |   24 | M    |         0 |\n",
    "+----------+----------+------+------+-----------+\n",
    "10 rows in set (0.00 sec)\n",
    "```"
   ]
  },
  {
   "cell_type": "markdown",
   "metadata": {},
   "source": [
    "- **update** **table** - entity - relation - person - **include** - Mr. - Ms. - in **each** **row** - record - tuple - in the **column** - attribute - field - name [1]"
   ]
  },
  {
   "cell_type": "markdown",
   "metadata": {},
   "source": [
    "- first check current row - record - tuple - value - before setting to a new value - **function** - **IF** - **three** **expressions** - i) **first** expression - **test** for - **True** - **False** - column - attribute - field - sex equals - M - ii) **second** expression - **value** to **return** if the **first** expression - **True**  - Mr. - iii) **third** expression - **value** to **return** if the **first** expression - **False** - Ms. [1]"
   ]
  },
  {
   "cell_type": "markdown",
   "metadata": {},
   "source": [
    "- value returned from - function - IF - either - Mr. - Ms. - **function** - **CONCAT** - **joins** **two** **strings** together - **parameters** - two - i) **first** - **result** of running **function** - **IF** - ii) **second** - the **original** **column** - attribute - field - name [1]"
   ]
  },
  {
   "cell_type": "markdown",
   "metadata": {},
   "source": [
    "```sql\n",
    "mysql> UPDATE person\n",
    "    -> SET name=CONCAT(IF(sex=\"M\",\"Mr.\",\"Ms.\"),name);\n",
    "Query OK, 10 rows affected (0.01 sec)\n",
    "Rows matched: 10  Changed: 10  Warnings: 0\n",
    "```"
   ]
  },
  {
   "cell_type": "markdown",
   "metadata": {},
   "source": [
    "```sql\n",
    "mysql> SELECT *\n",
    "    -> FROM person;\n",
    "+----------+-------------+------+------+-----------+\n",
    "| personID | name        | age  | sex  | isStudent |\n",
    "+----------+-------------+------+------+-----------+\n",
    "|        1 | Mr.John     |   24 | M    |         1 |\n",
    "|        2 | Ms.Mary     |   31 | F    |         0 |\n",
    "|        3 | Mr.Tom      | NULL | M    |         0 |\n",
    "|        4 | Mr.Alan     |   19 | M    |         1 |\n",
    "|        5 | Ms.Laura    |   18 | F    |         1 |\n",
    "|        6 | Mr.Bob      |   19 | M    |         0 |\n",
    "|        7 | Mr.Johnny   |   24 | M    |         1 |\n",
    "|        8 | Ms.Mary     |   31 | F    |         0 |\n",
    "|        9 | Mr.Jonathan |   24 | M    |         0 |\n",
    "|       10 | Mr.Tommy    |   24 | M    |         0 |\n",
    "+----------+-------------+------+------+-----------+\n",
    "10 rows in set (0.00 sec)\n",
    "```"
   ]
  },
  {
   "cell_type": "markdown",
   "metadata": {},
   "source": [
    "***\n",
    "# END"
   ]
  }
 ],
 "metadata": {
  "kernelspec": {
   "display_name": "Python 3",
   "language": "python",
   "name": "python3"
  },
  "language_info": {
   "codemirror_mode": {
    "name": "ipython",
    "version": 3
   },
   "file_extension": ".py",
   "mimetype": "text/x-python",
   "name": "python",
   "nbconvert_exporter": "python",
   "pygments_lexer": "ipython3",
   "version": "3.7.6"
  }
 },
 "nbformat": 4,
 "nbformat_minor": 4
}
