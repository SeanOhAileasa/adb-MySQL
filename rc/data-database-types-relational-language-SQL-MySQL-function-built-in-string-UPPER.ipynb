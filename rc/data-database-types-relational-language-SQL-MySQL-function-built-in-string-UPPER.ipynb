{
 "cells": [
  {
   "cell_type": "markdown",
   "metadata": {},
   "source": [
    "# data-database-types-relational-language-SQL-MySQL-function-built-in-string-UPPER\n",
    "> [TABLE OF CONTENTS](https://nbviewer.jupyter.org/github/SeanOhAileasa/adb-MySQL/blob/main/adb-MySQL.ipynb#top)\n",
    "***"
   ]
  },
  {
   "cell_type": "markdown",
   "metadata": {},
   "source": [
    "- **returns** an **uppercase** **version** of a **string** [1]"
   ]
  },
  {
   "cell_type": "markdown",
   "metadata": {},
   "source": [
    "```sql\n",
    "mysql> use lab1;\n",
    "Database changed\n",
    "```"
   ]
  },
  {
   "cell_type": "markdown",
   "metadata": {},
   "source": [
    "```sql\n",
    "mysql> show tables;\n",
    "+----------------+\n",
    "| Tables_in_lab1 |\n",
    "+----------------+\n",
    "| car            |\n",
    "| person         |\n",
    "| personex       |\n",
    "+----------------+\n",
    "3 rows in set (0.00 sec)\n",
    "```"
   ]
  },
  {
   "cell_type": "markdown",
   "metadata": {},
   "source": [
    "```sql\n",
    "mysql> describe person;\n",
    "+-----------+---------------+------+-----+---------+----------------+\n",
    "| Field     | Type          | Null | Key | Default | Extra          |\n",
    "+-----------+---------------+------+-----+---------+----------------+\n",
    "| personID  | int           | NO   | PRI | NULL    | auto_increment |\n",
    "| name      | varchar(20)   | NO   |     | NULL    |                |\n",
    "| age       | int           | YES  |     | NULL    |                |\n",
    "| sex       | enum('M','F') | YES  |     | M       |                |\n",
    "| dob       | date          | YES  |     | NULL    |                |\n",
    "| isStudent | tinyint(1)    | YES  |     | NULL    |                |\n",
    "+-----------+---------------+------+-----+---------+----------------+\n",
    "6 rows in set (0.00 sec)\n",
    "```"
   ]
  },
  {
   "cell_type": "markdown",
   "metadata": {},
   "source": [
    "```sql\n",
    "mysql> SELECT UPPER(name)\n",
    "    -> FROM person;\n",
    "+-------------+\n",
    "| UPPER(name) |\n",
    "+-------------+\n",
    "| JOHN        |\n",
    "| TOM         |\n",
    "| MARY        |\n",
    "| ALAN        |\n",
    "| PAT         |\n",
    "| SHANE       |\n",
    "| SHANE       |\n",
    "| ALICE       |\n",
    "| PAT         |\n",
    "+-------------+\n",
    "9 rows in set (0.00 sec)\n",
    "```"
   ]
  },
  {
   "cell_type": "markdown",
   "metadata": {},
   "source": [
    "***\n",
    "# END"
   ]
  }
 ],
 "metadata": {
  "kernelspec": {
   "display_name": "Python 3",
   "language": "python",
   "name": "python3"
  },
  "language_info": {
   "codemirror_mode": {
    "name": "ipython",
    "version": 3
   },
   "file_extension": ".py",
   "mimetype": "text/x-python",
   "name": "python",
   "nbconvert_exporter": "python",
   "pygments_lexer": "ipython3",
   "version": "3.7.6"
  }
 },
 "nbformat": 4,
 "nbformat_minor": 4
}
