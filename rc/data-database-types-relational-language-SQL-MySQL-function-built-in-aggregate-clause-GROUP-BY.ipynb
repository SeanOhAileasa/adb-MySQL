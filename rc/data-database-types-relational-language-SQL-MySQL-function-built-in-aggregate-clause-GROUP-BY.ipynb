{
 "cells": [
  {
   "cell_type": "markdown",
   "metadata": {},
   "source": [
    "# data-database-types-relational-language-SQL-MySQL-function-built-in-aggregate-clause-GROUP-BY\n",
    "> [TABLE OF CONTENTS](https://nbviewer.jupyter.org/github/SeanOhAileasa/adb-MySQL/blob/main/adb-MySQL.ipynb#top)\n",
    "***"
   ]
  },
  {
   "cell_type": "markdown",
   "metadata": {},
   "source": [
    "- **often** **used** **with** - **aggregate** **functions** - **COUNT** - **MAX** - **MIN** - **SUM** - **AVG** - to **group** the **result** - **set** by **one** or **more** **columns** - attributes - fields [1]"
   ]
  },
  {
   "cell_type": "markdown",
   "metadata": {},
   "source": [
    "```sql\n",
    "mysql> use school;\n",
    "Database changed\n",
    "```"
   ]
  },
  {
   "cell_type": "markdown",
   "metadata": {},
   "source": [
    "```sql\n",
    "mysql> show tables;\n",
    "+------------------+\n",
    "| Tables_in_school |\n",
    "+------------------+\n",
    "| subject          |\n",
    "| teacher          |\n",
    "+------------------+\n",
    "2 rows in set (0.00 sec)\n",
    "```"
   ]
  },
  {
   "cell_type": "markdown",
   "metadata": {},
   "source": [
    "- aggregate function - AVG - obtain average of column - attribute - field - experience - average experience of teachers [1]"
   ]
  },
  {
   "cell_type": "markdown",
   "metadata": {},
   "source": [
    "```sql\n",
    "mysql> SELECT AVG(experience)\n",
    "    -> FROM teacher;\n",
    "+-----------------+\n",
    "| AVG(experience) |\n",
    "+-----------------+\n",
    "|         32.5714 |\n",
    "+-----------------+\n",
    "1 row in set (0.01 sec)\n",
    "```"
   ]
  },
  {
   "cell_type": "markdown",
   "metadata": {},
   "source": [
    "- each teacher is qualified to teach to a certain column - attribute - field - level - value - J - junior cert - value - L - leaving cert [1]"
   ]
  },
  {
   "cell_type": "markdown",
   "metadata": {},
   "source": [
    "```sql\n",
    "mysql> SELECT *\n",
    "    -> FROM teacher;\n",
    "+-----+--------------+-------+------------+------------+\n",
    "| tid | Name         | level | experience | dob        |\n",
    "+-----+--------------+-------+------------+------------+\n",
    "|   1 | Mr. Pasteur  | L     |         15 | 1960-02-02 |\n",
    "|   2 | Ms. Dubois   | L     |         22 | 1967-09-02 |\n",
    "|   3 | Ms. Smith    | J     |          4 | 1980-03-23 |\n",
    "|   4 | Mr. Hawking  | L     |         40 | 1951-02-19 |\n",
    "|   5 | Mr. Kavanagh | J     |         50 | 1949-11-01 |\n",
    "|   6 | Mr. Picasso  | J     |         42 | 1939-03-30 |\n",
    "|   7 | Fr. Lynch    | L     |         55 | 1939-03-31 |\n",
    "+-----+--------------+-------+------------+------------+\n",
    "7 rows in set (0.00 sec)\n",
    "```"
   ]
  },
  {
   "cell_type": "markdown",
   "metadata": {},
   "source": [
    "- average columnn - attribute - field - experience - for each column - attribute - field - level - the level a teacher can teach - clause - GROUP BY - grouping the average of each level - either junior cert - leaving cert [1]"
   ]
  },
  {
   "cell_type": "markdown",
   "metadata": {},
   "source": [
    "```sql\n",
    "mysql> SELECT level,AVG(experience)\n",
    "    -> FROM teacher\n",
    "    -> GROUP BY level;\n",
    "+-------+-----------------+\n",
    "| level | AVG(experience) |\n",
    "+-------+-----------------+\n",
    "| L     |         33.0000 |\n",
    "| J     |         32.0000 |\n",
    "+-------+-----------------+\n",
    "2 rows in set (0.00 sec)\n",
    "```"
   ]
  },
  {
   "cell_type": "markdown",
   "metadata": {},
   "source": [
    "```sql\n",
    "mysql> use lab5;\n",
    "Database changed\n",
    "```"
   ]
  },
  {
   "cell_type": "markdown",
   "metadata": {},
   "source": [
    "```sql\n",
    "mysql> show tables;\n",
    "+----------------+\n",
    "| Tables_in_lab5 |\n",
    "+----------------+\n",
    "| car            |\n",
    "| person         |\n",
    "+----------------+\n",
    "2 rows in set (0.00 sec)\n",
    "```"
   ]
  },
  {
   "cell_type": "markdown",
   "metadata": {},
   "source": [
    "```sql\n",
    "mysql> SELECT *\n",
    "    -> FROM car;\n",
    "+--------------+--------+------------+--------+---------+------------+\n",
    "| registration | make   | model      | colour | mileage | engineSize |\n",
    "+--------------+--------+------------+--------+---------+------------+\n",
    "| 05-MO-17931  | Toyota | Highlander | Green  |  253789 |        1.6 |\n",
    "| 10-G-2334    | Toyota | Corolla    | Green  |  123389 |        1.3 |\n",
    "| 10-WH-17931  | Toyota | Corolla    | Silver |  130389 |        1.4 |\n",
    "| 11-MO-23431  | Toyota | Corolla    | Black  | 1234123 |        1.3 |\n",
    "| 12-WH-123    | Ford   | Ka         | Black  |  125882 |        1.0 |\n",
    "| 132-G-9923   | Ford   | Ka         | Silver |  325883 |        1.0 |\n",
    "| 132-MO-19323 | Ford   | Galaxy     | Silver |    2343 |        1.5 |\n",
    "| 171-G-39532  | Toyota | Corolla    | Silver |   55882 |        1.3 |\n",
    "| 171-MO-12533 | Ford   | Fiesta     | Black  |   25882 |        1.0 |\n",
    "| 99-G-300     | Toyota | Corolla    | Green  |  599339 |        1.3 |\n",
    "+--------------+--------+------------+--------+---------+------------+\n",
    "10 rows in set (0.00 sec)\n",
    "```"
   ]
  },
  {
   "cell_type": "markdown",
   "metadata": {},
   "source": [
    "- average columnn - attribute - field - mileage - for all cars round to the nearest whole number - alias - KMs [1]"
   ]
  },
  {
   "cell_type": "markdown",
   "metadata": {},
   "source": [
    "```sql\n",
    "mysql> SELECT ROUND(AVG(mileage)) as KMs\n",
    "    -> FROM car;\n",
    "+--------+\n",
    "| KMs    |\n",
    "+--------+\n",
    "| 287690 |\n",
    "+--------+\n",
    "1 row in set (0.00 sec)\n",
    "```"
   ]
  },
  {
   "cell_type": "markdown",
   "metadata": {},
   "source": [
    "- average columnn - attribute - field - mileage - for each column - attribute - field - model - of car round to the nearest whole number - alias - KMs - clause - GROUP BY - round average for each individual column - attribute - field - model [1]"
   ]
  },
  {
   "cell_type": "markdown",
   "metadata": {},
   "source": [
    "```sql\n",
    "mysql> SELECT model,ROUND(AVG(mileage)) as KMs\n",
    "    -> FROM car\n",
    "    -> GROUP BY model;\n",
    "+------------+--------+\n",
    "| model      | KMs    |\n",
    "+------------+--------+\n",
    "| Highlander | 253789 |\n",
    "| Corolla    | 428624 |\n",
    "| Ka         | 225883 |\n",
    "| Galaxy     |   2343 |\n",
    "| Fiesta     |  25882 |\n",
    "+------------+--------+\n",
    "5 rows in set (0.00 sec)\n",
    "```"
   ]
  },
  {
   "cell_type": "markdown",
   "metadata": {},
   "source": [
    "- average columnn - attribute - field - mileage - for each column - attribute - field - model - of car round to the nearest whole number - clause - WHERE - column - attribute - field - mileage - greater than sixty-thousand - alias - KMs - clause - GROUP BY - round average for each individual column - attribute - field - model - not included in the overall average based on column - attribute - field - model - value - Corolla - is row - record - tuple - 171-G-39532 - column - attribute - field - value - 55882 - average calculated for four corollas albeit five rows - records - tuples - exist [1]"
   ]
  },
  {
   "cell_type": "markdown",
   "metadata": {},
   "source": [
    "```sql\n",
    "mysql> SELECT model,ROUND(AVG(mileage)) as KMs\n",
    "    -> FROM car\n",
    "    -> WHERE mileage>60000\n",
    "    -> GROUP BY model;\n",
    "+------------+--------+\n",
    "| model      | KMs    |\n",
    "+------------+--------+\n",
    "| Highlander | 253789 |\n",
    "| Corolla    | 521810 |\n",
    "| Ka         | 225883 |\n",
    "+------------+--------+\n",
    "3 rows in set (0.00 sec)\n",
    "```\n"
   ]
  },
  {
   "cell_type": "markdown",
   "metadata": {},
   "source": [
    "***\n",
    "# END"
   ]
  }
 ],
 "metadata": {
  "kernelspec": {
   "display_name": "Python 3",
   "language": "python",
   "name": "python3"
  },
  "language_info": {
   "codemirror_mode": {
    "name": "ipython",
    "version": 3
   },
   "file_extension": ".py",
   "mimetype": "text/x-python",
   "name": "python",
   "nbconvert_exporter": "python",
   "pygments_lexer": "ipython3",
   "version": "3.7.6"
  }
 },
 "nbformat": 4,
 "nbformat_minor": 4
}
