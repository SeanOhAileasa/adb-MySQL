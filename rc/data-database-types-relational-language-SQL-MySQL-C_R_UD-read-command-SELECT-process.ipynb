{
 "cells": [
  {
   "cell_type": "markdown",
   "metadata": {},
   "source": [
    "# data-database-types-relational-language-SQL-MySQL-C_R_UD-read-command-SELECT-process\n",
    "> [TABLE OF CONTENTS](https://nbviewer.jupyter.org/github/SeanOhAileasa/adb-MySQL/blob/main/adb-MySQL.ipynb#top)\n",
    "***"
   ]
  },
  {
   "cell_type": "markdown",
   "metadata": {},
   "source": [
    "- **mysql** - **sql** - provides many **tools** for **manipulating** **databases** - when **combined** can be a **powerful** **data** **analyse** **tool** for databases [1]"
   ]
  },
  {
   "cell_type": "markdown",
   "metadata": {},
   "source": [
    "```sql\n",
    "mysql> use lab1;\n",
    "Database changed\n",
    "```"
   ]
  },
  {
   "cell_type": "markdown",
   "metadata": {},
   "source": [
    "```sql\n",
    "mysql> show tables;\n",
    "+----------------+\n",
    "| Tables_in_lab1 |\n",
    "+----------------+\n",
    "| car            |\n",
    "| person         |\n",
    "+----------------+\n",
    "2 rows in set (0.00 sec)\n",
    "```"
   ]
  },
  {
   "cell_type": "markdown",
   "metadata": {},
   "source": [
    "```sql\n",
    "mysql> SELECT *\n",
    "    -> FROM person;\n",
    "+----------+-------+------+------+------------+-----------+\n",
    "| personID | name  | age  | sex  | dob        | isStudent |\n",
    "+----------+-------+------+------+------------+-----------+\n",
    "|        1 | John  |   23 | M    | 2000-01-01 |         1 |\n",
    "|        2 | Tom   |   64 | M    | 1958-03-11 |         0 |\n",
    "|        3 | Mary  |   12 | F    | 2005-04-11 |         1 |\n",
    "|        4 | Alan  |   12 | M    | 2005-11-21 |         1 |\n",
    "|        5 | Pat   |   29 | M    | 1993-03-17 |         0 |\n",
    "|        6 | Shane |   40 | M    | 1988-07-21 |         0 |\n",
    "|        7 | Shane |   14 | M    | 2003-06-01 |         1 |\n",
    "|        8 | Alice |   24 | F    | 1999-03-01 |         1 |\n",
    "|        9 | Pat   |   37 | F    | 1988-04-15 |         0 |\n",
    "+----------+-------+------+------+------------+-----------+\n",
    "9 rows in set (0.00 sec)\n",
    "```"
   ]
  },
  {
   "cell_type": "markdown",
   "metadata": {},
   "source": [
    "- returned - rows - records - tuples - of columns - attributes - fields - name - age - plus **column** - attribute - field - **function** - **MONTHNAME** - **parameter** - **column** - attribute - field - dob - **obtains** **name** **of** **month** [1]"
   ]
  },
  {
   "cell_type": "markdown",
   "metadata": {},
   "source": [
    "```sql\n",
    "mysql> SELECT name,age,MONTHNAME(dob)\n",
    "    -> FROM person;\n",
    "+-------+------+----------------+\n",
    "| name  | age  | MONTHNAME(dob) |\n",
    "+-------+------+----------------+\n",
    "| John  |   23 | January        |\n",
    "| Tom   |   64 | March          |\n",
    "| Mary  |   12 | April          |\n",
    "| Alan  |   12 | November       |\n",
    "| Pat   |   29 | March          |\n",
    "| Shane |   40 | July           |\n",
    "| Shane |   14 | June           |\n",
    "| Alice |   24 | March          |\n",
    "| Pat   |   37 | April          |\n",
    "+-------+------+----------------+\n",
    "9 rows in set (0.00 sec)\n",
    "```"
   ]
  },
  {
   "cell_type": "markdown",
   "metadata": {},
   "source": [
    "- returned - amendment - rows - records - tuples - of columns - attributes - fields - **clause** - **WHERE** - **function** - **DAY** - parameter - dob - obtain day part of the date of birth - **operator** - **BETWEEN** - first day of the month - **operator** - **AND** - eleventh day of the month [1]"
   ]
  },
  {
   "cell_type": "markdown",
   "metadata": {},
   "source": [
    "```sql\n",
    "mysql> SELECT name,age,MONTHNAME(dob)\n",
    "    -> FROM person\n",
    "    -> WHERE DAY(dob) BETWEEN 1 AND 11;\n",
    "+-------+------+----------------+\n",
    "| name  | age  | MONTHNAME(dob) |\n",
    "+-------+------+----------------+\n",
    "| John  |   23 | January        |\n",
    "| Tom   |   64 | March          |\n",
    "| Mary  |   12 | April          |\n",
    "| Shane |   14 | June           |\n",
    "| Alice |   24 | March          |\n",
    "+-------+------+----------------+\n",
    "5 rows in set (0.00 sec)\n",
    "```"
   ]
  },
  {
   "cell_type": "markdown",
   "metadata": {},
   "source": [
    "- returned - amendment - rows - records - tuples - of columns - attributes - fields - **operator** - **AND** - **column** - attribute - field - name - **operator** - **NOT** - **operator** - **LIKE** - **starts** **with** **letter** - \"A\" [1]"
   ]
  },
  {
   "cell_type": "markdown",
   "metadata": {},
   "source": [
    "```sql\n",
    "mysql> SELECT name,age,MONTHNAME(dob)\n",
    "    -> FROM person\n",
    "    -> WHERE DAY(dob) BETWEEN 1 AND 11\n",
    "    -> AND name NOT LIKE \"A%\";\n",
    "+-------+------+----------------+\n",
    "| name  | age  | MONTHNAME(dob) |\n",
    "+-------+------+----------------+\n",
    "| John  |   23 | January        |\n",
    "| Tom   |   64 | March          |\n",
    "| Mary  |   12 | April          |\n",
    "| Shane |   14 | June           |\n",
    "+-------+------+----------------+\n",
    "4 rows in set (0.00 sec)\n",
    "```"
   ]
  },
  {
   "cell_type": "markdown",
   "metadata": {},
   "source": [
    "- returned - amendment - rows - records - tuples - of columns - attributes - fields - **clause** - **ORDER** **BY** - **column** - attribute - field - name - **keyword** - **DESC** - sorted in **reverse** **alphabetical** **order** [1]"
   ]
  },
  {
   "cell_type": "markdown",
   "metadata": {},
   "source": [
    "```sql\n",
    "mysql> SELECT name,age,MONTHNAME(dob)\n",
    "    -> FROM person\n",
    "    -> WHERE DAY(dob) BETWEEN 1 AND 11\n",
    "    -> AND name NOT LIKE \"A%\"\n",
    "    -> ORDER BY name DESC;\n",
    "+-------+------+----------------+\n",
    "| name  | age  | MONTHNAME(dob) |\n",
    "+-------+------+----------------+\n",
    "| Tom   |   64 | March          |\n",
    "| Shane |   14 | June           |\n",
    "| Mary  |   12 | April          |\n",
    "| John  |   23 | January        |\n",
    "+-------+------+----------------+\n",
    "4 rows in set (0.00 sec)\n",
    "```"
   ]
  },
  {
   "cell_type": "markdown",
   "metadata": {},
   "source": [
    "***\n",
    "# END"
   ]
  }
 ],
 "metadata": {
  "kernelspec": {
   "display_name": "Python 3",
   "language": "python",
   "name": "python3"
  },
  "language_info": {
   "codemirror_mode": {
    "name": "ipython",
    "version": 3
   },
   "file_extension": ".py",
   "mimetype": "text/x-python",
   "name": "python",
   "nbconvert_exporter": "python",
   "pygments_lexer": "ipython3",
   "version": "3.7.6"
  }
 },
 "nbformat": 4,
 "nbformat_minor": 4
}
