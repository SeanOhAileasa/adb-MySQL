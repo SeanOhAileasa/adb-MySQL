{
 "cells": [
  {
   "cell_type": "markdown",
   "metadata": {},
   "source": [
    "# data-database-types-relational-language-SQL-MySQL-C_R_UD-read-command-SELECT-process-subquery\n",
    "> [TABLE OF CONTENTS](https://nbviewer.jupyter.org/github/SeanOhAileasa/adb-MySQL/blob/main/adb-MySQL.ipynb#top)\n",
    "***"
   ]
  },
  {
   "cell_type": "markdown",
   "metadata": {},
   "source": [
    "```sql\n",
    "use employees;\n",
    "Database changed\n",
    "```"
   ]
  },
  {
   "cell_type": "markdown",
   "metadata": {},
   "source": [
    "```sql\n",
    "mysql> show tables;\n",
    "+---------------------+\n",
    "| Tables_in_employees |\n",
    "+---------------------+\n",
    "| employees           |\n",
    "| salaries            |\n",
    "+---------------------+\n",
    "2 rows in set (0.00 sec)\n",
    "```"
   ]
  },
  {
   "cell_type": "markdown",
   "metadata": {},
   "source": [
    "```sql\n",
    "mysql> SHOW CREATE TABLE employees;\n",
    "+-----------+------------------------------------------------------------------------------------------------------------------------------------------------------------------------------------------------------------------------------------------------------------------------------------------+\n",
    "| Table     | Create Table                                                                                                                                                                                                                                                                             |\n",
    "+-----------+------------------------------------------------------------------------------------------------------------------------------------------------------------------------------------------------------------------------------------------------------------------------------------------+\n",
    "| employees | CREATE TABLE `employees` (\n",
    "  `emp_no` int NOT NULL,\n",
    "  `birth_date` date NOT NULL,\n",
    "  `first_name` varchar(14) NOT NULL,\n",
    "  `last_name` varchar(16) NOT NULL,\n",
    "  `gender` enum('M','F') NOT NULL,\n",
    "  `hire_date` date NOT NULL,\n",
    "  PRIMARY KEY (`emp_no`)\n",
    ") ENGINE=InnoDB DEFAULT CHARSET=utf8 |\n",
    "+-----------+------------------------------------------------------------------------------------------------------------------------------------------------------------------------------------------------------------------------------------------------------------------------------------------+\n",
    "1 row in set (0.00 sec)\n",
    "```"
   ]
  },
  {
   "cell_type": "markdown",
   "metadata": {},
   "source": [
    "- **table** - entity - relation - salaries - **foreign** **key** - **column** - attribute - field - emp_no - **references** - **other** **table** - entity - relation - employees - the column - attribute - field - emp_no - **constraint** specifies only employees in the table - entity - relation - employees - can be given a salary [1]\n",
    "\n",
    "```sql\n",
    "CONSTRAINT `salaries_ibfk_1` FOREIGN KEY (`emp_no`) REFERENCES `employees` (`emp_no`) ON DELETE CASCADE\n",
    "```"
   ]
  },
  {
   "cell_type": "markdown",
   "metadata": {},
   "source": [
    "```sql\n",
    "mysql> SHOW CREATE TABLE salaries;\n",
    "+----------+-----------------------------------------------------------------------------------------------------------------------------------------------------------------------------------------------------------------------------------------------------------------------------------------------------------------------------------------------------+\n",
    "| Table    | Create Table                                                                                                                                                                                                                                                                                                                                        |\n",
    "+----------+-----------------------------------------------------------------------------------------------------------------------------------------------------------------------------------------------------------------------------------------------------------------------------------------------------------------------------------------------------+\n",
    "| salaries | CREATE TABLE `salaries` (\n",
    "  `emp_no` int NOT NULL,\n",
    "  `salary` int NOT NULL,\n",
    "  `from_date` date NOT NULL,\n",
    "  `to_date` date NOT NULL,\n",
    "  PRIMARY KEY (`emp_no`,`from_date`),\n",
    "  KEY `emp_no` (`emp_no`),\n",
    "  CONSTRAINT `salaries_ibfk_1` FOREIGN KEY (`emp_no`) REFERENCES `employees` (`emp_no`) ON DELETE CASCADE\n",
    ") ENGINE=InnoDB DEFAULT CHARSET=utf8 |\n",
    "+----------+-----------------------------------------------------------------------------------------------------------------------------------------------------------------------------------------------------------------------------------------------------------------------------------------------------------------------------------------------------+\n",
    "1 row in set (0.00 sec)\n",
    "```"
   ]
  },
  {
   "cell_type": "markdown",
   "metadata": {},
   "source": [
    "- returned rows - records - tuples - from columns - attributes - fields - emp_no - first_name - last_name - from table - entity - relation - employees - **join** - **INNER** **JOIN** - each row - record - tuple - in the table - entity - relation - employees - to each row - record - tuple - in the other table - entity - relation - salaries - only way to join is when the value of the column - attribute - field - emp_no - in both tables - entities - relations - are the same value - employees - emp_no - equals - salaries - emp_no - join **must** **be** **on** - **foreign** **key** [1] "
   ]
  },
  {
   "cell_type": "markdown",
   "metadata": {},
   "source": [
    "- **clause** - **WHERE** - table - entity - relation - salaries - column - attribute - field - salary - betwen 99000 and 999999  - **operator** - **BETWEEN** - **operator** - **AND** [1]"
   ]
  },
  {
   "cell_type": "markdown",
   "metadata": {},
   "source": [
    "```sql\n",
    "mysql> SELECT employees.emp_no,employees.first_name,employees.last_name\n",
    "    -> FROM employees\n",
    "    -> INNER JOIN salaries\n",
    "    -> ON employees.emp_no=salaries.emp_no\n",
    "    -> WHERE salaries.salary BETWEEN 99000 AND 99999;\n",
    "+--------+------------+-----------+\n",
    "| emp_no | first_name | last_name |\n",
    "+--------+------------+-----------+\n",
    "|  10017 | Cristinel  | Bouloucos |\n",
    "|  10066 | Kwee       | Schusler  |\n",
    "+--------+------------+-----------+\n",
    "2 rows in set (0.00 sec)\n",
    "```"
   ]
  },
  {
   "cell_type": "markdown",
   "metadata": {},
   "source": [
    "```sql\n",
    "mysql> SELECT e.emp_no,e.first_name,e.last_name\n",
    "    -> FROM employees e\n",
    "    -> INNER JOIN salaries s\n",
    "    -> ON e.emp_no=s.emp_no\n",
    "    -> WHERE s.salary BETWEEN 99000 AND 99999;\n",
    "+--------+------------+-----------+\n",
    "| emp_no | first_name | last_name |\n",
    "+--------+------------+-----------+\n",
    "|  10017 | Cristinel  | Bouloucos |\n",
    "|  10066 | Kwee       | Schusler  |\n",
    "+--------+------------+-----------+\n",
    "2 rows in set (0.00 sec)\n",
    "```"
   ]
  },
  {
   "cell_type": "markdown",
   "metadata": {},
   "source": [
    "- returned - **query** **within** a **query** - **join** - **INNER** **JOIN** - **written** as a **subquery** - **parentheses** **indicate** **precedence** - inner - subquery - executed first [1]"
   ]
  },
  {
   "cell_type": "markdown",
   "metadata": {},
   "source": [
    "```sql\n",
    "mysql> SELECT e.emp_no,e.first_name,e.last_name\n",
    "    -> FROM employees e\n",
    "    -> WHERE e.emp_no IN(\n",
    "    ->   SELECT s.emp_no\n",
    "    ->   FROM salaries s\n",
    "    ->   WHERE s.salary BETWEEN 99000 AND 99999\n",
    "    -> );\n",
    "+--------+------------+-----------+\n",
    "| emp_no | first_name | last_name |\n",
    "+--------+------------+-----------+\n",
    "|  10017 | Cristinel  | Bouloucos |\n",
    "|  10066 | Kwee       | Schusler  |\n",
    "+--------+------------+-----------+\n",
    "2 rows in set (0.01 sec)\n",
    "```"
   ]
  },
  {
   "cell_type": "markdown",
   "metadata": {},
   "source": [
    "- **inner** - **query** - returned rows - records - tuples - from table - entity - relation - salaries - the column - attribute - field - emp_no - clause - WHERE - column - attribute - field - salary - operator - BETWEEN - 99000 - operator - AND - 99999 [1]"
   ]
  },
  {
   "cell_type": "markdown",
   "metadata": {},
   "source": [
    "```sql\n",
    "mysql> SELECT s.emp_no\n",
    "    -> FROM salaries s\n",
    "    -> WHERE s.salary BETWEEN 99000 AND 99999;\n",
    "+--------+\n",
    "| emp_no |\n",
    "+--------+\n",
    "|  10017 |\n",
    "|  10066 |\n",
    "+--------+\n",
    "2 rows in set (0.00 sec)\n",
    "```"
   ]
  },
  {
   "cell_type": "markdown",
   "metadata": {},
   "source": [
    "- **outermost** - **query** - returned rows - records - tuples - from table - entity - relation - employees - the columns - attributes - fields - emp_no - first_name - last_name - clause - WHERE - column - attribue - field - emp_no - **operator** - **IN** - **subquery** - **replaced** with the **result** of the **subquery** [1]"
   ]
  },
  {
   "cell_type": "markdown",
   "metadata": {},
   "source": [
    "```sql\n",
    "mysql> SELECT e.emp_no,e.first_name,e.last_name\n",
    "    -> FROM employees e\n",
    "    -> WHERE e.emp_no IN(\n",
    "    ->   10017,10066\n",
    "    -> );\n",
    "+--------+------------+-----------+\n",
    "| emp_no | first_name | last_name |\n",
    "+--------+------------+-----------+\n",
    "|  10017 | Cristinel  | Bouloucos |\n",
    "|  10066 | Kwee       | Schusler  |\n",
    "+--------+------------+-----------+\n",
    "2 rows in set (0.00 sec)\n",
    "```"
   ]
  },
  {
   "cell_type": "markdown",
   "metadata": {},
   "source": [
    "- returned rows - records - tuples - from table - entity - relation - employees - the columns - attributes - fields - emp_no - first_name - last_name - of employee with the highest salary - columns - attributes - fields - over two tables - entities - relations - employees - salaries - joined by - foreign key - table - entity - relation - salaries - foreign key - column - attribute - field - emp_no - references - other table - entity - relation - employees - the column - attribute - field - emp_no [1]"
   ]
  },
  {
   "cell_type": "markdown",
   "metadata": {},
   "source": [
    "- same logical information is in both tables - entities - relations - the column - attribute - field - emp_no - **query** - **containing** **a** **query** - **again** **containing** **another** **query** [1] "
   ]
  },
  {
   "cell_type": "markdown",
   "metadata": {},
   "source": [
    "- three separate queries - **result** of a **query** **fed** **into** **another** **query** [1]"
   ]
  },
  {
   "cell_type": "markdown",
   "metadata": {},
   "source": [
    "```sql\n",
    "mysql> SELECT e.emp_no,e.first_name,e.last_name\n",
    "    -> FROM employees e\n",
    "    -> WHERE e.emp_no IN(\n",
    "    ->   SELECT s.emp_no\n",
    "    ->   FROM salaries s\n",
    "    ->   WHERE s.salary=(\n",
    "    ->     SELECT MAX(s.salary)\n",
    "    ->     FROM salaries s\n",
    "    ->   )\n",
    "    -> );\n",
    "+--------+------------+-----------+\n",
    "| emp_no | first_name | last_name |\n",
    "+--------+------------+-----------+\n",
    "|  10068 | Charlene   | Brattka   |\n",
    "+--------+------------+-----------+\n",
    "1 row in set (0.00 sec)\n",
    "```"
   ]
  },
  {
   "cell_type": "markdown",
   "metadata": {},
   "source": [
    "- **inner** - **query** - returned row - record - tuple - from table - entity - relation - salaries - where **column** - attribute - field - salary - passed as - **parameter** - **function** - **MAX** - always **returns** just a **single** **value** - even if two or more values are equal to the maximum [1]\n",
    "\n",
    "\n",
    "- **subquery** **replaced** by the **result** of the **subquery** [1]\n",
    "\n",
    "```sql\n",
    "mysql> SELECT MAX(s.salary)\n",
    "    -> FROM salaries s;\n",
    "+---------------+\n",
    "| MAX(s.salary) |\n",
    "+---------------+\n",
    "|        113229 |\n",
    "+---------------+\n",
    "1 row in set (0.00 sec)\n",
    "```"
   ]
  },
  {
   "cell_type": "markdown",
   "metadata": {},
   "source": [
    "- **next** **query** - returned rows - records - tuples - from table - entity - relation - salaries - the **column** - attribute - field - emp_no - **clause** - **WHERE** - the **column** - attribute - field - salary - **equal** **result** of the **inner** **subquery** - 113229 - possible to have one or more employee numbers returned [1]\n",
    "\n",
    "\n",
    "- **subquery** **replaced** by the **result** of the **subquery** [1]\n",
    "\n",
    "```sql\n",
    "mysql> SELECT s.emp_no\n",
    "    -> FROM salaries s\n",
    "    -> WHERE s.salary=(\n",
    "    ->   113229\n",
    "    -> );\n",
    "+--------+\n",
    "| emp_no |\n",
    "+--------+\n",
    "|  10068 |\n",
    "+--------+\n",
    "1 row in set (0.00 sec)\n",
    "```"
   ]
  },
  {
   "cell_type": "markdown",
   "metadata": {},
   "source": [
    "- **outermost** **query** - returned rows - records - tuples - from table - entity - relation - employees - the **columns** - attributes - fields - emp_no - first_name - last_name - **clause** - **WHERE** - the **column** - attribute - field - emp_no - **operator** - **IN** - **result** of the **previous** **subquery** - 10068 - possible to have one or more employee numbers returned [1]\n",
    "\n",
    "```sql\n",
    "mysql> SELECT e.emp_no,e.first_name,e.last_name\n",
    "    -> FROM employees e\n",
    "    -> WHERE e.emp_no IN(\n",
    "    ->   10068\n",
    "    -> );\n",
    "+--------+------------+-----------+\n",
    "| emp_no | first_name | last_name |\n",
    "+--------+------------+-----------+\n",
    "|  10068 | Charlene   | Brattka   |\n",
    "+--------+------------+-----------+\n",
    "1 row in set (0.00 sec)\n",
    "```"
   ]
  },
  {
   "cell_type": "markdown",
   "metadata": {},
   "source": [
    "***\n",
    "# END"
   ]
  }
 ],
 "metadata": {
  "kernelspec": {
   "display_name": "Python 3",
   "language": "python",
   "name": "python3"
  },
  "language_info": {
   "codemirror_mode": {
    "name": "ipython",
    "version": 3
   },
   "file_extension": ".py",
   "mimetype": "text/x-python",
   "name": "python",
   "nbconvert_exporter": "python",
   "pygments_lexer": "ipython3",
   "version": "3.7.6"
  }
 },
 "nbformat": 4,
 "nbformat_minor": 4
}
