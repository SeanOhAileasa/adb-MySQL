{
 "cells": [
  {
   "cell_type": "markdown",
   "metadata": {},
   "source": [
    "# data-database-types-relational-language-SQL-MySQL-C_R_UD-read-command-SELECT-WHERE-operator-LIKE\n",
    "> [TABLE OF CONTENTS](https://nbviewer.jupyter.org/github/SeanOhAileasa/adb-MySQL/blob/main/adb-MySQL.ipynb#top)\n",
    "***"
   ]
  },
  {
   "cell_type": "markdown",
   "metadata": {},
   "source": [
    "- **search for a **specified** **pattern** in a **string** [1]"
   ]
  },
  {
   "cell_type": "markdown",
   "metadata": {},
   "source": [
    "- **partially** **match** a **string** **or** **subset** of a string [1]"
   ]
  },
  {
   "cell_type": "markdown",
   "metadata": {},
   "source": [
    "- **clause** - **WHERE** - **search** for **specified** **pattern** in a **column** - attribute - field - **operator** - **LIKE** [1]"
   ]
  },
  {
   "cell_type": "markdown",
   "metadata": {},
   "source": [
    "- **percentage** **character** - % - **represents** **zero** **or** **more** **characters** [1]"
   ]
  },
  {
   "cell_type": "markdown",
   "metadata": {},
   "source": [
    "```sql\n",
    "mysql> use lab1;\n",
    "Database changed\n",
    "```"
   ]
  },
  {
   "cell_type": "markdown",
   "metadata": {},
   "source": [
    "```sql\n",
    "mysql> show tables;\n",
    "+----------------+\n",
    "| Tables_in_lab1 |\n",
    "+----------------+\n",
    "| car            |\n",
    "| person         |\n",
    "+----------------+\n",
    "2 rows in set (0.00 sec)\n",
    "```"
   ]
  },
  {
   "cell_type": "markdown",
   "metadata": {},
   "source": [
    "```sql\n",
    "mysql> SELECT *\n",
    "    -> FROM person;\n",
    "+----------+-------+------+------+------------+-----------+\n",
    "| personID | name  | age  | sex  | dob        | isStudent |\n",
    "+----------+-------+------+------+------------+-----------+\n",
    "|        1 | John  |   23 | M    | 2000-01-01 |         1 |\n",
    "|        2 | Tom   |   64 | M    | 1958-03-11 |         0 |\n",
    "|        3 | Mary  |   12 | F    | 2005-04-11 |         1 |\n",
    "|        4 | Alan  |   12 | M    | 2005-11-21 |         1 |\n",
    "|        5 | Pat   |   29 | M    | 1993-03-17 |         0 |\n",
    "|        6 | Shane |   40 | M    | 1988-07-21 |         0 |\n",
    "|        7 | Shane |   14 | M    | 2003-06-01 |         1 |\n",
    "|        8 | Alice |   24 | F    | 1999-03-01 |         1 |\n",
    "|        9 | Pat   |   37 | F    | 1988-04-15 |         0 |\n",
    "+----------+-------+------+------+------------+-----------+\n",
    "9 rows in set (0.00 sec)\n",
    "```"
   ]
  },
  {
   "cell_type": "markdown",
   "metadata": {},
   "source": [
    "- returned rows - records - tuples - from columns - attributes - fields - name - age - clause - WHERE - spelling of column - attribute - field - name - has the letter - \"a\" - rows - records - tuples - value Mary first \"%\" matches \"M\" - \"a\" - matches - \"a\" - second \"%\" matches \"ry\" - value Alan first \"%\" matches zero - \"a\" matches \"A\" of Alan - **sql** **case-insensitive** - second \"%\" matches \"lan\" [1]"
   ]
  },
  {
   "cell_type": "markdown",
   "metadata": {},
   "source": [
    "```sql\n",
    "mysql> SELECT name,age\n",
    "    -> FROM person\n",
    "    -> WHERE name LIKE \"%a%\";\n",
    "+-------+------+\n",
    "| name  | age  |\n",
    "+-------+------+\n",
    "| Mary  |   12 |\n",
    "| Alan  |   12 |\n",
    "| Pat   |   29 |\n",
    "| Shane |   40 |\n",
    "| Shane |   14 |\n",
    "| Alice |   24 |\n",
    "| Pat   |   37 |\n",
    "+-------+------+\n",
    "7 rows in set (0.00 sec)\n",
    "```"
   ]
  },
  {
   "cell_type": "markdown",
   "metadata": {},
   "source": [
    "- **operator** - **LIKE** - **underscore** **symbol** - \\_ - **represents** a **single** **character** - returned rows - records - tuples - from columns - attributes - fields - name - age - clause - WHERE - spelling of column - attribute - field - name - has the letter - \"a\" - as its second character - row - record - tuple - value Mary \"_\" matches \"M\" - \"a\" - matches \"a\" - \"%\" matches \"ry\" - row - record - tuple - value Alan is not matched - \"_\" matches \"A\" - \"a\" does not match with \"l\" - \"%\" is never evaluated and the match fails [1]"
   ]
  },
  {
   "cell_type": "markdown",
   "metadata": {},
   "source": [
    "```sql\n",
    "mysql> SELECT name,age\n",
    "    -> FROM person\n",
    "    -> WHERE name LIKE \"_a%\";\n",
    "+------+------+\n",
    "| name | age  |\n",
    "+------+------+\n",
    "| Mary |   12 |\n",
    "| Pat  |   29 |\n",
    "| Pat  |   37 |\n",
    "+------+------+\n",
    "3 rows in set (0.00 sec)\n",
    "```"
   ]
  },
  {
   "cell_type": "markdown",
   "metadata": {},
   "source": [
    "***\n",
    "# END"
   ]
  }
 ],
 "metadata": {
  "kernelspec": {
   "display_name": "Python 3",
   "language": "python",
   "name": "python3"
  },
  "language_info": {
   "codemirror_mode": {
    "name": "ipython",
    "version": 3
   },
   "file_extension": ".py",
   "mimetype": "text/x-python",
   "name": "python",
   "nbconvert_exporter": "python",
   "pygments_lexer": "ipython3",
   "version": "3.7.6"
  }
 },
 "nbformat": 4,
 "nbformat_minor": 4
}
