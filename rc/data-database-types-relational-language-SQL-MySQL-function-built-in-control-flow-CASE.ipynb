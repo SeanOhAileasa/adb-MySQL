{
 "cells": [
  {
   "cell_type": "markdown",
   "metadata": {},
   "source": [
    "# data-database-types-relational-language-SQL-MySQL-function-built-in-control-flow-CASE\n",
    "> [TABLE OF CONTENTS](https://nbviewer.jupyter.org/github/SeanOhAileasa/adb-MySQL/blob/main/adb-MySQL.ipynb#top)\n",
    "***"
   ]
  },
  {
   "cell_type": "markdown",
   "metadata": {},
   "source": [
    "- control flow **function** - **IF** - **useful** for **checking** the **veracity** of a **statement** - **return** **one** **value** if **true** - **another** **value** if **false** [1]"
   ]
  },
  {
   "cell_type": "markdown",
   "metadata": {},
   "source": [
    "- **check** a **number** of **conditions** - control flow **function** - **CASE** **WHEN** [1]"
   ]
  },
  {
   "cell_type": "markdown",
   "metadata": {},
   "source": [
    "```sql\n",
    "CASE\n",
    "    WHEN condition 1 THEN result 1\n",
    "    WHEN condition 2 THEN result 2\n",
    "    WHEN condition n THEN result n\n",
    "    ELSE result\n",
    "END\n",
    "```"
   ]
  },
  {
   "cell_type": "markdown",
   "metadata": {},
   "source": [
    "```sql\n",
    "mysql> use lab1;\n",
    "Database changed\n",
    "```"
   ]
  },
  {
   "cell_type": "markdown",
   "metadata": {},
   "source": [
    "```sql\n",
    "mysql> show tables;\n",
    "+----------------+\n",
    "| Tables_in_lab1 |\n",
    "+----------------+\n",
    "| car            |\n",
    "| person         |\n",
    "| personex       |\n",
    "+----------------+\n",
    "3 rows in set (0.00 sec)\n",
    "```"
   ]
  },
  {
   "cell_type": "markdown",
   "metadata": {},
   "source": [
    "```sql\n",
    "mysql> SELECT name,dob\n",
    "    -> FROM person;\n",
    "+-------+------------+\n",
    "| name  | dob        |\n",
    "+-------+------------+\n",
    "| John  | 2000-01-01 |\n",
    "| Tom   | 1958-03-11 |\n",
    "| Mary  | 2005-04-11 |\n",
    "| Alan  | 2005-11-21 |\n",
    "| Pat   | 1993-03-17 |\n",
    "| Shane | 1988-07-21 |\n",
    "| Shane | 2003-06-01 |\n",
    "| Alice | 1999-03-01 |\n",
    "| Pat   | 1988-04-15 |\n",
    "+-------+------------+\n",
    "9 rows in set (0.00 sec)\n",
    "```"
   ]
  },
  {
   "cell_type": "markdown",
   "metadata": {},
   "source": [
    "- query - report columns - attributes - fields - name - dob - additional column - attribute - field - alias - season - indicating - spring - if person born february to april - summer - if person born may to june - autumn - if person born august to october - winter - if person born november to january - note the column - attribute - field - season - is just a new column - attribute - field - in the result query table - original table - entity - relation - person - unaffected [1]"
   ]
  },
  {
   "cell_type": "markdown",
   "metadata": {},
   "source": [
    "```sql\n",
    "mysql> SELECT name,dob,\n",
    "    -> CASE\n",
    "    -> WHEN MONTH(dob) IN (2,3,4) THEN \"spring\"\n",
    "    -> WHEN MONTH(dob) IN (5,6,7) THEN \"summer\"\n",
    "    -> WHEN MONTH(dob) IN (8,9,10) THEN \"autumn\"\n",
    "    -> WHEN MONTH(dob) IN (11,12,1) THEN \"winter\"\n",
    "    -> END as season\n",
    "    -> FROM person;\n",
    "+-------+------------+--------+\n",
    "| name  | dob        | season |\n",
    "+-------+------------+--------+\n",
    "| John  | 2000-01-01 | winter |\n",
    "| Tom   | 1958-03-11 | spring |\n",
    "| Mary  | 2005-04-11 | spring |\n",
    "| Alan  | 2005-11-21 | winter |\n",
    "| Pat   | 1993-03-17 | spring |\n",
    "| Shane | 1988-07-21 | summer |\n",
    "| Shane | 2003-06-01 | summer |\n",
    "| Alice | 1999-03-01 | spring |\n",
    "| Pat   | 1988-04-15 | spring |\n",
    "+-------+------------+--------+\n",
    "9 rows in set (0.00 sec)\n",
    "```"
   ]
  },
  {
   "cell_type": "markdown",
   "metadata": {},
   "source": [
    "- query - only persons born in spring or summer - **clause** - **ELSE** - indicating whatever else the columns - attributes - fields - name - dob - values are then input a string of zero characters - nothing - in the column - attribute - field - season [1]"
   ]
  },
  {
   "cell_type": "markdown",
   "metadata": {},
   "source": [
    "```sql\n",
    "mysql> SELECT name,dob,\n",
    "    -> CASE\n",
    "    -> WHEN MONTH(dob) IN (2,3,4) THEN \"spring\"\n",
    "    -> WHEN MONTH(dob) IN (5,6,7) THEN \"summer\"\n",
    "    -> ELSE \"\"\n",
    "    -> END AS season\n",
    "    -> FROM person;\n",
    "+-------+------------+--------+\n",
    "| name  | dob        | season |\n",
    "+-------+------------+--------+\n",
    "| John  | 2000-01-01 |        |\n",
    "| Tom   | 1958-03-11 | spring |\n",
    "| Mary  | 2005-04-11 | spring |\n",
    "| Alan  | 2005-11-21 |        |\n",
    "| Pat   | 1993-03-17 | spring |\n",
    "| Shane | 1988-07-21 | summer |\n",
    "| Shane | 2003-06-01 | summer |\n",
    "| Alice | 1999-03-01 | spring |\n",
    "| Pat   | 1988-04-15 | spring |\n",
    "+-------+------------+--------+\n",
    "9 rows in set (0.00 sec)\n",
    "```"
   ]
  },
  {
   "cell_type": "markdown",
   "metadata": {},
   "source": [
    "***\n",
    "# END"
   ]
  }
 ],
 "metadata": {
  "kernelspec": {
   "display_name": "Python 3",
   "language": "python",
   "name": "python3"
  },
  "language_info": {
   "codemirror_mode": {
    "name": "ipython",
    "version": 3
   },
   "file_extension": ".py",
   "mimetype": "text/x-python",
   "name": "python",
   "nbconvert_exporter": "python",
   "pygments_lexer": "ipython3",
   "version": "3.7.6"
  }
 },
 "nbformat": 4,
 "nbformat_minor": 4
}
