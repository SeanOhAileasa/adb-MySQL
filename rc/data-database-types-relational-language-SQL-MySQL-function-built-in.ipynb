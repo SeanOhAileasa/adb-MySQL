{
 "cells": [
  {
   "cell_type": "markdown",
   "metadata": {},
   "source": [
    "# data-database-types-relational-language-SQL-MySQL-function-built-in\n",
    "> [TABLE OF CONTENTS](https://nbviewer.jupyter.org/github/SeanOhAileasa/adb-MySQL/blob/main/adb-MySQL.ipynb#top)\n",
    "***"
   ]
  },
  {
   "cell_type": "markdown",
   "metadata": {},
   "source": [
    "- **mysql** - comes with a number of **built-in** - **functions** - perform **different** **types** of **manipulations** on data - built-in - functions - can be **categorised** [1]"
   ]
  },
  {
   "cell_type": "markdown",
   "metadata": {},
   "source": [
    "[MySQL Documentation - String - VARCHAR Data Types](https://web.archive.org/web/20200710161220/https://dev.mysql.com/doc/refman/8.0/en/string-functions.html)"
   ]
  },
  {
   "cell_type": "markdown",
   "metadata": {},
   "source": [
    "[MySQL Documentation - Numeric Data Types](https://web.archive.org/web/20200710161317/https://dev.mysql.com/doc/refman/8.0/en/numeric-functions.html)"
   ]
  },
  {
   "cell_type": "markdown",
   "metadata": {},
   "source": [
    "[MySQL Documentation - Date - Time - Date Data Types](https://web.archive.org/web/20200706121654/https://dev.mysql.com/doc/refman/8.0/en/date-and-time-functions.html)"
   ]
  },
  {
   "cell_type": "markdown",
   "metadata": {},
   "source": [
    "[MySQL Documentation - Aggregate - All Data Types - Produce Summarised Result Sets](https://web.archive.org/web/20200710161637/https://dev.mysql.com/doc/refman/8.0/en/aggregate-functions.html)"
   ]
  },
  {
   "cell_type": "markdown",
   "metadata": {},
   "source": [
    "[MySQL Documentation - MySQL Information Functions - Current Database - User](https://web.archive.org/web/20200710161908/https://dev.mysql.com/doc/refman/8.0/en/information-functions.html)"
   ]
  },
  {
   "cell_type": "markdown",
   "metadata": {},
   "source": [
    "[MySQL Documentation - MySQL Control Flow Functions](https://web.archive.org/web/20200710162039/https://dev.mysql.com/doc/refman/8.0/en/control-flow-functions.html)"
   ]
  },
  {
   "cell_type": "markdown",
   "metadata": {},
   "source": [
    "***\n",
    "# END"
   ]
  }
 ],
 "metadata": {
  "kernelspec": {
   "display_name": "Python 3",
   "language": "python",
   "name": "python3"
  },
  "language_info": {
   "codemirror_mode": {
    "name": "ipython",
    "version": 3
   },
   "file_extension": ".py",
   "mimetype": "text/x-python",
   "name": "python",
   "nbconvert_exporter": "python",
   "pygments_lexer": "ipython3",
   "version": "3.7.6"
  }
 },
 "nbformat": 4,
 "nbformat_minor": 4
}
