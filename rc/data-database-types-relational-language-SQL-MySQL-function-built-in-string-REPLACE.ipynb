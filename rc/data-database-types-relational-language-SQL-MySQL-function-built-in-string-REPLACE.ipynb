{
 "cells": [
  {
   "cell_type": "markdown",
   "metadata": {},
   "source": [
    "# data-database-types-relational-language-SQL-MySQL-function-built-in-string-REPLACE\n",
    "> [TABLE OF CONTENTS](https://nbviewer.jupyter.org/github/SeanOhAileasa/adb-MySQL/blob/main/adb-MySQL.ipynb#top)\n",
    "***"
   ]
  },
  {
   "cell_type": "markdown",
   "metadata": {},
   "source": [
    "- **replaces** all **occurrences** of a **substring** **within** a **string** - **result** in a **new** **substring** [1]"
   ]
  },
  {
   "cell_type": "markdown",
   "metadata": {},
   "source": [
    "```sql\n",
    "REPLACE(string,from_string,to_string)\n",
    "```"
   ]
  },
  {
   "cell_type": "markdown",
   "metadata": {},
   "source": [
    "- three **pararmeters** - i) string - the **original** **string** - ii) from_string - the **substring** to be **replaced** - iii) to_string - the **new** **replacement** **string** [1]  "
   ]
  },
  {
   "cell_type": "markdown",
   "metadata": {},
   "source": [
    "```sql\n",
    "mysql> use school;\n",
    "Database changed\n",
    "```"
   ]
  },
  {
   "cell_type": "markdown",
   "metadata": {},
   "source": [
    "```sql\n",
    "mysql> show tables;\n",
    "+------------------+\n",
    "| Tables_in_school |\n",
    "+------------------+\n",
    "| subject          |\n",
    "| teacher          |\n",
    "+------------------+\n",
    "2 rows in set (0.00 sec)\n",
    "```"
   ]
  },
  {
   "cell_type": "markdown",
   "metadata": {},
   "source": [
    "```sql\n",
    "mysql> SELECT *\n",
    "    -> FROM teacher;\n",
    "+-----+--------------+-------+------------+------------+\n",
    "| tid | Name         | level | experience | dob        |\n",
    "+-----+--------------+-------+------------+------------+\n",
    "|   1 | Mr. Pasteur  | L     |         15 | 1960-02-02 |\n",
    "|   2 | Ms. Dubois   | L     |         22 | 1967-09-02 |\n",
    "|   3 | Ms. Smith    | J     |          4 | 1980-03-23 |\n",
    "|   4 | Mr. Hawking  | L     |         40 | 1951-02-19 |\n",
    "|   5 | Mr. Kavanagh | J     |         50 | 1949-11-01 |\n",
    "|   6 | Mr. Picasso  | J     |         42 | 1939-03-30 |\n",
    "|   7 | Fr. Lynch    | L     |         55 | 1939-03-31 |\n",
    "+-----+--------------+-------+------------+------------+\n",
    "7 rows in set (0.00 sec)\n",
    "```"
   ]
  },
  {
   "cell_type": "markdown",
   "metadata": {},
   "source": [
    "- command - SELECT - columns - attributes - fields - tid - name - from table - entity - relation - teacher - replacing every substring - Ms. - with - Mrs. - returns the value [1]"
   ]
  },
  {
   "cell_type": "markdown",
   "metadata": {},
   "source": [
    "- **table** - entity - relation - is **not** **updated** **just** **returns** the **new** **string** - the **original** **string** is **unaffected** [1]"
   ]
  },
  {
   "cell_type": "markdown",
   "metadata": {},
   "source": [
    "```sql\n",
    "mysql> SELECT tid,\n",
    "    -> REPLACE(name,\"Ms.\",\"Mrs\")\n",
    "    -> FROM teacher;\n",
    "+-----+---------------------------+\n",
    "| tid | REPLACE(name,\"Ms.\",\"Mrs\") |\n",
    "+-----+---------------------------+\n",
    "|   1 | Mr. Pasteur               |\n",
    "|   2 | Mrs Dubois                |\n",
    "|   3 | Mrs Smith                 |\n",
    "|   4 | Mr. Hawking               |\n",
    "|   5 | Mr. Kavanagh              |\n",
    "|   6 | Mr. Picasso               |\n",
    "|   7 | Fr. Lynch                 |\n",
    "+-----+---------------------------+\n",
    "7 rows in set (0.00 sec)\n",
    "```"
   ]
  },
  {
   "cell_type": "markdown",
   "metadata": {},
   "source": [
    "***\n",
    "# END"
   ]
  }
 ],
 "metadata": {
  "kernelspec": {
   "display_name": "Python 3",
   "language": "python",
   "name": "python3"
  },
  "language_info": {
   "codemirror_mode": {
    "name": "ipython",
    "version": 3
   },
   "file_extension": ".py",
   "mimetype": "text/x-python",
   "name": "python",
   "nbconvert_exporter": "python",
   "pygments_lexer": "ipython3",
   "version": "3.7.6"
  }
 },
 "nbformat": 4,
 "nbformat_minor": 4
}
