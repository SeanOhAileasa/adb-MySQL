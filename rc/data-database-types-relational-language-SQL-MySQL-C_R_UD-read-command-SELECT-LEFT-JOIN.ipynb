{
 "cells": [
  {
   "cell_type": "markdown",
   "metadata": {},
   "source": [
    "# data-database-types-relational-language-SQL-MySQL-C_R_UD-read-command-SELECT-LEFT-JOIN\n",
    "> [TABLE OF CONTENTS](https://nbviewer.jupyter.org/github/SeanOhAileasa/adb-MySQL/blob/main/adb-MySQL.ipynb#top)\n",
    "***"
   ]
  },
  {
   "cell_type": "markdown",
   "metadata": {},
   "source": [
    "- **LEFT** **JOIN** - **all** **rows** - records - tuples - from the **table** - entity - relation - **returned** **regardless** of whether the **join** **condition** is **satisfied** [1]"
   ]
  },
  {
   "cell_type": "markdown",
   "metadata": {},
   "source": [
    "```sql\n",
    "mysql> use hospital;\n",
    "Database changed\n",
    "```"
   ]
  },
  {
   "cell_type": "markdown",
   "metadata": {},
   "source": [
    "```sql\n",
    "mysql> show tables;\n",
    "+--------------------+\n",
    "| Tables_in_hospital |\n",
    "+--------------------+\n",
    "| doctor_table       |\n",
    "| patient_table      |\n",
    "+--------------------+\n",
    "2 rows in set (0.00 sec)\n",
    "```"
   ]
  },
  {
   "cell_type": "markdown",
   "metadata": {},
   "source": [
    "```sql\n",
    "mysql> describe doctor_table;\n",
    "+----------+-------------+------+-----+---------+-------+\n",
    "| Field    | Type        | Null | Key | Default | Extra |\n",
    "+----------+-------------+------+-----+---------+-------+\n",
    "| doctorID | int         | NO   | PRI | NULL    |       |\n",
    "| name     | varchar(50) | YES  |     | NULL    |       |\n",
    "| phone    | int         | YES  |     | NULL    |       |\n",
    "+----------+-------------+------+-----+---------+-------+\n",
    "3 rows in set (0.00 sec)\n",
    "```"
   ]
  },
  {
   "cell_type": "markdown",
   "metadata": {},
   "source": [
    "```sql\n",
    "mysql> describe patient_table;\n",
    "+------------+--------------+------+-----+---------+-------+\n",
    "| Field      | Type         | Null | Key | Default | Extra |\n",
    "+------------+--------------+------+-----+---------+-------+\n",
    "| ppsn       | varchar(10)  | NO   | PRI | NULL    |       |\n",
    "| first_name | varchar(50)  | YES  |     | NULL    |       |\n",
    "| surname    | varchar(50)  | YES  |     | NULL    |       |\n",
    "| address    | varchar(200) | YES  |     | NULL    |       |\n",
    "| doctorID   | int          | YES  | MUL | NULL    |       |\n",
    "+------------+--------------+------+-----+---------+-------+\n",
    "5 rows in set (0.00 sec)\n",
    "```"
   ]
  },
  {
   "cell_type": "markdown",
   "metadata": {},
   "source": [
    "```sql\n",
    "mysql> SHOW TABLE CREATE patient_table;\n",
    "ERROR 1064 (42000): You have an error in your SQL syntax; check the manual that corresponds to your MySQL server version for the right syntax to use near 'CREATE patient_table' at line 1\n",
    "mysql> SHOW CREATE TABLE patient_table;\n",
    "+---------------+----------------------------------------------------------------------------------------------------------------------------------------------------------------------------------------------------------------------------------------------------------------------------------------------------------------------------------------------------------------------------------------------------------------------+\n",
    "| Table         | Create Table                                                                                                                                                                                                                                                                                                                                                                                                         |\n",
    "+---------------+----------------------------------------------------------------------------------------------------------------------------------------------------------------------------------------------------------------------------------------------------------------------------------------------------------------------------------------------------------------------------------------------------------------------+\n",
    "| patient_table | CREATE TABLE `patient_table` (\n",
    "  `ppsn` varchar(10) NOT NULL,\n",
    "  `first_name` varchar(50) DEFAULT NULL,\n",
    "  `surname` varchar(50) DEFAULT NULL,\n",
    "  `address` varchar(200) DEFAULT NULL,\n",
    "  `doctorID` int DEFAULT NULL,\n",
    "  PRIMARY KEY (`ppsn`),\n",
    "  KEY `doctorID` (`doctorID`),\n",
    "  CONSTRAINT `patient_table_ibfk_1` FOREIGN KEY (`doctorID`) REFERENCES `doctor_table` (`doctorID`)\n",
    ") ENGINE=InnoDB DEFAULT CHARSET=latin1 |\n",
    "+---------------+----------------------------------------------------------------------------------------------------------------------------------------------------------------------------------------------------------------------------------------------------------------------------------------------------------------------------------------------------------------------------------------------------------------------+\n",
    "1 row in set (0.00 sec)\n",
    "```"
   ]
  },
  {
   "cell_type": "markdown",
   "metadata": {},
   "source": [
    "- **table** - entity - relation - patient_table - **obtain** from **columns** - attributes - fields - ppsn - first_name - **plus** **other** **table** - entity - relation - doctor_table - **obtain** from **columns** - attributes - fields - name - phone - **joining** **rows** - records - tuples - patient_table - with rows - records - tuples - doctor_table - of **all** patients - doctor assigned or not [1]"
   ]
  },
  {
   "cell_type": "markdown",
   "metadata": {},
   "source": [
    "```sql\n",
    "mysql> SELECT patient_table.ppsn,patient_table.first_name,\n",
    "    -> doctor_table.name,doctor_table.phone\n",
    "    -> FROM patient_table\n",
    "    -> LEFT JOIN doctor_table\n",
    "    -> on patient_table.doctorID=doctor_table.doctorID;\n",
    "+----------+------------+------------+-------+\n",
    "| ppsn     | first_name | name       | phone |\n",
    "+----------+------------+------------+-------+\n",
    "| 2344234S | Mary       | NULL       |  NULL |\n",
    "| 7629913X | John       | Dr. Jones  | 12345 |\n",
    "| 989333F  | Alan       | Dr. Murphy | 88335 |\n",
    "| 9898823W | Fred       | Dr. Jones  | 12345 |\n",
    "+----------+------------+------------+-------+\n",
    "4 rows in set (0.00 sec)\n",
    "```"
   ]
  },
  {
   "cell_type": "markdown",
   "metadata": {},
   "source": [
    "```sql\n",
    "mysql> SELECT pt.ppsn,pt.first_name,\n",
    "    -> dt.name,dt.phone\n",
    "    -> FROM patient_table pt\n",
    "    -> LEFT JOIN doctor_table dt\n",
    "    -> on pt.doctorID=dt.doctorID;\n",
    "+----------+------------+------------+-------+\n",
    "| ppsn     | first_name | name       | phone |\n",
    "+----------+------------+------------+-------+\n",
    "| 2344234S | Mary       | NULL       |  NULL |\n",
    "| 7629913X | John       | Dr. Jones  | 12345 |\n",
    "| 989333F  | Alan       | Dr. Murphy | 88335 |\n",
    "| 9898823W | Fred       | Dr. Jones  | 12345 |\n",
    "+----------+------------+------------+-------+\n",
    "4 rows in set (0.00 sec)\n",
    "```"
   ]
  },
  {
   "cell_type": "markdown",
   "metadata": {},
   "source": [
    "- **table** - entity - relation - patient_table - **row** - record - tuple - **value** - Mary - **column** - attribute - field - doctorID - **does** **not** **match** **other** **table** - entity - relation - doctor_table - **column** - attribute - field - doctorID - **NULL** [1]"
   ]
  },
  {
   "cell_type": "markdown",
   "metadata": {},
   "source": [
    "- **join** - **LEFT** **JOIN** - the **join** **condition** - **from** the **first** - **LEFT** - **table** - entity - relation - patient_table - **returned** including - **NULL** - **instead** of **rows** - records - tuples - from the **other** **table** - entity - relation - doctor_table [1]"
   ]
  },
  {
   "cell_type": "markdown",
   "metadata": {},
   "source": [
    "***\n",
    "# END"
   ]
  }
 ],
 "metadata": {
  "kernelspec": {
   "display_name": "Python 3",
   "language": "python",
   "name": "python3"
  },
  "language_info": {
   "codemirror_mode": {
    "name": "ipython",
    "version": 3
   },
   "file_extension": ".py",
   "mimetype": "text/x-python",
   "name": "python",
   "nbconvert_exporter": "python",
   "pygments_lexer": "ipython3",
   "version": "3.7.6"
  }
 },
 "nbformat": 4,
 "nbformat_minor": 4
}
