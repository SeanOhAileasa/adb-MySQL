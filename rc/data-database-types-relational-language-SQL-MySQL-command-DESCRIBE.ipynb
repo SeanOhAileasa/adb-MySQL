{
 "cells": [
  {
   "cell_type": "markdown",
   "metadata": {},
   "source": [
    "# data-database-types-relational-language-SQL-MySQL-command-DESCRIBE\n",
    "> [TABLE OF CONTENTS](https://nbviewer.jupyter.org/github/SeanOhAileasa/adb-MySQL/blob/main/adb-MySQL.ipynb#top)\n",
    "***"
   ]
  },
  {
   "cell_type": "markdown",
   "metadata": {},
   "source": [
    "- **table** - entity - relation - car - **already** **created** - **already** **know** its **structure** [1]\n",
    "\n",
    "```sql\n",
    "mysql> -- db - car\n",
    "mysql> CREATE TABLE car (\n",
    "    -> make VARCHAR(20),\n",
    "    -> model VARCHAR(20),\n",
    "    -> registration VARCHAR(15),\n",
    "    -> colour VARCHAR(10),\n",
    "    -> mileage INTEGER,\n",
    "    -> engineSize FLOAT(2,1)\n",
    "    -> );\n",
    "Query OK, 0 rows affected, 1 warning (0.02 sec)\n",
    "```"
   ]
  },
  {
   "cell_type": "markdown",
   "metadata": {},
   "source": [
    "- **reverting** **back** **after** a **period** without engaging with the table - entity - relation - **unlikely** to **remember** its **structure** - **encountering** a **new** database **need** to **know** what **sort** of **data** the tables - entities - relations -  store [1]"
   ]
  },
  {
   "cell_type": "markdown",
   "metadata": {},
   "source": [
    "- **command** - **DESCRIBE** - **shows** the **names** of the **columns** - attributes - fields - in the table - entity - relation - and the column - attribute - field - **data** **type** [1]"
   ]
  },
  {
   "cell_type": "markdown",
   "metadata": {},
   "source": [
    "```sql\n",
    "DESCRIBE <___>;\n",
    "```"
   ]
  },
  {
   "cell_type": "markdown",
   "metadata": {},
   "source": [
    "```sql\n",
    "mysql> -- db - car\n",
    "mysql> DESCRIBE car;\n",
    "+--------------+-------------+------+-----+---------+-------+\n",
    "| Field        | Type        | Null | Key | Default | Extra |\n",
    "+--------------+-------------+------+-----+---------+-------+\n",
    "| make         | varchar(20) | YES  |     | NULL    |       |\n",
    "| model        | varchar(20) | YES  |     | NULL    |       |\n",
    "| registration | varchar(15) | YES  |     | NULL    |       |\n",
    "| colour       | varchar(10) | YES  |     | NULL    |       |\n",
    "| mileage      | int         | YES  |     | NULL    |       |\n",
    "| engineSize   | float(2,1)  | YES  |     | NULL    |       |\n",
    "+--------------+-------------+------+-----+---------+-------+\n",
    "6 rows in set (0.00 sec)\n",
    "```"
   ]
  },
  {
   "cell_type": "markdown",
   "metadata": {},
   "source": [
    "- **addition** to the column - attribute - field - associated with row - record - tuple - name - and the column - attribute - field - data types - also **shows** - **blank** or **NULL** [1]"
   ]
  },
  {
   "cell_type": "markdown",
   "metadata": {},
   "source": [
    "- **addition*** - values **not** **allowed** in column - attribute - field - in row - record - tuple - name - if no value entered in column - attribute - field - in row - record - tuple - sex - then the row - record - tuple - will  have a **default** **value** - M [1]"
   ]
  },
  {
   "cell_type": "markdown",
   "metadata": {},
   "source": [
    "```sql\n",
    "mysql> -- db - person\n",
    "mysql> DESCRIBE person;\n",
    "+-----------+---------------+------+-----+---------+-------+\n",
    "| Field     | Type          | Null | Key | Default | Extra |\n",
    "+-----------+---------------+------+-----+---------+-------+\n",
    "| name      | varchar(20)   | NO   |     | NULL    |       |\n",
    "| age       | int           | YES  |     | NULL    |       |\n",
    "| sex       | enum('M','F') | YES  |     | M       |       |\n",
    "| dob       | date          | YES  |     | NULL    |       |\n",
    "| isStudent | tinyint(1)    | YES  |     | NULL    |       |\n",
    "+-----------+---------------+------+-----+---------+-------+\n",
    "5 rows in set (0.00 sec)\n",
    "```"
   ]
  },
  {
   "cell_type": "markdown",
   "metadata": {},
   "source": [
    "***\n",
    "# END"
   ]
  }
 ],
 "metadata": {
  "kernelspec": {
   "display_name": "Python 3",
   "language": "python",
   "name": "python3"
  },
  "language_info": {
   "codemirror_mode": {
    "name": "ipython",
    "version": 3
   },
   "file_extension": ".py",
   "mimetype": "text/x-python",
   "name": "python",
   "nbconvert_exporter": "python",
   "pygments_lexer": "ipython3",
   "version": "3.7.6"
  }
 },
 "nbformat": 4,
 "nbformat_minor": 4
}
