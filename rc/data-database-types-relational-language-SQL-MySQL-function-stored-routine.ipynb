{
 "cells": [
  {
   "cell_type": "markdown",
   "metadata": {},
   "source": [
    "# data-database-types-relational-language-SQL-MySQL-function-stored-routine\n",
    "> [TABLE OF CONTENTS](https://nbviewer.jupyter.org/github/SeanOhAileasa/adb-MySQL/blob/main/adb-MySQL.ipynb#top)\n",
    "***"
   ]
  },
  {
   "cell_type": "markdown",
   "metadata": {},
   "source": [
    "- **stored** **routine** - **user-written** **code** that **extends** the **functionality** of - **mysql** [1]"
   ]
  },
  {
   "cell_type": "markdown",
   "metadata": {},
   "source": [
    "- **make** **business** **rules** **consistent** - **website** and **mobile** **app** - **accessing** the **same** **database** [1]"
   ]
  },
  {
   "cell_type": "markdown",
   "metadata": {},
   "source": [
    "- the **business** **logic** could **either** be **written** - i) **separately** for the **website** and **again** the **mobile** **app** **or** **written** - ii) **once** in the **database** in the form of **stored** **routines** [1]"
   ]
  },
  {
   "cell_type": "markdown",
   "metadata": {},
   "source": [
    "- **minimising** the **duplication** of **effort** - when **multiple** **client** **applicatins** are **written** in **different** **languages** or **work** on **different** **platforms** but **need** to perform the **same** **database** **operations** [1]"
   ]
  },
  {
   "cell_type": "markdown",
   "metadata": {},
   "source": [
    "- also to **ensure** **security** - **instead** of **applications** **directly** **accessing** **tables** - entities - relations - could **force** **access** to **tables** - entities - relations - only **through** **stored** **routines** - all interaction can be logged [1]"
   ]
  },
  {
   "cell_type": "markdown",
   "metadata": {},
   "source": [
    "<img src=\"img/07-03-01-6.png\" />"
   ]
  },
  {
   "cell_type": "markdown",
   "metadata": {},
   "source": [
    "- **advantages** - **besides** **reduction** of **duplication** and **security** - speed - **given** **stored** **procedures** are **compiled** and **stored** in the database - **faster** **than** **queries** [1]"
   ]
  },
  {
   "cell_type": "markdown",
   "metadata": {},
   "source": [
    "- **speed** - traffic - **instead** of **sending** **multiple** **lengthy** sql **statements** the application has to **send** **only** the **name** and **parameters** of the **stored** **routine** [1]"
   ]
  },
  {
   "cell_type": "markdown",
   "metadata": {},
   "source": [
    "- **disadvantages** - **complexity** - **not** **designed** for **complex** **business** **logic** such as **programming** **language** like **java** [1]"
   ]
  },
  {
   "cell_type": "markdown",
   "metadata": {},
   "source": [
    "- therefore - the **use** for **holding** **business** **logic** is **limited** - **difficult** to **debug** - only a **few** **dbms** **allow** **debugging** of **stored** **procedures** - **mysql** - is **not** **one** [1]"
   ]
  },
  {
   "cell_type": "markdown",
   "metadata": {},
   "source": [
    "- **performance** - although **can** **increase** the **performance** of an **application** **accessing** the **database** - **moving** **too** **much** **business** **logic** from the application side to the database side will **impact** the database **performance** given a dbms is not well-designed for large scale logical operations that would be better suited to a standard programming language [1]"
   ]
  },
  {
   "cell_type": "markdown",
   "metadata": {},
   "source": [
    "- **stored** **routines** - can be **used** to **store** **some** **business** **logic** and **common** **tasks** - how much and what logic to implement varies between databases and should take into **consideration** - **database** **size** - **frequency** of **user** **access** - **amount** of **data** **requested** **per** **query** - **security** **considerations** - many more variables specific to the individual database or business [1]"
   ]
  },
  {
   "cell_type": "markdown",
   "metadata": {},
   "source": [
    "- **stored** **function** - is a **special** **kind** of **stored** **routine** that **returns** a **single** **value**[7]"
   ]
  },
  {
   "cell_type": "markdown",
   "metadata": {},
   "source": [
    "- used to **encapsulate** **common** **formulas** or **business** **rules** that are **reusable** **among** **sql** **statements** or **stored** **routines** [1]"
   ]
  },
  {
   "cell_type": "markdown",
   "metadata": {},
   "source": [
    "- functons - **take** **zero** or **more** **input** **parameters** and **return** a **single** **value** [1]"
   ]
  },
  {
   "cell_type": "markdown",
   "metadata": {},
   "source": [
    "[MySQL Documentation](http://web.archive.org/web/20200711094621/https://dev.mysql.com/doc/refman/8.0/en/create-procedure.html)"
   ]
  },
  {
   "cell_type": "markdown",
   "metadata": {},
   "source": [
    "***\n",
    "# END"
   ]
  }
 ],
 "metadata": {
  "kernelspec": {
   "display_name": "Python 3",
   "language": "python",
   "name": "python3"
  },
  "language_info": {
   "codemirror_mode": {
    "name": "ipython",
    "version": 3
   },
   "file_extension": ".py",
   "mimetype": "text/x-python",
   "name": "python",
   "nbconvert_exporter": "python",
   "pygments_lexer": "ipython3",
   "version": "3.7.6"
  }
 },
 "nbformat": 4,
 "nbformat_minor": 4
}
