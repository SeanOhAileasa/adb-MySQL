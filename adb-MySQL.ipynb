{
 "cells": [
  {
   "cell_type": "code",
   "execution_count": null,
   "id": "619ad17b",
   "metadata": {},
   "outputs": [
    {
     "data": {
      "text/html": [
       "<script>Jupyter.notebook.kernel.restart()</script>"
      ]
     },
     "metadata": {},
     "output_type": "display_data"
    }
   ],
   "source": [
    "from IPython.core.display import display_html\n",
    "display_html(\"<script>Jupyter.notebook.kernel.restart()</script>\",raw=True)"
   ]
  },
  {
   "cell_type": "code",
   "execution_count": 1,
   "id": "fcd41d05",
   "metadata": {},
   "outputs": [
    {
     "data": {
      "text/html": [
       "<style>.container { width:100% !important; }</style>"
      ],
      "text/plain": [
       "<IPython.core.display.HTML object>"
      ]
     },
     "metadata": {},
     "output_type": "display_data"
    },
    {
     "data": {
      "text/html": [
       "<style>.container { width:100% !important; }</style>"
      ],
      "text/plain": [
       "<IPython.core.display.HTML object>"
      ]
     },
     "metadata": {},
     "output_type": "display_data"
    }
   ],
   "source": [
    "from sys import path; path.insert(1,\"../src\");\n",
    "import fubar; from importlib import reload; reload(fubar);"
   ]
  },
  {
   "cell_type": "code",
   "execution_count": 2,
   "id": "47a216bf",
   "metadata": {},
   "outputs": [],
   "source": [
    "from sys import path; path.insert(2,\"./hide\"); # from MySQL import mysql"
   ]
  },
  {
   "cell_type": "markdown",
   "id": "984a78bb",
   "metadata": {},
   "source": [
    "***\n",
    "< [GMIT Data Analytics](https://web.archive.org/web/20201029063153/https://www.gmit.ie/computer-science-and-applied-physics/higher-diploma-science-computing-data-analytics-ict) | [Home](https://github.com/SeanOhAileasa) | [README](https://github.com/SeanOhAileasa/adb-MySQL/blob/main/README.md) >\n",
    "\n",
    "[![GMIT](https://github.com/SeanOhAileasa/SeanOhAileasa/blob/master/rc/gmit.png?raw=true)](https://web.archive.org/web/20201029063153/https://www.gmit.ie/computer-science-and-applied-physics/higher-diploma-science-computing-data-analytics-ict)\n",
    "\n",
    "## Applied Databases - Course Material 2020\n",
    "### Topic: [MySQL](https://nbviewer.jupyter.org/github/SeanOhAileasa/adb-MySQL/blob/main/adb-MySQL.ipynb)\n",
    "\n",
    "***"
   ]
  },
  {
   "cell_type": "markdown",
   "id": "d090b359",
   "metadata": {},
   "source": [
    "Course material for the ``Applied Databases`` module (5 Credits) of the ``Higher Diploma in Science in Computing (Data Analytics) (H.Dip)`` programme (75 Credits) at **Galway-Mayo Institute of Technology (GMIT)**. Reviewing the ``Applied Databases`` module laboratory exercises in tandem with the ``Data Representation`` module."
   ]
  },
  {
   "cell_type": "code",
   "execution_count": 3,
   "id": "c8f0c11d",
   "metadata": {},
   "outputs": [],
   "source": [
    "from sys import path; path.insert(1,\"../src\")\n",
    "from fubar import fFile,fMagic"
   ]
  },
  {
   "cell_type": "code",
   "execution_count": 4,
   "id": "f61346c5",
   "metadata": {},
   "outputs": [
    {
     "name": "stdout",
     "output_type": "stream",
     "text": [
      "# repository ./SeanOhAileasa\r\n",
      "def fFile(nParPath):\r\n",
      "    \"\"\"Start a file with its associated application.\r\n",
      "\r\n",
      "Input: nParPath\r\n",
      "Process: (os.path.realpath; os.startfile)\r\n",
      "Output: file opened with associated application\r\n",
      "\"\"\"\r\n",
      "    from os import path,startfile\r\n",
      "    return startfile(path.realpath(nParPath))\r\n",
      "# --- END ---\r\n"
     ]
    }
   ],
   "source": [
    "%%script bash\n",
    "grep -1 \"def fFile\" ../src/fubar.py -A 9"
   ]
  },
  {
   "cell_type": "markdown",
   "id": "49635d5b",
   "metadata": {},
   "source": [
    "<a id=\"top\"></a>\n",
    "***\n",
    "## Table of Contents\n",
    "***"
   ]
  },
  {
   "cell_type": "markdown",
   "id": "7af3c960",
   "metadata": {},
   "source": [
    "###### Quick Links\n",
    "***\n",
    "\n",
    "* [Applied Databases](#applieddatabases) <br/><br/>\n",
    "* [Data Representation](#datarep)"
   ]
  },
  {
   "cell_type": "markdown",
   "id": "2fe19188",
   "metadata": {},
   "source": [
    "## [Acronym](#top)\n",
    "\n",
    "- &#x1F4CC; Work-in-Progress (WIP)\n",
    "- ``obj``: object"
   ]
  },
  {
   "cell_type": "markdown",
   "id": "7dbea972",
   "metadata": {},
   "source": [
    "<hr width=50%;>"
   ]
  },
  {
   "cell_type": "markdown",
   "id": "78209069",
   "metadata": {},
   "source": [
    "< [Table of Contents](#top) | [References](#references) >\n",
    "<a id=\"applieddatabases\"></a>\n",
    "## Applied Databases\n",
    "***"
   ]
  },
  {
   "cell_type": "markdown",
   "id": "44105bb5",
   "metadata": {},
   "source": [
    "Course material for the ``Applied Databases`` module (5 Credits) of the ``Higher Diploma in Science in Computing (Data Analytics) (H.Dip)`` programme (75 Credits) at **Galway-Mayo Institute of Technology (GMIT)**."
   ]
  },
  {
   "cell_type": "markdown",
   "id": "e03c79e0",
   "metadata": {},
   "source": [
    "### Data\n",
    "***\n",
    "\n",
    "* [data](https://nbviewer.jupyter.org/github/SeanOhAileasa/adb-MySQL/blob/main/rc/data.ipynb) **[External Link]** <br/><br/>\n",
    "* [database](https://nbviewer.jupyter.org/github/SeanOhAileasa/adb-MySQL/blob/main/rc/data-database.ipynb) **[External Link]** <br/><br/>\n",
    "* [schema](https://nbviewer.jupyter.org/github/SeanOhAileasa/adb-MySQL/blob/main/rc/data-database-schema.ipynb) **[External Link]** <br/><br/>\n",
    "    * [types](https://nbviewer.jupyter.org/github/SeanOhAileasa/adb-MySQL/blob/main/rc/data-database-schema-types-intentionally-blank.ipynb) **[External Link]** <br/><br/>\n",
    "        * [physical](https://nbviewer.jupyter.org/github/SeanOhAileasa/adb-MySQL/blob/main/rc/data-database-schema-types-physical.ipynb) **[External Link]** <br/><br/>\n",
    "        * [logical](https://nbviewer.jupyter.org/github/SeanOhAileasa/adb-MySQL/blob/main/rc/data-database-schema-types-logical.ipynb) **[External Link]** <br/><br/>\n",
    "* [DBMS](https://nbviewer.jupyter.org/github/SeanOhAileasa/adb-MySQL/blob/main/rc/data-database-DBMS.ipynb) **[External Link]** <br/><br/>\n",
    "    * [MySQL](https://nbviewer.jupyter.org/github/SeanOhAileasa/adb-MySQL/blob/main/rc/data-database-DBMS-MySQL.ipynb) **[External Link]** <br/><br/>\n",
    "    * [functions](https://nbviewer.jupyter.org/github/SeanOhAileasa/adb-MySQL/blob/main/rc/data-database-DBMS-functions-intentionally-blank.ipynb) **[External Link]** <br/><br/>\n",
    "        * [CRUD](https://nbviewer.jupyter.org/github/SeanOhAileasa/adb-MySQL/blob/main/rc/data-database-DBMS-functions-CRUD.ipynb) **[External Link]** <br/><br/>\n",
    "        * [storage](https://nbviewer.jupyter.org/github/SeanOhAileasa/adb-MySQL/blob/main/rc/data-database-DBMS-functions-storage.ipynb) **[External Link]** <br/><br/>\n",
    "        * [security](https://nbviewer.jupyter.org/github/SeanOhAileasa/adb-MySQL/blob/main/rc/data-database-DBMS-functions-security.ipynb) **[External Link]** <br/><br/>\n",
    "        * [backup](https://nbviewer.jupyter.org/github/SeanOhAileasa/adb-MySQL/blob/main/rc/data-database-DBMS-functions-backup.ipynb) **[External Link]** <br/><br/>\n",
    "        * [transactions](https://nbviewer.jupyter.org/github/SeanOhAileasa/adb-MySQL/blob/main/rc/data-database-DBMS-functions-transactions.ipynb) **[External Link]** <br/><br/>\n",
    "        * [integrity](https://nbviewer.jupyter.org/github/SeanOhAileasa/adb-MySQL/blob/main/rc/data-database-DBMS-functions-integrity.ipynb) **[External Link]** <br/><br/>\n",
    "        * [concurrency](https://nbviewer.jupyter.org/github/SeanOhAileasa/adb-MySQL/blob/main/rc/data-database-DBMS-functions-concurrency.ipynb) **[External Link]** <br/><br/>\n",
    "        * [advantages](https://nbviewer.jupyter.org/github/SeanOhAileasa/adb-MySQL/blob/main/rc/data-database-DBMS-functions-advantages-intentionally-blank.ipynb) **[External Link]** <br/><br/> \n",
    "            * [redundancy](https://nbviewer.jupyter.org/github/SeanOhAileasa/adb-MySQL/blob/main/rc/data-database-DBMS-functions-advantages-redundancy.ipynb) **[External Link]** <br/><br/>\n",
    "            * [standards](https://nbviewer.jupyter.org/github/SeanOhAileasa/adb-MySQL/blob/main/rc/data-database-DBMS-functions-advantages-standards.ipynb) **[External Link]** <br/><br/>\n",
    "        * [disadvantages](https://nbviewer.jupyter.org/github/SeanOhAileasa/adb-MySQL/blob/main/rc/data-database-DBMS-functions-disadvantages-intentionally-blank.ipynb) **[External Link]** <br/><br/>\n",
    "            * [complexity](https://nbviewer.jupyter.org/github/SeanOhAileasa/adb-MySQL/blob/main/rc/data-database-DBMS-functions-disadvantages-complexity.ipynb) **[External Link]** <br/><br/>\n",
    "                * [size](https://nbviewer.jupyter.org/github/SeanOhAileasa/adb-MySQL/blob/main/rc/data-database-DBMS-functions-disadvantages-complexity-size.ipynb) **[External Link]** <br/><br/>\n",
    "            * [performance](https://nbviewer.jupyter.org/github/SeanOhAileasa/adb-MySQL/blob/main/rc/data-database-DBMS-functions-disadvantages-performance.ipynb) **[External Link]** <br/><br/>\n",
    "            * [failure](https://nbviewer.jupyter.org/github/SeanOhAileasa/adb-MySQL/blob/main/rc/data-database-DBMS-functions-disadvantages-failure.ipynb) **[External Link]** <br/><br/>\n",
    "    * [normalisation](https://nbviewer.jupyter.org/github/SeanOhAileasa/adb-MySQL/blob/main/rc/data-database-types-relational-normalisation.ipynb) **[External Link]** <br/><br/>\n",
    "        * [anomaly](https://nbviewer.jupyter.org/github/SeanOhAileasa/adb-MySQL/blob/main/rc/data-database-types-relational-normalisation-anomaly-intentionally-blank.ipynb) **[External Link]** <br/><br/> \n",
    "            * [update](https://nbviewer.jupyter.org/github/SeanOhAileasa/adb-MySQL/blob/main/rc/data-database-types-relational-normalisation-anomaly-update.ipynb) **[External Link]** <br/><br/>\n",
    "            * [insertion](https://nbviewer.jupyter.org/github/SeanOhAileasa/adb-MySQL/blob/main/rc/data-database-types-relational-normalisation-anomaly-insertion.ipynb) **[External Link]** <br/><br/>\n",
    "            * [deletion](https://nbviewer.jupyter.org/github/SeanOhAileasa/adb-MySQL/blob/main/rc/data-database-types-relational-normalisation-anomaly-deletion.ipynb) **[External Link]** <br/><br/>\n",
    "        * [process](https://nbviewer.jupyter.org/github/SeanOhAileasa/adb-MySQL/blob/main/rc/data-database-types-relational-normalisation-process.ipynb) **[External Link]** <br/><br/>\n",
    "            * [foreign-key](https://nbviewer.jupyter.org/github/SeanOhAileasa/adb-MySQL/blob/main/rc/data-database-types-relational-normalisation-process-foreign-key.ipynb) **[External Link]** <br/><br/>\n",
    "                * [referential-integrity](https://nbviewer.jupyter.org/github/SeanOhAileasa/adb-MySQL/blob/main/rc/data-database-types-relational-normalisation-process-foreign-key-referential-integrity.ipynb) **[External Link]** <br/><br/>\n",
    "* [types](https://nbviewer.jupyter.org/github/SeanOhAileasa/adb-MySQL/blob/main/rc/data-database-types.ipynb) **[External Link]**"
   ]
  },
  {
   "cell_type": "markdown",
   "id": "f6ce76dc",
   "metadata": {},
   "source": [
    "<hr width=50%;>"
   ]
  },
  {
   "cell_type": "markdown",
   "id": "e5aac36c",
   "metadata": {},
   "source": [
    "### Relational\n",
    "***\n",
    "\n",
    "* [relational](https://nbviewer.jupyter.org/github/SeanOhAileasa/adb-MySQL/blob/main/rc/data-database-types-relational.ipynb) **[External Link]** <br/><br/>\n",
    "    * [table](https://nbviewer.jupyter.org/github/SeanOhAileasa/adb-MySQL/blob/main/rc/data-database-types-relational-table.ipynb) **[External Link]** <br/><br/>\n",
    "        * [column](https://nbviewer.jupyter.org/github/SeanOhAileasa/adb-MySQL/blob/main/rc/data-database-types-relational-table-column.ipynb) **[External Link]** <br/><br/>\n",
    "        * [row](https://nbviewer.jupyter.org/github/SeanOhAileasa/adb-MySQL/blob/main/rc/data-database-types-relational-table-row.ipynb) **[External Link]** <br/><br/>\n",
    "    * [spreadsheets](https://nbviewer.jupyter.org/github/SeanOhAileasa/adb-MySQL/blob/main/rc/data-database-types-relational-spreadsheets.ipynb) **[External Link]** <br/><br/>\n",
    "    * [language](https://nbviewer.jupyter.org/github/SeanOhAileasa/adb-MySQL/blob/main/rc/data-database-types-relational-language-intentionally-blank.ipynb) **[External Link]** <br/><br/>\n",
    "        * [SQL](https://nbviewer.jupyter.org/github/SeanOhAileasa/adb-MySQL/blob/main/rc/data-database-types-relational-language-SQL.ipynb) **[External Link]** <br/><br/>\n",
    "            * [MySQL](https://nbviewer.jupyter.org/github/SeanOhAileasa/adb-MySQL/blob/main/rc/data-database-types-relational-language-SQL-MySQL.ipynb) **[External Link]** <br/><br/>\n",
    "                * [MongoDB](https://nbviewer.jupyter.org/github/SeanOhAileasa/adb-MySQL/blob/main/rc/data-database-types-relational-language-SQL-MySQL-MongoDB.ipynb) **[External Link]** <br/><br/>\n",
    "                * [data-types](https://nbviewer.jupyter.org/github/SeanOhAileasa/adb-MySQL/blob/main/rc/data-database-types-relational-language-SQL-MySQL-data-types.ipynb) **[External Link]** <br/><br/>\n",
    "                * [command](https://nbviewer.jupyter.org/github/SeanOhAileasa/adb-MySQL/blob/main/rc/data-database-types-relational-language-SQL-MySQL-command-intentionally-blank.ipynb) **[External Link]** <br/><br/> \n",
    "                    * [create-database](https://nbviewer.jupyter.org/github/SeanOhAileasa/adb-MySQL/blob/main/rc/data-database-types-relational-language-SQL-MySQL-command-CREATE-DATABASE.ipynb) **[External Link]** <br/><br/>\n",
    "                    * [show-databases](https://nbviewer.jupyter.org/github/SeanOhAileasa/adb-MySQL/blob/main/rc/data-database-types-relational-language-SQL-MySQL-command-SHOW-DATABASES.ipynb) **[External Link]** <br/><br/>\n",
    "                    * [use](https://nbviewer.jupyter.org/github/SeanOhAileasa/adb-MySQL/blob/main/rc/data-database-types-relational-language-SQL-MySQL-command-USE.ipynb) **[External Link]** <br/><br/>\n",
    "                    * [CREATE-TABLE](https://nbviewer.jupyter.org/github/SeanOhAileasa/adb-MySQL/blob/main/rc/data-database-types-relational-language-SQL-MySQL-command-CREATE-TABLE.ipynb) **[External Link]** <br/><br/>\n",
    "                    * [DESCRIBE](https://nbviewer.jupyter.org/github/SeanOhAileasa/adb-MySQL/blob/main/rc/data-database-types-relational-language-SQL-MySQL-command-DESCRIBE.ipynb) **[External Link]** <br/><br/>\n",
    "                    * [SHOW-CREATE-TABLE](https://nbviewer.jupyter.org/github/SeanOhAileasa/adb-MySQL/blob/main/rc/data-database-types-relational-language-SQL-MySQL-command-SHOW-CREATE-TABLE.ipynb) **[External Link]** <br/><br/>\n",
    "            * [C_R_UD-read-command](https://nbviewer.jupyter.org/github/SeanOhAileasa/adb-MySQL/blob/main/rc/data-database-types-relational-language-SQL-MySQL-C_R_UD-read-command-intentionally-blank.ipynb) **[External Link]** <br/><br/>\n",
    "                * [SELECT](https://nbviewer.jupyter.org/github/SeanOhAileasa/adb-MySQL/blob/main/rc/data-database-types-relational-language-SQL-MySQL-C_R_UD-read-command-SELECT.ipynb) **[External Link]** <br/><br/>\n",
    "                    * [alias](https://nbviewer.jupyter.org/github/SeanOhAileasa/adb-MySQL/blob/main/rc/data-database-types-relational-language-SQL-MySQL-C_R_UD-read-command-SELECT-alias.ipynb) **[External Link]** <br/><br/>\n",
    "                    * [INNER-JOIN](https://nbviewer.jupyter.org/github/SeanOhAileasa/adb-MySQL/blob/main/rc/data-database-types-relational-language-SQL-MySQL-C_R_UD-read-command-SELECT-INNER-JOIN.ipynb) **[External Link]** <br/><br/>\n",
    "                    * [LEFT-JOIN](https://nbviewer.jupyter.org/github/SeanOhAileasa/adb-MySQL/blob/main/rc/data-database-types-relational-language-SQL-MySQL-C_R_UD-read-command-SELECT-LEFT-JOIN.ipynb) **[External Link]** <br/><br/>\n",
    "                    * [WHERE](https://nbviewer.jupyter.org/github/SeanOhAileasa/adb-MySQL/blob/main/rc/data-database-types-relational-language-SQL-MySQL-C_R_UD-read-command-SELECT-WHERE.ipynb)&nbsp;&nbsp;|&nbsp;&nbsp;[operator](https://nbviewer.jupyter.org/github/SeanOhAileasa/adb-MySQL/blob/main/rc/data-database-types-relational-language-SQL-MySQL-C_R_UD-read-command-SELECT-WHERE-operator.ipynb)&nbsp;&nbsp;|&nbsp;&nbsp;[AND-OR](https://nbviewer.jupyter.org/github/SeanOhAileasa/adb-MySQL/blob/main/rc/data-database-types-relational-language-SQL-MySQL-C_R_UD-read-command-SELECT-WHERE-operator-AND-OR.ipynb)&nbsp;&nbsp;|&nbsp;&nbsp;[BETWEEN](https://nbviewer.jupyter.org/github/SeanOhAileasa/adb-MySQL/blob/main/rc/data-database-types-relational-language-SQL-MySQL-C_R_UD-read-command-SELECT-WHERE-operator-BETWEEN.ipynb)&nbsp;&nbsp;|&nbsp;&nbsp;[LIKE](https://nbviewer.jupyter.org/github/SeanOhAileasa/adb-MySQL/blob/main/rc/data-database-types-relational-language-SQL-MySQL-C_R_UD-read-command-SELECT-WHERE-operator-LIKE.ipynb)&nbsp;&nbsp;|&nbsp;&nbsp;[IN](https://nbviewer.jupyter.org/github/SeanOhAileasa/adb-MySQL/blob/main/rc/data-database-types-relational-language-SQL-MySQL-C_R_UD-read-command-SELECT-WHERE-operator-IN.ipynb) **[External Link]** <br/><br/>\n",
    "                    * [LIMIT](https://nbviewer.jupyter.org/github/SeanOhAileasa/adb-MySQL/blob/main/rc/data-database-types-relational-language-SQL-MySQL-C_R_UD-read-command-SELECT-LIMIT.ipynb) **[External Link]** <br/><br/>\n",
    "                    * [DISTINCT](https://nbviewer.jupyter.org/github/SeanOhAileasa/adb-MySQL/blob/main/rc/data-database-types-relational-language-SQL-MySQL-C_R_UD-read-command-SELECT-DISTINCT.ipynb) **[External Link]** <br/><br/>\n",
    "                    * [ORDER-BY](https://nbviewer.jupyter.org/github/SeanOhAileasa/adb-MySQL/blob/main/rc/data-database-types-relational-language-SQL-MySQL-C_R_UD-read-command-SELECT-ORDER-BY.ipynb) **[External Link]** <br/><br/>\n",
    "                    * [process](https://nbviewer.jupyter.org/github/SeanOhAileasa/adb-MySQL/blob/main/rc/data-database-types-relational-language-SQL-MySQL-C_R_UD-read-command-SELECT-process.ipynb) **[External Link]** <br/><br/>\n",
    "                        * [subquery](https://nbviewer.jupyter.org/github/SeanOhAileasa/adb-MySQL/blob/main/rc/data-database-types-relational-language-SQL-MySQL-C_R_UD-read-command-SELECT-process-subquery.ipynb) **[External Link]** <br/><br/>\n",
    "            * [\\_C_RUD-create-command](https://nbviewer.jupyter.org/github/SeanOhAileasa/adb-MySQL/blob/main/rc/data-database-types-relational-language-SQL-MySQL-_C_RUD-create-command-intentionally-blank.ipynb) **[External Link]** <br/><br/>\n",
    "                * [INSERT-INTO](https://nbviewer.jupyter.org/github/SeanOhAileasa/adb-MySQL/blob/main/rc/data-database-types-relational-language-SQL-MySQL-_C_RUD-create-command-INSERT-INTO.ipynb) **[External Link]** <br/><br/>\n",
    "            * [CR_U_D-update-command](https://nbviewer.jupyter.org/github/SeanOhAileasa/adb-MySQL/blob/main/rc/data-database-types-relational-language-SQL-MySQL-CR_U_D-update-command-intentionally-blank.ipynb) **[External Link]** <br/><br/>\n",
    "                * [UPDATE-SET](https://nbviewer.jupyter.org/github/SeanOhAileasa/adb-MySQL/blob/main/rc/data-database-types-relational-language-SQL-MySQL-CR_U_D-update-command-UPDATE-SET.ipynb) **[External Link]** <br/><br/>\n",
    "            * [CRU_D_-delete-command](https://nbviewer.jupyter.org/github/SeanOhAileasa/adb-MySQL/blob/main/rc/data-database-types-relational-language-SQL-MySQL-CRU_D_-delete-command-intentionally-blank.ipynb) **[External Link]** <br/><br/>\n",
    "                * [DELETE](https://nbviewer.jupyter.org/github/SeanOhAileasa/adb-MySQL/blob/main/rc/data-database-types-relational-language-SQL-MySQL-CRU_D_-delete-command-DELETE.ipynb) **[External Link]** <br/><br/>\n",
    "                    * [foreign-key](https://nbviewer.jupyter.org/github/SeanOhAileasa/adb-MySQL/blob/main/rc/data-database-types-relational-language-SQL-MySQL-CRU_D_-delete-command-DELETE-foreign-key-intentionally-blank.ipynb)&nbsp;&nbsp;|&nbsp;&nbsp;[ON-DELETE-RESTRICT](https://nbviewer.jupyter.org/github/SeanOhAileasa/adb-MySQL/blob/main/rc/data-database-types-relational-language-SQL-MySQL-CRU_D_-delete-command-DELETE-foreign-key-ON-DELETE-RESTRICT.ipynb)&nbsp;&nbsp;|&nbsp;&nbsp;[ON-DELETE-CASCADE](https://nbviewer.jupyter.org/github/SeanOhAileasa/adb-MySQL/blob/main/rc/data-database-types-relational-language-SQL-MySQL-CRU_D_-delete-command-DELETE-foreign-key-ON-DELETE-CASCADE.ipynb)&nbsp;&nbsp;|&nbsp;&nbsp;[ON-DELETE-SET-NULL](https://nbviewer.jupyter.org/github/SeanOhAileasa/adb-MySQL/blob/main/rc/data-database-types-relational-language-SQL-MySQL-CRU_D_-delete-command-DELETE-foreign-key-ON-DELETE-SET-NULL.ipynb) **[External Link]** <br/><br/>\n",
    "        * [primary-key](https://nbviewer.jupyter.org/github/SeanOhAileasa/adb-MySQL/blob/main/rc/data-database-types-relational-language-SQL-MySQL-primary-key.ipynb) **[External Link]** <br/><br/>\n",
    "        * [function](https://nbviewer.jupyter.org/github/SeanOhAileasa/adb-MySQL/blob/main/rc/data-database-types-relational-language-SQL-MySQL-function.ipynb) **[External Link]** <br/><br/>\n",
    "            * [built-in](https://nbviewer.jupyter.org/github/SeanOhAileasa/adb-MySQL/blob/main/rc/data-database-types-relational-language-SQL-MySQL-function-built-in.ipynb) **[External Link]** <br/><br/>\n",
    "                * [string](https://nbviewer.jupyter.org/github/SeanOhAileasa/adb-MySQL/blob/main/rc/data-database-types-relational-language-SQL-MySQL-function-built-in-string-intentionally-blank.ipynb) **[External Link]** <br/><br/>\n",
    "                    * [UPPER](https://nbviewer.jupyter.org/github/SeanOhAileasa/adb-MySQL/blob/main/rc/data-database-types-relational-language-SQL-MySQL-function-built-in-string-UPPER.ipynb) **[External Link]** <br/><br/>\n",
    "                    * [STRCMP](https://nbviewer.jupyter.org/github/SeanOhAileasa/adb-MySQL/blob/main/rc/data-database-types-relational-language-SQL-MySQL-function-built-in-string-STRCMP.ipynb) **[External Link]** <br/><br/>\n",
    "                    * [ASCII](https://nbviewer.jupyter.org/github/SeanOhAileasa/adb-MySQL/blob/main/rc/data-database-types-relational-language-SQL-MySQL-function-built-in-string-ASCII.ipynb) **[External Link]** <br/><br/>\n",
    "                    * [REPLACE](https://nbviewer.jupyter.org/github/SeanOhAileasa/adb-MySQL/blob/main/rc/data-database-types-relational-language-SQL-MySQL-function-built-in-string-REPLACE.ipynb) **[External Link]** <br/><br/>\n",
    "                    * [SUBSTR](https://nbviewer.jupyter.org/github/SeanOhAileasa/adb-MySQL/blob/main/rc/data-database-types-relational-language-SQL-MySQL-function-built-in-string-SUBSTR.ipynb) **[External Link]** <br/><br/>\n",
    "                    * [CONCAT](https://nbviewer.jupyter.org/github/SeanOhAileasa/adb-MySQL/blob/main/rc/data-database-types-relational-language-SQL-MySQL-function-built-in-string-CONCAT.ipynb) **[External Link]** <br/><br/>\n",
    "                * [numeric](https://nbviewer.jupyter.org/github/SeanOhAileasa/adb-MySQL/blob/main/rc/data-database-types-relational-language-SQL-MySQL-function-built-in-numeric-intentionally-blank.ipynb) **[External Link]** <br/><br/>\n",
    "                    * [SQRT](https://nbviewer.jupyter.org/github/SeanOhAileasa/adb-MySQL/blob/main/rc/data-database-types-relational-language-SQL-MySQL-function-built-in-numeric-SQRT.ipynb) **[External Link]** <br/><br/>\n",
    "                    * [ROUND](https://nbviewer.jupyter.org/github/SeanOhAileasa/adb-MySQL/blob/main/rc/data-database-types-relational-language-SQL-MySQL-function-built-in-numeric-ROUND.ipynb) **[External Link]** <br/><br/>\n",
    "                * [date](https://nbviewer.jupyter.org/github/SeanOhAileasa/adb-MySQL/blob/main/rc/data-database-types-relational-language-SQL-MySQL-function-built-in-date-intentionally-blank.ipynb) **[External Link]** <br/><br/>\n",
    "                    * [DATEDIFF](https://nbviewer.jupyter.org/github/SeanOhAileasa/adb-MySQL/blob/main/rc/data-database-types-relational-language-SQL-MySQL-function-built-in-date-DATEDIFF.ipynb) **[External Link]** <br/><br/>\n",
    "                    * [DATE_FORMAT](https://nbviewer.jupyter.org/github/SeanOhAileasa/adb-MySQL/blob/main/rc/data-database-types-relational-language-SQL-MySQL-function-built-in-date-DATE_FORMAT.ipynb) **[External Link]** <br/><br/>\n",
    "                * [aggregate](https://nbviewer.jupyter.org/github/SeanOhAileasa/adb-MySQL/blob/main/rc/data-database-types-relational-language-SQL-MySQL-function-built-in-aggregate.ipynb) **[External Link]** <br/><br/>\n",
    "                    * [AVG](https://nbviewer.jupyter.org/github/SeanOhAileasa/adb-MySQL/blob/main/rc/data-database-types-relational-language-SQL-MySQL-function-built-in-aggregate-AVG.ipynb) **[External Link]** <br/><br/>\n",
    "                    * [COUNT](https://nbviewer.jupyter.org/github/SeanOhAileasa/adb-MySQL/blob/main/rc/data-database-types-relational-language-SQL-MySQL-function-built-in-aggregate-COUNT.ipynb) **[External Link]** <br/><br/>\n",
    "                * [clause](https://nbviewer.jupyter.org/github/SeanOhAileasa/adb-MySQL/blob/main/rc/data-database-types-relational-language-SQL-MySQL-function-built-in-aggregate-clause-intentionally-blank.ipynb) **[External Link]** <br/><br/>\n",
    "                    * [GROUP-BY](https://nbviewer.jupyter.org/github/SeanOhAileasa/adb-MySQL/blob/main/rc/data-database-types-relational-language-SQL-MySQL-function-built-in-aggregate-clause-GROUP-BY.ipynb) **[External Link]** <br/><br/>\n",
    "                        * [HAVING](https://nbviewer.jupyter.org/github/SeanOhAileasa/adb-MySQL/blob/main/rc/data-database-types-relational-language-SQL-MySQL-function-built-in-aggregate-clause-GROUP-BY-HAVING.ipynb) **[External Link]** <br/><br/>\n",
    "                * [information](https://nbviewer.jupyter.org/github/SeanOhAileasa/adb-MySQL/blob/main/rc/data-database-types-relational-language-SQL-MySQL-function-built-in-information-intentionally-blank.ipynb) **[External Link]** <br/><br/>\n",
    "                    * [DATABASE](https://nbviewer.jupyter.org/github/SeanOhAileasa/adb-MySQL/blob/main/rc/data-database-types-relational-language-SQL-MySQL-function-built-in-information-DATABASE.ipynb) **[External Link]** <br/><br/>\n",
    "                    * [USER](https://nbviewer.jupyter.org/github/SeanOhAileasa/adb-MySQL/blob/main/rc/data-database-types-relational-language-SQL-MySQL-function-built-in-information-USER.ipynb) **[External Link]** <br/><br/>\n",
    "                * [control-flow](https://nbviewer.jupyter.org/github/SeanOhAileasa/adb-MySQL/blob/main/rc/data-database-types-relational-language-SQL-MySQL-function-built-in-control-flow.ipynb) **[External Link]** <br/><br/>\n",
    "                    * [conditional](https://nbviewer.jupyter.org/github/SeanOhAileasa/adb-MySQL/blob/main/rc/data-database-types-relational-language-SQL-MySQL-function-built-in-control-flow-conditional.ipynb) **[External Link]** <br/><br/>\n",
    "                    * [CASE](https://nbviewer.jupyter.org/github/SeanOhAileasa/adb-MySQL/blob/main/rc/data-database-types-relational-language-SQL-MySQL-function-built-in-control-flow-CASE.ipynb) **[External Link]** <br/><br/>\n",
    "            * [stored-routine](https://nbviewer.jupyter.org/github/SeanOhAileasa/adb-MySQL/blob/main/rc/data-database-types-relational-language-SQL-MySQL-function-stored-routine.ipynb) **[External Link]** <br/><br/>\n",
    "                * [CREATE-FUNCTION](https://nbviewer.jupyter.org/github/SeanOhAileasa/adb-MySQL/blob/main/rc/data-database-types-relational-language-SQL-MySQL-function-stored-routine-CREATE-FUNCTION.ipynb) **[External Link]** <br/><br/>\n",
    "                * [information_schema](https://nbviewer.jupyter.org/github/SeanOhAileasa/adb-MySQL/blob/main/rc/data-database-types-relational-language-SQL-MySQL-function-stored-routine-information_schema.ipynb) **[External Link]** <br/><br/>\n",
    "                * [command](https://nbviewer.jupyter.org/github/SeanOhAileasa/adb-MySQL/blob/main/rc/data-database-types-relational-language-SQL-MySQL-function-stored-routine-command-intentionally-blank.ipynb) **[External Link]** <br/><br/>\n",
    "                    * [SHOW-CREATE-FUNCTION](https://nbviewer.jupyter.org/github/SeanOhAileasa/adb-MySQL/blob/main/rc/data-database-types-relational-language-SQL-MySQL-function-stored-routine-command-SHOW-CREATE-FUNCTION.ipynb) **[External Link]** <br/><br/>\n",
    "                    * [DROP](https://nbviewer.jupyter.org/github/SeanOhAileasa/adb-MySQL/blob/main/rc/data-database-types-relational-language-SQL-MySQL-function-stored-routine-command-DROP.ipynb) **[External Link]** <br/><br/>\n",
    "                * [stored-procedure](https://nbviewer.jupyter.org/github/SeanOhAileasa/adb-MySQL/blob/main/rc/data-database-types-relational-language-SQL-MySQL-function-stored-procedure.ipynb) **[External Link]** <br/><br/>\n",
    "                    * [CREATE-PROCEDURE](https://nbviewer.jupyter.org/github/SeanOhAileasa/adb-MySQL/blob/main/rc/data-database-types-relational-language-SQL-MySQL-function-stored-procedures-CREATE-PROCEDURE.ipynb) **[External Link]** <br/><br/>\n",
    "                    * [information_schema](https://nbviewer.jupyter.org/github/SeanOhAileasa/adb-MySQL/blob/main/rc/data-database-types-relational-language-SQL-MySQL-function-stored-procedures-information_schema.ipynb) **[External Link]** <br/><br/>\n",
    "                        * [command](https://nbviewer.jupyter.org/github/SeanOhAileasa/adb-MySQL/blob/main/rc/data-database-types-relational-language-SQL-MySQL-function-stored-procedures-command-intentionally-blank.ipynb)&nbsp;&nbsp;|&nbsp;&nbsp;[SHOW-CREATE-PROCEDURE](https://nbviewer.jupyter.org/github/SeanOhAileasa/adb-MySQL/blob/main/rc/data-database-types-relational-language-SQL-MySQL-function-stored-procedures-command-SHOW-CREATE-PROCEDURE.ipynb)&nbsp;&nbsp;|&nbsp;&nbsp;[DROP](https://nbviewer.jupyter.org/github/SeanOhAileasa/adb-MySQL/blob/main/rc/data-database-types-relational-language-SQL-MySQL-function-stored-procedures-command-DROP.ipynb) **[External Link]**"
   ]
  },
  {
   "cell_type": "markdown",
   "id": "aa5ca078",
   "metadata": {},
   "source": [
    "***\n",
    "## END"
   ]
  },
  {
   "cell_type": "markdown",
   "id": "7ed39de7",
   "metadata": {},
   "source": [
    "< [Table of Contents](#top) | [References](#references) >\n",
    "<a id=\"datarep\"></a>\n",
    "## Data Representation\n",
    "***"
   ]
  },
  {
   "cell_type": "markdown",
   "id": "6d105248",
   "metadata": {},
   "source": [
    "Course material for the ``Data Representation`` module (5 Credits) of the ``Higher Diploma in Science in Computing (Data Analytics) (H.Dip)`` programme (75 Credits) at **Galway-Mayo Institute of Technology (GMIT)**."
   ]
  },
  {
   "cell_type": "markdown",
   "id": "e6e99932",
   "metadata": {},
   "source": [
    "### [Connect MySQL - Python](#connectMySQLPython)\n",
    "***\n",
    "\n",
    "* [InfoSec](#security) <br/><br/>\n",
    "    * [Credentials](#credentials) <br/><br/>\n",
    "        * [``getpass``](#credentialsgetpass) <br/><br/>\n",
    "        * [``os``](#credentialsEnvironmentVariables) <br/><br/>\n",
    "            * [``environ``](#credentialsEnvironmentVariablesos)&nbsp;&nbsp;|&nbsp;&nbsp;[``get``](#credentialsEnvironmentVariablesos) <br/><br/>\n",
    "                * [``Linux``](#credentialsEnvironmentVariablesLinux)&nbsp;&nbsp;|&nbsp;&nbsp;[``Windows``](#credentialsEnvironmentVariablesWindows) <br/><br/>\n",
    "    * [SQL Injection](#sqlInjection) <br/><br/>\n",
    "        * [CreateRUD](#createRUD) <br/><br/>\n",
    "* [Server](#server) <br/><br/>\n",
    "    * [``WAMP``](#serverWAMP)&nbsp;&nbsp;|&nbsp;&nbsp;[Dependencies](#wampserverDependencies) <br/><br/>\n",
    "        * [``localhost:3306``](#serverWAMPservices) <br/><br/>\n",
    "* [Driver](#driver) <br/><br/>\n",
    "    * [``mysql.connector``](#mysqlconnector) <br/><br/>\n",
    "        * &#8594; ``obj``: <br/><br/>    \n",
    "            * [``connect``](#mysqlconnectorconnect)&nbsp;&nbsp;|&nbsp;&nbsp;[``:host``](#mysqlconnectorconnect)&nbsp;&nbsp;|&nbsp;&nbsp;[``:user``](#mysqlconnectorconnect)&nbsp;&nbsp;|&nbsp;&nbsp;[``:password``](#mysqlconnectorconnect)&nbsp;&nbsp;|&nbsp;&nbsp;[``:database``](#mysqlconnectorconnect) <br/><br/> \n",
    "        * [``errors``](#mysqlconnectorerrors) <br/><br/>\n",
    "            * [``Error``](#mysqlconnectorError) (&#8594; InfoSec &#8594; Credentials &#8594; ``getpass``) <br/><br/>\n",
    "        * [``cursor``](#mysqlconnectorMySQLCursorcursor)&nbsp;&nbsp;|&nbsp;&nbsp;[``execute``](#mysqlconnectorMySQLCursorcursor) (&#8594; Driver &#8594; ``mysql.connector`` &#8594; ``obj`` &#8594; ``connect``) <br/><br/>\n",
    "            * [``fetchall``](#mysqlconnectorMySQLCursorfetchall) <br/><br/>\n",
    "                * [CReadUD](#mysqlconnectorMySQLCursorfetchallCReadUD) <br/><br/>\n",
    "            * [``commit``](#mysqlconnectorMySQLCursorcommit) <br/><br/> \n",
    "                * [CRUpdateD](#mysqlconnectorMySQLCursorcommitCRUpdateD) <br/><br/> \n",
    "                * [CRUDelete](#mysqlconnectorMySQLCursorcommitCRUDelete) <br/><br/>\n",
    "        * [``DAO``](#dataaccessobject) <br/><br/>\n",
    "            * [``CStudentDAO``](#CStudentDAO) <br/><br/>\n",
    "                * [C](#CStudentDAOcreateRUD) (&#8594; InfoSec &#8594; SQL Injection &#8594; CreateRUD) <br/><br/>\n",
    "                * [R](#CStudentDAOcReadUD) (&#8594; Driver &#8594; ``mysql.connector`` &#8594; ``cursor`` &#8594; ``fetchall`` &#8594; CReadUD) <br/><br/>\n",
    "                    * [``fetchone``](#CStudentDAOcReadUDfetchone) <br/><br/>\n",
    "                * [U](#CStudentDAOCRUpdateD) (&#8594; Driver &#8594; ``mysql.connector`` &#8594; ``cursor`` &#8594; ``commit`` &#8594; CRUpdateD) <br/><br/>\n",
    "                * [D](#CStudentDAOCRUDelete) (&#8594; Driver &#8594; ``mysql.connector`` &#8594; ``cursor`` &#8594; ``commit`` &#8594; CRUDelete) <br/><br/>\n",
    "            * [Instantiation](#dataaccessobjectInstantiation) [C](#dataaccessobjectInstantiationC)&nbsp;&nbsp;|&nbsp;&nbsp;[R](#dataaccessobjectInstantiationR)&nbsp;&nbsp;|&nbsp;&nbsp;[U](#dataaccessobjectInstantiationU)&nbsp;&nbsp;|&nbsp;&nbsp;[D](#dataaccessobjectInstantiationD) <br/><br/>\n",
    "                * [Test](#dataaccessobjectInstantiationTest)"
   ]
  },
  {
   "cell_type": "markdown",
   "id": "6338d5ad",
   "metadata": {},
   "source": [
    "< [Table of Contents](#top) | [References](#references) >\n",
    "<a id=\"connectMySQLPython\"></a>\n",
    "***\n",
    "### Connect MySQL - Python\n",
    "***"
   ]
  },
  {
   "cell_type": "code",
   "execution_count": null,
   "id": "e8d7be9c",
   "metadata": {},
   "outputs": [],
   "source": [
    "# fFile(nParPath=\"./hide/drp/DR9.01 databases - 28-11-2019.mp4\")\n",
    "# fFile(nParPath=\"./hide/drp/DR9.01 databases.pptx\")\n",
    "# fFile(nParPath=\"./hide/drp/Lab09.01 databases.pdf\")"
   ]
  },
  {
   "cell_type": "markdown",
   "id": "697c8601",
   "metadata": {},
   "source": [
    "- integrate ``MySQL`` database with an application [2]"
   ]
  },
  {
   "cell_type": "markdown",
   "id": "b507a66e",
   "metadata": {},
   "source": [
    "< [Table of Contents](#top) | [References](#references) >\n",
    "<a id=\"security\"></a>\n",
    "***\n",
    "### InfoSec\n",
    "***"
   ]
  },
  {
   "cell_type": "markdown",
   "id": "d3e22f15",
   "metadata": {},
   "source": [
    "&#x1F6A7;"
   ]
  },
  {
   "cell_type": "markdown",
   "id": "44fcceba",
   "metadata": {},
   "source": [
    "< [Table of Contents](#top) | [References](#references) >\n",
    "<a id=\"credentials\"></a>\n",
    "***\n",
    "###### Credentials\n",
    "***"
   ]
  },
  {
   "cell_type": "markdown",
   "id": "69ad367a",
   "metadata": {},
   "source": [
    "- should never hard-code login credentials [2][[Uber](https://web.archive.org/web/20210902085724/https://qz.com/674520/companies-are-sharing-their-secret-access-codes-on-github-and-they-may-not-even-know-it/)]"
   ]
  },
  {
   "cell_type": "markdown",
   "id": "d49ca8a0",
   "metadata": {},
   "source": [
    "< [Table of Contents](#top) | [References](#references) >\n",
    "<a id=\"credentialsgetpass\"></a>\n",
    "***\n",
    "###### ``getpass``\n",
    "***"
   ]
  },
  {
   "cell_type": "markdown",
   "id": "400869ee",
   "metadata": {},
   "source": [
    "- built-in module ``getpass`` module hides the password [2]"
   ]
  },
  {
   "cell_type": "code",
   "execution_count": 1,
   "id": "8150f373",
   "metadata": {},
   "outputs": [],
   "source": [
    "from getpass import getpass"
   ]
  },
  {
   "cell_type": "code",
   "execution_count": 2,
   "id": "a02b5eea",
   "metadata": {},
   "outputs": [],
   "source": [
    "exit()"
   ]
  },
  {
   "cell_type": "markdown",
   "id": "ed3dc1c0",
   "metadata": {},
   "source": [
    "< [Table of Contents](#top) | [References](#references) >\n",
    "<a id=\"credentialsEnvironmentVariables\"></a>\n",
    "***\n",
    "###### ``os``\n",
    "***"
   ]
  },
  {
   "cell_type": "markdown",
   "id": "5c9e2d0d",
   "metadata": {},
   "source": [
    "- while the use of the built-in module ``getpass`` to hide the password is better than hard-coding a more secure approach is to store sensitive information using environment variables [2]"
   ]
  },
  {
   "cell_type": "code",
   "execution_count": 1,
   "id": "9dfe2e5e",
   "metadata": {},
   "outputs": [],
   "source": [
    "import os"
   ]
  },
  {
   "cell_type": "code",
   "execution_count": 2,
   "id": "44c74f80",
   "metadata": {},
   "outputs": [],
   "source": [
    "exit()"
   ]
  },
  {
   "cell_type": "markdown",
   "id": "3ea13fcf",
   "metadata": {},
   "source": [
    "< [Table of Contents](#top) | [References](#references) >\n",
    "<a id=\"credentialsEnvironmentVariablesos\"></a>\n",
    "***\n",
    "###### ``environ`` ``get``\n",
    "***"
   ]
  },
  {
   "cell_type": "code",
   "execution_count": 1,
   "id": "fbdcf330",
   "metadata": {},
   "outputs": [],
   "source": [
    "from os import environ"
   ]
  },
  {
   "cell_type": "markdown",
   "id": "d37b0a2a",
   "metadata": {},
   "source": [
    "< [Table of Contents](#top) | [References](#references) >\n",
    "<a id=\"credentialsEnvironmentVariablesLinux\"></a>\n",
    "***\n",
    "###### ``Linux``\n",
    "***"
   ]
  },
  {
   "cell_type": "markdown",
   "id": "acc9f06b",
   "metadata": {},
   "source": [
    "- edit ``.bash_profile`` [2]"
   ]
  },
  {
   "cell_type": "markdown",
   "id": "c5561c75",
   "metadata": {},
   "source": [
    "- add (sensitive) environment variables [2]\n",
    "\n",
    "```\n",
    "export DB_USER=\"someUser\"\n",
    "export DB_PASS=\"somePassword\"\n",
    "```"
   ]
  },
  {
   "cell_type": "markdown",
   "id": "6da8ddfa",
   "metadata": {},
   "source": [
    "- ``environ`` (returns a ``dict``) allows access to the ``key`` (``DB_USER`` or ``DB_PASS``) via ``get`` and returns the ``value`` [2]\n",
    "\n",
    "```\n",
    "nUser=os.environ.get(\"DB_USER\")\n",
    "nPass=os.environ.get(\"DB_USER\")\n",
    "```"
   ]
  },
  {
   "cell_type": "markdown",
   "id": "c32fa324",
   "metadata": {},
   "source": [
    "< [Table of Contents](#top) | [References](#references) >\n",
    "<a id=\"credentialsEnvironmentVariablesWindows\"></a>\n",
    "***\n",
    "###### ``Windows``\n",
    "***"
   ]
  },
  {
   "cell_type": "markdown",
   "id": "4423c532",
   "metadata": {},
   "source": [
    "- within ``System`` (``Advanced system settings``) via ``Environment Variables`` add ``User variables`` [2]"
   ]
  },
  {
   "cell_type": "code",
   "execution_count": 2,
   "id": "5accf21e",
   "metadata": {},
   "outputs": [],
   "source": [
    "exit()"
   ]
  },
  {
   "cell_type": "markdown",
   "id": "df77f9f6",
   "metadata": {},
   "source": [
    "< [Table of Contents](#top) | [References](#references) >\n",
    "<a id=\"sqlInjection\"></a>\n",
    "***\n",
    "###### SQL Injection\n",
    "***"
   ]
  },
  {
   "cell_type": "markdown",
   "id": "bbf32a94",
   "metadata": {},
   "source": [
    "- to prevent SQL injection should not pass in any values from a user [2]"
   ]
  },
  {
   "cell_type": "markdown",
   "id": "288f3cce",
   "metadata": {},
   "source": [
    "- using ``%s`` the values from the user are passed in as a ``tuple`` (calling ``execute`` the values are passed in as a variable) [2]"
   ]
  },
  {
   "cell_type": "markdown",
   "id": "9c2d98b1",
   "metadata": {},
   "source": [
    "< [Table of Contents](#top) | [References](#references) >\n",
    "<a id=\"createRUD\"></a>\n",
    "***\n",
    "###### CreateRUD\n",
    "***"
   ]
  },
  {
   "cell_type": "code",
   "execution_count": 1,
   "id": "6fea653f",
   "metadata": {},
   "outputs": [
    {
     "data": {
      "text/plain": [
       "tuple"
      ]
     },
     "execution_count": 1,
     "metadata": {},
     "output_type": "execute_result"
    }
   ],
   "source": [
    "nValues=\"Mary\",21 # value from user\n",
    "type(nValues)"
   ]
  },
  {
   "cell_type": "code",
   "execution_count": 2,
   "id": "8381db9c",
   "metadata": {},
   "outputs": [],
   "source": [
    "from mysql.connector import connect"
   ]
  },
  {
   "cell_type": "code",
   "execution_count": 3,
   "id": "393741e3",
   "metadata": {},
   "outputs": [],
   "source": [
    "nObjMySQLConnection=connect(host=\"localhost\",user=\"root\",password=\"\",database=\"data_representation\") # establish a connection"
   ]
  },
  {
   "cell_type": "code",
   "execution_count": 4,
   "id": "08590f86",
   "metadata": {},
   "outputs": [],
   "source": [
    "nInsObjCursor=nObjMySQLConnection.cursor() # traveral over records"
   ]
  },
  {
   "cell_type": "code",
   "execution_count": 5,
   "id": "39ca91ce",
   "metadata": {},
   "outputs": [],
   "source": [
    "sqlQuery=\"INSERT INTO student (firstname,age) VALUES (%s,%s)\""
   ]
  },
  {
   "cell_type": "code",
   "execution_count": 6,
   "id": "19582d9c",
   "metadata": {},
   "outputs": [],
   "source": [
    "nInsObjCursor.execute(sqlQuery,nValues)"
   ]
  },
  {
   "cell_type": "code",
   "execution_count": 7,
   "id": "9dddc3f2",
   "metadata": {},
   "outputs": [
    {
     "name": "stdout",
     "output_type": "stream",
     "text": [
      "x1 record inserted, ID:  1\n"
     ]
    }
   ],
   "source": [
    "nObjMySQLConnection.commit() # commit current transaction\n",
    "print(\"x1 record inserted, ID: \",nInsObjCursor.lastrowid)"
   ]
  },
  {
   "cell_type": "code",
   "execution_count": 8,
   "id": "7f3e8dae",
   "metadata": {},
   "outputs": [
    {
     "name": "stdout",
     "output_type": "stream",
     "text": [
      "x1 record inserted, ID:  2\n"
     ]
    }
   ],
   "source": [
    "nInsObjCursor.execute(\"INSERT INTO student (firstname,age) VALUES (%s,%s)\",(\"Joe\",55))\n",
    "nObjMySQLConnection.commit() # commit current transaction\n",
    "print(\"x1 record inserted, ID: \",nInsObjCursor.lastrowid)"
   ]
  },
  {
   "cell_type": "code",
   "execution_count": 9,
   "id": "dd72f78a",
   "metadata": {},
   "outputs": [],
   "source": [
    "exit()"
   ]
  },
  {
   "cell_type": "markdown",
   "id": "7bb01d57",
   "metadata": {},
   "source": [
    "< [Table of Contents](#top) | [References](#references) >\n",
    "<a id=\"server\"></a>\n",
    "***\n",
    "### Server\n",
    "***"
   ]
  },
  {
   "cell_type": "markdown",
   "id": "5b6efec8",
   "metadata": {},
   "source": [
    "&#x1F6A7;"
   ]
  },
  {
   "cell_type": "markdown",
   "id": "f0afa93c",
   "metadata": {},
   "source": [
    "< [Table of Contents](#top) | [References](#references) >\n",
    "<a id=\"serverWAMP\"></a>\n",
    "***\n",
    "###### ``WAMP``\n",
    "***"
   ]
  },
  {
   "cell_type": "markdown",
   "id": "f952e42d",
   "metadata": {},
   "source": [
    "- install ``Windows Apache MySQL and PHP`` ([``WAMP``](https://www.wampserver.com/en/download-wampserver-64bits/)) [2]"
   ]
  },
  {
   "cell_type": "markdown",
   "id": "96459026",
   "metadata": {},
   "source": [
    "< [Table of Contents](#top) | [References](#references) >\n",
    "<a id=\"wampserverDependencies\"></a>\n",
    "***\n",
    "######  Dependencies\n",
    "***"
   ]
  },
  {
   "cell_type": "markdown",
   "id": "c9261578",
   "metadata": {},
   "source": [
    "- may need to install [[Microsoft Visual C++ Redistributable for Visual Studio](https://www.microsoft.com/en-us/download/details.aspx?id=30679)] [1]"
   ]
  },
  {
   "cell_type": "markdown",
   "id": "511b8529",
   "metadata": {},
   "source": [
    "- may need to install Microsoft C++ dynamic-link library (``msvcr120.dll``) file (same version as ``WAMP``) [2]"
   ]
  },
  {
   "cell_type": "markdown",
   "id": "9ebe9276",
   "metadata": {},
   "source": [
    "< [Table of Contents](#top) | [References](#references) >\n",
    "<a id=\"serverWAMPservices\"></a>\n",
    "***\n",
    "###### ``localhost:3306``\n",
    "***"
   ]
  },
  {
   "cell_type": "markdown",
   "id": "8522615a",
   "metadata": {},
   "source": [
    "- kill process using port ``3306`` via command prompt as administrator\n",
    "\n",
    "```\n",
    "netstat -ano | findstr :3306\n",
    "```\n",
    "\n",
    "```\n",
    "taskkill /PID ____ /F\n",
    "```"
   ]
  },
  {
   "cell_type": "markdown",
   "id": "9144a58c",
   "metadata": {},
   "source": [
    "< [Table of Contents](#top) | [References](#references) >\n",
    "<a id=\"driver\"></a>\n",
    "***\n",
    "###  Driver\n",
    "***"
   ]
  },
  {
   "cell_type": "markdown",
   "id": "3190339b",
   "metadata": {},
   "source": [
    "- connect and interact with database system [2]"
   ]
  },
  {
   "cell_type": "markdown",
   "id": "e4a0a752",
   "metadata": {},
   "source": [
    "< [Table of Contents](#top) | [References](#references) >\n",
    "<a id=\"mysqlconnector\"></a>\n",
    "***\n",
    "###### ``mysql.connector``\n",
    "***"
   ]
  },
  {
   "cell_type": "code",
   "execution_count": null,
   "id": "01fe8e93",
   "metadata": {},
   "outputs": [],
   "source": [
    "# fFile(nParPath=\"./hide/drp/DR09.02 python and DB - 28-11-2019.mp4\")\n",
    "# fFile(nParPath=\"./hide/drp/DR09.02 python and SQL.pptx\")\n",
    "# fFile(nParPath=\"./hide/drp/Lab09.02 python and databases.pdf\")"
   ]
  },
  {
   "cell_type": "code",
   "execution_count": 1,
   "id": "113586fa",
   "metadata": {},
   "outputs": [],
   "source": [
    "import mysql.connector"
   ]
  },
  {
   "cell_type": "code",
   "execution_count": 2,
   "id": "0d95f71c",
   "metadata": {},
   "outputs": [
    {
     "name": "stdout",
     "output_type": "stream",
     "text": [
      "\n",
      "MySQL Connector/Python - MySQL driver written in Python\n",
      "\n"
     ]
    }
   ],
   "source": [
    "print(mysql.connector.__doc__)"
   ]
  },
  {
   "cell_type": "code",
   "execution_count": 3,
   "id": "4eb645c2",
   "metadata": {},
   "outputs": [],
   "source": [
    "exit()"
   ]
  },
  {
   "cell_type": "markdown",
   "id": "f0e22b28",
   "metadata": {},
   "source": [
    "< [Table of Contents](#top) | [References](#references) >\n",
    "<a id=\"mysqlconnectorconnect\"></a>\n",
    "*** \n",
    "###### ``connect`` ``:host`` ``:user`` ``:password`` ``:database``\n",
    "***"
   ]
  },
  {
   "cell_type": "markdown",
   "id": "09c60181",
   "metadata": {},
   "source": [
    "- establish a connection [1]"
   ]
  },
  {
   "cell_type": "code",
   "execution_count": 1,
   "id": "77023182",
   "metadata": {},
   "outputs": [],
   "source": [
    "# from mysql.connector import connect"
   ]
  },
  {
   "cell_type": "code",
   "execution_count": 2,
   "id": "48111aee",
   "metadata": {},
   "outputs": [],
   "source": [
    "# nObjMySQLConnection=connect(host=\"localhost\",user=\"root\",password=\"\",database=\"datarep\") \n",
    "# mysql> DROP DATABASE datarep;"
   ]
  },
  {
   "cell_type": "code",
   "execution_count": 3,
   "id": "dcd7aa0e",
   "metadata": {},
   "outputs": [],
   "source": [
    "exit()"
   ]
  },
  {
   "cell_type": "markdown",
   "id": "08dba7b3",
   "metadata": {},
   "source": [
    "< [Table of Contents](#top) | [References](#references) >\n",
    "<a id=\"mysqlconnectorerrors\"></a>\n",
    "*** \n",
    "###### ``errors`` \n",
    "***"
   ]
  },
  {
   "cell_type": "code",
   "execution_count": 1,
   "id": "0f2d3608",
   "metadata": {},
   "outputs": [],
   "source": [
    "from mysql.connector import errors"
   ]
  },
  {
   "cell_type": "code",
   "execution_count": 2,
   "id": "1920dbce",
   "metadata": {},
   "outputs": [
    {
     "name": "stdout",
     "output_type": "stream",
     "text": [
      "Python exceptions\n",
      "\n"
     ]
    }
   ],
   "source": [
    "print(errors.__doc__)"
   ]
  },
  {
   "cell_type": "code",
   "execution_count": 3,
   "id": "e12ec92e",
   "metadata": {},
   "outputs": [],
   "source": [
    "exit()"
   ]
  },
  {
   "cell_type": "markdown",
   "id": "0eb2bfc5",
   "metadata": {},
   "source": [
    "< [Table of Contents](#top) | [References](#references) >\n",
    "<a id=\"mysqlconnectorerror\"></a>\n",
    "*** \n",
    "###### ``Error`` \n",
    "***"
   ]
  },
  {
   "cell_type": "code",
   "execution_count": 1,
   "id": "88846f30",
   "metadata": {},
   "outputs": [],
   "source": [
    "from mysql.connector import connect"
   ]
  },
  {
   "cell_type": "markdown",
   "id": "7c34edf8",
   "metadata": {},
   "source": [
    "- built-in ``getpass`` module hides the password [2]"
   ]
  },
  {
   "cell_type": "code",
   "execution_count": 2,
   "id": "ee20c03e",
   "metadata": {},
   "outputs": [],
   "source": [
    "from getpass import getpass"
   ]
  },
  {
   "cell_type": "code",
   "execution_count": 3,
   "id": "f2206c11",
   "metadata": {},
   "outputs": [],
   "source": [
    "from mysql.connector.errors import Error"
   ]
  },
  {
   "cell_type": "markdown",
   "id": "afd21c28",
   "metadata": {},
   "source": [
    "- context manager using ``with`` abstracts away the connection cleanup process (and other system resources such as files or locks) [2]"
   ]
  },
  {
   "cell_type": "code",
   "execution_count": 4,
   "id": "6dac91cc",
   "metadata": {},
   "outputs": [
    {
     "name": "stdout",
     "output_type": "stream",
     "text": [
      "enter username: notUSER\n",
      "enter password: ········\n",
      "1045 (28000): Access denied for user 'notUSER'@'localhost' (using password: YES)\n"
     ]
    }
   ],
   "source": [
    "try:\n",
    "    with connect(host=\"localhost\",user=input(\"enter username: \"),password=getpass(\"enter password: \")) as nObjMySQLConnection:\n",
    "        print(nObjMySQLConnection)\n",
    "except Error as e:\n",
    "    print(e)"
   ]
  },
  {
   "cell_type": "code",
   "execution_count": 5,
   "id": "385d8268",
   "metadata": {},
   "outputs": [],
   "source": [
    "exit()"
   ]
  },
  {
   "cell_type": "markdown",
   "id": "8b2084e2",
   "metadata": {},
   "source": [
    "< [Table of Contents](#top) | [References](#references) >\n",
    "<a id=\"mysqlconnectorMySQLCursorcursor\"></a>\n",
    "*** \n",
    "###### ``cursor`` ``execute``\n",
    "***"
   ]
  },
  {
   "cell_type": "markdown",
   "id": "5cc857b7",
   "metadata": {},
   "source": [
    "- a database ``cursor`` is a mechanism that enables traveral over records in a database (akin to the concept of ``iterator`` that enables traveral over a container particularly ``lists``) [2]"
   ]
  },
  {
   "cell_type": "markdown",
   "id": "ed457368",
   "metadata": {},
   "source": [
    "- executing an ``sqlQuery`` using a ``cursor`` abstracts away the access to database records [2]"
   ]
  },
  {
   "cell_type": "markdown",
   "id": "e4e45e91",
   "metadata": {},
   "source": [
    "- creating a database ``data_representation`` using a python script (usually create the database and tables on the server and not through python) [3]"
   ]
  },
  {
   "cell_type": "code",
   "execution_count": 1,
   "id": "c645f28c",
   "metadata": {},
   "outputs": [],
   "source": [
    "sqlCreateDatabase=\"CREATE DATABASE data_representation\" # not usually done"
   ]
  },
  {
   "cell_type": "code",
   "execution_count": 2,
   "id": "bbf08187",
   "metadata": {},
   "outputs": [],
   "source": [
    "from mysql.connector import connect\n",
    "from getpass import getpass\n",
    "from mysql.connector.errors import Error"
   ]
  },
  {
   "cell_type": "markdown",
   "id": "2134483d",
   "metadata": {},
   "source": [
    "- the ``MySQLCursor`` class instantiates an object (``nInsObjCursor``) that can execute SQL queries [2]"
   ]
  },
  {
   "cell_type": "markdown",
   "id": "03231cd6",
   "metadata": {},
   "source": [
    "- a query that needs to be executed is sent in a string format to ``nInsObjCursor.execute`` [2]"
   ]
  },
  {
   "cell_type": "code",
   "execution_count": 3,
   "id": "ca841399",
   "metadata": {
    "scrolled": true
   },
   "outputs": [
    {
     "name": "stdout",
     "output_type": "stream",
     "text": [
      "enter username: root\n",
      "enter password: ········\n",
      "('information_schema',)\n",
      "('data_representation',)\n",
      "('mysql',)\n",
      "('performance_schema',)\n",
      "('sys',)\n"
     ]
    }
   ],
   "source": [
    "try:\n",
    "    with connect(host=\"localhost\",user=input(\"enter username: \"),password=getpass(\"enter password: \")) as nObjMySQLConnection:\n",
    "        with nObjMySQLConnection.cursor() as nInsObjCursor: # traveral over records\n",
    "            nInsObjCursor.execute(sqlCreateDatabase) # abstracts away access\n",
    "            nInsObjCursor.execute(\"show databases\") # verify MySQL server          \n",
    "            for db in nInsObjCursor:\n",
    "                print(db)\n",
    "except Error as e:\n",
    "    print(e)   "
   ]
  },
  {
   "cell_type": "code",
   "execution_count": 4,
   "id": "dfc0f2f9",
   "metadata": {},
   "outputs": [],
   "source": [
    "sqlCreateTable=\"CREATE TABLE student(id INT NOT NULL AUTO_INCREMENT,firstname VARCHAR(255),age INT,PRIMARY KEY(id))\" # create table student"
   ]
  },
  {
   "cell_type": "code",
   "execution_count": 5,
   "id": "da81f37a",
   "metadata": {},
   "outputs": [
    {
     "name": "stdout",
     "output_type": "stream",
     "text": [
      "('student',)\n"
     ]
    }
   ],
   "source": [
    "nObjMySQLConnection=connect(host=\"localhost\",user=\"root\",password=\"\",database=\"data_representation\") # use database created\n",
    "nInsObjCursor=nObjMySQLConnection.cursor() # traveral over records\n",
    "nInsObjCursor.execute(sqlCreateTable)\n",
    "nInsObjCursor.execute(\"show tables\")\n",
    "for tables in nInsObjCursor:\n",
    "    print(tables)"
   ]
  },
  {
   "cell_type": "code",
   "execution_count": 6,
   "id": "5206d7e9",
   "metadata": {},
   "outputs": [],
   "source": [
    "exit()"
   ]
  },
  {
   "cell_type": "markdown",
   "id": "a985c92a",
   "metadata": {},
   "source": [
    "< [Table of Contents](#top) | [References](#references) >\n",
    "<a id=\"mysqlconnectorMySQLCursorfetchall\"></a>\n",
    "*** \n",
    "###### ``fetchall``\n",
    "***"
   ]
  },
  {
   "cell_type": "markdown",
   "id": "bed72ead",
   "metadata": {},
   "source": [
    "- return all rows (``list`` of ``tuple``) [3]"
   ]
  },
  {
   "cell_type": "markdown",
   "id": "cc9bfeb6",
   "metadata": {},
   "source": [
    "< [Table of Contents](#top) | [References](#references) >\n",
    "<a id=\"mysqlconnectorMySQLCursorfetchallCReadUD\"></a>\n",
    "*** \n",
    "###### CReadUD\n",
    "***"
   ]
  },
  {
   "cell_type": "code",
   "execution_count": 1,
   "id": "0c1b4946",
   "metadata": {},
   "outputs": [],
   "source": [
    "from mysql.connector import connect"
   ]
  },
  {
   "cell_type": "code",
   "execution_count": 2,
   "id": "ade920b6",
   "metadata": {},
   "outputs": [],
   "source": [
    "nObjMySQLConnection=connect(host=\"localhost\",user=\"root\",password=\"\",database=\"data_representation\") # establish a connection"
   ]
  },
  {
   "cell_type": "code",
   "execution_count": 3,
   "id": "e8c40ba1",
   "metadata": {},
   "outputs": [],
   "source": [
    "nInsObjCursor=nObjMySQLConnection.cursor() # traveral over records"
   ]
  },
  {
   "cell_type": "code",
   "execution_count": 4,
   "id": "612d2150",
   "metadata": {},
   "outputs": [],
   "source": [
    "nInsObjCursor.execute(\"SELECT * FROM student\")"
   ]
  },
  {
   "cell_type": "code",
   "execution_count": 5,
   "id": "c3e5e519",
   "metadata": {},
   "outputs": [
    {
     "name": "stdout",
     "output_type": "stream",
     "text": [
      "(1, 'Mary', 21)\n",
      "(2, 'Joe', 55)\n"
     ]
    }
   ],
   "source": [
    "for i in nInsObjCursor.fetchall():\n",
    "    print(i)"
   ]
  },
  {
   "cell_type": "code",
   "execution_count": 6,
   "id": "add08a7b",
   "metadata": {},
   "outputs": [],
   "source": [
    "nInsObjCursor.execute(\"SELECT * FROM student WHERE id=%s\",(1,))"
   ]
  },
  {
   "cell_type": "code",
   "execution_count": 7,
   "id": "931ec0f4",
   "metadata": {},
   "outputs": [
    {
     "name": "stdout",
     "output_type": "stream",
     "text": [
      "(1, 'Mary', 21)\n"
     ]
    }
   ],
   "source": [
    "for i in nInsObjCursor.fetchall():\n",
    "    print(i)"
   ]
  },
  {
   "cell_type": "code",
   "execution_count": 8,
   "id": "7164b1d7",
   "metadata": {},
   "outputs": [],
   "source": [
    "exit()"
   ]
  },
  {
   "cell_type": "markdown",
   "id": "945d580f",
   "metadata": {},
   "source": [
    "< [Table of Contents](#top) | [References](#references) >\n",
    "<a id=\"mysqlconnectorMySQLCursorcommit\"></a>\n",
    "*** \n",
    "###### ``commit``\n",
    "***"
   ]
  },
  {
   "cell_type": "markdown",
   "id": "bb4d5310",
   "metadata": {},
   "source": [
    "- by default ``mysql.connector`` does not autocommit transactions - aways call method ``commit`` after every transaction to perform changes in the actual table [2]"
   ]
  },
  {
   "cell_type": "markdown",
   "id": "ff09f5c2",
   "metadata": {},
   "source": [
    "< [Table of Contents](#top) | [References](#references) >\n",
    "<a id=\"mysqlconnectorMySQLCursorcommitCRUpdateD\"></a>\n",
    "*** \n",
    "###### CRUpdateD\n",
    "***"
   ]
  },
  {
   "cell_type": "code",
   "execution_count": 1,
   "id": "58646c2c",
   "metadata": {},
   "outputs": [
    {
     "data": {
      "text/plain": [
       "tuple"
      ]
     },
     "execution_count": 1,
     "metadata": {},
     "output_type": "execute_result"
    }
   ],
   "source": [
    "nCorrect=\"Maryanne\",31,1\n",
    "type(nCorrect)"
   ]
  },
  {
   "cell_type": "code",
   "execution_count": 2,
   "id": "44be060a",
   "metadata": {},
   "outputs": [],
   "source": [
    "sqlQuery=\"UPDATE student SET firstname=%s,age=%s WHERE id=%s\""
   ]
  },
  {
   "cell_type": "code",
   "execution_count": 3,
   "id": "d7180c27",
   "metadata": {},
   "outputs": [],
   "source": [
    "from mysql.connector import connect"
   ]
  },
  {
   "cell_type": "code",
   "execution_count": 4,
   "id": "e02cd889",
   "metadata": {},
   "outputs": [],
   "source": [
    "nObjMySQLConnection=connect(host=\"localhost\",user=\"root\",password=\"\",database=\"data_representation\") # establish a connection"
   ]
  },
  {
   "cell_type": "code",
   "execution_count": 5,
   "id": "d6e44467",
   "metadata": {},
   "outputs": [],
   "source": [
    "nInsObjCursor=nObjMySQLConnection.cursor() # traveral over records"
   ]
  },
  {
   "cell_type": "code",
   "execution_count": 6,
   "id": "1a28b0bf",
   "metadata": {},
   "outputs": [],
   "source": [
    "nInsObjCursor.execute(sqlQuery,nCorrect)"
   ]
  },
  {
   "cell_type": "code",
   "execution_count": 7,
   "id": "134ec117",
   "metadata": {},
   "outputs": [],
   "source": [
    "nObjMySQLConnection.commit() # commit current transaction"
   ]
  },
  {
   "cell_type": "code",
   "execution_count": 8,
   "id": "b795f717",
   "metadata": {},
   "outputs": [],
   "source": [
    "exit()"
   ]
  },
  {
   "cell_type": "markdown",
   "id": "758b70ca",
   "metadata": {},
   "source": [
    "< [Table of Contents](#top) | [References](#references) >\n",
    "<a id=\"mysqlconnectorMySQLCursorcommitCRUDelete\"></a>\n",
    "*** \n",
    "###### CRUDelete\n",
    "***"
   ]
  },
  {
   "cell_type": "code",
   "execution_count": 1,
   "id": "0c061bb3",
   "metadata": {},
   "outputs": [],
   "source": [
    "nDeleteID=(1,) # delete Maryanne 31"
   ]
  },
  {
   "cell_type": "code",
   "execution_count": 2,
   "id": "b836be4a",
   "metadata": {},
   "outputs": [],
   "source": [
    "sqlQuery=\"DELETE FROM student WHERE id=%s\""
   ]
  },
  {
   "cell_type": "code",
   "execution_count": 3,
   "id": "451340bc",
   "metadata": {},
   "outputs": [],
   "source": [
    "from mysql.connector import connect"
   ]
  },
  {
   "cell_type": "code",
   "execution_count": 4,
   "id": "574e792e",
   "metadata": {},
   "outputs": [],
   "source": [
    "nObjMySQLConnection=connect(host=\"localhost\",user=\"root\",password=\"\",database=\"data_representation\") # establish a connection"
   ]
  },
  {
   "cell_type": "code",
   "execution_count": 5,
   "id": "4542dda2",
   "metadata": {},
   "outputs": [],
   "source": [
    "nInsObjCursor=nObjMySQLConnection.cursor() # traveral over records"
   ]
  },
  {
   "cell_type": "code",
   "execution_count": 6,
   "id": "04e92d5f",
   "metadata": {},
   "outputs": [],
   "source": [
    "nInsObjCursor.execute(sqlQuery,nDeleteID)"
   ]
  },
  {
   "cell_type": "code",
   "execution_count": 7,
   "id": "41fee884",
   "metadata": {},
   "outputs": [],
   "source": [
    "nObjMySQLConnection.commit() # commit current transaction"
   ]
  },
  {
   "cell_type": "code",
   "execution_count": 8,
   "id": "e9964228",
   "metadata": {},
   "outputs": [],
   "source": [
    "exit()"
   ]
  },
  {
   "cell_type": "markdown",
   "id": "5dbbfce6",
   "metadata": {},
   "source": [
    "< [Table of Contents](#top) | [References](#references) >\n",
    "<a id=\"dataaccessobject\"></a>\n",
    "*** \n",
    "###### ``DAO``\n",
    "***"
   ]
  },
  {
   "cell_type": "markdown",
   "id": "69fce22f",
   "metadata": {},
   "source": [
    "- data access object (``DAO``) is an abstract interface to some database [3]"
   ]
  },
  {
   "cell_type": "markdown",
   "id": "019fa4f4",
   "metadata": {},
   "source": [
    "< [Table of Contents](#top) | [References](#references) >\n",
    "<a id=\"CStudentDAO\"></a>\n",
    "*** \n",
    "###### ``CStudentDAO``\n",
    "***"
   ]
  },
  {
   "cell_type": "markdown",
   "id": "aa9c7359",
   "metadata": {},
   "source": [
    "- putting into a file (``./DAO/studentDAO.py``) so that it can be reused [3]"
   ]
  },
  {
   "cell_type": "code",
   "execution_count": 1,
   "id": "1519a928",
   "metadata": {
    "scrolled": true
   },
   "outputs": [
    {
     "name": "stdout",
     "output_type": "stream",
     "text": [
      "from mysql.connector import connect\r\n"
     ]
    }
   ],
   "source": [
    "%%script bash\n",
    "grep \"mysql.connector\" ./DAO/StudentDAO.py"
   ]
  },
  {
   "cell_type": "markdown",
   "id": "6e9d1bc7",
   "metadata": {},
   "source": [
    "- class ``CStudentDAO`` when initialised creates a database connection - instances of ``CStudentDAO`` can be import into another file (``flask``) [3]"
   ]
  },
  {
   "cell_type": "markdown",
   "id": "1b96d212",
   "metadata": {},
   "source": [
    "- ``class`` attribute ``nClsAttDB`` initially blank [3]"
   ]
  },
  {
   "cell_type": "code",
   "execution_count": 2,
   "id": "18a84c81",
   "metadata": {},
   "outputs": [
    {
     "name": "stdout",
     "output_type": "stream",
     "text": [
      "# define class - CStudentDAO\r\n",
      "class CStudentDAO: # blueprint state functionality\r\n",
      "\tnClsAttDB=\"\" # for all instances\r\n"
     ]
    }
   ],
   "source": [
    "%%script bash\n",
    "grep -1 \"class CStudent\" ./DAO/StudentDAO.py -A 1"
   ]
  },
  {
   "cell_type": "markdown",
   "id": "fac5a71c",
   "metadata": {},
   "source": [
    "- initialise ``CStudentDAO`` setting ``nClsAttDB`` to the established connection [3]"
   ]
  },
  {
   "cell_type": "markdown",
   "id": "d79d0922",
   "metadata": {},
   "source": [
    "- on a production server would: i) use a connection pool and; ii) not hard code ``connect`` parameters (``host`` and ``user`` and ``password`` and ``database``) given these change from machine to machine (instead read from a configuration file) [3]"
   ]
  },
  {
   "cell_type": "code",
   "execution_count": 3,
   "id": "3ce07f0c",
   "metadata": {
    "scrolled": true
   },
   "outputs": [
    {
     "name": "stdout",
     "output_type": "stream",
     "text": [
      "\tdef __init__(self): # initialise object state\r\n",
      "\t\t\"\"\" Using class attribute to create default value (state).\r\n",
      "\r\n",
      "\tInput: object itself (self)\r\n",
      "\tProcess: nClsAttDB\r\n",
      "\tOutput: called automatically when creating a new instance of CStudentDAO\r\n",
      "\t\"\"\"\r\n",
      "\t\tself.nClsAttDB=connect(host=\"localhost\",user=\"root\",password=\"\",database=\"data_representation\") # establish a connection\r\n"
     ]
    }
   ],
   "source": [
    "%%script bash\n",
    "grep -7 \"self.nClsAttDB=conn\" ./DAO/StudentDAO.py -A 0"
   ]
  },
  {
   "cell_type": "code",
   "execution_count": 4,
   "id": "8c360faf",
   "metadata": {},
   "outputs": [],
   "source": [
    "exit()"
   ]
  },
  {
   "cell_type": "markdown",
   "id": "eefcf92b",
   "metadata": {},
   "source": [
    "< [Table of Contents](#top) | [References](#references) >\n",
    "<a id=\"CStudentDAOcreateRUD\"></a>\n",
    "*** \n",
    "###### C\n",
    "***"
   ]
  },
  {
   "cell_type": "markdown",
   "id": "a2ccfe14",
   "metadata": {},
   "source": [
    "- create ``cursor`` from ``self.nClsAttDB`` [3]"
   ]
  },
  {
   "cell_type": "code",
   "execution_count": 1,
   "id": "026b7aef",
   "metadata": {
    "scrolled": true
   },
   "outputs": [
    {
     "name": "stdout",
     "output_type": "stream",
     "text": [
      "\tdef fInsMetCreate(self,nInsAttValues):\r\n",
      "\t\t\"\"\" Using the values (%s) from somewhere passed in as a tuple executing as a variable create record.\r\n",
      "\tInput: object itself (self); nInsAttValues\r\n",
      "\tProcess: nClsAttDB\r\n",
      "\tOutput: \r\n",
      "\t\"\"\"\t\t\r\n",
      "\t\tnInsObjCursor=self.nClsAttDB.cursor() # traveral over records\r\n",
      "\t\tsqlQuery=\"INSERT INTO student (firstname,age) VALUES (%s,%s)\"\r\n",
      "\t\tnInsObjCursor.execute(sqlQuery,nInsAttValues) # abstracts away access\r\n",
      "\t\tself.nClsAttDB.commit() # commit current transaction\r\n",
      "\t\treturn nInsObjCursor.lastrowid\r\n"
     ]
    }
   ],
   "source": [
    "%%script bash\n",
    "grep \"def fInsMetCreate\" ./DAO/StudentDAO.py -A 10"
   ]
  },
  {
   "cell_type": "code",
   "execution_count": 2,
   "id": "c54d037b",
   "metadata": {},
   "outputs": [],
   "source": [
    "exit()"
   ]
  },
  {
   "cell_type": "markdown",
   "id": "daf2849b",
   "metadata": {},
   "source": [
    "< [Table of Contents](#top) | [References](#references) >\n",
    "<a id=\"CStudentDAOcReadUD\"></a>\n",
    "*** \n",
    "###### R\n",
    "***"
   ]
  },
  {
   "cell_type": "markdown",
   "id": "03780a35",
   "metadata": {},
   "source": [
    "- return all records [3]"
   ]
  },
  {
   "cell_type": "code",
   "execution_count": 1,
   "id": "3938785f",
   "metadata": {
    "scrolled": true
   },
   "outputs": [
    {
     "name": "stdout",
     "output_type": "stream",
     "text": [
      "\tdef fInsMetGetAll(self):\r\n",
      "\t\t\"\"\" Return all records.\r\n",
      "\r\n",
      "\tInput: object itself (self)\r\n",
      "\tProcess: nClsAttDB\r\n",
      "\tOutput: show all records\r\n",
      "\t\"\"\"\t\t\t\r\n",
      "\t\tnInsObjCursor=self.nClsAttDB.cursor()\r\n",
      "\t\tsqlQuery=\"SELECT * FROM student\"\r\n",
      "\t\tnInsObjCursor.execute(sqlQuery)\r\n",
      "\t\treturn nInsObjCursor.fetchall()\r\n"
     ]
    }
   ],
   "source": [
    "%%script bash\n",
    "grep \"def fInsMetGetAll\" ./DAO/StudentDAO.py -A 10"
   ]
  },
  {
   "cell_type": "code",
   "execution_count": 2,
   "id": "e819e1d9",
   "metadata": {},
   "outputs": [],
   "source": [
    "exit()"
   ]
  },
  {
   "cell_type": "markdown",
   "id": "dcee6371",
   "metadata": {},
   "source": [
    "< [Table of Contents](#top) | [References](#references) >\n",
    "<a id=\"CStudentDAOcReadUDfetchone\"></a>\n",
    "*** \n",
    "###### ``fetchone``\n",
    "***"
   ]
  },
  {
   "cell_type": "markdown",
   "id": "6861959a",
   "metadata": {},
   "source": [
    "- return record with ``nInsAttID`` passed [3]"
   ]
  },
  {
   "cell_type": "code",
   "execution_count": 1,
   "id": "48a56bd6",
   "metadata": {
    "scrolled": true
   },
   "outputs": [
    {
     "name": "stdout",
     "output_type": "stream",
     "text": [
      "\tdef fInsMetGetByID(self,nInsAttID):\r\n",
      "\t\t\"\"\" Using the ID (%s) from somewhere passed in as a tuple executing as a variable find record by ID.\r\n",
      "\r\n",
      "\tInput: object itself (self); nInsAttID\r\n",
      "\tProcess: nClsAttDB\r\n",
      "\tOutput: show record by ID\r\n",
      "\t\"\"\"\t\t\t\r\n",
      "\t\tnInsObjCursor=self.nClsAttDB.cursor()\r\n",
      "\t\tsqlQuery=\"SELECT * FROM student WHERE id=%s\"\r\n",
      "\t\tnTupleValues=(nInsAttID,)\r\n",
      "\t\tnInsObjCursor.execute(sqlQuery,nTupleValues)\r\n",
      "\t\treturn nInsObjCursor.fetchone()\r\n"
     ]
    }
   ],
   "source": [
    "%%script bash\n",
    "grep \"def fInsMetGetByID\" ./DAO/StudentDAO.py -A 11"
   ]
  },
  {
   "cell_type": "code",
   "execution_count": 2,
   "id": "cdaf03a4",
   "metadata": {},
   "outputs": [],
   "source": [
    "exit()"
   ]
  },
  {
   "cell_type": "markdown",
   "id": "3777b2bb",
   "metadata": {},
   "source": [
    "< [Table of Contents](#top) | [References](#references) >\n",
    "<a id=\"CStudentDAOCRUpdateD\"></a>\n",
    "*** \n",
    "###### U\n",
    "***"
   ]
  },
  {
   "cell_type": "code",
   "execution_count": 1,
   "id": "47192c3e",
   "metadata": {},
   "outputs": [
    {
     "name": "stdout",
     "output_type": "stream",
     "text": [
      "\tdef fInsMetUpdate(self,nInsAttID):\r\n",
      "\t\t\"\"\" Using the ID (%s) from somewhere passed in as a tuple executing as a variable update record.\r\n",
      "\r\n",
      "\tInput: object itself (self); nInsAttID\r\n",
      "\tProcess: nClsAttDB\r\n",
      "\tOutput: update record by ID\r\n",
      "\t\"\"\"\t\t\t\r\n",
      "\t\tnInsObjCursor=self.nClsAttDB.cursor()\r\n",
      "\t\tsqlQuery=\"UPDATE student SET firstname=%s,age=%s WHERE id=%s\"\r\n",
      "\t\tnInsObjCursor.execute(sqlQuery,nInsAttID)\r\n",
      "\t\tself.nClsAttDB.commit()\r\n"
     ]
    }
   ],
   "source": [
    "%%script bash\n",
    "grep \"def fInsMetUpdate\" ./DAO/StudentDAO.py -A 10"
   ]
  },
  {
   "cell_type": "code",
   "execution_count": 2,
   "id": "6c9f42ef",
   "metadata": {},
   "outputs": [],
   "source": [
    "exit()"
   ]
  },
  {
   "cell_type": "markdown",
   "id": "ee4966af",
   "metadata": {},
   "source": [
    "< [Table of Contents](#top) | [References](#references) >\n",
    "<a id=\"CStudentDAOCRUDelete\"></a>\n",
    "*** \n",
    "###### D\n",
    "***"
   ]
  },
  {
   "cell_type": "code",
   "execution_count": 1,
   "id": "f5017f52",
   "metadata": {},
   "outputs": [
    {
     "name": "stdout",
     "output_type": "stream",
     "text": [
      "\tdef fInsMetDelete(self,nInsAttID):\r\n",
      "\t\t\"\"\" Using the values (%s) from somewhere passed in as a tuple executing as a variable delete record.\r\n",
      "\r\n",
      "\tInput: object itself (self); nInsAttID\r\n",
      "\tProcess: nClsAttDB\r\n",
      "\tOutput: record deleted\r\n",
      "\t\"\"\"\r\n",
      "\t\tnInsObjCursor=self.nClsAttDB.cursor()\r\n",
      "\t\tsqlQuery=\"DELETE FROM student where id=%s\"\r\n",
      "\t\tnTupleValues=(nInsAttID,)\r\n",
      "\t\tnInsObjCursor.execute(sqlQuery,nTupleValues)\r\n",
      "\t\tself.nClsAttDB.commit()\t\n"
     ]
    }
   ],
   "source": [
    "%%script bash\n",
    "grep \"def fInsMetDelete\" ./DAO/StudentDAO.py -A 11"
   ]
  },
  {
   "cell_type": "code",
   "execution_count": 2,
   "id": "24a3d166",
   "metadata": {},
   "outputs": [],
   "source": [
    "exit()"
   ]
  },
  {
   "cell_type": "markdown",
   "id": "0f9f2329",
   "metadata": {},
   "source": [
    "< [Table of Contents](#top) | [References](#references) >\n",
    "<a id=\"dataaccessobjectInstantiation\"></a>\n",
    "*** \n",
    "###### Instantiation\n",
    "***"
   ]
  },
  {
   "cell_type": "markdown",
   "id": "49cbff36",
   "metadata": {},
   "source": [
    "- creating unique instance of ``CStudentDAO`` [3]"
   ]
  },
  {
   "cell_type": "code",
   "execution_count": 1,
   "id": "e4f9a940",
   "metadata": {},
   "outputs": [],
   "source": [
    "from DAO.studentDAO import CStudentDAO"
   ]
  },
  {
   "cell_type": "code",
   "execution_count": 2,
   "id": "cf89ffcf",
   "metadata": {},
   "outputs": [],
   "source": [
    "# instantiate object - CStudentDAO\n",
    "nInsObjStudent=CStudentDAO()"
   ]
  },
  {
   "cell_type": "code",
   "execution_count": 3,
   "id": "17b1007c",
   "metadata": {},
   "outputs": [
    {
     "data": {
      "text/plain": [
       "DAO.studentDAO.CStudentDAO"
      ]
     },
     "execution_count": 3,
     "metadata": {},
     "output_type": "execute_result"
    }
   ],
   "source": [
    "type(nInsObjStudent)"
   ]
  },
  {
   "cell_type": "code",
   "execution_count": 4,
   "id": "12e1c63d",
   "metadata": {},
   "outputs": [
    {
     "data": {
      "text/plain": [
       "[(2, 'Joe', 55)]"
      ]
     },
     "execution_count": 4,
     "metadata": {},
     "output_type": "execute_result"
    }
   ],
   "source": [
    "nInsObjStudent.fInsMetGetAll() # one record table"
   ]
  },
  {
   "cell_type": "markdown",
   "id": "51569627",
   "metadata": {},
   "source": [
    "< [Table of Contents](#top) | [References](#references) >\n",
    "<a id=\"dataaccessobjectInstantiationC\"></a>\n",
    "*** \n",
    "###### C\n",
    "***"
   ]
  },
  {
   "cell_type": "markdown",
   "id": "db9d7963",
   "metadata": {},
   "source": [
    "- create record from ``nTupleValues`` and return ``nLatestID`` [3] "
   ]
  },
  {
   "cell_type": "code",
   "execution_count": 5,
   "id": "01be9167",
   "metadata": {},
   "outputs": [],
   "source": [
    "nTupleValues=\"Mark\",45"
   ]
  },
  {
   "cell_type": "code",
   "execution_count": 6,
   "id": "3a40efb5",
   "metadata": {
    "scrolled": false
   },
   "outputs": [],
   "source": [
    "nLatestID=nInsObjStudent.fInsMetCreate(nTupleValues)"
   ]
  },
  {
   "cell_type": "code",
   "execution_count": 7,
   "id": "659b0d2f",
   "metadata": {},
   "outputs": [
    {
     "data": {
      "text/plain": [
       "3"
      ]
     },
     "execution_count": 7,
     "metadata": {},
     "output_type": "execute_result"
    }
   ],
   "source": [
    "nLatestID # current database id"
   ]
  },
  {
   "cell_type": "markdown",
   "id": "8bb24df9",
   "metadata": {},
   "source": [
    "< [Table of Contents](#top) | [References](#references) >\n",
    "<a id=\"dataaccessobjectInstantiationR\"></a>\n",
    "*** \n",
    "###### R\n",
    "***"
   ]
  },
  {
   "cell_type": "markdown",
   "id": "7ffbbdc2",
   "metadata": {},
   "source": [
    "- view record previously created [3]"
   ]
  },
  {
   "cell_type": "code",
   "execution_count": 8,
   "id": "c2d6d527",
   "metadata": {},
   "outputs": [],
   "source": [
    "nCurrentID=nInsObjStudent.fInsMetGetByID(nLatestID) # find id 3"
   ]
  },
  {
   "cell_type": "code",
   "execution_count": 9,
   "id": "ffeb683a",
   "metadata": {},
   "outputs": [
    {
     "data": {
      "text/plain": [
       "(3, 'Mark', 45)"
      ]
     },
     "execution_count": 9,
     "metadata": {},
     "output_type": "execute_result"
    }
   ],
   "source": [
    "nCurrentID"
   ]
  },
  {
   "cell_type": "markdown",
   "id": "909e9e37",
   "metadata": {},
   "source": [
    "- view all records [3]"
   ]
  },
  {
   "cell_type": "code",
   "execution_count": 10,
   "id": "3b771de9",
   "metadata": {},
   "outputs": [
    {
     "name": "stdout",
     "output_type": "stream",
     "text": [
      "(2, 'Joe', 55)\n",
      "(3, 'Mark', 45)\n"
     ]
    }
   ],
   "source": [
    "for nEachStudent in nInsObjStudent.fInsMetGetAll():\n",
    "    print(nEachStudent)"
   ]
  },
  {
   "cell_type": "markdown",
   "id": "fb266b77",
   "metadata": {},
   "source": [
    "< [Table of Contents](#top) | [References](#references) >\n",
    "<a id=\"dataaccessobjectInstantiationU\"></a>\n",
    "*** \n",
    "###### U\n",
    "***"
   ]
  },
  {
   "cell_type": "markdown",
   "id": "a71bc8eb",
   "metadata": {},
   "source": [
    "- update last record created (``nLatestID``) from ``nTupleValues`` [3] "
   ]
  },
  {
   "cell_type": "code",
   "execution_count": 11,
   "id": "f9af811e",
   "metadata": {},
   "outputs": [],
   "source": [
    "nTupleValues=(\"Fred\",21,nLatestID)"
   ]
  },
  {
   "cell_type": "code",
   "execution_count": 12,
   "id": "0b30b917",
   "metadata": {},
   "outputs": [],
   "source": [
    "nInsObjStudent.fInsMetUpdate(nTupleValues)"
   ]
  },
  {
   "cell_type": "code",
   "execution_count": 13,
   "id": "652f3a68",
   "metadata": {},
   "outputs": [],
   "source": [
    "nCurrentID=nInsObjStudent.fInsMetGetByID(nLatestID) # find id 3"
   ]
  },
  {
   "cell_type": "code",
   "execution_count": 14,
   "id": "1fe4927e",
   "metadata": {},
   "outputs": [
    {
     "data": {
      "text/plain": [
       "(3, 'Fred', 21)"
      ]
     },
     "execution_count": 14,
     "metadata": {},
     "output_type": "execute_result"
    }
   ],
   "source": [
    "nCurrentID"
   ]
  },
  {
   "cell_type": "code",
   "execution_count": 15,
   "id": "507c3a2b",
   "metadata": {},
   "outputs": [
    {
     "name": "stdout",
     "output_type": "stream",
     "text": [
      "(2, 'Joe', 55)\n",
      "(3, 'Fred', 21)\n"
     ]
    }
   ],
   "source": [
    "for nEachStudent in nInsObjStudent.fInsMetGetAll():\n",
    "    print(nEachStudent)"
   ]
  },
  {
   "cell_type": "markdown",
   "id": "2d30cd72",
   "metadata": {},
   "source": [
    "< [Table of Contents](#top) | [References](#references) >\n",
    "<a id=\"dataaccessobjectInstantiationD\"></a>\n",
    "*** \n",
    "###### D\n",
    "***"
   ]
  },
  {
   "cell_type": "markdown",
   "id": "d3ebce06",
   "metadata": {},
   "source": [
    "- delete last record created (``nLatestID``)"
   ]
  },
  {
   "cell_type": "code",
   "execution_count": 16,
   "id": "6e8e7d48",
   "metadata": {},
   "outputs": [],
   "source": [
    "nInsObjStudent.fInsMetDelete(nLatestID)"
   ]
  },
  {
   "cell_type": "code",
   "execution_count": 17,
   "id": "8c2bd984",
   "metadata": {},
   "outputs": [
    {
     "data": {
      "text/plain": [
       "[(2, 'Joe', 55)]"
      ]
     },
     "execution_count": 17,
     "metadata": {},
     "output_type": "execute_result"
    }
   ],
   "source": [
    "nInsObjStudent.fInsMetGetAll() # one record table"
   ]
  },
  {
   "cell_type": "code",
   "execution_count": 18,
   "id": "619ac963",
   "metadata": {},
   "outputs": [],
   "source": [
    "exit()"
   ]
  },
  {
   "cell_type": "markdown",
   "id": "233f9d33",
   "metadata": {},
   "source": [
    "< [Table of Contents](#top) | [References](#references) >\n",
    "<a id=\"dataaccessobjectInstantiationTest\"></a>\n",
    "*** \n",
    "###### Test\n",
    "***"
   ]
  },
  {
   "cell_type": "code",
   "execution_count": 1,
   "id": "b42cda17",
   "metadata": {
    "scrolled": false
   },
   "outputs": [
    {
     "name": "stdout",
     "output_type": "stream",
     "text": [
      "from mysql.connector import connect\r\n",
      "# define class - CStudentDAO\r\n",
      "class CStudentDAO: # blueprint state functionality\r\n",
      "\tnClsAttDB=\"\" # for all instances\r\n",
      "\tdef __init__(self): # initialise object state\r\n",
      "\t\t\"\"\" Using class attribute to create default value (state).\r\n",
      "\r\n",
      "\tInput: object itself (self)\r\n",
      "\tProcess: nClsAttDB\r\n",
      "\tOutput: called automatically when creating a new instance of CStudentDAO\r\n",
      "\t\"\"\"\r\n",
      "\t\tself.nClsAttDB=connect(host=\"localhost\",user=\"root\",password=\"\",database=\"data_representation\") # establish a connection\r\n",
      "\tdef fInsMetCreate(self,nInsAttValues):\r\n",
      "\t\t\"\"\" Using the values (%s) from somewhere passed in as a tuple executing as a variable create record.\r\n",
      "\tInput: object itself (self); nInsAttValues\r\n",
      "\tProcess: nClsAttDB\r\n",
      "\tOutput: \r\n",
      "\t\"\"\"\t\t\r\n",
      "\t\tnInsObjCursor=self.nClsAttDB.cursor() # traveral over records\r\n",
      "\t\tsqlQuery=\"INSERT INTO student (firstname,age) VALUES (%s,%s)\"\r\n",
      "\t\tnInsObjCursor.execute(sqlQuery,nInsAttValues) # abstracts away access\r\n",
      "\t\tself.nClsAttDB.commit() # commit current transaction\r\n",
      "\t\treturn nInsObjCursor.lastrowid\r\n",
      "\tdef fInsMetGetAll(self):\r\n",
      "\t\t\"\"\" Return all records.\r\n",
      "\r\n",
      "\tInput: object itself (self)\r\n",
      "\tProcess: nClsAttDB\r\n",
      "\tOutput: show all records\r\n",
      "\t\"\"\"\t\t\t\r\n",
      "\t\tnInsObjCursor=self.nClsAttDB.cursor()\r\n",
      "\t\tsqlQuery=\"SELECT * FROM student\"\r\n",
      "\t\tnInsObjCursor.execute(sqlQuery)\r\n",
      "\t\treturn nInsObjCursor.fetchall()\r\n",
      "\tdef fInsMetGetByID(self,nInsAttID):\r\n",
      "\t\t\"\"\" Using the ID (%s) from somewhere passed in as a tuple executing as a variable find record by ID.\r\n",
      "\r\n",
      "\tInput: object itself (self); nInsAttID\r\n",
      "\tProcess: nClsAttDB\r\n",
      "\tOutput: show record by ID\r\n",
      "\t\"\"\"\t\t\t\r\n",
      "\t\tnInsObjCursor=self.nClsAttDB.cursor()\r\n",
      "\t\tsqlQuery=\"SELECT * FROM student WHERE id=%s\"\r\n",
      "\t\tnTupleValues=(nInsAttID,)\r\n",
      "\t\tnInsObjCursor.execute(sqlQuery,nTupleValues)\r\n",
      "\t\treturn nInsObjCursor.fetchone()\r\n",
      "\tdef fInsMetUpdate(self,nInsAttID):\r\n",
      "\t\t\"\"\" Using the ID (%s) from somewhere passed in as a tuple executing as a variable update record.\r\n",
      "\r\n",
      "\tInput: object itself (self); nInsAttID\r\n",
      "\tProcess: nClsAttDB\r\n",
      "\tOutput: update record by ID\r\n",
      "\t\"\"\"\t\t\t\r\n",
      "\t\tnInsObjCursor=self.nClsAttDB.cursor()\r\n",
      "\t\tsqlQuery=\"UPDATE student SET firstname=%s,age=%s WHERE id=%s\"\r\n",
      "\t\tnInsObjCursor.execute(sqlQuery,nInsAttID)\r\n",
      "\t\tself.nClsAttDB.commit()\r\n",
      "\tdef fInsMetDelete(self,nInsAttID):\r\n",
      "\t\t\"\"\" Using the values (%s) from somewhere passed in as a tuple executing as a variable delete record.\r\n",
      "\r\n",
      "\tInput: object itself (self); nInsAttID\r\n",
      "\tProcess: nClsAttDB\r\n",
      "\tOutput: record deleted\r\n",
      "\t\"\"\"\r\n",
      "\t\tnInsObjCursor=self.nClsAttDB.cursor()\r\n",
      "\t\tsqlQuery=\"DELETE FROM student where id=%s\"\r\n",
      "\t\tnTupleValues=(nInsAttID,)\r\n",
      "\t\tnInsObjCursor.execute(sqlQuery,nTupleValues)\r\n",
      "\t\tself.nClsAttDB.commit()\t"
     ]
    }
   ],
   "source": [
    "%%script bash\n",
    "cat ./DAO/studentDAO.py"
   ]
  },
  {
   "cell_type": "code",
   "execution_count": 2,
   "id": "a15f43ab",
   "metadata": {},
   "outputs": [
    {
     "name": "stdout",
     "output_type": "stream",
     "text": [
      "from studentDAO import CStudentDAO\r\n",
      "\r\n",
      "# instantiate object - CStudentDAO\r\n",
      "nInsObjStudent=CStudentDAO()\r\n",
      "\r\n",
      "nLatestID=nInsObjStudent.fInsMetCreate((\"Mark\",45)) # test CRUD Create\r\n",
      "nCurrentID=nInsObjStudent.fInsMetGetByID(nLatestID) # test CRUD Read(id)\r\n",
      "print(nCurrentID)\r\n",
      "nInsObjStudent.fInsMetUpdate((\"Fred\",21,nLatestID)) # test CRUD Update\r\n",
      "nCurrentID=nInsObjStudent.fInsMetGetByID(nLatestID) # test CRUD Read(id)\r\n",
      "print(nCurrentID)\r\n",
      "nAllStudents=nInsObjStudent.fInsMetGetAll() # test CRUD Read(*)\r\n",
      "for nEachStudent in nAllStudents:\r\n",
      "\tprint(nEachStudent)\r\n",
      "nInsObjStudent.fInsMetDelete(nLatestID) # test CRUD Delete"
     ]
    }
   ],
   "source": [
    "%%script bash\n",
    "cat ./DAO/testDAO.py"
   ]
  },
  {
   "cell_type": "code",
   "execution_count": 3,
   "id": "fd966038",
   "metadata": {
    "scrolled": true
   },
   "outputs": [
    {
     "name": "stdout",
     "output_type": "stream",
     "text": [
      "(4, 'Mark', 45)\r\n",
      "(4, 'Fred', 21)\r\n",
      "(2, 'Joe', 55)\r\n",
      "(4, 'Fred', 21)\r\n"
     ]
    }
   ],
   "source": [
    "%%script bash\n",
    "python ./DAO/testDAO.py # record (2, 'Joe', 55) remains"
   ]
  },
  {
   "cell_type": "code",
   "execution_count": 4,
   "id": "2634e216",
   "metadata": {},
   "outputs": [],
   "source": [
    "exit()"
   ]
  },
  {
   "cell_type": "markdown",
   "id": "72557dcc",
   "metadata": {},
   "source": [
    "***\n",
    "## END"
   ]
  },
  {
   "cell_type": "markdown",
   "id": "bcd28c42",
   "metadata": {},
   "source": [
    "< [Table of Contents](#top) | [References](#references) >\n",
    "<a id=\"references\"></a>\n",
    "***\n",
    "## References\n",
    "***\n",
    "\n",
    "&nbsp;&nbsp;&nbsp;&nbsp;&nbsp;&nbsp;&nbsp;&nbsp;&nbsp;[1] G. Harrison, \"Applied Databases,\" GMIT, 1st Semester 2020.\n",
    "\n",
    "&nbsp;&nbsp;&nbsp;&nbsp;&nbsp;&nbsp;&nbsp;&nbsp;&nbsp;[2] A. Beatty, \"DR9.01 databases,\" GMIT, November 2019.\n",
    "\n",
    "&nbsp;&nbsp;&nbsp;&nbsp;&nbsp;&nbsp;&nbsp;&nbsp;&nbsp;[2] C. Baweja, \"Python and MySQL Database: A Practical Introduction,\" [realpython.com](https://web.archive.org/web/20210902091838/https://realpython.com/python-mysql/), December 2020.\n",
    "\n",
    "&nbsp;&nbsp;&nbsp;&nbsp;&nbsp;&nbsp;&nbsp;&nbsp;&nbsp;[3] A. Beatty, \"DR09.02 python and DB,\" GMIT, November 2019."
   ]
  },
  {
   "cell_type": "markdown",
   "id": "f4ea552a",
   "metadata": {},
   "source": [
    "***\n",
    "## END"
   ]
  },
  {
   "cell_type": "markdown",
   "id": "d9f1a942",
   "metadata": {},
   "source": [
    "< [Table of Contents](#top) | [References](#references) >\n",
    "<a id=\"appendix\"></a>\n",
    "***\n",
    "## Appendix\n",
    "***"
   ]
  },
  {
   "cell_type": "markdown",
   "id": "ef2b2bdc",
   "metadata": {},
   "source": [
    "***\n",
    "## END"
   ]
  },
  {
   "cell_type": "markdown",
   "id": "79011a80",
   "metadata": {},
   "source": [
    "# END JUPYTER NOTEBOOK"
   ]
  }
 ],
 "metadata": {
  "kernelspec": {
   "display_name": "Python 3",
   "language": "python",
   "name": "python3"
  },
  "language_info": {
   "codemirror_mode": {
    "name": "ipython",
    "version": 3
   },
   "file_extension": ".py",
   "mimetype": "text/x-python",
   "name": "python",
   "nbconvert_exporter": "python",
   "pygments_lexer": "ipython3",
   "version": "3.8.8"
  }
 },
 "nbformat": 4,
 "nbformat_minor": 5
}
