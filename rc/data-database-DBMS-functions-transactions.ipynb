{
 "cells": [
  {
   "cell_type": "markdown",
   "metadata": {},
   "source": [
    "# data-database-DBMS-functions-transactions\n",
    "> [TABLE OF CONTENTS](https://nbviewer.jupyter.org/github/SeanOhAileasa/adb-MySQL/blob/main/adb-MySQL.ipynb#top)\n",
    "***"
   ]
  },
  {
   "cell_type": "markdown",
   "metadata": {},
   "source": [
    "- transaction - **purchasing** television **online** - online store might have the following process - debit customer account with the amount of the tv - add the customers details to a shipping table - entity - relation - so that the shipping department will know where to ship the tv - update the products table - entity - relation - to reflect one less tv - credit the stores account with the amount of the tv - **transaction** finished - press buy button - website - happens in the **background** [1]"
   ]
  },
  {
   "cell_type": "markdown",
   "metadata": {},
   "source": [
    "- just after the products table - entity - relation - was updated - **server** where the transaction was running was **hit** by **lightning** - power went out meaning that the credit store account part was never done - taken money from the customer account - sent the tv - never put the money into the store account - **transaction** **management** - **group** **operations** that **belong** **together** **within** a transaction [1]"
   ]
  },
  {
   "cell_type": "markdown",
   "metadata": {},
   "source": [
    "- **completes** **entirely** - **fails** **totally** - operations ran as a transaction - up to the **DBMS** to **ensure** that the previous tree steps - debit the customer account - update the shipping table - entity - relation - update the product table - entity - relation - was **undone** - database **restored** to a **consistent** **state** [1]"
   ]
  },
  {
   "cell_type": "markdown",
   "metadata": {},
   "source": [
    "- **sql** - allows - **grouping** of **individual** **operations** into **transactions** [1]"
   ]
  },
  {
   "cell_type": "markdown",
   "metadata": {},
   "source": [
    "***\n",
    "# END"
   ]
  }
 ],
 "metadata": {
  "kernelspec": {
   "display_name": "Python 3",
   "language": "python",
   "name": "python3"
  },
  "language_info": {
   "codemirror_mode": {
    "name": "ipython",
    "version": 3
   },
   "file_extension": ".py",
   "mimetype": "text/x-python",
   "name": "python",
   "nbconvert_exporter": "python",
   "pygments_lexer": "ipython3",
   "version": "3.7.6"
  }
 },
 "nbformat": 4,
 "nbformat_minor": 4
}
