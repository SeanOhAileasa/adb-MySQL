{
 "cells": [
  {
   "cell_type": "markdown",
   "metadata": {},
   "source": [
    "# data-database-types-relational-language-SQL-MySQL-function-stored-procedures-CREATE-PROCEDURE\n",
    "> [TABLE OF CONTENTS](https://nbviewer.jupyter.org/github/SeanOhAileasa/adb-MySQL/blob/main/adb-MySQL.ipynb#top)\n",
    "***"
   ]
  },
  {
   "cell_type": "markdown",
   "metadata": {},
   "source": [
    "- **functions** - **procedures** - **store** **logic** that is **repeatedly** **used** - **avoids** - **repetition** - **inconsistencies** [1]"
   ]
  },
  {
   "cell_type": "markdown",
   "metadata": {},
   "source": [
    "```sql\n",
    "mysql> use lab5;\n",
    "Database changed\n",
    "```"
   ]
  },
  {
   "cell_type": "markdown",
   "metadata": {},
   "source": [
    "```sql\n",
    "mysql> show tables;\n",
    "+----------------+\n",
    "| Tables_in_lab5 |\n",
    "+----------------+\n",
    "| car            |\n",
    "| person         |\n",
    "+----------------+\n",
    "2 rows in set (0.00 sec)\n",
    "```"
   ]
  },
  {
   "cell_type": "markdown",
   "metadata": {},
   "source": [
    "```sql\n",
    "mysql> SELECT *\n",
    "    -> FROM CAR;\n",
    "+--------------+--------+------------+--------+---------+------------+\n",
    "| registration | make   | model      | colour | mileage | engineSize |\n",
    "+--------------+--------+------------+--------+---------+------------+\n",
    "| 05-MO-17931  | Toyota | Highlander | Green  |  253789 |        1.6 |\n",
    "| 10-G-2334    | Toyota | Corolla    | Green  |  123389 |        1.3 |\n",
    "| 10-WH-17931  | Toyota | Corolla    | Silver |  130389 |        1.4 |\n",
    "| 11-MO-23431  | Toyota | Corolla    | Black  | 1234123 |        1.3 |\n",
    "| 12-WH-123    | Ford   | Ka         | Black  |  125882 |        1.0 |\n",
    "| 132-G-9923   | Ford   | Ka         | Silver |  325883 |        1.0 |\n",
    "| 132-MO-19323 | Ford   | Galaxy     | Silver |    2343 |        1.5 |\n",
    "| 171-G-39532  | Toyota | Corolla    | Silver |   55882 |        1.3 |\n",
    "| 171-MO-12533 | Ford   | Fiesta     | Black  |   25882 |        1.0 |\n",
    "| 99-G-300     | Toyota | Corolla    | Green  |  599339 |        1.3 |\n",
    "+--------------+--------+------------+--------+---------+------------+\n",
    "10 rows in set (0.00 sec)\n",
    "```"
   ]
  },
  {
   "cell_type": "markdown",
   "metadata": {},
   "source": [
    "- common query of the table - entity - relation - car - obtain details of certain make of car where the mileage is less than a certain value - query may be run many times with different rows - records - tuples - returned for make and mileage - good candidate to put into a procedure [1]"
   ]
  },
  {
   "cell_type": "markdown",
   "metadata": {},
   "source": [
    "```sql\n",
    "mysql> SELECT *\n",
    "    -> FROM car\n",
    "    -> WHERE make=\"Toyota\"\n",
    "    -> AND mileage<200000\n",
    "    -> ORDER BY mileage;\n",
    "+--------------+--------+---------+--------+---------+------------+\n",
    "| registration | make   | model   | colour | mileage | engineSize |\n",
    "+--------------+--------+---------+--------+---------+------------+\n",
    "| 171-G-39532  | Toyota | Corolla | Silver |   55882 |        1.3 |\n",
    "| 10-G-2334    | Toyota | Corolla | Green  |  123389 |        1.3 |\n",
    "| 10-WH-17931  | Toyota | Corolla | Silver |  130389 |        1.4 |\n",
    "+--------------+--------+---------+--------+---------+------------+\n",
    "3 rows in set (0.00 sec)\n",
    "```"
   ]
  },
  {
   "cell_type": "markdown",
   "metadata": {},
   "source": [
    "- **procedure** - **created** **similar** to - **function** - **except** with **keyword** - **PROCEDURE** [1]"
   ]
  },
  {
   "cell_type": "markdown",
   "metadata": {},
   "source": [
    "```sql\n",
    "mysql> CREATE PROCEDURE MakeMileage(mk VARCHAR(20),ml INT(11))\n",
    "    -> DETERMINISTIC\n",
    "    -> BEGIN\n",
    "    ->   SELECT *\n",
    "    ->   FROM car\n",
    "    ->   WHERE make LIKE mk\n",
    "    ->   AND mileage < ml\n",
    "    ->   ORDER BY mileage;\n",
    "    -> END\n",
    "    -> //\n",
    "Query OK, 0 rows affected, 1 warning (0.01 sec)\n",
    "```"
   ]
  },
  {
   "cell_type": "markdown",
   "metadata": {},
   "source": [
    "- **call** - **procedure** - **keyword** - **CALL** - passing two argument for the two parameters - **instead** of **writing** a **potentially** **complex** **query** - just **call** **procedure** [1]"
   ]
  },
  {
   "cell_type": "markdown",
   "metadata": {},
   "source": [
    "```sql\n",
    "mysql> delimiter ;\n",
    "mysql> CALL MakeMileage(\"Toyota\",200000);\n",
    "+--------------+--------+---------+--------+---------+------------+\n",
    "| registration | make   | model   | colour | mileage | engineSize |\n",
    "+--------------+--------+---------+--------+---------+------------+\n",
    "| 171-G-39532  | Toyota | Corolla | Silver |   55882 |        1.3 |\n",
    "| 10-G-2334    | Toyota | Corolla | Green  |  123389 |        1.3 |\n",
    "| 10-WH-17931  | Toyota | Corolla | Silver |  130389 |        1.4 |\n",
    "+--------------+--------+---------+--------+---------+------------+\n",
    "3 rows in set (0.00 sec)\n",
    "\n",
    "Query OK, 0 rows affected (0.01 sec)\n",
    "```"
   ]
  },
  {
   "cell_type": "markdown",
   "metadata": {},
   "source": [
    "```sql\n",
    "mysql> CALL MakeMileage(\"Ford\",5000);\n",
    "+--------------+------+--------+--------+---------+------------+\n",
    "| registration | make | model  | colour | mileage | engineSize |\n",
    "+--------------+------+--------+--------+---------+------------+\n",
    "| 132-MO-19323 | Ford | Galaxy | Silver |    2343 |        1.5 |\n",
    "+--------------+------+--------+--------+---------+------------+\n",
    "1 row in set (0.00 sec)\n",
    "\n",
    "Query OK, 0 rows affected (0.00 sec)\n",
    "```"
   ]
  },
  {
   "cell_type": "markdown",
   "metadata": {},
   "source": [
    "- a **well** **designed** **procedure** can help **improve** its **use** - **obtain** **all** cars regardless of make with mileage less than sixty-thousand [1] "
   ]
  },
  {
   "cell_type": "markdown",
   "metadata": {},
   "source": [
    "```sql\n",
    "mysql> CALL MakeMileage(\"%\",60000);\n",
    "+--------------+--------+---------+--------+---------+------------+\n",
    "| registration | make   | model   | colour | mileage | engineSize |\n",
    "+--------------+--------+---------+--------+---------+------------+\n",
    "| 132-MO-19323 | Ford   | Galaxy  | Silver |    2343 |        1.5 |\n",
    "| 171-MO-12533 | Ford   | Fiesta  | Black  |   25882 |        1.0 |\n",
    "| 171-G-39532  | Toyota | Corolla | Silver |   55882 |        1.3 |\n",
    "+--------------+--------+---------+--------+---------+------------+\n",
    "3 rows in set (0.00 sec)\n",
    "\n",
    "Query OK, 0 rows affected (0.01 sec)\n",
    "```"
   ]
  },
  {
   "cell_type": "markdown",
   "metadata": {},
   "source": [
    "***\n",
    "# END"
   ]
  }
 ],
 "metadata": {
  "kernelspec": {
   "display_name": "Python 3",
   "language": "python",
   "name": "python3"
  },
  "language_info": {
   "codemirror_mode": {
    "name": "ipython",
    "version": 3
   },
   "file_extension": ".py",
   "mimetype": "text/x-python",
   "name": "python",
   "nbconvert_exporter": "python",
   "pygments_lexer": "ipython3",
   "version": "3.7.6"
  }
 },
 "nbformat": 4,
 "nbformat_minor": 4
}
