{
 "cells": [
  {
   "cell_type": "code",
   "execution_count": null,
   "id": "619ad17b",
   "metadata": {},
   "outputs": [
    {
     "data": {
      "text/html": [
       "<script>Jupyter.notebook.kernel.restart()</script>"
      ]
     },
     "metadata": {},
     "output_type": "display_data"
    }
   ],
   "source": [
    "from IPython.core.display import display_html\n",
    "display_html(\"<script>Jupyter.notebook.kernel.restart()</script>\",raw=True)"
   ]
  },
  {
   "cell_type": "code",
   "execution_count": 1,
   "id": "fcd41d05",
   "metadata": {},
   "outputs": [
    {
     "data": {
      "text/html": [
       "<style>.container { width:100% !important; }</style>"
      ],
      "text/plain": [
       "<IPython.core.display.HTML object>"
      ]
     },
     "metadata": {},
     "output_type": "display_data"
    },
    {
     "data": {
      "text/html": [
       "<style>.container { width:100% !important; }</style>"
      ],
      "text/plain": [
       "<IPython.core.display.HTML object>"
      ]
     },
     "metadata": {},
     "output_type": "display_data"
    }
   ],
   "source": [
    "from sys import path; path.insert(1,\"../src\");\n",
    "import fubar; from importlib import reload; reload(fubar);"
   ]
  },
  {
   "cell_type": "code",
   "execution_count": 2,
   "id": "47a216bf",
   "metadata": {},
   "outputs": [],
   "source": [
    "from sys import path; path.insert(2,\"./hide\"); # from MySQL import mysql"
   ]
  },
  {
   "cell_type": "markdown",
   "id": "984a78bb",
   "metadata": {},
   "source": [
    "***\n",
    "< [GMIT Data Analytics](https://web.archive.org/web/20201029063153/https://www.gmit.ie/computer-science-and-applied-physics/higher-diploma-science-computing-data-analytics-ict) | [Home](https://github.com/SeanOhAileasa) | [README](https://github.com/SeanOhAileasa/adb-MySQL/blob/main/README.md) >\n",
    "\n",
    "[![GMIT](https://github.com/SeanOhAileasa/SeanOhAileasa/blob/master/rc/gmit.png?raw=true)](https://web.archive.org/web/20201029063153/https://www.gmit.ie/computer-science-and-applied-physics/higher-diploma-science-computing-data-analytics-ict)\n",
    "\n",
    "## Applied Databases - Course Material 2020\n",
    "### Topic: [MySQL](https://nbviewer.jupyter.org/github/SeanOhAileasa/adb-MySQL/blob/main/adb-MySQL.ipynb)\n",
    "\n",
    "***"
   ]
  },
  {
   "cell_type": "markdown",
   "id": "d090b359",
   "metadata": {},
   "source": [
    "Course material for the ``Applied Databases`` module (5 Credits) of the ``Higher Diploma in Science in Computing (Data Analytics) (H.Dip)`` programme (75 Credits) at **Galway-Mayo Institute of Technology (GMIT)**. Reviewing the ``Applied Databases`` module laboratory exercises in tandem with the ``Data Representation`` module."
   ]
  },
  {
   "cell_type": "code",
   "execution_count": 3,
   "id": "c8f0c11d",
   "metadata": {},
   "outputs": [],
   "source": [
    "from sys import path; path.insert(1,\"../src\")\n",
    "from fubar import fFile,fMagic"
   ]
  },
  {
   "cell_type": "code",
   "execution_count": 4,
   "id": "f61346c5",
   "metadata": {},
   "outputs": [
    {
     "name": "stdout",
     "output_type": "stream",
     "text": [
      "# repository ./SeanOhAileasa\r\n",
      "def fFile(nParPath):\r\n",
      "    \"\"\"Start a file with its associated application.\r\n",
      "\r\n",
      "Input: nParPath\r\n",
      "Process: (os.path.realpath; os.startfile)\r\n",
      "Output: file opened with associated application\r\n",
      "\"\"\"\r\n",
      "    from os import path,startfile\r\n",
      "    return startfile(path.realpath(nParPath))\r\n",
      "# --- END ---\r\n"
     ]
    }
   ],
   "source": [
    "%%script bash\n",
    "grep -1 \"def fFile\" ../src/fubar.py -A 9"
   ]
  },
  {
   "cell_type": "markdown",
   "id": "49635d5b",
   "metadata": {},
   "source": [
    "<a id=\"top\"></a>\n",
    "***\n",
    "## Table of Contents\n",
    "***"
   ]
  },
  {
   "cell_type": "markdown",
   "id": "7af3c960",
   "metadata": {},
   "source": [
    "###### Quick Links\n",
    "***\n",
    "\n",
    "* [Applied Databases](#applieddatabases) <br/><br/>\n",
    "* [Data Representation](#datarep)"
   ]
  },
  {
   "cell_type": "markdown",
   "id": "2fe19188",
   "metadata": {},
   "source": [
    "## [Acronym](#top)\n",
    "\n",
    "- &#x1F4CC; Work-in-Progress (WIP)\n",
    "- ``obj``: object"
   ]
  },
  {
   "cell_type": "markdown",
   "id": "7dbea972",
   "metadata": {},
   "source": [
    "<hr width=50%;>"
   ]
  },
  {
   "cell_type": "markdown",
   "id": "78209069",
   "metadata": {},
   "source": [
    "< [Table of Contents](#top) | [References](#references) >\n",
    "<a id=\"applieddatabases\"></a>\n",
    "## Applied Databases\n",
    "***"
   ]
  },
  {
   "cell_type": "markdown",
   "id": "44105bb5",
   "metadata": {},
   "source": [
    "Course material for the ``Applied Databases`` module (5 Credits) of the ``Higher Diploma in Science in Computing (Data Analytics) (H.Dip)`` programme (75 Credits) at **Galway-Mayo Institute of Technology (GMIT)**."
   ]
  },
  {
   "cell_type": "markdown",
   "id": "e03c79e0",
   "metadata": {},
   "source": [
    "### Data\n",
    "***\n",
    "\n",
    "* [data](https://nbviewer.jupyter.org/github/SeanOhAileasa/adb-MySQL/blob/main/rc/data.ipynb) **[External Link]** <br/><br/>\n",
    "* [database](https://nbviewer.jupyter.org/github/SeanOhAileasa/adb-MySQL/blob/main/rc/data-database.ipynb) **[External Link]** <br/><br/>\n",
    "* [schema](https://nbviewer.jupyter.org/github/SeanOhAileasa/adb-MySQL/blob/main/rc/data-database-schema.ipynb) **[External Link]** <br/><br/>\n",
    "    * [types](https://nbviewer.jupyter.org/github/SeanOhAileasa/adb-MySQL/blob/main/rc/data-database-schema-types-intentionally-blank.ipynb) **[External Link]** <br/><br/>\n",
    "        * [physical](https://nbviewer.jupyter.org/github/SeanOhAileasa/adb-MySQL/blob/main/rc/data-database-schema-types-physical.ipynb) **[External Link]** <br/><br/>\n",
    "        * [logical](https://nbviewer.jupyter.org/github/SeanOhAileasa/adb-MySQL/blob/main/rc/data-database-schema-types-logical.ipynb) **[External Link]** <br/><br/>\n",
    "* [DBMS](https://nbviewer.jupyter.org/github/SeanOhAileasa/adb-MySQL/blob/main/rc/data-database-DBMS.ipynb) **[External Link]** <br/><br/>\n",
    "    * [MySQL](https://nbviewer.jupyter.org/github/SeanOhAileasa/adb-MySQL/blob/main/rc/data-database-DBMS-MySQL.ipynb) **[External Link]** <br/><br/>\n",
    "    * [functions](https://nbviewer.jupyter.org/github/SeanOhAileasa/adb-MySQL/blob/main/rc/data-database-DBMS-functions-intentionally-blank.ipynb) **[External Link]** <br/><br/>\n",
    "        * [CRUD](https://nbviewer.jupyter.org/github/SeanOhAileasa/adb-MySQL/blob/main/rc/data-database-DBMS-functions-CRUD.ipynb) **[External Link]** <br/><br/>\n",
    "        * [storage](https://nbviewer.jupyter.org/github/SeanOhAileasa/adb-MySQL/blob/main/rc/data-database-DBMS-functions-storage.ipynb) **[External Link]** <br/><br/>\n",
    "        * [security](https://nbviewer.jupyter.org/github/SeanOhAileasa/adb-MySQL/blob/main/rc/data-database-DBMS-functions-security.ipynb) **[External Link]** <br/><br/>\n",
    "        * [backup](https://nbviewer.jupyter.org/github/SeanOhAileasa/adb-MySQL/blob/main/rc/data-database-DBMS-functions-backup.ipynb) **[External Link]** <br/><br/>\n",
    "        * [transactions](https://nbviewer.jupyter.org/github/SeanOhAileasa/adb-MySQL/blob/main/rc/data-database-DBMS-functions-transactions.ipynb) **[External Link]** <br/><br/>\n",
    "        * [integrity](https://nbviewer.jupyter.org/github/SeanOhAileasa/adb-MySQL/blob/main/rc/data-database-DBMS-functions-integrity.ipynb) **[External Link]** <br/><br/>\n",
    "        * [concurrency](https://nbviewer.jupyter.org/github/SeanOhAileasa/adb-MySQL/blob/main/rc/data-database-DBMS-functions-concurrency.ipynb) **[External Link]** <br/><br/>\n",
    "        * [advantages](https://nbviewer.jupyter.org/github/SeanOhAileasa/adb-MySQL/blob/main/rc/data-database-DBMS-functions-advantages-intentionally-blank.ipynb) **[External Link]** <br/><br/> \n",
    "            * [redundancy](https://nbviewer.jupyter.org/github/SeanOhAileasa/adb-MySQL/blob/main/rc/data-database-DBMS-functions-advantages-redundancy.ipynb) **[External Link]** <br/><br/>\n",
    "            * [standards](https://nbviewer.jupyter.org/github/SeanOhAileasa/adb-MySQL/blob/main/rc/data-database-DBMS-functions-advantages-standards.ipynb) **[External Link]** <br/><br/>\n",
    "        * [disadvantages](https://nbviewer.jupyter.org/github/SeanOhAileasa/adb-MySQL/blob/main/rc/data-database-DBMS-functions-disadvantages-intentionally-blank.ipynb) **[External Link]** <br/><br/>\n",
    "            * [complexity](https://nbviewer.jupyter.org/github/SeanOhAileasa/adb-MySQL/blob/main/rc/data-database-DBMS-functions-disadvantages-complexity.ipynb) **[External Link]** <br/><br/>\n",
    "                * [size](https://nbviewer.jupyter.org/github/SeanOhAileasa/adb-MySQL/blob/main/rc/data-database-DBMS-functions-disadvantages-complexity-size.ipynb) **[External Link]** <br/><br/>\n",
    "            * [performance](https://nbviewer.jupyter.org/github/SeanOhAileasa/adb-MySQL/blob/main/rc/data-database-DBMS-functions-disadvantages-performance.ipynb) **[External Link]** <br/><br/>\n",
    "            * [failure](https://nbviewer.jupyter.org/github/SeanOhAileasa/adb-MySQL/blob/main/rc/data-database-DBMS-functions-disadvantages-failure.ipynb) **[External Link]** <br/><br/>\n",
    "    * [normalisation](https://nbviewer.jupyter.org/github/SeanOhAileasa/adb-MySQL/blob/main/rc/data-database-types-relational-normalisation.ipynb) **[External Link]** <br/><br/>\n",
    "        * [anomaly](https://nbviewer.jupyter.org/github/SeanOhAileasa/adb-MySQL/blob/main/rc/data-database-types-relational-normalisation-anomaly-intentionally-blank.ipynb) **[External Link]** <br/><br/> \n",
    "            * [update](https://nbviewer.jupyter.org/github/SeanOhAileasa/adb-MySQL/blob/main/rc/data-database-types-relational-normalisation-anomaly-update.ipynb) **[External Link]** <br/><br/>\n",
    "            * [insertion](https://nbviewer.jupyter.org/github/SeanOhAileasa/adb-MySQL/blob/main/rc/data-database-types-relational-normalisation-anomaly-insertion.ipynb) **[External Link]** <br/><br/>\n",
    "            * [deletion](https://nbviewer.jupyter.org/github/SeanOhAileasa/adb-MySQL/blob/main/rc/data-database-types-relational-normalisation-anomaly-deletion.ipynb) **[External Link]** <br/><br/>\n",
    "        * [process](https://nbviewer.jupyter.org/github/SeanOhAileasa/adb-MySQL/blob/main/rc/data-database-types-relational-normalisation-process.ipynb) **[External Link]** <br/><br/>\n",
    "            * [foreign-key](https://nbviewer.jupyter.org/github/SeanOhAileasa/adb-MySQL/blob/main/rc/data-database-types-relational-normalisation-process-foreign-key.ipynb) **[External Link]** <br/><br/>\n",
    "                * [referential-integrity](https://nbviewer.jupyter.org/github/SeanOhAileasa/adb-MySQL/blob/main/rc/data-database-types-relational-normalisation-process-foreign-key-referential-integrity.ipynb) **[External Link]** <br/><br/>\n",
    "* [types](https://nbviewer.jupyter.org/github/SeanOhAileasa/adb-MySQL/blob/main/rc/data-database-types.ipynb) **[External Link]**"
   ]
  },
  {
   "cell_type": "markdown",
   "id": "f6ce76dc",
   "metadata": {},
   "source": [
    "<hr width=50%;>"
   ]
  },
  {
   "cell_type": "markdown",
   "id": "e5aac36c",
   "metadata": {},
   "source": [
    "### Relational\n",
    "***\n",
    "\n",
    "* [relational](https://nbviewer.jupyter.org/github/SeanOhAileasa/adb-MySQL/blob/main/rc/data-database-types-relational.ipynb) **[External Link]** <br/><br/>\n",
    "    * [table](https://nbviewer.jupyter.org/github/SeanOhAileasa/adb-MySQL/blob/main/rc/data-database-types-relational-table.ipynb) **[External Link]** <br/><br/>\n",
    "        * [column](https://nbviewer.jupyter.org/github/SeanOhAileasa/adb-MySQL/blob/main/rc/data-database-types-relational-table-column.ipynb) **[External Link]** <br/><br/>\n",
    "        * [row](https://nbviewer.jupyter.org/github/SeanOhAileasa/adb-MySQL/blob/main/rc/data-database-types-relational-table-row.ipynb) **[External Link]** <br/><br/>\n",
    "    * [spreadsheets](https://nbviewer.jupyter.org/github/SeanOhAileasa/adb-MySQL/blob/main/rc/data-database-types-relational-spreadsheets.ipynb) **[External Link]** <br/><br/>\n",
    "    * [language](https://nbviewer.jupyter.org/github/SeanOhAileasa/adb-MySQL/blob/main/rc/data-database-types-relational-language-intentionally-blank.ipynb) **[External Link]** <br/><br/>\n",
    "        * [SQL](https://nbviewer.jupyter.org/github/SeanOhAileasa/adb-MySQL/blob/main/rc/data-database-types-relational-language-SQL.ipynb) **[External Link]** <br/><br/>\n",
    "            * [MySQL](https://nbviewer.jupyter.org/github/SeanOhAileasa/adb-MySQL/blob/main/rc/data-database-types-relational-language-SQL-MySQL.ipynb) **[External Link]** <br/><br/>\n",
    "                * [MongoDB](https://nbviewer.jupyter.org/github/SeanOhAileasa/adb-MySQL/blob/main/rc/data-database-types-relational-language-SQL-MySQL-MongoDB.ipynb) **[External Link]** <br/><br/>\n",
    "                * [data-types](https://nbviewer.jupyter.org/github/SeanOhAileasa/adb-MySQL/blob/main/rc/data-database-types-relational-language-SQL-MySQL-data-types.ipynb) **[External Link]** <br/><br/>\n",
    "                * [command](https://nbviewer.jupyter.org/github/SeanOhAileasa/adb-MySQL/blob/main/rc/data-database-types-relational-language-SQL-MySQL-command-intentionally-blank.ipynb) **[External Link]** <br/><br/> \n",
    "                    * [create-database](https://nbviewer.jupyter.org/github/SeanOhAileasa/adb-MySQL/blob/main/rc/data-database-types-relational-language-SQL-MySQL-command-CREATE-DATABASE.ipynb) **[External Link]** <br/><br/>\n",
    "                    * [show-databases](https://nbviewer.jupyter.org/github/SeanOhAileasa/adb-MySQL/blob/main/rc/data-database-types-relational-language-SQL-MySQL-command-SHOW-DATABASES.ipynb) **[External Link]** <br/><br/>\n",
    "                    * [use](https://nbviewer.jupyter.org/github/SeanOhAileasa/adb-MySQL/blob/main/rc/data-database-types-relational-language-SQL-MySQL-command-USE.ipynb) **[External Link]** <br/><br/>\n",
    "                    * [CREATE-TABLE](https://nbviewer.jupyter.org/github/SeanOhAileasa/adb-MySQL/blob/main/rc/data-database-types-relational-language-SQL-MySQL-command-CREATE-TABLE.ipynb) **[External Link]** <br/><br/>\n",
    "                    * [DESCRIBE](https://nbviewer.jupyter.org/github/SeanOhAileasa/adb-MySQL/blob/main/rc/data-database-types-relational-language-SQL-MySQL-command-DESCRIBE.ipynb) **[External Link]** <br/><br/>\n",
    "                    * [SHOW-CREATE-TABLE](https://nbviewer.jupyter.org/github/SeanOhAileasa/adb-MySQL/blob/main/rc/data-database-types-relational-language-SQL-MySQL-command-SHOW-CREATE-TABLE.ipynb) **[External Link]** <br/><br/>\n",
    "            * [C_R_UD-read-command](https://nbviewer.jupyter.org/github/SeanOhAileasa/adb-MySQL/blob/main/rc/data-database-types-relational-language-SQL-MySQL-C_R_UD-read-command-intentionally-blank.ipynb) **[External Link]** <br/><br/>\n",
    "                * [SELECT](https://nbviewer.jupyter.org/github/SeanOhAileasa/adb-MySQL/blob/main/rc/data-database-types-relational-language-SQL-MySQL-C_R_UD-read-command-SELECT.ipynb) **[External Link]** <br/><br/>\n",
    "                    * [alias](https://nbviewer.jupyter.org/github/SeanOhAileasa/adb-MySQL/blob/main/rc/data-database-types-relational-language-SQL-MySQL-C_R_UD-read-command-SELECT-alias.ipynb) **[External Link]** <br/><br/>\n",
    "                    * [INNER-JOIN](https://nbviewer.jupyter.org/github/SeanOhAileasa/adb-MySQL/blob/main/rc/data-database-types-relational-language-SQL-MySQL-C_R_UD-read-command-SELECT-INNER-JOIN.ipynb) **[External Link]** <br/><br/>\n",
    "                    * [LEFT-JOIN](https://nbviewer.jupyter.org/github/SeanOhAileasa/adb-MySQL/blob/main/rc/data-database-types-relational-language-SQL-MySQL-C_R_UD-read-command-SELECT-LEFT-JOIN.ipynb) **[External Link]** <br/><br/>\n",
    "                    * [WHERE](https://nbviewer.jupyter.org/github/SeanOhAileasa/adb-MySQL/blob/main/rc/data-database-types-relational-language-SQL-MySQL-C_R_UD-read-command-SELECT-WHERE.ipynb)&nbsp;&nbsp;|&nbsp;&nbsp;[operator](https://nbviewer.jupyter.org/github/SeanOhAileasa/adb-MySQL/blob/main/rc/data-database-types-relational-language-SQL-MySQL-C_R_UD-read-command-SELECT-WHERE-operator.ipynb)&nbsp;&nbsp;|&nbsp;&nbsp;[AND-OR](https://nbviewer.jupyter.org/github/SeanOhAileasa/adb-MySQL/blob/main/rc/data-database-types-relational-language-SQL-MySQL-C_R_UD-read-command-SELECT-WHERE-operator-AND-OR.ipynb)&nbsp;&nbsp;|&nbsp;&nbsp;[BETWEEN](https://nbviewer.jupyter.org/github/SeanOhAileasa/adb-MySQL/blob/main/rc/data-database-types-relational-language-SQL-MySQL-C_R_UD-read-command-SELECT-WHERE-operator-BETWEEN.ipynb)&nbsp;&nbsp;|&nbsp;&nbsp;[LIKE](https://nbviewer.jupyter.org/github/SeanOhAileasa/adb-MySQL/blob/main/rc/data-database-types-relational-language-SQL-MySQL-C_R_UD-read-command-SELECT-WHERE-operator-LIKE.ipynb)&nbsp;&nbsp;|&nbsp;&nbsp;[IN](https://nbviewer.jupyter.org/github/SeanOhAileasa/adb-MySQL/blob/main/rc/data-database-types-relational-language-SQL-MySQL-C_R_UD-read-command-SELECT-WHERE-operator-IN.ipynb) **[External Link]** <br/><br/>\n",
    "                    * [LIMIT](https://nbviewer.jupyter.org/github/SeanOhAileasa/adb-MySQL/blob/main/rc/data-database-types-relational-language-SQL-MySQL-C_R_UD-read-command-SELECT-LIMIT.ipynb) **[External Link]** <br/><br/>\n",
    "                    * [DISTINCT](https://nbviewer.jupyter.org/github/SeanOhAileasa/adb-MySQL/blob/main/rc/data-database-types-relational-language-SQL-MySQL-C_R_UD-read-command-SELECT-DISTINCT.ipynb) **[External Link]** <br/><br/>\n",
    "                    * [ORDER-BY](https://nbviewer.jupyter.org/github/SeanOhAileasa/adb-MySQL/blob/main/rc/data-database-types-relational-language-SQL-MySQL-C_R_UD-read-command-SELECT-ORDER-BY.ipynb) **[External Link]** <br/><br/>\n",
    "                    * [process](https://nbviewer.jupyter.org/github/SeanOhAileasa/adb-MySQL/blob/main/rc/data-database-types-relational-language-SQL-MySQL-C_R_UD-read-command-SELECT-process.ipynb) **[External Link]** <br/><br/>\n",
    "                        * [subquery](https://nbviewer.jupyter.org/github/SeanOhAileasa/adb-MySQL/blob/main/rc/data-database-types-relational-language-SQL-MySQL-C_R_UD-read-command-SELECT-process-subquery.ipynb) **[External Link]** <br/><br/>\n",
    "            * [\\_C_RUD-create-command](https://nbviewer.jupyter.org/github/SeanOhAileasa/adb-MySQL/blob/main/rc/data-database-types-relational-language-SQL-MySQL-_C_RUD-create-command-intentionally-blank.ipynb) **[External Link]** <br/><br/>\n",
    "                * [INSERT-INTO](https://nbviewer.jupyter.org/github/SeanOhAileasa/adb-MySQL/blob/main/rc/data-database-types-relational-language-SQL-MySQL-_C_RUD-create-command-INSERT-INTO.ipynb) **[External Link]** <br/><br/>\n",
    "            * [CR_U_D-update-command](https://nbviewer.jupyter.org/github/SeanOhAileasa/adb-MySQL/blob/main/rc/data-database-types-relational-language-SQL-MySQL-CR_U_D-update-command-intentionally-blank.ipynb) **[External Link]** <br/><br/>\n",
    "                * [UPDATE-SET](https://nbviewer.jupyter.org/github/SeanOhAileasa/adb-MySQL/blob/main/rc/data-database-types-relational-language-SQL-MySQL-CR_U_D-update-command-UPDATE-SET.ipynb) **[External Link]** <br/><br/>\n",
    "            * [CRU_D_-delete-command](https://nbviewer.jupyter.org/github/SeanOhAileasa/adb-MySQL/blob/main/rc/data-database-types-relational-language-SQL-MySQL-CRU_D_-delete-command-intentionally-blank.ipynb) **[External Link]** <br/><br/>\n",
    "                * [DELETE](https://nbviewer.jupyter.org/github/SeanOhAileasa/adb-MySQL/blob/main/rc/data-database-types-relational-language-SQL-MySQL-CRU_D_-delete-command-DELETE.ipynb) **[External Link]** <br/><br/>\n",
    "                    * [foreign-key](https://nbviewer.jupyter.org/github/SeanOhAileasa/adb-MySQL/blob/main/rc/data-database-types-relational-language-SQL-MySQL-CRU_D_-delete-command-DELETE-foreign-key-intentionally-blank.ipynb)&nbsp;&nbsp;|&nbsp;&nbsp;[ON-DELETE-RESTRICT](https://nbviewer.jupyter.org/github/SeanOhAileasa/adb-MySQL/blob/main/rc/data-database-types-relational-language-SQL-MySQL-CRU_D_-delete-command-DELETE-foreign-key-ON-DELETE-RESTRICT.ipynb)&nbsp;&nbsp;|&nbsp;&nbsp;[ON-DELETE-CASCADE](https://nbviewer.jupyter.org/github/SeanOhAileasa/adb-MySQL/blob/main/rc/data-database-types-relational-language-SQL-MySQL-CRU_D_-delete-command-DELETE-foreign-key-ON-DELETE-CASCADE.ipynb)&nbsp;&nbsp;|&nbsp;&nbsp;[ON-DELETE-SET-NULL](https://nbviewer.jupyter.org/github/SeanOhAileasa/adb-MySQL/blob/main/rc/data-database-types-relational-language-SQL-MySQL-CRU_D_-delete-command-DELETE-foreign-key-ON-DELETE-SET-NULL.ipynb) **[External Link]** <br/><br/>\n",
    "        * [primary-key](https://nbviewer.jupyter.org/github/SeanOhAileasa/adb-MySQL/blob/main/rc/data-database-types-relational-language-SQL-MySQL-primary-key.ipynb) **[External Link]** <br/><br/>\n",
    "        * [function](https://nbviewer.jupyter.org/github/SeanOhAileasa/adb-MySQL/blob/main/rc/data-database-types-relational-language-SQL-MySQL-function.ipynb) **[External Link]** <br/><br/>\n",
    "            * [built-in](https://nbviewer.jupyter.org/github/SeanOhAileasa/adb-MySQL/blob/main/rc/data-database-types-relational-language-SQL-MySQL-function-built-in.ipynb) **[External Link]** <br/><br/>\n",
    "                * [string](https://nbviewer.jupyter.org/github/SeanOhAileasa/adb-MySQL/blob/main/rc/data-database-types-relational-language-SQL-MySQL-function-built-in-string-intentionally-blank.ipynb) **[External Link]** <br/><br/>\n",
    "                    * [UPPER](https://nbviewer.jupyter.org/github/SeanOhAileasa/adb-MySQL/blob/main/rc/data-database-types-relational-language-SQL-MySQL-function-built-in-string-UPPER.ipynb) **[External Link]** <br/><br/>\n",
    "                    * [STRCMP](https://nbviewer.jupyter.org/github/SeanOhAileasa/adb-MySQL/blob/main/rc/data-database-types-relational-language-SQL-MySQL-function-built-in-string-STRCMP.ipynb) **[External Link]** <br/><br/>\n",
    "                    * [ASCII](https://nbviewer.jupyter.org/github/SeanOhAileasa/adb-MySQL/blob/main/rc/data-database-types-relational-language-SQL-MySQL-function-built-in-string-ASCII.ipynb) **[External Link]** <br/><br/>\n",
    "                    * [REPLACE](https://nbviewer.jupyter.org/github/SeanOhAileasa/adb-MySQL/blob/main/rc/data-database-types-relational-language-SQL-MySQL-function-built-in-string-REPLACE.ipynb) **[External Link]** <br/><br/>\n",
    "                    * [SUBSTR](https://nbviewer.jupyter.org/github/SeanOhAileasa/adb-MySQL/blob/main/rc/data-database-types-relational-language-SQL-MySQL-function-built-in-string-SUBSTR.ipynb) **[External Link]** <br/><br/>\n",
    "                    * [CONCAT](https://nbviewer.jupyter.org/github/SeanOhAileasa/adb-MySQL/blob/main/rc/data-database-types-relational-language-SQL-MySQL-function-built-in-string-CONCAT.ipynb) **[External Link]** <br/><br/>\n",
    "                * [numeric](https://nbviewer.jupyter.org/github/SeanOhAileasa/adb-MySQL/blob/main/rc/data-database-types-relational-language-SQL-MySQL-function-built-in-numeric-intentionally-blank.ipynb) **[External Link]** <br/><br/>\n",
    "                    * [SQRT](https://nbviewer.jupyter.org/github/SeanOhAileasa/adb-MySQL/blob/main/rc/data-database-types-relational-language-SQL-MySQL-function-built-in-numeric-SQRT.ipynb) **[External Link]** <br/><br/>\n",
    "                    * [ROUND](https://nbviewer.jupyter.org/github/SeanOhAileasa/adb-MySQL/blob/main/rc/data-database-types-relational-language-SQL-MySQL-function-built-in-numeric-ROUND.ipynb) **[External Link]** <br/><br/>\n",
    "                * [date](https://nbviewer.jupyter.org/github/SeanOhAileasa/adb-MySQL/blob/main/rc/data-database-types-relational-language-SQL-MySQL-function-built-in-date-intentionally-blank.ipynb) **[External Link]** <br/><br/>\n",
    "                    * [DATEDIFF](https://nbviewer.jupyter.org/github/SeanOhAileasa/adb-MySQL/blob/main/rc/data-database-types-relational-language-SQL-MySQL-function-built-in-date-DATEDIFF.ipynb) **[External Link]** <br/><br/>\n",
    "                    * [DATE_FORMAT](https://nbviewer.jupyter.org/github/SeanOhAileasa/adb-MySQL/blob/main/rc/data-database-types-relational-language-SQL-MySQL-function-built-in-date-DATE_FORMAT.ipynb) **[External Link]** <br/><br/>\n",
    "                * [aggregate](https://nbviewer.jupyter.org/github/SeanOhAileasa/adb-MySQL/blob/main/rc/data-database-types-relational-language-SQL-MySQL-function-built-in-aggregate.ipynb) **[External Link]** <br/><br/>\n",
    "                    * [AVG](https://nbviewer.jupyter.org/github/SeanOhAileasa/adb-MySQL/blob/main/rc/data-database-types-relational-language-SQL-MySQL-function-built-in-aggregate-AVG.ipynb) **[External Link]** <br/><br/>\n",
    "                    * [COUNT](https://nbviewer.jupyter.org/github/SeanOhAileasa/adb-MySQL/blob/main/rc/data-database-types-relational-language-SQL-MySQL-function-built-in-aggregate-COUNT.ipynb) **[External Link]** <br/><br/>\n",
    "                * [clause](https://nbviewer.jupyter.org/github/SeanOhAileasa/adb-MySQL/blob/main/rc/data-database-types-relational-language-SQL-MySQL-function-built-in-aggregate-clause-intentionally-blank.ipynb) **[External Link]** <br/><br/>\n",
    "                    * [GROUP-BY](https://nbviewer.jupyter.org/github/SeanOhAileasa/adb-MySQL/blob/main/rc/data-database-types-relational-language-SQL-MySQL-function-built-in-aggregate-clause-GROUP-BY.ipynb) **[External Link]** <br/><br/>\n",
    "                        * [HAVING](https://nbviewer.jupyter.org/github/SeanOhAileasa/adb-MySQL/blob/main/rc/data-database-types-relational-language-SQL-MySQL-function-built-in-aggregate-clause-GROUP-BY-HAVING.ipynb) **[External Link]** <br/><br/>\n",
    "                * [information](https://nbviewer.jupyter.org/github/SeanOhAileasa/adb-MySQL/blob/main/rc/data-database-types-relational-language-SQL-MySQL-function-built-in-information-intentionally-blank.ipynb) **[External Link]** <br/><br/>\n",
    "                    * [DATABASE](https://nbviewer.jupyter.org/github/SeanOhAileasa/adb-MySQL/blob/main/rc/data-database-types-relational-language-SQL-MySQL-function-built-in-information-DATABASE.ipynb) **[External Link]** <br/><br/>\n",
    "                    * [USER](https://nbviewer.jupyter.org/github/SeanOhAileasa/adb-MySQL/blob/main/rc/data-database-types-relational-language-SQL-MySQL-function-built-in-information-USER.ipynb) **[External Link]** <br/><br/>\n",
    "                * [control-flow](https://nbviewer.jupyter.org/github/SeanOhAileasa/adb-MySQL/blob/main/rc/data-database-types-relational-language-SQL-MySQL-function-built-in-control-flow.ipynb) **[External Link]** <br/><br/>\n",
    "                    * [conditional](https://nbviewer.jupyter.org/github/SeanOhAileasa/adb-MySQL/blob/main/rc/data-database-types-relational-language-SQL-MySQL-function-built-in-control-flow-conditional.ipynb) **[External Link]** <br/><br/>\n",
    "                    * [CASE](https://nbviewer.jupyter.org/github/SeanOhAileasa/adb-MySQL/blob/main/rc/data-database-types-relational-language-SQL-MySQL-function-built-in-control-flow-CASE.ipynb) **[External Link]** <br/><br/>\n",
    "            * [stored-routine](https://nbviewer.jupyter.org/github/SeanOhAileasa/adb-MySQL/blob/main/rc/data-database-types-relational-language-SQL-MySQL-function-stored-routine.ipynb) **[External Link]** <br/><br/>\n",
    "                * [CREATE-FUNCTION](https://nbviewer.jupyter.org/github/SeanOhAileasa/adb-MySQL/blob/main/rc/data-database-types-relational-language-SQL-MySQL-function-stored-routine-CREATE-FUNCTION.ipynb) **[External Link]** <br/><br/>\n",
    "                * [information_schema](https://nbviewer.jupyter.org/github/SeanOhAileasa/adb-MySQL/blob/main/rc/data-database-types-relational-language-SQL-MySQL-function-stored-routine-information_schema.ipynb) **[External Link]** <br/><br/>\n",
    "                * [command](https://nbviewer.jupyter.org/github/SeanOhAileasa/adb-MySQL/blob/main/rc/data-database-types-relational-language-SQL-MySQL-function-stored-routine-command-intentionally-blank.ipynb) **[External Link]** <br/><br/>\n",
    "                    * [SHOW-CREATE-FUNCTION](https://nbviewer.jupyter.org/github/SeanOhAileasa/adb-MySQL/blob/main/rc/data-database-types-relational-language-SQL-MySQL-function-stored-routine-command-SHOW-CREATE-FUNCTION.ipynb) **[External Link]** <br/><br/>\n",
    "                    * [DROP](https://nbviewer.jupyter.org/github/SeanOhAileasa/adb-MySQL/blob/main/rc/data-database-types-relational-language-SQL-MySQL-function-stored-routine-command-DROP.ipynb) **[External Link]** <br/><br/>\n",
    "                * [stored-procedure](https://nbviewer.jupyter.org/github/SeanOhAileasa/adb-MySQL/blob/main/rc/data-database-types-relational-language-SQL-MySQL-function-stored-procedure.ipynb) **[External Link]** <br/><br/>\n",
    "                    * [CREATE-PROCEDURE](https://nbviewer.jupyter.org/github/SeanOhAileasa/adb-MySQL/blob/main/rc/data-database-types-relational-language-SQL-MySQL-function-stored-procedures-CREATE-PROCEDURE.ipynb) **[External Link]** <br/><br/>\n",
    "                    * [information_schema](https://nbviewer.jupyter.org/github/SeanOhAileasa/adb-MySQL/blob/main/rc/data-database-types-relational-language-SQL-MySQL-function-stored-procedures-information_schema.ipynb) **[External Link]** <br/><br/>\n",
    "                        * [command](https://nbviewer.jupyter.org/github/SeanOhAileasa/adb-MySQL/blob/main/rc/data-database-types-relational-language-SQL-MySQL-function-stored-procedures-command-intentionally-blank.ipynb)&nbsp;&nbsp;|&nbsp;&nbsp;[SHOW-CREATE-PROCEDURE](https://nbviewer.jupyter.org/github/SeanOhAileasa/adb-MySQL/blob/main/rc/data-database-types-relational-language-SQL-MySQL-function-stored-procedures-command-SHOW-CREATE-PROCEDURE.ipynb)&nbsp;&nbsp;|&nbsp;&nbsp;[DROP](https://nbviewer.jupyter.org/github/SeanOhAileasa/adb-MySQL/blob/main/rc/data-database-types-relational-language-SQL-MySQL-function-stored-procedures-command-DROP.ipynb) **[External Link]**"
   ]
  },
  {
   "cell_type": "markdown",
   "id": "aa5ca078",
   "metadata": {},
   "source": [
    "***\n",
    "## END"
   ]
  },
  {
   "cell_type": "markdown",
   "id": "7ed39de7",
   "metadata": {},
   "source": [
    "< [Table of Contents](#top) | [References](#references) >\n",
    "<a id=\"datarep\"></a>\n",
    "## Data Representation\n",
    "***"
   ]
  },
  {
   "cell_type": "markdown",
   "id": "6d105248",
   "metadata": {},
   "source": [
    "Course material for the ``Data Representation`` module (5 Credits) of the ``Higher Diploma in Science in Computing (Data Analytics) (H.Dip)`` programme (75 Credits) at **Galway-Mayo Institute of Technology (GMIT)**."
   ]
  },
  {
   "cell_type": "markdown",
   "id": "e6e99932",
   "metadata": {},
   "source": [
    "### [Connect MySQL - Python](#connectMySQLPython)\n",
    "***\n",
    "\n",
    "* [InfoSec](#security) <br/><br/>\n",
    "    * [Credentials](#credentials) <br/><br/>\n",
    "        * [``getpass``](#credentialsgetpass) <br/><br/>\n",
    "        * [``os``](#credentialsEnvironmentVariables) <br/><br/>\n",
    "            * [``environ``](#credentialsEnvironmentVariablesos)&nbsp;&nbsp;|&nbsp;&nbsp;[``get``](#credentialsEnvironmentVariablesos) <br/><br/>\n",
    "                * [``Linux``](#credentialsEnvironmentVariablesLinux)&nbsp;&nbsp;|&nbsp;&nbsp;[``Windows``](#credentialsEnvironmentVariablesWindows) <br/><br/>\n",
    "* [Server](#server) <br/><br/>\n",
    "    * [``WAMP``](#serverWAMP)&nbsp;&nbsp;|&nbsp;&nbsp;[Dependencies](#wampserverDependencies) <br/><br/>\n",
    "* [Driver](#driver) <br/><br/>\n",
    "    * [``mysql.connector``](#mysqlconnector) <br/><br/>\n",
    "        * &#8594; ``obj``: <br/><br/>    \n",
    "            * [``connect``](#mysqlconnectorconnect)&nbsp;&nbsp;|&nbsp;&nbsp;[``:host``](#mysqlconnectorconnect)&nbsp;&nbsp;|&nbsp;&nbsp;[``:user``](#mysqlconnectorconnect)&nbsp;&nbsp;|&nbsp;&nbsp;[``:password``](#mysqlconnectorconnect)&nbsp;&nbsp;|&nbsp;&nbsp;[``:database``](#mysqlconnectorconnect) <br/><br/> \n",
    "        * [``errors``](#mysqlconnectorerrors) <br/><br/>\n",
    "            * [``Error``](#mysqlconnectorError) (&#8594; InfoSec &#8594; Credentials &#8594; ``getpass``) <br/><br/>\n",
    "        * [``cursor``](#mysqlconnectorMySQLCursorcursor)&nbsp;&nbsp;|&nbsp;&nbsp;[``execute``](#mysqlconnectorMySQLCursorcursor) (&#8594; Driver &#8594; ``mysql.connector`` &#8594; ``obj`` &#8594; ``connect``) <br/><br/>\n",
    "            \n",
    "        <br/><br/>\n",
    "        <br/><br/>\n",
    "        <br/><br/>\n",
    "        <br/><br/>\n",
    "        <br/><br/>        "
   ]
  },
  {
   "cell_type": "markdown",
   "id": "6338d5ad",
   "metadata": {},
   "source": [
    "< [Table of Contents](#top) | [References](#references) >\n",
    "<a id=\"connectMySQLPython\"></a>\n",
    "***\n",
    "### Connect MySQL - Python\n",
    "***"
   ]
  },
  {
   "cell_type": "code",
   "execution_count": null,
   "id": "e8d7be9c",
   "metadata": {},
   "outputs": [],
   "source": [
    "# fFile(nParPath=\"./hide/drp/DR9.01 databases - 28-11-2019.mp4\")\n",
    "# fFile(nParPath=\"./hide/drp/DR9.01 databases.pptx\")\n",
    "# fFile(nParPath=\"./hide/drp/Lab09.01 databases.pdf\")"
   ]
  },
  {
   "cell_type": "markdown",
   "id": "697c8601",
   "metadata": {},
   "source": [
    "- integrate ``MySQL`` database with an application [2]"
   ]
  },
  {
   "cell_type": "markdown",
   "id": "b507a66e",
   "metadata": {},
   "source": [
    "< [Table of Contents](#top) | [References](#references) >\n",
    "<a id=\"security\"></a>\n",
    "***\n",
    "### InfoSec\n",
    "***"
   ]
  },
  {
   "cell_type": "markdown",
   "id": "d3e22f15",
   "metadata": {},
   "source": [
    "&#x1F6A7;"
   ]
  },
  {
   "cell_type": "markdown",
   "id": "44fcceba",
   "metadata": {},
   "source": [
    "< [Table of Contents](#top) | [References](#references) >\n",
    "<a id=\"credentials\"></a>\n",
    "***\n",
    "###### Credentials\n",
    "***"
   ]
  },
  {
   "cell_type": "markdown",
   "id": "69ad367a",
   "metadata": {},
   "source": [
    "- should never hard-code login credentials [2][[Uber](https://web.archive.org/web/20210902085724/https://qz.com/674520/companies-are-sharing-their-secret-access-codes-on-github-and-they-may-not-even-know-it/)]"
   ]
  },
  {
   "cell_type": "markdown",
   "id": "d49ca8a0",
   "metadata": {},
   "source": [
    "< [Table of Contents](#top) | [References](#references) >\n",
    "<a id=\"credentialsgetpass\"></a>\n",
    "***\n",
    "###### ``getpass``\n",
    "***"
   ]
  },
  {
   "cell_type": "markdown",
   "id": "400869ee",
   "metadata": {},
   "source": [
    "- built-in module ``getpass`` module hides the password [2]"
   ]
  },
  {
   "cell_type": "code",
   "execution_count": 1,
   "id": "8150f373",
   "metadata": {},
   "outputs": [],
   "source": [
    "from getpass import getpass"
   ]
  },
  {
   "cell_type": "code",
   "execution_count": 2,
   "id": "a02b5eea",
   "metadata": {},
   "outputs": [],
   "source": [
    "exit()"
   ]
  },
  {
   "cell_type": "markdown",
   "id": "ed3dc1c0",
   "metadata": {},
   "source": [
    "< [Table of Contents](#top) | [References](#references) >\n",
    "<a id=\"credentialsEnvironmentVariables\"></a>\n",
    "***\n",
    "###### ``os``\n",
    "***"
   ]
  },
  {
   "cell_type": "markdown",
   "id": "5c9e2d0d",
   "metadata": {},
   "source": [
    "- while the use of the built-in module ``getpass`` to hide the password is better than hard-coding a more secure approach is to store sensitive information using environment variables [2]"
   ]
  },
  {
   "cell_type": "code",
   "execution_count": 1,
   "id": "9dfe2e5e",
   "metadata": {},
   "outputs": [],
   "source": [
    "import os"
   ]
  },
  {
   "cell_type": "code",
   "execution_count": 2,
   "id": "44c74f80",
   "metadata": {},
   "outputs": [],
   "source": [
    "exit()"
   ]
  },
  {
   "cell_type": "markdown",
   "id": "3ea13fcf",
   "metadata": {},
   "source": [
    "< [Table of Contents](#top) | [References](#references) >\n",
    "<a id=\"credentialsEnvironmentVariablesos\"></a>\n",
    "***\n",
    "###### ``environ`` ``get``\n",
    "***"
   ]
  },
  {
   "cell_type": "code",
   "execution_count": 1,
   "id": "fbdcf330",
   "metadata": {},
   "outputs": [],
   "source": [
    "from os import environ"
   ]
  },
  {
   "cell_type": "markdown",
   "id": "d37b0a2a",
   "metadata": {},
   "source": [
    "< [Table of Contents](#top) | [References](#references) >\n",
    "<a id=\"credentialsEnvironmentVariablesLinux\"></a>\n",
    "***\n",
    "###### ``Linux``\n",
    "***"
   ]
  },
  {
   "cell_type": "markdown",
   "id": "acc9f06b",
   "metadata": {},
   "source": [
    "- edit ``.bash_profile`` [2]"
   ]
  },
  {
   "cell_type": "markdown",
   "id": "c5561c75",
   "metadata": {},
   "source": [
    "- add (sensitive) environment variables [2]\n",
    "\n",
    "```\n",
    "export DB_USER=\"someUser\"\n",
    "export DB_PASS=\"somePassword\"\n",
    "```"
   ]
  },
  {
   "cell_type": "markdown",
   "id": "6da8ddfa",
   "metadata": {},
   "source": [
    "- ``environ`` (returns a ``dict``) allows access to the ``key`` (``DB_USER`` or ``DB_PASS``) via ``get`` and returns the ``value`` [2]\n",
    "\n",
    "```\n",
    "nUser=os.environ.get(\"DB_USER\")\n",
    "nPass=os.environ.get(\"DB_USER\")\n",
    "```"
   ]
  },
  {
   "cell_type": "markdown",
   "id": "c32fa324",
   "metadata": {},
   "source": [
    "< [Table of Contents](#top) | [References](#references) >\n",
    "<a id=\"credentialsEnvironmentVariablesWindows\"></a>\n",
    "***\n",
    "###### ``Windows``\n",
    "***"
   ]
  },
  {
   "cell_type": "markdown",
   "id": "4423c532",
   "metadata": {},
   "source": [
    "- within ``System`` (``Advanced system settings``) via ``Environment Variables`` add ``User variables`` [2]"
   ]
  },
  {
   "cell_type": "code",
   "execution_count": 2,
   "id": "5accf21e",
   "metadata": {},
   "outputs": [],
   "source": [
    "exit()"
   ]
  },
  {
   "cell_type": "markdown",
   "id": "7bb01d57",
   "metadata": {},
   "source": [
    "< [Table of Contents](#top) | [References](#references) >\n",
    "<a id=\"server\"></a>\n",
    "***\n",
    "### Server\n",
    "***"
   ]
  },
  {
   "cell_type": "markdown",
   "id": "5b6efec8",
   "metadata": {},
   "source": [
    "&#x1F6A7;"
   ]
  },
  {
   "cell_type": "markdown",
   "id": "f0afa93c",
   "metadata": {},
   "source": [
    "< [Table of Contents](#top) | [References](#references) >\n",
    "<a id=\"serverWAMP\"></a>\n",
    "***\n",
    "###### ``WAMP``\n",
    "***"
   ]
  },
  {
   "cell_type": "markdown",
   "id": "f952e42d",
   "metadata": {},
   "source": [
    "- install ``Windows Apache MySQL and PHP`` ([``WAMP``](https://www.wampserver.com/en/download-wampserver-64bits/)) [2]"
   ]
  },
  {
   "cell_type": "markdown",
   "id": "96459026",
   "metadata": {},
   "source": [
    "< [Table of Contents](#top) | [References](#references) >\n",
    "<a id=\"wampserverDependencies\"></a>\n",
    "***\n",
    "######  Dependencies\n",
    "***"
   ]
  },
  {
   "cell_type": "markdown",
   "id": "c9261578",
   "metadata": {},
   "source": [
    "- may need to install [[Microsoft Visual C++ Redistributable for Visual Studio](https://www.microsoft.com/en-us/download/details.aspx?id=30679)] [1]"
   ]
  },
  {
   "cell_type": "markdown",
   "id": "511b8529",
   "metadata": {},
   "source": [
    "- may need to install Microsoft C++ dynamic-link library (``msvcr120.dll``) file (same version as ``WAMP``) [2]"
   ]
  },
  {
   "cell_type": "markdown",
   "id": "9144a58c",
   "metadata": {},
   "source": [
    "< [Table of Contents](#top) | [References](#references) >\n",
    "<a id=\"driver\"></a>\n",
    "***\n",
    "###  Driver\n",
    "***"
   ]
  },
  {
   "cell_type": "markdown",
   "id": "3190339b",
   "metadata": {},
   "source": [
    "- connect and interact with database system [1]"
   ]
  },
  {
   "cell_type": "markdown",
   "id": "e4a0a752",
   "metadata": {},
   "source": [
    "< [Table of Contents](#top) | [References](#references) >\n",
    "<a id=\"mysqlconnector\"></a>\n",
    "***\n",
    "###### ``mysql.connector``\n",
    "***"
   ]
  },
  {
   "cell_type": "code",
   "execution_count": null,
   "id": "01fe8e93",
   "metadata": {},
   "outputs": [],
   "source": [
    "# fFile(nParPath=\"./hide/drp/DR09.02 python and DB - 28-11-2019.mp4\")\n",
    "# fFile(nParPath=\"./hide/drp/DR09.02 python and SQL.pptx\")\n",
    "# fFile(nParPath=\"./hide/drp/Lab09.02 python and databases.pdf\")"
   ]
  },
  {
   "cell_type": "code",
   "execution_count": 1,
   "id": "113586fa",
   "metadata": {},
   "outputs": [],
   "source": [
    "import mysql.connector"
   ]
  },
  {
   "cell_type": "code",
   "execution_count": 2,
   "id": "0d95f71c",
   "metadata": {},
   "outputs": [
    {
     "name": "stdout",
     "output_type": "stream",
     "text": [
      "\n",
      "MySQL Connector/Python - MySQL driver written in Python\n",
      "\n"
     ]
    }
   ],
   "source": [
    "print(mysql.connector.__doc__)"
   ]
  },
  {
   "cell_type": "code",
   "execution_count": 3,
   "id": "4eb645c2",
   "metadata": {},
   "outputs": [],
   "source": [
    "exit()"
   ]
  },
  {
   "cell_type": "markdown",
   "id": "f0e22b28",
   "metadata": {},
   "source": [
    "< [Table of Contents](#top) | [References](#references) >\n",
    "<a id=\"mysqlconnectorconnect\"></a>\n",
    "*** \n",
    "###### ``connect`` ``:host`` ``:user`` ``:password`` ``:database``\n",
    "***"
   ]
  },
  {
   "cell_type": "markdown",
   "id": "09c60181",
   "metadata": {},
   "source": [
    "- establish a connection [1]"
   ]
  },
  {
   "cell_type": "code",
   "execution_count": 1,
   "id": "beb0aafd",
   "metadata": {},
   "outputs": [],
   "source": [
    "from mysql.connector import connect"
   ]
  },
  {
   "cell_type": "code",
   "execution_count": 2,
   "id": "665a98ad",
   "metadata": {},
   "outputs": [],
   "source": [
    "nObjMySQLConnection=connect(host=\"localhost\",user=\"root\",password=\"\",database=\"datarep\")"
   ]
  },
  {
   "cell_type": "code",
   "execution_count": 3,
   "id": "bfae2ec2",
   "metadata": {},
   "outputs": [],
   "source": [
    "exit()"
   ]
  },
  {
   "cell_type": "markdown",
   "id": "08dba7b3",
   "metadata": {},
   "source": [
    "< [Table of Contents](#top) | [References](#references) >\n",
    "<a id=\"mysqlconnectorerrors\"></a>\n",
    "*** \n",
    "###### ``errors`` \n",
    "***"
   ]
  },
  {
   "cell_type": "code",
   "execution_count": 1,
   "id": "0f2d3608",
   "metadata": {},
   "outputs": [],
   "source": [
    "from mysql.connector import errors"
   ]
  },
  {
   "cell_type": "code",
   "execution_count": 2,
   "id": "1920dbce",
   "metadata": {},
   "outputs": [
    {
     "name": "stdout",
     "output_type": "stream",
     "text": [
      "Python exceptions\n",
      "\n"
     ]
    }
   ],
   "source": [
    "print(errors.__doc__)"
   ]
  },
  {
   "cell_type": "code",
   "execution_count": 3,
   "id": "e12ec92e",
   "metadata": {},
   "outputs": [],
   "source": [
    "exit()"
   ]
  },
  {
   "cell_type": "markdown",
   "id": "0eb2bfc5",
   "metadata": {},
   "source": [
    "< [Table of Contents](#top) | [References](#references) >\n",
    "<a id=\"mysqlconnectorerror\"></a>\n",
    "*** \n",
    "###### ``Error`` \n",
    "***"
   ]
  },
  {
   "cell_type": "code",
   "execution_count": 1,
   "id": "88846f30",
   "metadata": {},
   "outputs": [],
   "source": [
    "from mysql.connector import connect"
   ]
  },
  {
   "cell_type": "markdown",
   "id": "7c34edf8",
   "metadata": {},
   "source": [
    "- built-in ``getpass`` module hides the password [2]"
   ]
  },
  {
   "cell_type": "code",
   "execution_count": 2,
   "id": "ee20c03e",
   "metadata": {},
   "outputs": [],
   "source": [
    "from getpass import getpass"
   ]
  },
  {
   "cell_type": "code",
   "execution_count": 3,
   "id": "f2206c11",
   "metadata": {},
   "outputs": [],
   "source": [
    "from mysql.connector.errors import Error"
   ]
  },
  {
   "cell_type": "markdown",
   "id": "afd21c28",
   "metadata": {},
   "source": [
    "- context manager using ``with`` abstracts away the connection cleanup process (and other system resources such as files or locks) [2]"
   ]
  },
  {
   "cell_type": "code",
   "execution_count": 4,
   "id": "6dac91cc",
   "metadata": {},
   "outputs": [
    {
     "name": "stdout",
     "output_type": "stream",
     "text": [
      "enter username: notUSER\n",
      "enter password: ········\n",
      "1045 (28000): Access denied for user 'notUSER'@'localhost' (using password: YES)\n"
     ]
    }
   ],
   "source": [
    "try:\n",
    "    with connect(host=\"localhost\",user=input(\"enter username: \"),password=getpass(\"enter password: \")) as nObjMySQLConnection:\n",
    "        print(nObjMySQLConnection)\n",
    "except Error as e:\n",
    "    print(e)"
   ]
  },
  {
   "cell_type": "code",
   "execution_count": 5,
   "id": "385d8268",
   "metadata": {},
   "outputs": [],
   "source": [
    "exit()"
   ]
  },
  {
   "cell_type": "markdown",
   "id": "8b2084e2",
   "metadata": {},
   "source": [
    "< [Table of Contents](#top) | [References](#references) >\n",
    "<a id=\"mysqlconnectorMySQLCursorcursor\"></a>\n",
    "*** \n",
    "###### ``cursor`` ``execute``\n",
    "***"
   ]
  },
  {
   "cell_type": "markdown",
   "id": "5cc857b7",
   "metadata": {},
   "source": [
    "- a database ``cursor`` is a mechanism that enables traveral over records in a database (akin to the concept of ``iterator`` that enables traveral over a container particularly ``lists``) [2]"
   ]
  },
  {
   "cell_type": "markdown",
   "id": "6bad80fb",
   "metadata": {},
   "source": [
    "- executing an ``sqlQuery`` using a ``cursor`` abstracts away the access to database records [2]"
   ]
  },
  {
   "cell_type": "code",
   "execution_count": 1,
   "id": "06028510",
   "metadata": {},
   "outputs": [],
   "source": [
    "sqlQuery=\"CREATE DATABASE data_representation\""
   ]
  },
  {
   "cell_type": "code",
   "execution_count": 2,
   "id": "bbf08187",
   "metadata": {},
   "outputs": [],
   "source": [
    "from mysql.connector import connect\n",
    "from getpass import getpass\n",
    "from mysql.connector.errors import Error"
   ]
  },
  {
   "cell_type": "markdown",
   "id": "046c1e64",
   "metadata": {},
   "source": [
    "- the ``MySQLCursor`` class instantiates objects (``nInsObjCursor``) that can execute SQL queries [2]"
   ]
  },
  {
   "cell_type": "markdown",
   "id": "e550f39b",
   "metadata": {},
   "source": [
    "- a query that needs to be executed is sent in a string format to ``nInsObjCursor.execute`` [2]"
   ]
  },
  {
   "cell_type": "code",
   "execution_count": 3,
   "id": "ca841399",
   "metadata": {
    "scrolled": true
   },
   "outputs": [
    {
     "name": "stdout",
     "output_type": "stream",
     "text": [
      "enter username: root\n",
      "enter password: ········\n",
      "('information_schema',)\n",
      "('data_representation',)\n",
      "('mysql',)\n",
      "('performance_schema',)\n",
      "('sys',)\n"
     ]
    }
   ],
   "source": [
    "try:\n",
    "    with connect(host=\"localhost\",user=input(\"enter username: \"),password=getpass(\"enter password: \")) as nObjMySQLConnection:\n",
    "        with nObjMySQLConnection.cursor() as nInsObjCursor: # traveral over records\n",
    "            nInsObjCursor.execute(sqlQuery) # abstracts away access\n",
    "            nInsObjCursor.execute(\"show databases\") # verify MySQL server\n",
    "            for db in nInsObjCursor:\n",
    "                print(db)\n",
    "except Error as e:\n",
    "    print(e)   "
   ]
  },
  {
   "cell_type": "code",
   "execution_count": 4,
   "id": "d1c3f42c",
   "metadata": {},
   "outputs": [],
   "source": [
    "exit()"
   ]
  },
  {
   "cell_type": "markdown",
   "id": "72557dcc",
   "metadata": {},
   "source": [
    "***\n",
    "## END"
   ]
  },
  {
   "cell_type": "markdown",
   "id": "bcd28c42",
   "metadata": {},
   "source": [
    "< [Table of Contents](#top) | [References](#references) >\n",
    "<a id=\"references\"></a>\n",
    "***\n",
    "## References\n",
    "***\n",
    "\n",
    "&nbsp;&nbsp;&nbsp;&nbsp;&nbsp;&nbsp;&nbsp;&nbsp;&nbsp;[1] G. Harrison, \"Applied Databases,\" GMIT, 1st Semester 2020.\n",
    "\n",
    "&nbsp;&nbsp;&nbsp;&nbsp;&nbsp;&nbsp;&nbsp;&nbsp;&nbsp;[2] A. Beatty, \"DR9.01 databases,\" GMIT, November 2019.\n",
    "\n",
    "&nbsp;&nbsp;&nbsp;&nbsp;&nbsp;&nbsp;&nbsp;&nbsp;&nbsp;[2] C. Baweja, \"Python and MySQL Database: A Practical Introduction,\" [realpython.com](https://web.archive.org/web/20210902091838/https://realpython.com/python-mysql/), December 2020.\n",
    "\n",
    "&nbsp;&nbsp;&nbsp;&nbsp;&nbsp;&nbsp;&nbsp;&nbsp;&nbsp;[3] A. Beatty, \"DR09.02 python and DB,\" GMIT, November 2019."
   ]
  },
  {
   "cell_type": "markdown",
   "id": "f4ea552a",
   "metadata": {},
   "source": [
    "***\n",
    "## END"
   ]
  },
  {
   "cell_type": "markdown",
   "id": "d9f1a942",
   "metadata": {},
   "source": [
    "< [Table of Contents](#top) | [References](#references) >\n",
    "<a id=\"appendix\"></a>\n",
    "***\n",
    "## Appendix\n",
    "***"
   ]
  },
  {
   "cell_type": "markdown",
   "id": "ef2b2bdc",
   "metadata": {},
   "source": [
    "***\n",
    "## END"
   ]
  },
  {
   "cell_type": "markdown",
   "id": "79011a80",
   "metadata": {},
   "source": [
    "# END JUPYTER NOTEBOOK"
   ]
  }
 ],
 "metadata": {
  "kernelspec": {
   "display_name": "Python 3",
   "language": "python",
   "name": "python3"
  },
  "language_info": {
   "codemirror_mode": {
    "name": "ipython",
    "version": 3
   },
   "file_extension": ".py",
   "mimetype": "text/x-python",
   "name": "python",
   "nbconvert_exporter": "python",
   "pygments_lexer": "ipython3",
   "version": "3.8.8"
  }
 },
 "nbformat": 4,
 "nbformat_minor": 5
}
