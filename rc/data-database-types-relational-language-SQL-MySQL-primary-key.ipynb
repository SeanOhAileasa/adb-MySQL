{
 "cells": [
  {
   "cell_type": "markdown",
   "metadata": {},
   "source": [
    "# data-database-types-relational-language-SQL-MySQL-primary-key\n",
    "> [TABLE OF CONTENTS](https://nbviewer.jupyter.org/github/SeanOhAileasa/adb-MySQL/blob/main/adb-MySQL.ipynb#top)\n",
    "***"
   ]
  },
  {
   "cell_type": "markdown",
   "metadata": {},
   "source": [
    "```sql\n",
    "mysql> use lab1;\n",
    "Database changed\n",
    "```"
   ]
  },
  {
   "cell_type": "markdown",
   "metadata": {},
   "source": [
    "```sql\n",
    "mysql> show tables;\n",
    "+----------------+\n",
    "| Tables_in_lab1 |\n",
    "+----------------+\n",
    "| car            |\n",
    "| person         |\n",
    "+----------------+\n",
    "2 rows in set (0.00 sec)\n",
    "```"
   ]
  },
  {
   "cell_type": "markdown",
   "metadata": {},
   "source": [
    "- nine rows - records - tuples - representing nine people - every row - record - tuple - has the same columns - attributes - fields - personID - name - age - sex - dob - isStudent - without the column - attribute - field - personID - it would be difficult to **distinguish** - two **rows** - records - tuples - Shane - two rows - records - tuples - Pat - male and female - **possible** **one** or **more** rows - records - tuples - could **share** **all** **characteristics** - columns - attributes - fields - especially as the database grows in size [1]"
   ]
  },
  {
   "cell_type": "markdown",
   "metadata": {},
   "source": [
    "```sql\n",
    "mysql> SELECT *\n",
    "    -> FROM person;\n",
    "+----------+-------+------+------+------------+-----------+\n",
    "| personID | name  | age  | sex  | dob        | isStudent |\n",
    "+----------+-------+------+------+------------+-----------+\n",
    "|        1 | John  |   23 | M    | 2000-01-01 |         1 |\n",
    "|        2 | Tom   |   64 | M    | 1958-03-11 |         0 |\n",
    "|        3 | Mary  |   12 | F    | 2005-04-11 |         1 |\n",
    "|        4 | Alan  |   12 | M    | 2005-11-21 |         1 |\n",
    "|        5 | Pat   |   29 | M    | 1993-03-17 |         0 |\n",
    "|        6 | Shane |   40 | M    | 1988-07-21 |         0 |\n",
    "|        7 | Shane |   14 | M    | 2003-06-01 |         1 |\n",
    "|        8 | Alice |   24 | F    | 1999-03-01 |         1 |\n",
    "|        9 | Pat   |   37 | F    | 1988-04-15 |         0 |\n",
    "+----------+-------+------+------+------------+-----------+\n",
    "9 rows in set (0.00 sec)\n",
    "```"
   ]
  },
  {
   "cell_type": "markdown",
   "metadata": {},
   "source": [
    "- primary key - mysql - **uniquely** **identifying** **rows** - records - tuples - **characteristics** [1]"
   ]
  },
  {
   "cell_type": "markdown",
   "metadata": {},
   "source": [
    "- **column** - attribute - field - that **serve** as a **primary** **key** **must** **contain** **unique** **values** - **cannot** contain - **NULL** - values [1]"
   ]
  },
  {
   "cell_type": "markdown",
   "metadata": {},
   "source": [
    "- **table** - entity - relation - can **only** have **one** **primary** **key** [1]"
   ]
  },
  {
   "cell_type": "markdown",
   "metadata": {},
   "source": [
    "- **storing** **information** about **employees** - employees **id** could operate as - **primary** **key** - **every** **employee** in a **company** has a **unique** **id** [1]"
   ]
  },
  {
   "cell_type": "markdown",
   "metadata": {},
   "source": [
    "- table - relation - entity - person - does not matter what the column - attribute - field - personID - is as long as its unique [1]"
   ]
  },
  {
   "cell_type": "markdown",
   "metadata": {},
   "source": [
    "- **schema** - **Extra** - **auto_increment** - the **column** - attribute - field - personID - **value** - will be **one** **number** **higher** than the **previous** **highest** [1]"
   ]
  },
  {
   "cell_type": "markdown",
   "metadata": {},
   "source": [
    "```sql\n",
    "mysql> DESCRIBE person;\n",
    "+-----------+---------------+------+-----+---------+----------------+\n",
    "| Field     | Type          | Null | Key | Default | Extra          |\n",
    "+-----------+---------------+------+-----+---------+----------------+\n",
    "| personID  | int           | NO   | PRI | NULL    | auto_increment |\n",
    "| name      | varchar(20)   | NO   |     | NULL    |                |\n",
    "| age       | int           | YES  |     | NULL    |                |\n",
    "| sex       | enum('M','F') | YES  |     | M       |                |\n",
    "| dob       | date          | YES  |     | NULL    |                |\n",
    "| isStudent | tinyint(1)    | YES  |     | NULL    |                |\n",
    "+-----------+---------------+------+-----+---------+----------------+\n",
    "6 rows in set (0.00 sec)\n",
    "```"
   ]
  },
  {
   "cell_type": "markdown",
   "metadata": {},
   "source": [
    "- table - entity - relation - car - schema - the column - attribute - field - registration - is a good candidate as a primary key given it cannot be - NULL - or blank - every car has a registration and it is unique - no two cars have the same registration [1]"
   ]
  },
  {
   "cell_type": "markdown",
   "metadata": {},
   "source": [
    "```sql\n",
    "mysql> DESCRIBE car;\n",
    "+--------------+-------------+------+-----+---------+-------+\n",
    "| Field        | Type        | Null | Key | Default | Extra |\n",
    "+--------------+-------------+------+-----+---------+-------+\n",
    "| registration | varchar(15) | NO   | PRI | NULL    |       |\n",
    "| make         | varchar(20) | YES  |     | NULL    |       |\n",
    "| model        | varchar(20) | YES  |     | NULL    |       |\n",
    "| colour       | varchar(10) | YES  |     | NULL    |       |\n",
    "| mileage      | int         | YES  |     | NULL    |       |\n",
    "| engineSize   | float(2,1)  | YES  |     | NULL    |       |\n",
    "+--------------+-------------+------+-----+---------+-------+\n",
    "6 rows in set (0.00 sec)\n",
    "```"
   ]
  },
  {
   "cell_type": "markdown",
   "metadata": {},
   "source": [
    "***\n",
    "# END"
   ]
  }
 ],
 "metadata": {
  "kernelspec": {
   "display_name": "Python 3",
   "language": "python",
   "name": "python3"
  },
  "language_info": {
   "codemirror_mode": {
    "name": "ipython",
    "version": 3
   },
   "file_extension": ".py",
   "mimetype": "text/x-python",
   "name": "python",
   "nbconvert_exporter": "python",
   "pygments_lexer": "ipython3",
   "version": "3.7.6"
  }
 },
 "nbformat": 4,
 "nbformat_minor": 4
}
