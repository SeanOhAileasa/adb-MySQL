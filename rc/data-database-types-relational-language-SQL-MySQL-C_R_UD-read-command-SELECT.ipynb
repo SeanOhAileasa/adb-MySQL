{
 "cells": [
  {
   "cell_type": "markdown",
   "metadata": {},
   "source": [
    "# data-database-types-relational-language-SQL-MySQL-C_R_UD-read-command-SELECT\n",
    "> [TABLE OF CONTENTS](https://nbviewer.jupyter.org/github/SeanOhAileasa/adb-MySQL/blob/main/adb-MySQL.ipynb#top)\n",
    "***"
   ]
  },
  {
   "cell_type": "markdown",
   "metadata": {},
   "source": [
    "- **command** - SELECT - is the **workhorse** of - **sql** - during a databases lifecycle a small portion of the lifecycle will be setting up the database - once set up the relational database - schema - will remain static or unchanged - from when the database is set to when it becomes obsolete [1]"
   ]
  },
  {
   "cell_type": "markdown",
   "metadata": {},
   "source": [
    "- **used** for - **adding** - **updating** - **deleting** - as well as getting information from the database to enable the user learn more about the business - sales this week/quarter/year - new subscribed customers - **almost** **all** the **information** **obtained** from a database is **via** the command - **SELECT** [1]"
   ]
  },
  {
   "cell_type": "markdown",
   "metadata": {},
   "source": [
    "> [SQL DOCUMENTATION](https://web.archive.org/web/20200706074647/https://dev.mysql.com/doc/refman/8.0/en/select.html)"
   ]
  },
  {
   "cell_type": "markdown",
   "metadata": {},
   "source": [
    "- SELECT - command - **select** column/**columns** - attributes - fields from **table** - entity - relation [1]"
   ]
  },
  {
   "cell_type": "markdown",
   "metadata": {},
   "source": [
    "```sql\n",
    "SELECT <columns>\n",
    "FROM <table>;\n",
    "```"
   ]
  },
  {
   "cell_type": "markdown",
   "metadata": {},
   "source": [
    "- obtain all - * - columns - attributes - fields - from table - entity - relation [1]"
   ]
  },
  {
   "cell_type": "markdown",
   "metadata": {},
   "source": [
    "```sql\n",
    "mysql> -- lab1 - person\n",
    "mysql> SELECT *\n",
    "    -> FROM person;\n",
    "+----------+-------+------+------+------------+-----------+\n",
    "| personID | name  | age  | sex  | dob        | isStudent |\n",
    "+----------+-------+------+------+------------+-----------+\n",
    "|        1 | John  |   23 | M    | 2000-01-01 |         1 |\n",
    "|        2 | Tom   |   64 | M    | 1958-03-11 |         0 |\n",
    "|        3 | Mary  |   12 | F    | 2005-04-11 |         1 |\n",
    "|        4 | Alan  |   12 | M    | 2005-11-21 |         1 |\n",
    "|        5 | Pat   |   29 | M    | 1993-03-17 |         0 |\n",
    "|        6 | Shane |   40 | M    | 1988-07-21 |         0 |\n",
    "|        7 | Shane |   14 | M    | 2003-06-01 |         1 |\n",
    "|        8 | Alice |   24 | F    | 1999-03-01 |         1 |\n",
    "|        9 | Pat   |   37 | F    | 1988-04-15 |         0 |\n",
    "+----------+-------+------+------+------------+-----------+\n",
    "9 rows in set (0.00 sec)\n",
    "```"
   ]
  },
  {
   "cell_type": "markdown",
   "metadata": {},
   "source": [
    "- obtain column - attribute - field - name - from table - entity - relation - person [1]"
   ]
  },
  {
   "cell_type": "markdown",
   "metadata": {},
   "source": [
    "```sql\n",
    "mysql> -- lab1 - person\n",
    "mysql> SELECT name\n",
    "    -> FROM person;\n",
    "+-------+\n",
    "| name  |\n",
    "+-------+\n",
    "| John  |\n",
    "| Tom   |\n",
    "| Mary  |\n",
    "| Alan  |\n",
    "| Pat   |\n",
    "| Shane |\n",
    "| Shane |\n",
    "| Alice |\n",
    "| Pat   |\n",
    "+-------+\n",
    "9 rows in set (0.00 sec)\n",
    "```"
   ]
  },
  {
   "cell_type": "markdown",
   "metadata": {},
   "source": [
    "- obtain columns - attributes - fields - name - age - from table - entity - relation - person [1]"
   ]
  },
  {
   "cell_type": "markdown",
   "metadata": {},
   "source": [
    "```sql\n",
    "mysql> -- lab1 - person\n",
    "mysql> SELECT name,age\n",
    "    -> FROM person;\n",
    "+-------+------+\n",
    "| name  | age  |\n",
    "+-------+------+\n",
    "| John  |   23 |\n",
    "| Tom   |   64 |\n",
    "| Mary  |   12 |\n",
    "| Alan  |   12 |\n",
    "| Pat   |   29 |\n",
    "| Shane |   40 |\n",
    "| Shane |   14 |\n",
    "| Alice |   24 |\n",
    "| Pat   |   37 |\n",
    "+-------+------+\n",
    "9 rows in set (0.00 sec)\n",
    "```"
   ]
  },
  {
   "cell_type": "markdown",
   "metadata": {},
   "source": [
    "***\n",
    "# END"
   ]
  }
 ],
 "metadata": {
  "kernelspec": {
   "display_name": "Python 3",
   "language": "python",
   "name": "python3"
  },
  "language_info": {
   "codemirror_mode": {
    "name": "ipython",
    "version": 3
   },
   "file_extension": ".py",
   "mimetype": "text/x-python",
   "name": "python",
   "nbconvert_exporter": "python",
   "pygments_lexer": "ipython3",
   "version": "3.7.6"
  }
 },
 "nbformat": 4,
 "nbformat_minor": 4
}
