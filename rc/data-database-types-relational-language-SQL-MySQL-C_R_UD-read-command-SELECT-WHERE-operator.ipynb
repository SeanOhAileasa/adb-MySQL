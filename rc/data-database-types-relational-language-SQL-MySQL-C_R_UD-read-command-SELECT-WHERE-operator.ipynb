{
 "cells": [
  {
   "cell_type": "markdown",
   "metadata": {},
   "source": [
    "# data-database-types-relational-language-SQL-MySQL-C_R_UD-read-command-SELECT-WHERE-operator\n",
    "> [TABLE OF CONTENTS](https://nbviewer.jupyter.org/github/SeanOhAileasa/adb-MySQL/blob/main/adb-MySQL.ipynb#top)\n",
    "***"
   ]
  },
  {
   "cell_type": "markdown",
   "metadata": {},
   "source": [
    "| operator | meaning:                                   |\n",
    "| -------- | ------------------------------------------ |\n",
    "| =        | equal to                                   |\n",
    "| <>       | not equal to                               |\n",
    "| !=       | not equal to                               |\n",
    "| >        | greater than                               |\n",
    "| <        | less than                                  |\n",
    "| >=       | greater than or equal to                   |\n",
    "| <=       | less than or equal to                      |\n",
    "| BETWEEN  | between an inclusive range                 |\n",
    "| LIKE     | search for a pattern                       |\n",
    "| IN       | result is one of multiple specified values |"
   ]
  },
  {
   "cell_type": "code",
   "execution_count": 1,
   "metadata": {},
   "outputs": [
    {
     "data": {
      "text/plain": [
       "9"
      ]
     },
     "execution_count": 1,
     "metadata": {},
     "output_type": "execute_result"
    }
   ],
   "source": [
    "1+2*4"
   ]
  },
  {
   "cell_type": "markdown",
   "metadata": {},
   "source": [
    "- multiplication - division - higher **precedence** than - addition - substraction - same is **true** in - **mysql** - there is an **order** **of** **precedence** for **each** **operator** [1]"
   ]
  },
  {
   "cell_type": "markdown",
   "metadata": {},
   "source": [
    "- **operator** **precedence** - from **highest** **precedence** to the **lowest** [1]"
   ]
  },
  {
   "cell_type": "markdown",
   "metadata": {},
   "source": [
    "[MySQL Documentation](http://web.archive.org/web/20200706074516/https://dev.mysql.com/doc/refman/8.0/en/operator-precedence.html)"
   ]
  },
  {
   "cell_type": "markdown",
   "metadata": {},
   "source": [
    "```sql\n",
    "INTERVAL\n",
    "BINARY, COLLATE\n",
    "!\n",
    "- (unary minus), ~ (unary bit inversion)\n",
    "^\n",
    "*, /, DIV, %, MOD\n",
    "-, +\n",
    "<<, >>\n",
    "&\n",
    "|\n",
    "= (comparison), <=>, >=, >, <=, <, <>, !=, IS, LIKE, REGEXP, IN, MEMBER OF\n",
    "BETWEEN, CASE, WHEN, THEN, ELSE\n",
    "NOT\n",
    "AND, &&\n",
    "XOR\n",
    "OR, ||\n",
    "= (assignment), :=\n",
    "```"
   ]
  },
  {
   "cell_type": "markdown",
   "metadata": {},
   "source": [
    "***\n",
    "# END"
   ]
  }
 ],
 "metadata": {
  "kernelspec": {
   "display_name": "Python 3",
   "language": "python",
   "name": "python3"
  },
  "language_info": {
   "codemirror_mode": {
    "name": "ipython",
    "version": 3
   },
   "file_extension": ".py",
   "mimetype": "text/x-python",
   "name": "python",
   "nbconvert_exporter": "python",
   "pygments_lexer": "ipython3",
   "version": "3.7.6"
  }
 },
 "nbformat": 4,
 "nbformat_minor": 4
}
