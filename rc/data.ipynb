{
 "cells": [
  {
   "cell_type": "markdown",
   "metadata": {},
   "source": [
    "# data\n",
    "> [TABLE OF CONTENTS](https://nbviewer.jupyter.org/github/SeanOhAileasa/adb-MySQL/blob/main/adb-MySQL.ipynb#top)\n",
    "***"
   ]
  },
  {
   "cell_type": "markdown",
   "metadata": {},
   "source": [
    "- data - **single** **piece** of **information** - age - height - number of students taking a course - first preference votes a politician got in a particular election - data - **series** of **facts** or **statistics** - data - on a person - age - height - hair colour - address [1]"
   ]
  },
  {
   "cell_type": "markdown",
   "metadata": {},
   "source": [
    "- **datum** - **singular** - **data** - **plural** - **nowadays** - data - used in **both** the - singular - plural context [1]"
   ]
  },
  {
   "cell_type": "markdown",
   "metadata": {},
   "source": [
    "- **generate** - **use** - **data** - **everyday** **life** - shopping to get groceries - might make a list of the items needed - helps to complete shopping more effectively - printed bank or mortgage statements filed away in a drawer [1]"
   ]
  },
  {
   "cell_type": "markdown",
   "metadata": {},
   "source": [
    "- **online** - **generate** **vast** **amounts** of - data - **digital** **footprint** - most think of digital footprint in terms of **active** digital footprint - data - intentionally submitted online - posting a message to an online forum - liking a facebook post - sending an email [1]"
   ]
  },
  {
   "cell_type": "markdown",
   "metadata": {},
   "source": [
    "- **passive** **digital** **footprint** - visiting a website - **ip** **address** - unique way **computer** is **identified** on the internet - said ip address may be **logged** on a **server** associated with website - all this - data - needs to be stored somewhere - can access - get the necessary information from it - website such as a shopping website - may be interested to know - most popular time purchases are made - which country or region is more likely to be interested in certain products - digital footprint such as the posting liked on facebook - series watched on Netflix - websites visited help companies to determine what consumers like - keep consumers coming back [1]"
   ]
  },
  {
   "cell_type": "markdown",
   "metadata": {},
   "source": [
    "- **amount** - **data** - **generated** is increasing **exponentially** year on year - needs to be **stored** somewhere so it can be used effectively - **databases** [1]"
   ]
  },
  {
   "cell_type": "markdown",
   "metadata": {},
   "source": [
    "***\n",
    "# END"
   ]
  }
 ],
 "metadata": {
  "kernelspec": {
   "display_name": "Python 3",
   "language": "python",
   "name": "python3"
  },
  "language_info": {
   "codemirror_mode": {
    "name": "ipython",
    "version": 3
   },
   "file_extension": ".py",
   "mimetype": "text/x-python",
   "name": "python",
   "nbconvert_exporter": "python",
   "pygments_lexer": "ipython3",
   "version": "3.8.8"
  }
 },
 "nbformat": 4,
 "nbformat_minor": 4
}
