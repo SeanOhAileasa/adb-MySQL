{
 "cells": [
  {
   "cell_type": "markdown",
   "metadata": {},
   "source": [
    "# data-database-types-relational-language-SQL-MySQL-function-built-in-numeric-ROUND\n",
    "> [TABLE OF CONTENTS](https://nbviewer.jupyter.org/github/SeanOhAileasa/adb-MySQL/blob/main/adb-MySQL.ipynb#top)\n",
    "***"
   ]
  },
  {
   "cell_type": "markdown",
   "metadata": {},
   "source": [
    "- **rounds** a **number** [1]"
   ]
  },
  {
   "cell_type": "markdown",
   "metadata": {},
   "source": [
    "- **specified** by - **parameter** - **number** - to a **specified** **number** of **decimal** **places** [1]"
   ]
  },
  {
   "cell_type": "markdown",
   "metadata": {},
   "source": [
    "```sql\n",
    "ROUND(number,decimal)\n",
    "```"
   ]
  },
  {
   "cell_type": "markdown",
   "metadata": {},
   "source": [
    "```sql\n",
    "mysql> use lab1;\n",
    "Database changed\n",
    "```"
   ]
  },
  {
   "cell_type": "markdown",
   "metadata": {},
   "source": [
    "```sql\n",
    "mysql> show tables;\n",
    "+----------------+\n",
    "| Tables_in_lab1 |\n",
    "+----------------+\n",
    "| car            |\n",
    "| person         |\n",
    "| personex       |\n",
    "+----------------+\n",
    "3 rows in set (0.00 sec)\n",
    "```"
   ]
  },
  {
   "cell_type": "markdown",
   "metadata": {},
   "source": [
    "```sql\n",
    "mysql> DESCRIBE car;\n",
    "+--------------+-------------+------+-----+---------+-------+\n",
    "| Field        | Type        | Null | Key | Default | Extra |\n",
    "+--------------+-------------+------+-----+---------+-------+\n",
    "| registration | varchar(15) | NO   | PRI | NULL    |       |\n",
    "| make         | varchar(20) | YES  |     | NULL    |       |\n",
    "| model        | varchar(20) | YES  |     | NULL    |       |\n",
    "| colour       | varchar(10) | YES  |     | NULL    |       |\n",
    "| mileage      | int         | YES  |     | NULL    |       |\n",
    "| engineSize   | float(2,1)  | YES  |     | NULL    |       |\n",
    "+--------------+-------------+------+-----+---------+-------+\n",
    "6 rows in set (0.00 sec)\n",
    "```"
   ]
  },
  {
   "cell_type": "markdown",
   "metadata": {},
   "source": [
    "```sql\n",
    "mysql> SELECT engineSize\n",
    "    -> FROM car\n",
    "    -> LIMIT 4;\n",
    "+------------+\n",
    "| engineSize |\n",
    "+------------+\n",
    "|        1.6 |\n",
    "|        1.3 |\n",
    "|        1.4 |\n",
    "|        1.3 |\n",
    "+------------+\n",
    "4 rows in set (0.01 sec)\n",
    "```"
   ]
  },
  {
   "cell_type": "markdown",
   "metadata": {},
   "source": [
    "- each row - record - tuple - in table - entity - relation - car - has a column - attribute - field - engineSize - for taxation purposes - need to round the column - attribute - field - engineSize - up or down - if **no** **decimal** **places** **specified** to round to - **default** to **nearest** **integer** [1]"
   ]
  },
  {
   "cell_type": "markdown",
   "metadata": {},
   "source": [
    "```sql\n",
    "mysql> SELECT ROUND(engineSize)\n",
    "    -> FROM car\n",
    "    -> LIMIT 4;\n",
    "+-------------------+\n",
    "| ROUND(engineSize) |\n",
    "+-------------------+\n",
    "|                 2 |\n",
    "|                 1 |\n",
    "|                 1 |\n",
    "|                 1 |\n",
    "+-------------------+\n",
    "4 rows in set (0.00 sec)\n",
    "```"
   ]
  },
  {
   "cell_type": "markdown",
   "metadata": {},
   "source": [
    "***\n",
    "# END"
   ]
  }
 ],
 "metadata": {
  "kernelspec": {
   "display_name": "Python 3",
   "language": "python",
   "name": "python3"
  },
  "language_info": {
   "codemirror_mode": {
    "name": "ipython",
    "version": 3
   },
   "file_extension": ".py",
   "mimetype": "text/x-python",
   "name": "python",
   "nbconvert_exporter": "python",
   "pygments_lexer": "ipython3",
   "version": "3.7.6"
  }
 },
 "nbformat": 4,
 "nbformat_minor": 4
}
