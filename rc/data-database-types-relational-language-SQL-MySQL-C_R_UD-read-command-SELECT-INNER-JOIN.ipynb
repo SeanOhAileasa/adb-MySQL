{
 "cells": [
  {
   "cell_type": "markdown",
   "metadata": {},
   "source": [
    "# data-database-types-relational-language-SQL-MySQL-C_R_UD-read-command-SELECT-INNER-JOIN\n",
    "> [TABLE OF CONTENTS](https://nbviewer.jupyter.org/github/SeanOhAileasa/adb-MySQL/blob/main/adb-MySQL.ipynb#top)\n",
    "***"
   ]
  },
  {
   "cell_type": "markdown",
   "metadata": {},
   "source": [
    "- **obtain** **information** from a database **whereby** **all** the information is **not** **stored** in a **single** **table** - entity - relation [1]"
   ]
  },
  {
   "cell_type": "markdown",
   "metadata": {},
   "source": [
    "- obtain from table - entity - relation - Patient_Table - the rows - records - tuples - of columns - attributes - fields - PPSN - First_Name - as well as from the table - entity - relation - Doctor_table - the rows - records - tuples - of columns - attributes - fields - Name - Phone [1]"
   ]
  },
  {
   "cell_type": "markdown",
   "metadata": {},
   "source": [
    "<img src=\"img/06-02-10-02.png\" />"
   ]
  },
  {
   "cell_type": "markdown",
   "metadata": {},
   "source": [
    "```\n",
    "mysql> use hospital;\n",
    "Database changed\n",
    "```"
   ]
  },
  {
   "cell_type": "markdown",
   "metadata": {},
   "source": [
    "```sql\n",
    "mysql> show tables;\n",
    "+--------------------+\n",
    "| Tables_in_hospital |\n",
    "+--------------------+\n",
    "| doctor_table       |\n",
    "| patient_table      |\n",
    "+--------------------+\n",
    "2 rows in set (0.00 sec)\n",
    "```"
   ]
  },
  {
   "cell_type": "markdown",
   "metadata": {},
   "source": [
    "```sql\n",
    "mysql> describe doctor_table;\n",
    "+----------+-------------+------+-----+---------+-------+\n",
    "| Field    | Type        | Null | Key | Default | Extra |\n",
    "+----------+-------------+------+-----+---------+-------+\n",
    "| doctorID | int         | NO   | PRI | NULL    |       |\n",
    "| name     | varchar(50) | YES  |     | NULL    |       |\n",
    "| phone    | int         | YES  |     | NULL    |       |\n",
    "+----------+-------------+------+-----+---------+-------+\n",
    "3 rows in set (0.00 sec)\n",
    "```"
   ]
  },
  {
   "cell_type": "markdown",
   "metadata": {},
   "source": [
    "```sql\n",
    "mysql> describe patient_table;\n",
    "+------------+--------------+------+-----+---------+-------+\n",
    "| Field      | Type         | Null | Key | Default | Extra |\n",
    "+------------+--------------+------+-----+---------+-------+\n",
    "| ppsn       | varchar(10)  | NO   | PRI | NULL    |       |\n",
    "| first_name | varchar(50)  | YES  |     | NULL    |       |\n",
    "| surname    | varchar(50)  | YES  |     | NULL    |       |\n",
    "| address    | varchar(200) | YES  |     | NULL    |       |\n",
    "| doctorID   | int          | YES  | MUL | NULL    |       |\n",
    "+------------+--------------+------+-----+---------+-------+\n",
    "5 rows in set (0.00 sec)\n",
    "```"
   ]
  },
  {
   "cell_type": "markdown",
   "metadata": {},
   "source": [
    "```sql\n",
    "mysql> SHOW CREATE TABLE patient_table;\n",
    "+---------------+----------------------------------------------------------------------------------------------------------------------------------------------------------------------------------------------------------------------------------------------------------------------------------------------------------------------------------------------------------------------------------------------------------------------+\n",
    "| Table         | Create Table                                                                                                                                                                                                                                                                                                                                                                                                         |\n",
    "+---------------+----------------------------------------------------------------------------------------------------------------------------------------------------------------------------------------------------------------------------------------------------------------------------------------------------------------------------------------------------------------------------------------------------------------------+\n",
    "| patient_table | CREATE TABLE `patient_table` (\n",
    "  `ppsn` varchar(10) NOT NULL,\n",
    "  `first_name` varchar(50) DEFAULT NULL,\n",
    "  `surname` varchar(50) DEFAULT NULL,\n",
    "  `address` varchar(200) DEFAULT NULL,\n",
    "  `doctorID` int DEFAULT NULL,\n",
    "  PRIMARY KEY (`ppsn`),\n",
    "  KEY `doctorID` (`doctorID`),\n",
    "  CONSTRAINT `patient_table_ibfk_1` FOREIGN KEY (`doctorID`) REFERENCES `doctor_table` (`doctorID`)\n",
    ") ENGINE=InnoDB DEFAULT CHARSET=latin1 |\n",
    "+---------------+----------------------------------------------------------------------------------------------------------------------------------------------------------------------------------------------------------------------------------------------------------------------------------------------------------------------------------------------------------------------------------------------------------------------+\n",
    "1 row in set (0.00 sec)\n",
    "```"
   ]
  },
  {
   "cell_type": "markdown",
   "metadata": {},
   "source": [
    "- table - entity - relation - patient_table - obtain from columns - attributes - fields - ppsn - first_name - table - entity - relation - doctor_table - obtain from columns - attributes - fields - name - phone - **joining** rows - records - tuples - from the table - entity - relation - patient_table - with rows - records - tuples - from the table - entity - relation - doctor_table - based on - patient_table - doctorID - associated with - doctor_table - doctorID - whereby the doctor identification number is the same in both - **sql** - **joins** **rows** - records - tuples - in a **tables** - entities - relations - **based** on the **foreign** **key** [1]\n",
    "\n",
    "```sql\n",
    "CONSTRAINT `patient_table_ibfk_1` FOREIGN KEY (`doctorID`) REFERENCES `doctor_table` (`doctorID`)\n",
    "```"
   ]
  },
  {
   "cell_type": "markdown",
   "metadata": {},
   "source": [
    "```sql\n",
    "mysql> SELECT patient_table.ppsn,patient_table.first_name,\n",
    "    -> doctor_table.name,doctor_table.phone\n",
    "    -> FROM patient_table\n",
    "    -> INNER JOIN doctor_table\n",
    "    -> on patient_table.doctorId=doctor_table.doctorID;\n",
    "+----------+------------+------------+-------+\n",
    "| ppsn     | first_name | name       | phone |\n",
    "+----------+------------+------------+-------+\n",
    "| 7629913X | John       | Dr. Jones  | 12345 |\n",
    "| 9898823W | Fred       | Dr. Jones  | 12345 |\n",
    "| 989333F  | Alan       | Dr. Murphy | 88335 |\n",
    "+----------+------------+------------+-------+\n",
    "3 rows in set (0.00 sec)\n",
    "```"
   ]
  },
  {
   "cell_type": "markdown",
   "metadata": {},
   "source": [
    "```sql\n",
    "mysql> SELECT pt.ppsn,pt.first_name,\n",
    "    -> dt.name,dt.phone\n",
    "    -> FROM patient_table pt\n",
    "    -> INNER JOIN doctor_table dt\n",
    "    -> on pt.doctorID=dt.doctorID;\n",
    "+----------+------------+------------+-------+\n",
    "| ppsn     | first_name | name       | phone |\n",
    "+----------+------------+------------+-------+\n",
    "| 7629913X | John       | Dr. Jones  | 12345 |\n",
    "| 9898823W | Fred       | Dr. Jones  | 12345 |\n",
    "| 989333F  | Alan       | Dr. Murphy | 88335 |\n",
    "+----------+------------+------------+-------+\n",
    "3 rows in set (0.00 sec)\n",
    "```"
   ]
  },
  {
   "cell_type": "markdown",
   "metadata": {},
   "source": [
    "- **SELECT** - **first** **line** in the **query** - **usually** **last** **thing** **done** - **prints** out **information** **returned** [1]\n",
    "\n",
    "```sql\n",
    "SELECT patient_table.ppsn,patient_table.first_name,\n",
    "doctor_table.name,doctor_table.phone\n",
    "```    "
   ]
  },
  {
   "cell_type": "markdown",
   "metadata": {},
   "source": [
    "- **FROM** - **query** **starts** - **read** **every** **row** - record - tuple - from the **table** - entity - relation - patient_table [1]"
   ]
  },
  {
   "cell_type": "markdown",
   "metadata": {},
   "source": [
    "- only one table - entity - relation - not both - given the first table - entity - relation - patient_table - is the first specified in the - SELECT [1]\n",
    "\n",
    "```sql\n",
    "FROM patient_table\n",
    "```"
   ]
  },
  {
   "cell_type": "markdown",
   "metadata": {},
   "source": [
    "- **INNER** **JOIN** - **obtaining** **information** from **more** **than** **one** **table** - entity - relation - **must** **join** [1]"
   ]
  },
  {
   "cell_type": "markdown",
   "metadata": {},
   "source": [
    "- **specify** **what** to **join** **on** - **should** **only** **ever** **join** **two** **tables** - entities - relations - **on** **foreign** **key** - **otherwise** the results will be **unpredictable** [1]"
   ]
  },
  {
   "cell_type": "markdown",
   "metadata": {},
   "source": [
    "- **join** **each** **row** - record - tuple - in the **table** - entity - relation - patient_table - **to** **each** **row** - record - tuple - in the **other** **table** - entity - relation - doctor_table [1]\n",
    "\n",
    "```sql\n",
    "INNER JOIN doctor_table\n",
    "```"
   ]
  },
  {
   "cell_type": "markdown",
   "metadata": {},
   "source": [
    "- **table** - entity - relation - patient_table - **column** - attribute - field - doctorID - **foreign** **key** - **referencing** **other** **table** - entity - relation - doctor_table - **column** - attribute - field - doctorID [1]"
   ]
  },
  {
   "cell_type": "markdown",
   "metadata": {},
   "source": [
    "- **only** **way** to **join** is **when** the **value** of the **column** - attribute - field - doctorID - in **both** **tables** - entities - relations - are the **same** **value** - patient_table - doctorID - equals - doctor_table - doctorID [1]\n",
    "\n",
    "```sql\n",
    "on patient_table.doctorId = doctor_table.doctorID;\n",
    "```"
   ]
  },
  {
   "cell_type": "markdown",
   "metadata": {},
   "source": [
    "***\n",
    "# END"
   ]
  }
 ],
 "metadata": {
  "kernelspec": {
   "display_name": "Python 3",
   "language": "python",
   "name": "python3"
  },
  "language_info": {
   "codemirror_mode": {
    "name": "ipython",
    "version": 3
   },
   "file_extension": ".py",
   "mimetype": "text/x-python",
   "name": "python",
   "nbconvert_exporter": "python",
   "pygments_lexer": "ipython3",
   "version": "3.7.6"
  }
 },
 "nbformat": 4,
 "nbformat_minor": 4
}
