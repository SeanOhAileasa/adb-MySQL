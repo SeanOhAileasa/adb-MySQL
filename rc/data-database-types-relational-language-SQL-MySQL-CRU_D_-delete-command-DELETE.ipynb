{
 "cells": [
  {
   "cell_type": "markdown",
   "metadata": {},
   "source": [
    "# data-database-types-relational-language-SQL-MySQL-CRU_D_-delete-command-DELETE\n",
    "> [TABLE OF CONTENTS](https://nbviewer.jupyter.org/github/SeanOhAileasa/adb-MySQL/blob/main/adb-MySQL.ipynb#top)\n",
    "***"
   ]
  },
  {
   "cell_type": "markdown",
   "metadata": {},
   "source": [
    "- **remove** **existing** **rows** - records - tuples - from a **table** - entity - relation [1]"
   ]
  },
  {
   "cell_type": "markdown",
   "metadata": {},
   "source": [
    "[MySQL Documentation](https://web.archive.org/web/20200524105929/https://dev.mysql.com/doc/refman/8.0/en/delete.html)"
   ]
  },
  {
   "cell_type": "markdown",
   "metadata": {},
   "source": [
    "```sql\n",
    "mysql> use lab5;\n",
    "Database changed\n",
    "```"
   ]
  },
  {
   "cell_type": "markdown",
   "metadata": {},
   "source": [
    "```sql\n",
    "mysql> show tables;\n",
    "+----------------+\n",
    "| Tables_in_lab5 |\n",
    "+----------------+\n",
    "| car            |\n",
    "| person         |\n",
    "+----------------+\n",
    "2 rows in set (0.00 sec)\n",
    "```"
   ]
  },
  {
   "cell_type": "markdown",
   "metadata": {},
   "source": [
    "```sql\n",
    "mysql> SELECT *\n",
    "    -> FROM person;\n",
    "+----------+-------------+------+------+-----------+\n",
    "| personID | name        | age  | sex  | isStudent |\n",
    "+----------+-------------+------+------+-----------+\n",
    "|        1 | Mr.John     |   24 | M    |         1 |\n",
    "|        2 | Ms.Mary     |   31 | F    |         0 |\n",
    "|        3 | Mr.Tom      | NULL | M    |         0 |\n",
    "|        4 | Mr.Alan     |   19 | M    |         1 |\n",
    "|        5 | Ms.Laura    |   18 | F    |         1 |\n",
    "|        6 | Mr.Bob      |   19 | M    |         0 |\n",
    "|        7 | Mr.Johnny   |   24 | M    |         1 |\n",
    "|        8 | Ms.Mary     |   31 | F    |         0 |\n",
    "|        9 | Mr.Jonathan |   24 | M    |         0 |\n",
    "|       10 | Mr.Tommy    |   24 | M    |         0 |\n",
    "|       11 | Laura       |   17 | F    |         0 |\n",
    "+----------+-------------+------+------+-----------+\n",
    "11 rows in set (0.00 sec)\n",
    "```"
   ]
  },
  {
   "cell_type": "markdown",
   "metadata": {},
   "source": [
    "- row - record - tuple - Laura - signed up - at the age of seventeen she is too young - must **remove** from the database - **important** to **apply** a **constraint** **otherwise** **all** **rows** - records - tuples - in the **table** - entity - relation - will get **deleted** [1]"
   ]
  },
  {
   "cell_type": "markdown",
   "metadata": {},
   "source": [
    "```sql\n",
    "mysql> DELETE\n",
    "    -> FROM person\n",
    "    -> WHERE personID=11;\n",
    "Query OK, 1 row affected (0.01 sec)\n",
    "```"
   ]
  },
  {
   "cell_type": "markdown",
   "metadata": {},
   "source": [
    "```sql\n",
    "mysql> SELECT *\n",
    "    -> FROM person;\n",
    "+----------+-------------+------+------+-----------+\n",
    "| personID | name        | age  | sex  | isStudent |\n",
    "+----------+-------------+------+------+-----------+\n",
    "|        1 | Mr.John     |   24 | M    |         1 |\n",
    "|        2 | Ms.Mary     |   31 | F    |         0 |\n",
    "|        3 | Mr.Tom      | NULL | M    |         0 |\n",
    "|        4 | Mr.Alan     |   19 | M    |         1 |\n",
    "|        5 | Ms.Laura    |   18 | F    |         1 |\n",
    "|        6 | Mr.Bob      |   19 | M    |         0 |\n",
    "|        7 | Mr.Johnny   |   24 | M    |         1 |\n",
    "|        8 | Ms.Mary     |   31 | F    |         0 |\n",
    "|        9 | Mr.Jonathan |   24 | M    |         0 |\n",
    "|       10 | Mr.Tommy    |   24 | M    |         0 |\n",
    "+----------+-------------+------+------+-----------+\n",
    "10 rows in set (0.00 sec)\n",
    "```"
   ]
  },
  {
   "cell_type": "markdown",
   "metadata": {},
   "source": [
    "```sql\n",
    "mysql> SELECT *\n",
    "    -> FROM person\n",
    "    -> WHERE sex=\"M\"\n",
    "    -> AND isStudent\n",
    "    -> AND age>20;\n",
    "+----------+-----------+------+------+-----------+\n",
    "| personID | name      | age  | sex  | isStudent |\n",
    "+----------+-----------+------+------+-----------+\n",
    "|        1 | Mr.John   |   24 | M    |         1 |\n",
    "|        7 | Mr.Johnny |   24 | M    |         1 |\n",
    "+----------+-----------+------+------+-----------+\n",
    "2 rows in set (0.00 sec)\n",
    "```"
   ]
  },
  {
   "cell_type": "markdown",
   "metadata": {},
   "source": [
    "- delete all male students aged twenty-one and over - matching rows - records - tuples - deleted from the table - entity - relation [1]"
   ]
  },
  {
   "cell_type": "markdown",
   "metadata": {},
   "source": [
    "```sql\n",
    "mysql> DELETE\n",
    "    -> FROM person\n",
    "    -> WHERE sex=\"M\"\n",
    "    -> AND isStudent\n",
    "    -> AND age>20;\n",
    "Query OK, 2 rows affected (0.01 sec)\n",
    "```"
   ]
  },
  {
   "cell_type": "markdown",
   "metadata": {},
   "source": [
    "```sql\n",
    "mysql> SELECT *\n",
    "    -> FROM person;\n",
    "+----------+-------------+------+------+-----------+\n",
    "| personID | name        | age  | sex  | isStudent |\n",
    "+----------+-------------+------+------+-----------+\n",
    "|        2 | Ms.Mary     |   31 | F    |         0 |\n",
    "|        3 | Mr.Tom      | NULL | M    |         0 |\n",
    "|        4 | Mr.Alan     |   19 | M    |         1 |\n",
    "|        5 | Ms.Laura    |   18 | F    |         1 |\n",
    "|        6 | Mr.Bob      |   19 | M    |         0 |\n",
    "|        8 | Ms.Mary     |   31 | F    |         0 |\n",
    "|        9 | Mr.Jonathan |   24 | M    |         0 |\n",
    "|       10 | Mr.Tommy    |   24 | M    |         0 |\n",
    "+----------+-------------+------+------+-----------+\n",
    "8 rows in set (0.00 sec)\n",
    "```"
   ]
  },
  {
   "cell_type": "markdown",
   "metadata": {},
   "source": [
    "***\n",
    "# END"
   ]
  }
 ],
 "metadata": {
  "kernelspec": {
   "display_name": "Python 3",
   "language": "python",
   "name": "python3"
  },
  "language_info": {
   "codemirror_mode": {
    "name": "ipython",
    "version": 3
   },
   "file_extension": ".py",
   "mimetype": "text/x-python",
   "name": "python",
   "nbconvert_exporter": "python",
   "pygments_lexer": "ipython3",
   "version": "3.7.6"
  }
 },
 "nbformat": 4,
 "nbformat_minor": 4
}
