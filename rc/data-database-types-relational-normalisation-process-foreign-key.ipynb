{
 "cells": [
  {
   "cell_type": "markdown",
   "metadata": {},
   "source": [
    "# data-database-types-relational-normalisation-process-foreign-key\n",
    "> [TABLE OF CONTENTS](https://nbviewer.jupyter.org/github/SeanOhAileasa/adb-MySQL/blob/main/adb-MySQL.ipynb#top)\n",
    "***"
   ]
  },
  {
   "cell_type": "markdown",
   "metadata": {},
   "source": [
    "- **table** - entity - relation - **Hospital** - schema - information about patients and doctors - six columns - attrtibutes - fields - PPSN - First_Name - Surname - Address - Doctor - Doctor_Phone [1]"
   ]
  },
  {
   "cell_type": "markdown",
   "metadata": {},
   "source": [
    "<img src=\"img/07-04-03.png\" />"
   ]
  },
  {
   "cell_type": "markdown",
   "metadata": {},
   "source": [
    "- **reference** **between** **tables** - entities - relations - command - CREATE TABLE - set up table - entity - relation - Doctor_Table - then set up table - entity - relation - Patient_Table - when **creating** the **table** - entity - relation - Patient_Table - need to **define** the **link** between the tables - entities - relations - **foreign** **key** - defined on the column - attribute - field - DoctorID - in the table - entity - relation - Patient_Table [1]"
   ]
  },
  {
   "cell_type": "markdown",
   "metadata": {},
   "source": [
    "- **clause** - **foreign** **key** - states the **relation** **between** the **column** - attribute - field - in a **table** - entity - relation - **to** **another** **column** - attribute - field - in **another** **table** - entity - relation [1]"
   ]
  },
  {
   "cell_type": "markdown",
   "metadata": {},
   "source": [
    "- table - entity - relation - Patient_Table - column - attribute - field - DoctorID - links to - table - entity - relation - Doctor_Table - column - attribute - field - DoctorID [1]"
   ]
  },
  {
   "cell_type": "markdown",
   "metadata": {},
   "source": [
    "- table - entity - relation - Patient_Table - column - attribute - field - DoctorID - two constraints - i) integer - accepts only whole numbers - ii) foreign key - referencing the table - entity - relation - Doctor_Table - column - attribute - field - DoctorID - only doctor ids - integers - that are already in the table - entity - relation - Doctor_Table - column - attribute - field - DoctorID - can be inserted [1]"
   ]
  },
  {
   "cell_type": "markdown",
   "metadata": {},
   "source": [
    "<img src=\"img/07-04-07-01.png\" />"
   ]
  },
  {
   "cell_type": "markdown",
   "metadata": {},
   "source": [
    "- adding the following row - record - tuple - to the table - entity - relation - Patient_Table - fails - given a constraint on the data was not satisfied - trying to insert - string - ABC - into the column - attribute - field - DoctorID - only accepts integers [1]"
   ]
  },
  {
   "cell_type": "markdown",
   "metadata": {},
   "source": [
    "<img src=\"img/07-04-07-01-2-1.png\" />"
   ]
  },
  {
   "cell_type": "markdown",
   "metadata": {},
   "source": [
    "<img src=\"img/07-04-07-01-2.png\" />"
   ]
  },
  {
   "cell_type": "markdown",
   "metadata": {},
   "source": [
    "- table - entity - relation - Doctor_Table - column - attribute - field - DoctorID - has only two rows - records - fields - values - 100 - 101 [1]"
   ]
  },
  {
   "cell_type": "markdown",
   "metadata": {},
   "source": [
    "<img src=\"img/07-04-07-01-1.png\" />"
   ]
  },
  {
   "cell_type": "markdown",
   "metadata": {},
   "source": [
    "- adding the following row - record - tuple - to the table - entity - relation - Doctor_Table - schema - column - attribute - field - Phone - value - 9898 - accepts integer - - column - attribute - field - Name - value - Dr. Rice - accepts string - varchar of less than 50 characters - column - attribute - field - DoctorID - value - 999 - accepts integer - another constraint - primary key - i) NULL values not allowed - ii) unique values - no other constraint - does not have a foreign key referencing another table - entity - relation [1]"
   ]
  },
  {
   "cell_type": "markdown",
   "metadata": {},
   "source": [
    "- Patient_Table - references said column - attribute - field - albeit said column - attribute - field - does not reference anything - doctor rice - id 999 - can be inserted [1]"
   ]
  },
  {
   "cell_type": "markdown",
   "metadata": {},
   "source": [
    "<img src=\"img/07-04-07-02-2.png\" />"
   ]
  },
  {
   "cell_type": "markdown",
   "metadata": {},
   "source": [
    "***\n",
    "# END"
   ]
  }
 ],
 "metadata": {
  "kernelspec": {
   "display_name": "Python 3",
   "language": "python",
   "name": "python3"
  },
  "language_info": {
   "codemirror_mode": {
    "name": "ipython",
    "version": 3
   },
   "file_extension": ".py",
   "mimetype": "text/x-python",
   "name": "python",
   "nbconvert_exporter": "python",
   "pygments_lexer": "ipython3",
   "version": "3.7.6"
  }
 },
 "nbformat": 4,
 "nbformat_minor": 4
}
