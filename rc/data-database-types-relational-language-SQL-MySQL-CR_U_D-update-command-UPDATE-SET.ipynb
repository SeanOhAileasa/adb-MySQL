{
 "cells": [
  {
   "cell_type": "markdown",
   "metadata": {},
   "source": [
    "# data-database-types-relational-language-SQL-MySQL-CR_U_D-update-command-UPDATE-SET\n",
    "> [TABLE OF CONTENTS](https://nbviewer.jupyter.org/github/SeanOhAileasa/adb-MySQL/blob/main/adb-MySQL.ipynb#top)\n",
    "***"
   ]
  },
  {
   "cell_type": "markdown",
   "metadata": {},
   "source": [
    "- **update** **existing** **rows** - records - tuples - in a **table** - entity - relation [1]"
   ]
  },
  {
   "cell_type": "markdown",
   "metadata": {},
   "source": [
    "```sql\n",
    "UPDATE <table> SET column1=value1, columnN,valueN;\n",
    "```\n",
    "\n",
    "```sql\n",
    "UPDATE <table> SET column1=value1, columnN,valueN\n",
    "WHERE condition;\n",
    "```"
   ]
  },
  {
   "cell_type": "markdown",
   "metadata": {},
   "source": [
    "[MySQL Documenation](https://web.archive.org/web/20200710113234/https://dev.mysql.com/doc/refman/8.0/en/update.html)"
   ]
  },
  {
   "cell_type": "markdown",
   "metadata": {},
   "source": [
    "```sql\n",
    "mysql> use lab5;\n",
    "Database changed\n",
    "```"
   ]
  },
  {
   "cell_type": "markdown",
   "metadata": {},
   "source": [
    "```sql\n",
    "mysql> show tables;\n",
    "+----------------+\n",
    "| Tables_in_lab5 |\n",
    "+----------------+\n",
    "| car            |\n",
    "| person         |\n",
    "+----------------+\n",
    "2 rows in set (0.00 sec)\n",
    "```"
   ]
  },
  {
   "cell_type": "markdown",
   "metadata": {},
   "source": [
    "```sql\n",
    "mysql> SELECT *\n",
    "    -> FROM person\n",
    "    -> WHERE personID=10;\n",
    "+----------+-------+------+------+-----------+\n",
    "| personID | name  | age  | sex  | isStudent |\n",
    "+----------+-------+------+------+-----------+\n",
    "|       10 | Tommy | NULL | M    |         0 |\n",
    "+----------+-------+------+------+-----------+\n",
    "1 row in set (0.00 sec)\n",
    "```"
   ]
  },
  {
   "cell_type": "markdown",
   "metadata": {},
   "source": [
    "- **inserting** **row** - record - tuple - value - Tommy - did **not** have **all** **data** - **command** - **UPDATE** - followed by **table** - entity - relation - person - **keyword** - **SET** - **column** - attribute - field - age - **value** - to be **updated** [1]"
   ]
  },
  {
   "cell_type": "markdown",
   "metadata": {},
   "source": [
    "- **important** to **apply** a **constraint** **otherwise** **all** **rows** - records - tuples - in the **table** - entity - relation - will get **updated** [1]"
   ]
  },
  {
   "cell_type": "markdown",
   "metadata": {},
   "source": [
    "```sql\n",
    "mysql> UPDATE person\n",
    "    -> SET age=23\n",
    "    -> WHERE personID=10;\n",
    "Query OK, 1 row affected (0.01 sec)\n",
    "Rows matched: 1  Changed: 1  Warnings: 0\n",
    "```"
   ]
  },
  {
   "cell_type": "markdown",
   "metadata": {},
   "source": [
    "```sql\n",
    "mysql> SELECT *\n",
    "    -> FROM person\n",
    "    -> WHERE personID=10;\n",
    "+----------+-------+------+------+-----------+\n",
    "| personID | name  | age  | sex  | isStudent |\n",
    "+----------+-------+------+------+-----------+\n",
    "|       10 | Tommy |   23 | M    |         0 |\n",
    "+----------+-------+------+------+-----------+\n",
    "1 row in set (0.00 sec)\n",
    "```"
   ]
  },
  {
   "cell_type": "markdown",
   "metadata": {},
   "source": [
    "```sql\n",
    "mysql> SELECT *\n",
    "    -> FROM person;\n",
    "+----------+----------+------+------+-----------+\n",
    "| personID | name     | age  | sex  | isStudent |\n",
    "+----------+----------+------+------+-----------+\n",
    "|        1 | John     |   23 | M    |         1 |\n",
    "|        2 | Mary     |   30 | F    |         0 |\n",
    "|        3 | Tom      | NULL | M    |         0 |\n",
    "|        4 | Alan     |   18 | M    |         1 |\n",
    "|        5 | Laura    |   17 | F    |         1 |\n",
    "|        6 | Bob      |   18 | M    |         0 |\n",
    "|        7 | Johnny   |   23 | M    |         1 |\n",
    "|        8 | Mary     |   30 | F    |         0 |\n",
    "|        9 | Jonathan |   23 | M    |         0 |\n",
    "|       10 | Tommy    |   23 | M    |         0 |\n",
    "+----------+----------+------+------+-----------+\n",
    "9 rows in set (0.00 sec)\n",
    "```"
   ]
  },
  {
   "cell_type": "markdown",
   "metadata": {},
   "source": [
    "- taking into account the **existing** **values** of a **column** - attribute - field - increase column - attribute - field - age - **increase** each persons **age** by one - **given** **no** **constraint** - without **clause** - **WHERE** - update will **apply** to **each** **row** - record - tuple - in the **table** - entity - relation [1]"
   ]
  },
  {
   "cell_type": "markdown",
   "metadata": {},
   "source": [
    "```sql\n",
    "mysql> UPDATE person\n",
    "    -> SET age=age+1;\n",
    "Query OK, 9 rows affected (0.01 sec)\n",
    "Rows matched: 10  Changed: 9  Warnings: 0\n",
    "```"
   ]
  },
  {
   "cell_type": "markdown",
   "metadata": {},
   "source": [
    "```sql\n",
    "mysql> SELECT *\n",
    "    -> FROM person;\n",
    "+----------+----------+------+------+-----------+\n",
    "| personID | name     | age  | sex  | isStudent |\n",
    "+----------+----------+------+------+-----------+\n",
    "|        1 | John     |   24 | M    |         1 |\n",
    "|        2 | Mary     |   31 | F    |         0 |\n",
    "|        3 | Tom      | NULL | M    |         0 |\n",
    "|        4 | Alan     |   19 | M    |         1 |\n",
    "|        5 | Laura    |   18 | F    |         1 |\n",
    "|        6 | Bob      |   19 | M    |         0 |\n",
    "|        7 | Johnny   |   24 | M    |         1 |\n",
    "|        8 | Mary     |   31 | F    |         0 |\n",
    "|        9 | Jonathan |   24 | M    |         0 |\n",
    "|       10 | Tommy    |   24 | M    |         0 |\n",
    "+----------+----------+------+------+-----------+\n",
    "10 rows in set (0.00 sec)\n",
    "```"
   ]
  },
  {
   "cell_type": "markdown",
   "metadata": {},
   "source": [
    "- update only applied to nine columns - attributes - fields - given row - record - tuple - Tom - column - attribute - field - age - value - NULL [1] "
   ]
  },
  {
   "cell_type": "markdown",
   "metadata": {},
   "source": [
    "```sql\n",
    "mysql> SELECT *\n",
    "    -> FROM person\n",
    "    -> WHERE personID=3;\n",
    "+----------+------+------+------+-----------+\n",
    "| personID | name | age  | sex  | isStudent |\n",
    "+----------+------+------+------+-----------+\n",
    "|        3 | Tom  | NULL | M    |         0 |\n",
    "+----------+------+------+------+-----------+\n",
    "1 row in set (0.00 sec)\n",
    "```"
   ]
  },
  {
   "cell_type": "markdown",
   "metadata": {},
   "source": [
    "- update table - entity - relation - person - include - Mr. - Ms. - in each row - record - tuple - in the column - attribute - field - name [1]"
   ]
  },
  {
   "cell_type": "markdown",
   "metadata": {},
   "source": [
    "- first check current row - record - tuple - value - before setting to a new value [1]"
   ]
  },
  {
   "cell_type": "markdown",
   "metadata": {},
   "source": [
    "- **function** - **IF** - **three** **expressions** - i) **first** expression - **test** for - **True** - **False** - column - attribute - field - sex - equals - M - ii) **second** expression - **value** to **return** if the **first** expression - **True**  - Mr. - iii) **third** expression - **value** to **return** if the **first** expression - **False** - Ms. - value returned from - function - IF - either - Mr. - Ms. [1]\n",
    "\n",
    "```sql\n",
    "IF(sex=\"M\",\"Mr.\",\"Ms.\")\n",
    "```"
   ]
  },
  {
   "cell_type": "markdown",
   "metadata": {},
   "source": [
    " - **function** - **CONCAT** - **joins** **two** **strings** together - **two** - **parameters** - i) **first** - **result** of running function - **IF** - ii) **second** - the **original** **column** - attribute - field - name [1]\n",
    " \n",
    "```sql\n",
    "CONCAT(IF(sex=\"M\",\"Mr.\",\"Ms.\"),name)\n",
    "```"
   ]
  },
  {
   "cell_type": "markdown",
   "metadata": {},
   "source": [
    "```sql\n",
    "mysql> UPDATE person\n",
    "    -> SET name=CONCAT(IF(sex=\"M\",\"Mr.\",\"Ms.\"),name);\n",
    "Query OK, 10 rows affected (0.01 sec)\n",
    "Rows matched: 10  Changed: 10  Warnings: 0\n",
    "```"
   ]
  },
  {
   "cell_type": "markdown",
   "metadata": {},
   "source": [
    "```sql\n",
    "mysql> SELECT *\n",
    "    -> FROM person;\n",
    "+----------+-------------+------+------+-----------+\n",
    "| personID | name        | age  | sex  | isStudent |\n",
    "+----------+-------------+------+------+-----------+\n",
    "|        1 | Mr.John     |   24 | M    |         1 |\n",
    "|        2 | Ms.Mary     |   31 | F    |         0 |\n",
    "|        3 | Mr.Tom      | NULL | M    |         0 |\n",
    "|        4 | Mr.Alan     |   19 | M    |         1 |\n",
    "|        5 | Ms.Laura    |   18 | F    |         1 |\n",
    "|        6 | Mr.Bob      |   19 | M    |         0 |\n",
    "|        7 | Mr.Johnny   |   24 | M    |         1 |\n",
    "|        8 | Ms.Mary     |   31 | F    |         0 |\n",
    "|        9 | Mr.Jonathan |   24 | M    |         0 |\n",
    "|       10 | Mr.Tommy    |   24 | M    |         0 |\n",
    "+----------+-------------+------+------+-----------+\n",
    "10 rows in set (0.00 sec)\n",
    "```"
   ]
  },
  {
   "cell_type": "markdown",
   "metadata": {},
   "source": [
    "***\n",
    "# END"
   ]
  }
 ],
 "metadata": {
  "kernelspec": {
   "display_name": "Python 3",
   "language": "python",
   "name": "python3"
  },
  "language_info": {
   "codemirror_mode": {
    "name": "ipython",
    "version": 3
   },
   "file_extension": ".py",
   "mimetype": "text/x-python",
   "name": "python",
   "nbconvert_exporter": "python",
   "pygments_lexer": "ipython3",
   "version": "3.7.6"
  }
 },
 "nbformat": 4,
 "nbformat_minor": 4
}
