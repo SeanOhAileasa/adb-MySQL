{
 "cells": [
  {
   "cell_type": "markdown",
   "metadata": {},
   "source": [
    "# data-database-types-relational-language-SQL-MySQL-CRU_D_-delete-command-DELETE-foreign-key-ON-DELETE-RESTRICT\n",
    "> [TABLE OF CONTENTS](https://nbviewer.jupyter.org/github/SeanOhAileasa/adb-MySQL/blob/main/adb-MySQL.ipynb#top)\n",
    "***"
   ]
  },
  {
   "cell_type": "markdown",
   "metadata": {},
   "source": [
    "- table - entity - relation - Patient_Table - column - attribute - field - DoctorID - two constraints - i) integer - accepts only whole numbers - ii) foreign key - referencing the table - entity - relation - Doctor_Table - column - attribute - field - DoctorID - only doctor ids - integers - that are already in the table - entity - relation - Doctor_Table - column - attribute - field - DoctorID - can be inserted [1]"
   ]
  },
  {
   "cell_type": "markdown",
   "metadata": {},
   "source": [
    " - **referential** **integrity** - **ensures** **database** is **consistent** - cannot reference a doctor that does not exist [1]"
   ]
  },
  {
   "cell_type": "markdown",
   "metadata": {},
   "source": [
    "<img src=\"img/07-04-07-01.png\" />"
   ]
  },
  {
   "cell_type": "markdown",
   "metadata": {},
   "source": [
    "```sql\n",
    "mysql> use bus;\n",
    "Database changed\n",
    "```"
   ]
  },
  {
   "cell_type": "markdown",
   "metadata": {},
   "source": [
    "```sql\n",
    "mysql> show tables;\n",
    "+---------------+\n",
    "| Tables_in_bus |\n",
    "+---------------+\n",
    "| bus           |\n",
    "| driver        |\n",
    "+---------------+\n",
    "2 rows in set (0.01 sec)\n",
    "```"
   ]
  },
  {
   "cell_type": "markdown",
   "metadata": {},
   "source": [
    "- table - entity - relation - bus - has three columns - attributes - fields - reg - maxPassengers - fuel [1]\n",
    "\n",
    "```sql\n",
    "`reg` varchar(15) NOT NULL,\n",
    "`maxPassengers` int DEFAULT NULL,\n",
    "`fuel` enum('Diesel','Petrol','Electric') DEFAULT 'Diesel',\n",
    "```\n",
    "\n",
    "- column - attribute - field - reg - primary key [1]\n",
    "\n",
    "```sql\n",
    "PRIMARY KEY (`reg`)\n",
    "```"
   ]
  },
  {
   "cell_type": "markdown",
   "metadata": {},
   "source": [
    "```sql\n",
    "mysql> SHOW CREATE TABLE bus;\n",
    "+-------+-------------------------------------------------------------------------------------------------------------------------------------------------------------------------------------------------------------------+\n",
    "| Table | Create Table                                                                                                                                                                                                      |\n",
    "+-------+-------------------------------------------------------------------------------------------------------------------------------------------------------------------------------------------------------------------+\n",
    "| bus   | CREATE TABLE `bus` (\n",
    "  `reg` varchar(15) NOT NULL,\n",
    "  `maxPassengers` int DEFAULT NULL,\n",
    "  `fuel` enum('Diesel','Petrol','Electric') DEFAULT 'Diesel',\n",
    "  PRIMARY KEY (`reg`)\n",
    ") ENGINE=InnoDB DEFAULT CHARSET=latin1 |\n",
    "+-------+-------------------------------------------------------------------------------------------------------------------------------------------------------------------------------------------------------------------+\n",
    "1 row in set (0.00 sec)\n",
    "```"
   ]
  },
  {
   "cell_type": "markdown",
   "metadata": {},
   "source": [
    "- table - entity - relation - driver - has three columns - attributes - fields - licenceNo - name - busReg [1]\n",
    "\n",
    "```sql\n",
    "`licenceNo` varchar(20) NOT NULL,\n",
    "`name` varchar(30) DEFAULT NULL,\n",
    "`busReg` varchar(15) DEFAULT NULL,\n",
    "```\n",
    "\n",
    "- column - attribute - field - licenceNo - primary key [1]\n",
    "\n",
    "```sql\n",
    "PRIMARY KEY (`licenceNo`),\n",
    "```\n",
    "\n",
    "- column - attribute - field - busReg - foreign key - references column - attribute - field - reg - in the table - entity - relation - bus [1]\n",
    "\n",
    "```sql\n",
    "CONSTRAINT `driver_ibfk_1` FOREIGN KEY (`busReg`) REFERENCES `bus` (`reg`)\n",
    "```"
   ]
  },
  {
   "cell_type": "markdown",
   "metadata": {},
   "source": [
    "```sql\n",
    "mysql> SHOW CREATE TABLE driver;\n",
    "+--------+-----------------------------------------------------------------------------------------------------------------------------------------------------------------------------------------------------------------------------------------------------------------------------------------------------------------------------------+\n",
    "| Table  | Create Table                                                                                                                                                                                                                                                                                                                      |\n",
    "+--------+-----------------------------------------------------------------------------------------------------------------------------------------------------------------------------------------------------------------------------------------------------------------------------------------------------------------------------------+\n",
    "| driver | CREATE TABLE `driver` (\n",
    "  `licenceNo` varchar(20) NOT NULL,\n",
    "  `name` varchar(30) DEFAULT NULL,\n",
    "  `busReg` varchar(15) DEFAULT NULL,\n",
    "  PRIMARY KEY (`licenceNo`),\n",
    "  KEY `busReg` (`busReg`),\n",
    "  CONSTRAINT `driver_ibfk_1` FOREIGN KEY (`busReg`) REFERENCES `bus` (`reg`)\n",
    ") ENGINE=InnoDB DEFAULT CHARSET=latin1 |\n",
    "+--------+-----------------------------------------------------------------------------------------------------------------------------------------------------------------------------------------------------------------------------------------------------------------------------------------------------------------------------------+\n",
    "1 row in set (0.00 sec)\n",
    "```"
   ]
  },
  {
   "cell_type": "markdown",
   "metadata": {},
   "source": [
    "- constraint - foreign key - states only values that exist in the table - entity - relation - bus - column - attribute - field - reg - are allowed in the table - entity - relation - driver - column - attribute - field - busReg [1]"
   ]
  },
  {
   "cell_type": "markdown",
   "metadata": {},
   "source": [
    "```sql\n",
    "mysql> SELECT *\n",
    "    -> FROM bus;\n",
    "+------------+---------------+----------+\n",
    "| reg        | maxPassengers | fuel     |\n",
    "+------------+---------------+----------+\n",
    "| 12-G-1323  |            34 | Petrol   |\n",
    "| 161-D-1323 |            80 | Diesel   |\n",
    "| 162-D-3433 |           120 | Electric |\n",
    "| 191-G-123  |            56 | Diesel   |\n",
    "+------------+---------------+----------+\n",
    "4 rows in set (0.00 sec)\n",
    "```"
   ]
  },
  {
   "cell_type": "markdown",
   "metadata": {},
   "source": [
    "```sql\n",
    "mysql> SELECT *\n",
    "    -> FROM driver;\n",
    "+-----------+------+------------+\n",
    "| licenceNo | name | busReg     |\n",
    "+-----------+------+------------+\n",
    "| F2233     | Alan | 191-G-123  |\n",
    "| L23423    | John | 12-G-1323  |\n",
    "| X98983    | Tom  | 161-D-1323 |\n",
    "+-----------+------+------------+\n",
    "3 rows in set (0.00 sec)\n",
    "```"
   ]
  },
  {
   "cell_type": "markdown",
   "metadata": {},
   "source": [
    "- deleting row - record - tuple - from table - entity - relation - bus - database inconsistent - fails - table - entity - relation - driver - column - attribute - field - busReg - constraint - foreign key - references - table - entity - relation - bus - column - attribute - field - reg - any **values** **inserted** in a **column** - attribute - field - **foreign** **key** - **must** **exist** in the **column** - attribute - field - in the **table** - entity - relation - **referenced** - if the row - record - tuple - no longer exists in the table - entity - relation - bus - albeit still in the table - entity - relation - driver - column - attribute - field - busReg - database no longer consistent [1]\n",
    "\n",
    "```sql\n",
    "+------------+---------------+----------+\n",
    "| reg        | maxPassengers | fuel     |\n",
    "+------------+---------------+----------+\n",
    "| 191-G-123  |            56 | Diesel   |\n",
    "+------------+---------------+----------\n",
    "```\n",
    "\n",
    "- **referential** **integrity** - **compromised** - the first **row** - record - tuple - in the table - entity - relation - driver - is **referencing** a **row** - record - tuple - in the **table** - entity - relation - bus - that does **not** **exist** - database schema defined - mysql - ensure this does not happen - will not allow the row - record - tuple - 191-G-123 - to be deleted from the table - entity - relation - bus - given this value is referenced by another table - entity - relation - driver [1]\n",
    "\n",
    "```sql\n",
    "+-----------+------+------------+\n",
    "| licenceNo | name | busReg     |\n",
    "+-----------+------+------------+\n",
    "| F2233     | Alan | 191-G-123  |\n",
    "+-----------+------+------------+\n",
    "```\n",
    "\n",
    "- row - record - tuple - from the table - entity - relation - bus - not referenced by table - entity - relation - driver - can be deleted [1]\n",
    "\n",
    "```sql\n",
    "+------------+---------------+----------+\n",
    "| reg        | maxPassengers | fuel     |\n",
    "+------------+---------------+----------+\n",
    "| 162-D-3433 |           120 | Electric |\n",
    "+------------+---------------+----------+\n",
    "```\n",
    "\n",
    "- **mysql** - **definition** - constraint - **foreign** **key** **statement** - **nothing** else **mentioned** - implicitly means - do **not** **delete** any **row** - record - tuple - in the **table** - entity - relation - bus - **referenced** - mysql - default behaviour - not deleting a reference to a - foreign key - value [1]\n",
    "\n",
    "```sql\n",
    "CONSTRAINT `driver_ibfk_1` FOREIGN KEY (`busReg`) REFERENCES `bus` (`reg`)\n",
    "```"
   ]
  },
  {
   "cell_type": "markdown",
   "metadata": {},
   "source": [
    "- optional - **explicitly** **enforce** - **default** **behaviour** - when **creating** the **table** - entity - relation - enforce - **ON** **DELETE** **RESTRICT** - same effect as having nothing mentioned [1]\n",
    "\n",
    "```sql\n",
    "CONSTRAINT `driver_ibfk_1` FOREIGN KEY (`busReg`) REFERENCES `bus` (`reg`) ON DELETE RESTRICT\n",
    "```"
   ]
  },
  {
   "cell_type": "markdown",
   "metadata": {},
   "source": [
    "```sql\n",
    "mysql> SHOW CREATE TABLE driver;\n",
    "+--------+-----------------------------------------------------------------------------------------------------------------------------------------------------------------------------------------------------------------------------------------------------------------------------------------------------------------------------------+\n",
    "| Table  | Create Table                                                                                                                                                                                                                                                                                                                      |\n",
    "+--------+-----------------------------------------------------------------------------------------------------------------------------------------------------------------------------------------------------------------------------------------------------------------------------------------------------------------------------------+\n",
    "| driver | CREATE TABLE `driver` (\n",
    "  `licenceNo` varchar(20) NOT NULL,\n",
    "  `name` varchar(30) DEFAULT NULL,\n",
    "  `busReg` varchar(15) DEFAULT NULL,\n",
    "  PRIMARY KEY (`licenceNo`),\n",
    "  KEY `busReg` (`busReg`),\n",
    "  CONSTRAINT `driver_ibfk_1` FOREIGN KEY (`busReg`) REFERENCES `bus` (`reg`) ON DELETE RESTRICT\n",
    ") ENGINE=InnoDB DEFAULT CHARSET=latin1 |\n",
    "+--------+-----------------------------------------------------------------------------------------------------------------------------------------------------------------------------------------------------------------------------------------------------------------------------------------------------------------------------------+\n",
    "1 row in set (0.00 sec)\n",
    "```"
   ]
  },
  {
   "cell_type": "markdown",
   "metadata": {},
   "source": [
    "- **deletion** of a **referenced** - **foreign** **key** - restricted - **not** **allowed** [1]"
   ]
  },
  {
   "cell_type": "markdown",
   "metadata": {},
   "source": [
    "***\n",
    "# END"
   ]
  }
 ],
 "metadata": {
  "kernelspec": {
   "display_name": "Python 3",
   "language": "python",
   "name": "python3"
  },
  "language_info": {
   "codemirror_mode": {
    "name": "ipython",
    "version": 3
   },
   "file_extension": ".py",
   "mimetype": "text/x-python",
   "name": "python",
   "nbconvert_exporter": "python",
   "pygments_lexer": "ipython3",
   "version": "3.7.6"
  }
 },
 "nbformat": 4,
 "nbformat_minor": 4
}
