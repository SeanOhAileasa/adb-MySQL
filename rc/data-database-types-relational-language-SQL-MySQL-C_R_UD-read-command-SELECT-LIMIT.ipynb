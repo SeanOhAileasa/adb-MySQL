{
 "cells": [
  {
   "cell_type": "markdown",
   "metadata": {},
   "source": [
    "# data-database-types-relational-language-SQL-MySQL-C_R_UD-read-command-SELECT-LIMIT\n",
    "> [TABLE OF CONTENTS](https://nbviewer.jupyter.org/github/SeanOhAileasa/adb-MySQL/blob/main/adb-MySQL.ipynb#top)\n",
    "***"
   ]
  },
  {
   "cell_type": "markdown",
   "metadata": {},
   "source": [
    "- **clause** - **LIMIT** - can be **used** to **constrain** the **number** of **rows** - records - tuples - **returned** **by** - **SELECT** [1]"
   ]
  },
  {
   "cell_type": "markdown",
   "metadata": {},
   "source": [
    "```sql\n",
    "mysql> use lab1;\n",
    "Database changed\n",
    "```"
   ]
  },
  {
   "cell_type": "markdown",
   "metadata": {},
   "source": [
    "```sql\n",
    "mysql> show tables;\n",
    "+----------------+\n",
    "| Tables_in_lab1 |\n",
    "+----------------+\n",
    "| car            |\n",
    "| person         |\n",
    "+----------------+\n",
    "2 rows in set (0.00 sec)\n",
    "```"
   ]
  },
  {
   "cell_type": "markdown",
   "metadata": {},
   "source": [
    "```sql\n",
    "mysql> SELECT *\n",
    "    -> FROM person;\n",
    "+----------+-------+------+------+------------+-----------+\n",
    "| personID | name  | age  | sex  | dob        | isStudent |\n",
    "+----------+-------+------+------+------------+-----------+\n",
    "|        1 | John  |   23 | M    | 2000-01-01 |         1 |\n",
    "|        2 | Tom   |   64 | M    | 1958-03-11 |         0 |\n",
    "|        3 | Mary  |   12 | F    | 2005-04-11 |         1 |\n",
    "|        4 | Alan  |   12 | M    | 2005-11-21 |         1 |\n",
    "|        5 | Pat   |   29 | M    | 1993-03-17 |         0 |\n",
    "|        6 | Shane |   40 | M    | 1988-07-21 |         0 |\n",
    "|        7 | Shane |   14 | M    | 2003-06-01 |         1 |\n",
    "|        8 | Alice |   24 | F    | 1999-03-01 |         1 |\n",
    "|        9 | Pat   |   37 | F    | 1988-04-15 |         0 |\n",
    "+----------+-------+------+------+------------+-----------+\n",
    "9 rows in set (0.00 sec)\n",
    "```"
   ]
  },
  {
   "cell_type": "markdown",
   "metadata": {},
   "source": [
    "- returned rows - records - tuples - in column - attribute - field - name - clause - WHERE - column - attribute - field - sex - value - F - operator - AND - column - attribute - field - age - value - greater than twenty [1]"
   ]
  },
  {
   "cell_type": "markdown",
   "metadata": {},
   "source": [
    "```sql\n",
    "mysql> SELECT name\n",
    "    -> FROM person\n",
    "    -> WHERE sex=\"F\"\n",
    "    -> AND age>20;\n",
    "+-------+\n",
    "| name  |\n",
    "+-------+\n",
    "| Alice |\n",
    "| Pat   |\n",
    "+-------+\n",
    "2 rows in set (0.00 sec)\n",
    "```"
   ]
  },
  {
   "cell_type": "markdown",
   "metadata": {},
   "source": [
    "- **obtain** a **sample** of **rows** - records - tuples - **clause** - **LIMIT** - **curb** the **output** - no matter how many rows - records - tuples - limited to one [1]"
   ]
  },
  {
   "cell_type": "markdown",
   "metadata": {},
   "source": [
    "```sql\n",
    "mysql> SELECT name\n",
    "    -> FROM person\n",
    "    -> WHERE sex=\"F\"\n",
    "    -> AND age>20\n",
    "    -> LIMIT 1;\n",
    "+-------+\n",
    "| name  |\n",
    "+-------+\n",
    "| Alice |\n",
    "+-------+\n",
    "1 row in set (0.00 sec)\n",
    "```"
   ]
  },
  {
   "cell_type": "markdown",
   "metadata": {},
   "source": [
    "- **facebook** feature - **infinite** **scroll** - log on - newsfeeds appear - scroll to end of the page - timer appears for less than a second while another set of stories is fetched from the database on the server - more stories are taken from the database as needed - real world databases hold thousands of rows - records - tuples - fetching may thousands of rows - records - tuples from the database and converting into a format for display on a web page or console may take a long time [1]"
   ]
  },
  {
   "cell_type": "markdown",
   "metadata": {},
   "source": [
    "- **better** to **only** **fetch** a **few** **rows** - records - tuples - if the user needs to see more - can either scroll down the page or press the next page button [1]"
   ]
  },
  {
   "cell_type": "markdown",
   "metadata": {},
   "source": [
    "- **operator** - **LIMIT** - **specifying** **two** **parameters** instead of **one** parameter - **first** parameter - **offset** - from the **first** **row** - record - tuple - returned [1]"
   ]
  },
  {
   "cell_type": "markdown",
   "metadata": {},
   "source": [
    "- **offset** of **zero** means **start** at the **first** **row** - record - tuple [1]"
   ]
  },
  {
   "cell_type": "markdown",
   "metadata": {},
   "source": [
    "- **operator** - **LIMIT** - **specifying** **two** **parameters** - **second** parameter - **count** - is the **max** **number** of **rows** - records - tuples - returned - returning three rows - records - tuples - per page - as the user scrolls obtaining information from the database in smaller chunks [1]"
   ]
  },
  {
   "cell_type": "markdown",
   "metadata": {},
   "source": [
    "```sql\n",
    "mysql> SELECT name,age\n",
    "    -> FROM person\n",
    "    -> LIMIT 0,3;\n",
    "+------+------+\n",
    "| name | age  |\n",
    "+------+------+\n",
    "| John |   23 |\n",
    "| Tom  |   64 |\n",
    "| Mary |   12 |\n",
    "+------+------+\n",
    "3 rows in set (0.00 sec)\n",
    "```"
   ]
  },
  {
   "cell_type": "markdown",
   "metadata": {},
   "source": [
    "```sql\n",
    "mysql> SELECT name,age\n",
    "    -> FROM person\n",
    "    -> LIMIT 3,3;\n",
    "+-------+------+\n",
    "| name  | age  |\n",
    "+-------+------+\n",
    "| Alan  |   12 |\n",
    "| Pat   |   29 |\n",
    "| Shane |   40 |\n",
    "+-------+------+\n",
    "3 rows in set (0.00 sec)\n",
    "```"
   ]
  },
  {
   "cell_type": "markdown",
   "metadata": {},
   "source": [
    "***\n",
    "# END"
   ]
  }
 ],
 "metadata": {
  "kernelspec": {
   "display_name": "Python 3",
   "language": "python",
   "name": "python3"
  },
  "language_info": {
   "codemirror_mode": {
    "name": "ipython",
    "version": 3
   },
   "file_extension": ".py",
   "mimetype": "text/x-python",
   "name": "python",
   "nbconvert_exporter": "python",
   "pygments_lexer": "ipython3",
   "version": "3.7.6"
  }
 },
 "nbformat": 4,
 "nbformat_minor": 4
}
