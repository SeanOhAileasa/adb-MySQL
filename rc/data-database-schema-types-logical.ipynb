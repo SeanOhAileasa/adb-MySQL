{
 "cells": [
  {
   "cell_type": "markdown",
   "metadata": {},
   "source": [
    "# data-database-schema-types-logical\n",
    "> [TABLE OF CONTENTS](https://nbviewer.jupyter.org/github/SeanOhAileasa/adb-MySQL/blob/main/adb-MySQL.ipynb#top)\n",
    "***"
   ]
  },
  {
   "cell_type": "markdown",
   "metadata": {},
   "source": [
    "- **designed** - before **database** is **created** - **no** **data** is contained in the logical schema - **define** the **logical** **constraints** that apply to the stored data - **relationships** between the tables - entities - relations - logical constraint on data could be that a customer name should be no more than 50 characters long - price of a product should be stored as a double rather than an integer [1]"
   ]
  },
  {
   "cell_type": "markdown",
   "metadata": {},
   "source": [
    "- **database** - **hospital** - stores information about patients - create a table - entity - relation - Patient Table - do **not** **need** to **know** anything about **individual** patients at this point when creating the - logical database schema - **need** to **know** common - **characteristics** - attributes [1]"
   ]
  },
  {
   "cell_type": "markdown",
   "metadata": {},
   "source": [
    "- defined - logical schema for the database - table - entity - relation - with six columns - attributes - fields - each column - attribute - field - data type - indicating the type of data that it can store [1]"
   ]
  },
  {
   "cell_type": "markdown",
   "metadata": {},
   "source": [
    "<img src=\"img/10-01-02.png\" />"
   ]
  },
  {
   "cell_type": "markdown",
   "metadata": {},
   "source": [
    "- adding data to the table - entity - relation - storing duplicate information - column - attribute - field - Doctor - rows - records - tuples - value - Dr. Jones - need to redesign the schema to avoid this duplication [1]"
   ]
  },
  {
   "cell_type": "markdown",
   "metadata": {},
   "source": [
    "<img src=\"img/10-01-02-1.png\" />"
   ]
  },
  {
   "cell_type": "markdown",
   "metadata": {},
   "source": [
    "- instead of having one table - entity - relation - in the database - need two tables - entities - relations - store information about i) doctors and ii) patients [1]"
   ]
  },
  {
   "cell_type": "markdown",
   "metadata": {},
   "source": [
    "<img src=\"img/10-01-02-2.png\" />\n",
    "<img src=\"img/10-01-02-2-1.png\" />"
   ]
  },
  {
   "cell_type": "markdown",
   "metadata": {},
   "source": [
    "- **definition** - **logical** **schema** - **defines** the **relationships** between the **tables** - entities - relations [1]"
   ]
  },
  {
   "cell_type": "markdown",
   "metadata": {},
   "source": [
    "- table - entity - relation - Patient Table - cannot be associated with the table - entity - relation - Doctor Table - unless the doctor exists in the table - entity - relation - Doctor Table [1]"
   ]
  },
  {
   "cell_type": "markdown",
   "metadata": {},
   "source": [
    "<img src=\"img/10-01-02-3.png\" />"
   ]
  },
  {
   "cell_type": "markdown",
   "metadata": {},
   "source": [
    "- adding data to the tables - entities - relations - in the database - storing the information about each doctor only once - referencing it many times \n",
    "[7]"
   ]
  },
  {
   "cell_type": "markdown",
   "metadata": {},
   "source": [
    "<img src=\"img/10-01-02-4.png\" />"
   ]
  },
  {
   "cell_type": "markdown",
   "metadata": {},
   "source": [
    "- **logical** **schema** - set of **rules** **defining** a **database** - the tables - entities - relations - and names - columns - attributes - fields - in each table - entity - relation - type of data stored - relationships between the tables - entities - relations - in the database [1]"
   ]
  },
  {
   "cell_type": "markdown",
   "metadata": {},
   "source": [
    "***\n",
    "# END"
   ]
  }
 ],
 "metadata": {
  "kernelspec": {
   "display_name": "Python 3",
   "language": "python",
   "name": "python3"
  },
  "language_info": {
   "codemirror_mode": {
    "name": "ipython",
    "version": 3
   },
   "file_extension": ".py",
   "mimetype": "text/x-python",
   "name": "python",
   "nbconvert_exporter": "python",
   "pygments_lexer": "ipython3",
   "version": "3.7.6"
  }
 },
 "nbformat": 4,
 "nbformat_minor": 4
}
