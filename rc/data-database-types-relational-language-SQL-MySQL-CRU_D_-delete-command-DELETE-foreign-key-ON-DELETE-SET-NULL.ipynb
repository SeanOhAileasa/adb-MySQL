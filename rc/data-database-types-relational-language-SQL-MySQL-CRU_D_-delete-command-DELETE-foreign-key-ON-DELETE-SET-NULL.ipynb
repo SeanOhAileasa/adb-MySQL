{
 "cells": [
  {
   "cell_type": "markdown",
   "metadata": {},
   "source": [
    "# data-database-types-relational-language-SQL-MySQL-CRU_D_-delete-command-DELETE-foreign-key-ON-DELETE-SET-NULL\n",
    "> [TABLE OF CONTENTS](https://nbviewer.jupyter.org/github/SeanOhAileasa/adb-MySQL/blob/main/adb-MySQL.ipynb#top)\n",
    "***"
   ]
  },
  {
   "cell_type": "markdown",
   "metadata": {},
   "source": [
    "- **enforce** - **behaviour** - **ON** **DELETE** **SET** **NULL** - **deleting** **row** - record - tuple - that is a **referenced** - **foreign** **key** [1]"
   ]
  },
  {
   "cell_type": "markdown",
   "metadata": {},
   "source": [
    "- **flow** **over** from the **table** - entity - relation - **row** - record - tuple - **deleted** - **to** the **table** - entity - relation - **referencing** the **foreign** **key** - **associated** **row** - record - tuple - - **set** to **NULL** [1]"
   ]
  },
  {
   "cell_type": "markdown",
   "metadata": {},
   "source": [
    "```sql\n",
    "mysql> use bus;\n",
    "Database changed\n",
    "```"
   ]
  },
  {
   "cell_type": "markdown",
   "metadata": {},
   "source": [
    "```sql\n",
    "mysql> show tables;\n",
    "+---------------+\n",
    "| Tables_in_bus |\n",
    "+---------------+\n",
    "| bus           |\n",
    "| driver        |\n",
    "+---------------+\n",
    "2 rows in set (0.01 sec)\n",
    "```"
   ]
  },
  {
   "cell_type": "markdown",
   "metadata": {},
   "source": [
    "```sql\n",
    "mysql> SELECT *\n",
    "    -> FROM bus;\n",
    "+------------+---------------+----------+\n",
    "| reg        | maxPassengers | fuel     |\n",
    "+------------+---------------+----------+\n",
    "| 12-G-1323  |            34 | Petrol   |\n",
    "| 161-D-1323 |            80 | Diesel   |\n",
    "| 162-D-3433 |           120 | Electric |\n",
    "| 191-G-123  |            56 | Diesel   |\n",
    "+------------+---------------+----------+\n",
    "4 rows in set (0.00 sec)\n",
    "```"
   ]
  },
  {
   "cell_type": "markdown",
   "metadata": {},
   "source": [
    "```sql\n",
    "mysql> SELECT *\n",
    "    -> FROM driver;\n",
    "+-----------+------+------------+\n",
    "| licenceNo | name | busReg     |\n",
    "+-----------+------+------------+\n",
    "| F2233     | Alan | 191-G-123  |\n",
    "| L23423    | John | 12-G-1323  |\n",
    "| X98983    | Tom  | 161-D-1323 |\n",
    "+-----------+------+------------+\n",
    "3 rows in set (0.00 sec)\n",
    "```"
   ]
  },
  {
   "cell_type": "markdown",
   "metadata": {},
   "source": [
    "```sql\n",
    "mysql> SHOW CREATE TABLE bus;\n",
    "+-------+-------------------------------------------------------------------------------------------------------------------------------------------------------------------------------------------------------------------+\n",
    "| Table | Create Table                                                                                                                                                                                                      |\n",
    "+-------+-------------------------------------------------------------------------------------------------------------------------------------------------------------------------------------------------------------------+\n",
    "| bus   | CREATE TABLE `bus` (\n",
    "  `reg` varchar(15) NOT NULL,\n",
    "  `maxPassengers` int DEFAULT NULL,\n",
    "  `fuel` enum('Diesel','Petrol','Electric') DEFAULT 'Diesel',\n",
    "  PRIMARY KEY (`reg`)\n",
    ") ENGINE=InnoDB DEFAULT CHARSET=latin1 |\n",
    "+-------+-------------------------------------------------------------------------------------------------------------------------------------------------------------------------------------------------------------------+\n",
    "1 row in set (0.00 sec)\n",
    "```"
   ]
  },
  {
   "cell_type": "markdown",
   "metadata": {},
   "source": [
    "```sql\n",
    "mysql> SHOW CREATE TABLE driver;\n",
    "+--------+-----------------------------------------------------------------------------------------------------------------------------------------------------------------------------------------------------------------------------------------------------------------------------------------------------------------------------------+\n",
    "| Table  | Create Table                                                                                                                                                                                                                                                                                                                      |\n",
    "+--------+-----------------------------------------------------------------------------------------------------------------------------------------------------------------------------------------------------------------------------------------------------------------------------------------------------------------------------------+\n",
    "| driver | CREATE TABLE `driver` (\n",
    "  `licenceNo` varchar(20) NOT NULL,\n",
    "  `name` varchar(30) DEFAULT NULL,\n",
    "  `busReg` varchar(15) DEFAULT NULL,\n",
    "  PRIMARY KEY (`licenceNo`),\n",
    "  KEY `busReg` (`busReg`),\n",
    "  CONSTRAINT `driver_ibfk_1` FOREIGN KEY (`busReg`) REFERENCES `bus` (`reg`) ON DELETE SET NULL\n",
    ") ENGINE=InnoDB DEFAULT CHARSET=latin1 |\n",
    "+--------+-----------------------------------------------------------------------------------------------------------------------------------------------------------------------------------------------------------------------------------------------------------------------------------------------------------------------------------+\n",
    "1 row in set (0.00 sec)\n",
    "```"
   ]
  },
  {
   "cell_type": "markdown",
   "metadata": {},
   "source": [
    "- deleting row - record - tuple - from table - entity - relation - bus  [1]\n",
    "\n",
    "```sql\n",
    "+------------+---------------+----------+\n",
    "| reg        | maxPassengers | fuel     |\n",
    "+------------+---------------+----------+\n",
    "| 191-G-123  |            56 | Diesel   |\n",
    "+------------+---------------+----------\n",
    "```\n",
    "\n",
    "- row - record - tuple - in the table - entity - relation - driver - is referencing this row - record - tuple - in the table - entity - relation - bus [1]\n",
    "\n",
    "```sql\n",
    "+-----------+------+------------+\n",
    "| licenceNo | name | busReg     |\n",
    "+-----------+------+------------+\n",
    "| F2233     | Alan | 191-G-123  |\n",
    "+-----------+------+------------+\n",
    "```\n",
    "\n",
    "- **behaviour** - **ON** **DELETE** **SET** **NULL** - **enforced** - **row** - record - tuple - **referenced** by **table** - entity - relation - driver - **set** to **NULL** - now the reference in the table - entity - relation - bus - is no longer referenced - deleted [1]\n",
    "\n",
    "```sql\n",
    "CONSTRAINT `driver_ibfk_1` FOREIGN KEY (`busReg`) REFERENCES `bus` (`reg`) ON DELETE SET NULL\n",
    "```\n",
    "\n",
    "```sql\n",
    "+-----------+------+------------+\n",
    "| licenceNo | name | busReg     |\n",
    "+-----------+------+------------+\n",
    "| F2233     | Alan | NULL       |\n",
    "+-----------+------+------------+\n",
    "```"
   ]
  },
  {
   "cell_type": "markdown",
   "metadata": {},
   "source": [
    "```sql\n",
    "mysql> SELECT *\n",
    "    -> FROM driver;\n",
    "+-----------+------+------------+\n",
    "| licenceNo | name | busReg     |\n",
    "+-----------+------+------------+\n",
    "| F2233     | Alan | NULL       |\n",
    "| L23423    | John | 12-G-1323  |\n",
    "| X98983    | Tom  | 161-D-1323 |\n",
    "+-----------+------+------------+\n",
    "3 rows in set (0.00 sec)\n",
    "```"
   ]
  },
  {
   "cell_type": "markdown",
   "metadata": {},
   "source": [
    "```sql\n",
    "mysql> SELECT *\n",
    "    -> FROM bus;\n",
    "+------------+---------------+----------+\n",
    "| reg        | maxPassengers | fuel     |\n",
    "+------------+---------------+----------+\n",
    "| 12-G-1323  |            34 | Petrol   |\n",
    "| 161-D-1323 |            80 | Diesel   |\n",
    "| 162-D-3433 |           120 | Electric |\n",
    "+------------+---------------+----------+\n",
    "3 rows in set (0.00 sec)\n",
    "```"
   ]
  },
  {
   "cell_type": "markdown",
   "metadata": {},
   "source": [
    "- similar to - ON DELETE CASCADE - **mysql** - does **not** **indicate** that the **row** - record - tuple - from **referenced** **table** - entity - relation - driver - **set** to **NULL** - indicates just that a row - record - tuple - was deleted from the - table - entity - relation - bus [1]"
   ]
  },
  {
   "cell_type": "markdown",
   "metadata": {},
   "source": [
    "***\n",
    "# END"
   ]
  }
 ],
 "metadata": {
  "kernelspec": {
   "display_name": "Python 3",
   "language": "python",
   "name": "python3"
  },
  "language_info": {
   "codemirror_mode": {
    "name": "ipython",
    "version": 3
   },
   "file_extension": ".py",
   "mimetype": "text/x-python",
   "name": "python",
   "nbconvert_exporter": "python",
   "pygments_lexer": "ipython3",
   "version": "3.7.6"
  }
 },
 "nbformat": 4,
 "nbformat_minor": 4
}
