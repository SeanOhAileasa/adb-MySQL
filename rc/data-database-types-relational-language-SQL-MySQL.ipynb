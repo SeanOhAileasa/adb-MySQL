{
 "cells": [
  {
   "cell_type": "markdown",
   "metadata": {},
   "source": [
    "# data-database-types-relational-language-SQL-MySQL\n",
    "> [TABLE OF CONTENTS](https://nbviewer.jupyter.org/github/SeanOhAileasa/adb-MySQL/blob/main/adb-MySQL.ipynb#top)\n",
    "***"
   ]
  },
  {
   "cell_type": "markdown",
   "metadata": {},
   "source": [
    "- **sql** is a **lanaguage** with its own **syntax** and **rules** [1]"
   ]
  },
  {
   "cell_type": "markdown",
   "metadata": {},
   "source": [
    " - **mysql** is a **relational** **database** **management** **system** - dbms - that **uses** the **sql** **language** to manipulate the data [1]"
   ]
  },
  {
   "cell_type": "markdown",
   "metadata": {},
   "source": [
    "- importing a database - cmd [1]\n",
    "\n",
    "```\n",
    "$ cd ___\\MySQL\\MySQL Server 8.0\\bin\n",
    "___\\MySQL\\MySQL Server 8.0\\bin>\n",
    "```\n",
    "\n",
    "```\n",
    "$ pwd\n",
    "___\\MySQL\\MySQL Server 8.0\\bin>\n",
    "```\n",
    "\n",
    "```\n",
    "$ mysql -u___ -p___ < ___\\src\\hdp\\adb\\db\\lab1.sql\n",
    "mysql: [Warning] Using a password on the command line interface can be insecure.\n",
    "```"
   ]
  },
  {
   "cell_type": "markdown",
   "metadata": {},
   "source": [
    "- access - MySQL 8.0 Command Line Client - database - lab1 - imported [1]"
   ]
  },
  {
   "cell_type": "markdown",
   "metadata": {},
   "source": [
    "```sql\n",
    "mysql> show databases;\n",
    "+--------------------+\n",
    "| Database           |\n",
    "+--------------------+\n",
    "| db                 |\n",
    "| information_schema |\n",
    "| lab1               |\n",
    "| mysql              |\n",
    "| performance_schema |\n",
    "| sakila             |\n",
    "| sys                |\n",
    "| world              |\n",
    "+--------------------+\n",
    "8 rows in set (0.00 sec)\n",
    "```"
   ]
  },
  {
   "cell_type": "markdown",
   "metadata": {},
   "source": [
    "***\n",
    "# END"
   ]
  }
 ],
 "metadata": {
  "kernelspec": {
   "display_name": "Python 3",
   "language": "python",
   "name": "python3"
  },
  "language_info": {
   "codemirror_mode": {
    "name": "ipython",
    "version": 3
   },
   "file_extension": ".py",
   "mimetype": "text/x-python",
   "name": "python",
   "nbconvert_exporter": "python",
   "pygments_lexer": "ipython3",
   "version": "3.7.6"
  }
 },
 "nbformat": 4,
 "nbformat_minor": 4
}
