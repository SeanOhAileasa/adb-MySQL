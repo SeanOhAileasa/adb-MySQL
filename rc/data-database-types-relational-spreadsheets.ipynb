{
 "cells": [
  {
   "cell_type": "markdown",
   "metadata": {},
   "source": [
    "# data-database-types-relational-spreadsheets\n",
    "> [TABLE OF CONTENTS](https://nbviewer.jupyter.org/github/SeanOhAileasa/adb-MySQL/blob/main/adb-MySQL.ipynb#top)\n",
    "***"
   ]
  },
  {
   "cell_type": "markdown",
   "metadata": {},
   "source": [
    "- each **row** - record - tuple - in a **spreadsheet** contain **data** **pertaining** or **relating** to a **single** **item** [1]"
   ]
  },
  {
   "cell_type": "markdown",
   "metadata": {},
   "source": [
    "<img src=\"img/06-01-01.png\" />"
   ]
  },
  {
   "cell_type": "markdown",
   "metadata": {},
   "source": [
    "- six rows - each contains information about a specific project - **rows** in a **spreadsheet** are the **same** as **rows** - record - tuple - in a **table** - entity - relation - in a **relational** database [1]"
   ]
  },
  {
   "cell_type": "markdown",
   "metadata": {},
   "source": [
    "<img src=\"img/06-01-01-0.png\" />"
   ]
  },
  {
   "cell_type": "markdown",
   "metadata": {},
   "source": [
    "- each column in the spreadsheet contains data representing a specific characteristic of the project - column - PM - holds the name of the project manager for each project - PM Phone - Project Name - Start Date - Budget - **columns** in a **spreadsheet** are the **same** as **columns** - attributes - fields - in a **table** - entity - relation - in a **relational** database [1]"
   ]
  },
  {
   "cell_type": "markdown",
   "metadata": {},
   "source": [
    "<img src=\"img/06-01-01-00.png\" />"
   ]
  },
  {
   "cell_type": "markdown",
   "metadata": {},
   "source": [
    "- spreadsheet - order information - each row represents an order - each column stores information on a specific characteristic of the order - Customer - Eircode - Product Bought - Date of Transaction - Amount - **individual** **sheets** in a **spreadsheet** **correspond** to **tables** - entities - relations - in a **relational** database - although a spreadsheet is definitely not a database - some concepts from spreadsheets are easily translated into relational database terms [1]"
   ]
  },
  {
   "cell_type": "markdown",
   "metadata": {},
   "source": [
    "<img src=\"img/06-01-01-000.png\" />"
   ]
  },
  {
   "cell_type": "markdown",
   "metadata": {},
   "source": [
    "- order **spreadsheet** has a lot of **duplication** - each time a customer orders a new product - customer **information** has to be **re-entered** into the spreadsheet - this is duplication of information - **error-prone** [1]"
   ]
  },
  {
   "cell_type": "markdown",
   "metadata": {},
   "source": [
    "<img src=\"img/06-01-01-0000.png\" />"
   ]
  },
  {
   "cell_type": "markdown",
   "metadata": {},
   "source": [
    "- each time an item is ordered its details also have to be entered - duplicated - into the spreadsheet [1]"
   ]
  },
  {
   "cell_type": "markdown",
   "metadata": {},
   "source": [
    "<img src=\"img/06-01-01-00000.png\" />"
   ]
  },
  {
   "cell_type": "markdown",
   "metadata": {},
   "source": [
    "- **well** **designed** **database** this sort of **duplication** of information does **not** **happen** - other **features** in databases such as **transaction** and **user** **management** - **storage** and **indexing** - that are **provided** by a **database** are **not** provided in **spreadsheets** [1]"
   ]
  },
  {
   "cell_type": "markdown",
   "metadata": {},
   "source": [
    "- **comparing** the **storage** of **information** in a - **spreadsheet** - as **opposed** to a - **relational** database - **similarities** **exist** - **both** have **columnns** and **rows** - however the data is **more** **efficiently** **organised** in a **database** [1]"
   ]
  },
  {
   "cell_type": "markdown",
   "metadata": {},
   "source": [
    "<img src=\"img/06-01-02-000000.png\" />"
   ]
  },
  {
   "cell_type": "markdown",
   "metadata": {},
   "source": [
    "- **responsibility** - **managing** this data **efficiently** and **consistently** lays with the database management system - **dbms** [1]"
   ]
  },
  {
   "cell_type": "markdown",
   "metadata": {},
   "source": [
    "***\n",
    "# END"
   ]
  }
 ],
 "metadata": {
  "kernelspec": {
   "display_name": "Python 3",
   "language": "python",
   "name": "python3"
  },
  "language_info": {
   "codemirror_mode": {
    "name": "ipython",
    "version": 3
   },
   "file_extension": ".py",
   "mimetype": "text/x-python",
   "name": "python",
   "nbconvert_exporter": "python",
   "pygments_lexer": "ipython3",
   "version": "3.7.6"
  }
 },
 "nbformat": 4,
 "nbformat_minor": 4
}
