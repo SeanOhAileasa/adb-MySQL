{
 "cells": [
  {
   "cell_type": "markdown",
   "metadata": {},
   "source": [
    "# data-database-types-relational-normalisation\n",
    "> [TABLE OF CONTENTS](https://nbviewer.jupyter.org/github/SeanOhAileasa/adb-MySQL/blob/main/adb-MySQL.ipynb#top)\n",
    "***"
   ]
  },
  {
   "cell_type": "markdown",
   "metadata": {},
   "source": [
    "- **organising** the **columns** - attributes - fields - and **tables** - entities - relations - of a **relational** **database** to **minimise** **data** **redundancy** [1]"
   ]
  },
  {
   "cell_type": "markdown",
   "metadata": {},
   "source": [
    "- **breaking** down a **table** - entity - relation - into **smaller** **related** tables - entities - relations - having many connected tables - entities - relations - in a relational database - makes **data** in a database - **easier** to **update** - **less** **prone** to **anomalies** [1]"
   ]
  },
  {
   "cell_type": "markdown",
   "metadata": {},
   "source": [
    "- **normalisation** - one **large** **table** - entity - relation - in the sense of a **large** **number** of **columns** - attributes - fields [1]"
   ]
  },
  {
   "cell_type": "markdown",
   "metadata": {},
   "source": [
    "<img src=\"img/07-04-01-01.png\" />"
   ]
  },
  {
   "cell_type": "markdown",
   "metadata": {},
   "source": [
    "- large **table** - **broken** **down** into smaller interlinked tables - entities - relations [1]"
   ]
  },
  {
   "cell_type": "markdown",
   "metadata": {},
   "source": [
    "<img src=\"img/07-04-01-01-1-1.png\" />"
   ]
  },
  {
   "cell_type": "markdown",
   "metadata": {},
   "source": [
    "- **reason** for **interlinked** **tables** - entities - relations - with **less** **columns** - attributes - fields - opposed to one large table - entity - relation - with many columns - attributes - fields - relates to the **definition** of a **database** - a collection of related data - organised so that the data can be easily - accessed - managed - updated [1] "
   ]
  },
  {
   "cell_type": "markdown",
   "metadata": {},
   "source": [
    "- **process** of - normalisation - **done** when **defining** the database - **schema** [1]"
   ]
  },
  {
   "cell_type": "markdown",
   "metadata": {},
   "source": [
    "- number of **stages** of - normalisation - **normal** **forms** - plus set of **rules** to be followed to get the database into the required normal form [1]"
   ]
  },
  {
   "cell_type": "markdown",
   "metadata": {},
   "source": [
    "***\n",
    "# END"
   ]
  }
 ],
 "metadata": {
  "kernelspec": {
   "display_name": "Python 3",
   "language": "python",
   "name": "python3"
  },
  "language_info": {
   "codemirror_mode": {
    "name": "ipython",
    "version": 3
   },
   "file_extension": ".py",
   "mimetype": "text/x-python",
   "name": "python",
   "nbconvert_exporter": "python",
   "pygments_lexer": "ipython3",
   "version": "3.7.6"
  }
 },
 "nbformat": 4,
 "nbformat_minor": 4
}
