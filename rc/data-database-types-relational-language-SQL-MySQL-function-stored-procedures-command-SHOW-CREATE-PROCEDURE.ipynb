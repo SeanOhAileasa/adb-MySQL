{
 "cells": [
  {
   "cell_type": "markdown",
   "metadata": {},
   "source": [
    "# data-database-types-relational-language-SQL-MySQL-function-stored-procedures-command-SHOW-CREATE-PROCEDURE\n",
    "> [TABLE OF CONTENTS](https://nbviewer.jupyter.org/github/SeanOhAileasa/adb-MySQL/blob/main/adb-MySQL.ipynb#top)\n",
    "***"
   ]
  },
  {
   "cell_type": "markdown",
   "metadata": {},
   "source": [
    "- **review** **code** of - **procedure** - **function** - commands - **SHOW** **CREATE** **PROCEDURE** - **SHOW** **CREATE** **FUNCTION** - give a not-so-friendly view of the actual code [1]"
   ]
  },
  {
   "cell_type": "markdown",
   "metadata": {},
   "source": [
    "```sql\n",
    "mysql> SHOW CREATE PROCEDURE MakeMileage;\n",
    "+-------------+--------------------------------------------+----------------------------------------------------------------------------------------------------------------------------------------------------------------------------------------------------+----------------------+----------------------+--------------------+\n",
    "| Procedure   | sql_mode                                   | Create Procedure                                                                                                                                                                                   | character_set_client | collation_connection | Database Collation |\n",
    "+-------------+--------------------------------------------+----------------------------------------------------------------------------------------------------------------------------------------------------------------------------------------------------+----------------------+----------------------+--------------------+\n",
    "| MakeMileage | STRICT_TRANS_TABLES,NO_ENGINE_SUBSTITUTION | CREATE DEFINER=`root`@`localhost` PROCEDURE `MakeMileage`(mk VARCHAR(20),ml INT(11))\n",
    "    DETERMINISTIC\n",
    "BEGIN\n",
    "  SELECT *\n",
    "  FROM car\n",
    "  WHERE make LIKE mk\n",
    "  AND mileage < ml\n",
    "  ORDER BY mileage;\n",
    "END | cp850                | cp850_general_ci     | utf8mb4_0900_ai_ci |\n",
    "+-------------+--------------------------------------------+----------------------------------------------------------------------------------------------------------------------------------------------------------------------------------------------------+----------------------+----------------------+--------------------+\n",
    "1 row in set (0.00 sec)\n",
    "```"
   ]
  },
  {
   "cell_type": "markdown",
   "metadata": {},
   "source": [
    "***\n",
    "# END"
   ]
  }
 ],
 "metadata": {
  "kernelspec": {
   "display_name": "Python 3",
   "language": "python",
   "name": "python3"
  },
  "language_info": {
   "codemirror_mode": {
    "name": "ipython",
    "version": 3
   },
   "file_extension": ".py",
   "mimetype": "text/x-python",
   "name": "python",
   "nbconvert_exporter": "python",
   "pygments_lexer": "ipython3",
   "version": "3.7.6"
  }
 },
 "nbformat": 4,
 "nbformat_minor": 4
}
