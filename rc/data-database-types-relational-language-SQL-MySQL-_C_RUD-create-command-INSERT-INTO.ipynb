{
 "cells": [
  {
   "cell_type": "markdown",
   "metadata": {},
   "source": [
    "# data-database-types-relational-language-SQL-MySQL-_C_RUD-create-command-INSERT-INTO\n",
    "> [TABLE OF CONTENTS](https://nbviewer.jupyter.org/github/SeanOhAileasa/adb-MySQL/blob/main/adb-MySQL.ipynb#top)\n",
    "***"
   ]
  },
  {
   "cell_type": "markdown",
   "metadata": {},
   "source": [
    "- command - mysql - **add** **information** to **databases** [1]"
   ]
  },
  {
   "cell_type": "markdown",
   "metadata": {},
   "source": [
    "```sql\n",
    "INSERT INTO <table> VALUES (value1, value2, valueN);\n",
    "```\n",
    "\n",
    "```sql\n",
    "INSERT INTO <table> (column1, column2, columnN)\n",
    "            VALUES (value1, value2, valueN);\n",
    "```"
   ]
  },
  {
   "cell_type": "markdown",
   "metadata": {},
   "source": [
    "[MySQL Documentation](https://web.archive.org/web/20200616172821/https://dev.mysql.com/doc/refman/8.0/en/insert.html)"
   ]
  },
  {
   "cell_type": "markdown",
   "metadata": {},
   "source": [
    "```sql\n",
    "mysql> use lab5;\n",
    "Database changed\n",
    "```"
   ]
  },
  {
   "cell_type": "markdown",
   "metadata": {},
   "source": [
    "```sql\n",
    "mysql> show tables;\n",
    "+----------------+\n",
    "| Tables_in_lab5 |\n",
    "+----------------+\n",
    "| car            |\n",
    "| person         |\n",
    "+----------------+\n",
    "2 rows in set (0.00 sec)\n",
    "```"
   ]
  },
  {
   "cell_type": "markdown",
   "metadata": {},
   "source": [
    "```sql\n",
    "mysql> SELECT *\n",
    "    -> FROM person;\n",
    "+----------+-------+------+------+-----------+\n",
    "| personID | name  | age  | sex  | isStudent |\n",
    "+----------+-------+------+------+-----------+\n",
    "|        1 | John  |   23 | M    |         1 |\n",
    "|        2 | Mary  |   30 | F    |         0 |\n",
    "|        3 | Tom   | NULL | M    |         0 |\n",
    "|        4 | Alan  |   18 | M    |         1 |\n",
    "|        5 | Laura |   17 | F    |         1 |\n",
    "|        6 | Bob   |   18 | M    |         0 |\n",
    "+----------+-------+------+------+-----------+\n",
    "6 rows in set (0.00 sec)\n",
    "```"
   ]
  },
  {
   "cell_type": "markdown",
   "metadata": {},
   "source": [
    "- table - entity - relation - person - **command** - **DESCRIBE** - **schema** - **Field** - five **columns** - attributes - fields - personID - name - age - sex - isStudent - **schema** - **Type** - **data** **type** - for each row - record - tuple [1] "
   ]
  },
  {
   "cell_type": "markdown",
   "metadata": {},
   "source": [
    "```sql\n",
    "mysql> DESCRIBE person;\n",
    "+-----------+---------------+------+-----+---------+----------------+\n",
    "| Field     | Type          | Null | Key | Default | Extra          |\n",
    "+-----------+---------------+------+-----+---------+----------------+\n",
    "| personID  | int           | NO   | PRI | NULL    | auto_increment |\n",
    "| name      | varchar(20)   | NO   |     | NULL    |                |\n",
    "| age       | int           | YES  |     | NULL    |                |\n",
    "| sex       | enum('M','F') | YES  |     | M       |                |\n",
    "| isStudent | tinyint(1)    | YES  |     | 0       |                |\n",
    "+-----------+---------------+------+-----+---------+----------------+\n",
    "5 rows in set (0.00 sec)\n",
    "```"
   ]
  },
  {
   "cell_type": "markdown",
   "metadata": {},
   "source": [
    "- **command** - **INSERT** **INTO** - **table** - entity - relation - person - **keyword** - **VALUES** - followed by a **list** of the **values** to **be** **inserted** [1]"
   ]
  },
  {
   "cell_type": "markdown",
   "metadata": {},
   "source": [
    "- **order** of the **values** - **inserted** - are the **same** as the **order** of the **columns** - attributes - fields - **returned** by - **command** - **DESCRIBE** [1]"
   ]
  },
  {
   "cell_type": "markdown",
   "metadata": {},
   "source": [
    "```sql\n",
    "mysql> INSERT\n",
    "    -> INTO person\n",
    "    -> VALUES (7,\"Johnny\",23,\"M\",1);\n",
    "Query OK, 1 row affected (0.01 sec)\n",
    "```"
   ]
  },
  {
   "cell_type": "markdown",
   "metadata": {},
   "source": [
    "```sql\n",
    "mysql> SELECT *\n",
    "    -> FROM person;\n",
    "+----------+--------+------+------+-----------+\n",
    "| personID | name   | age  | sex  | isStudent |\n",
    "+----------+--------+------+------+-----------+\n",
    "|        1 | John   |   23 | M    |         1 |\n",
    "|        2 | Mary   |   30 | F    |         0 |\n",
    "|        3 | Tom    | NULL | M    |         0 |\n",
    "|        4 | Alan   |   18 | M    |         1 |\n",
    "|        5 | Laura  |   17 | F    |         1 |\n",
    "|        6 | Bob    |   18 | M    |         0 |\n",
    "|        7 | Johnny |   23 | M    |         1 |\n",
    "+----------+--------+------+------+-----------+\n",
    "7 rows in set (0.00 sec)\n",
    "```"
   ]
  },
  {
   "cell_type": "markdown",
   "metadata": {},
   "source": [
    "- column - attribute - field - personID - **schema** - **Key** - PRI - **primary** **key** - **uniquely** **identifies** a **row** - record - tuple - in a **table** - entity - relation [1]"
   ]
  },
  {
   "cell_type": "markdown",
   "metadata": {},
   "source": [
    "- **schema** - **NULL** - NO - **must** be **unqiue** - **not** **null** [1]"
   ]
  },
  {
   "cell_type": "markdown",
   "metadata": {},
   "source": [
    "- **schema** - **Extra** - **auto_increment** - do **not** **need** to **specify** a **value** - **mysql** ensures **uniqueness** [1]"
   ]
  },
  {
   "cell_type": "markdown",
   "metadata": {},
   "source": [
    "```sql\n",
    "mysql> DESCRIBE person;\n",
    "+-----------+---------------+------+-----+---------+----------------+\n",
    "| Field     | Type          | Null | Key | Default | Extra          |\n",
    "+-----------+---------------+------+-----+---------+----------------+\n",
    "| personID  | int           | NO   | PRI | NULL    | auto_increment |\n",
    "| name      | varchar(20)   | NO   |     | NULL    |                |\n",
    "| age       | int           | YES  |     | NULL    |                |\n",
    "| sex       | enum('M','F') | YES  |     | M       |                |\n",
    "| isStudent | tinyint(1)    | YES  |     | 0       |                |\n",
    "+-----------+---------------+------+-----+---------+----------------+\n",
    "5 rows in set (0.00 sec)\n",
    "```"
   ]
  },
  {
   "cell_type": "markdown",
   "metadata": {},
   "source": [
    "- even though mysql ensures uniqueness for the column - attribute - field - personID [1] \n",
    "\n",
    "```sql\n",
    "ERROR 1136 (21S01): Column count doesn't match value count at row 1\n",
    "```"
   ]
  },
  {
   "cell_type": "markdown",
   "metadata": {},
   "source": [
    "```sql\n",
    "mysql> INSERT\n",
    "    -> INTO person\n",
    "    -> VALUES (\"Mary\",30,\"F\",0);\n",
    "ERROR 1136 (21S01): Column count doesn't match value count at row 1\n",
    "```"
   ]
  },
  {
   "cell_type": "markdown",
   "metadata": {},
   "source": [
    "- **table** - entity - relation - has **five** **columns** - attributes - fields - personID - name - age - sex - isStudent - **command** - **INSERT** **INTO** - only **specifying** values for **four** **columns** - attributes - fields - name - age - sex - isStudent - **mysql** - does **not** **know** **where** to **insert** the values [1]"
   ]
  },
  {
   "cell_type": "markdown",
   "metadata": {},
   "source": [
    "- **must** **specify** which **columns** - attributes - fields - these **values** **relate** **to** [1]"
   ]
  },
  {
   "cell_type": "markdown",
   "metadata": {},
   "source": [
    "- **no** **value** **specified** for **column** - attribute - field - personID - schema - Key - PRI - **primary** **key** - value - 8 - assigned to row - record - tuple - previous highest inserted in the table - entity - relation - value - 7 - **auto_increment** [1]"
   ]
  },
  {
   "cell_type": "markdown",
   "metadata": {},
   "source": [
    "```sql\n",
    "mysql> INSERT\n",
    "    -> INTO person\n",
    "    -> (name,age,sex,isStudent)\n",
    "    -> VALUES (\"Mary\",30,\"F\",0);\n",
    "Query OK, 1 row affected (0.01 sec)\n",
    "```"
   ]
  },
  {
   "cell_type": "markdown",
   "metadata": {},
   "source": [
    "```sql\n",
    "mysql> SELECT *\n",
    "    -> FROM person;\n",
    "+----------+--------+------+------+-----------+\n",
    "| personID | name   | age  | sex  | isStudent |\n",
    "+----------+--------+------+------+-----------+\n",
    "|        1 | John   |   23 | M    |         1 |\n",
    "|        2 | Mary   |   30 | F    |         0 |\n",
    "|        3 | Tom    | NULL | M    |         0 |\n",
    "|        4 | Alan   |   18 | M    |         1 |\n",
    "|        5 | Laura  |   17 | F    |         1 |\n",
    "|        6 | Bob    |   18 | M    |         0 |\n",
    "|        7 | Johnny |   23 | M    |         1 |\n",
    "|        8 | Mary   |   30 | F    |         0 |\n",
    "+----------+--------+------+------+-----------+\n",
    "8 rows in set (0.00 sec)\n",
    "```"
   ]
  },
  {
   "cell_type": "markdown",
   "metadata": {},
   "source": [
    "- no value specified for column - attribute - field - isStudent - row - record - tuple - value - 0 - **schema** - **Default** - 0 - if **no** **values** are **specified** **during** an **insert** - **column** - attribute - field - isStudent - **defaults** **to** **value** - 0 - row - record - tuple - Jonathan is not a student [1]"
   ]
  },
  {
   "cell_type": "markdown",
   "metadata": {},
   "source": [
    "```sql\n",
    "mysql> DESCRIBE person;\n",
    "+-----------+---------------+------+-----+---------+----------------+\n",
    "| Field     | Type          | Null | Key | Default | Extra          |\n",
    "+-----------+---------------+------+-----+---------+----------------+\n",
    "| personID  | int           | NO   | PRI | NULL    | auto_increment |\n",
    "| name      | varchar(20)   | NO   |     | NULL    |                |\n",
    "| age       | int           | YES  |     | NULL    |                |\n",
    "| sex       | enum('M','F') | YES  |     | M       |                |\n",
    "| isStudent | tinyint(1)    | YES  |     | 0       |                |\n",
    "+-----------+---------------+------+-----+---------+----------------+\n",
    "5 rows in set (0.00 sec)\n",
    "```"
   ]
  },
  {
   "cell_type": "markdown",
   "metadata": {},
   "source": [
    "```sql\n",
    "mysql> INSERT\n",
    "    -> INTO person\n",
    "    -> (sex,age,name)\n",
    "    -> VALUES (\"M\",23,\"Jonathan\");\n",
    "Query OK, 1 row affected (0.01 sec)\n",
    "```"
   ]
  },
  {
   "cell_type": "markdown",
   "metadata": {},
   "source": [
    "```sql\n",
    "mysql> SELECT *\n",
    "    -> FROM person;\n",
    "+----------+----------+------+------+-----------+\n",
    "| personID | name     | age  | sex  | isStudent |\n",
    "+----------+----------+------+------+-----------+\n",
    "|        1 | John     |   23 | M    |         1 |\n",
    "|        2 | Mary     |   30 | F    |         0 |\n",
    "|        3 | Tom      | NULL | M    |         0 |\n",
    "|        4 | Alan     |   18 | M    |         1 |\n",
    "|        5 | Laura    |   17 | F    |         1 |\n",
    "|        6 | Bob      |   18 | M    |         0 |\n",
    "|        7 | Johnny   |   23 | M    |         1 |\n",
    "|        8 | Mary     |   30 | F    |         0 |\n",
    "|        9 | Jonathan |   23 | M    |         0 |\n",
    "+----------+----------+------+------+-----------+\n",
    "9 rows in set (0.00 sec)\n",
    "```"
   ]
  },
  {
   "cell_type": "markdown",
   "metadata": {},
   "source": [
    "- **adding** new customer - **row** - record - tuple - to the database - customer did **not** **provide** **all** **data** - still **want** to **add** the customer - can **update** at a **later** time [1]"
   ]
  },
  {
   "cell_type": "markdown",
   "metadata": {},
   "source": [
    "```sql\n",
    "mysql> INSERT\n",
    "    -> INTO person\n",
    "    -> (name)\n",
    "    -> VALUES (\"Tommy\");\n",
    "Query OK, 1 row affected (0.01 sec)\n",
    "```"
   ]
  },
  {
   "cell_type": "markdown",
   "metadata": {},
   "source": [
    "- column - attribute - field - personID - value - 10 - schema - Extra - auto_increment - command - INSERT INTO - manually inserted column - attribute - field - value - Tommy - column - attribute - field - age - schema - Default - NULL - column - attribute - field - sex - schema - Default - M - column - attribute - field - isStudent - schema - Default - 0 [1]"
   ]
  },
  {
   "cell_type": "markdown",
   "metadata": {},
   "source": [
    "```sql\n",
    "mysql> SELECT *\n",
    "    -> FROM person\n",
    "    -> WHERE name=\"Tommy\";\n",
    "+----------+-------+------+------+-----------+\n",
    "| personID | name  | age  | sex  | isStudent |\n",
    "+----------+-------+------+------+-----------+\n",
    "|       10 | Tommy | NULL | M    |         0 |\n",
    "+----------+-------+------+------+-----------+\n",
    "1 row in set (0.00 sec)\n",
    "```"
   ]
  },
  {
   "cell_type": "markdown",
   "metadata": {},
   "source": [
    "- columns - attributes - fields - age - sex - isStudent - command - INSERT INTO - row - record - tuple - 20 - F - 0 - mysql left to insert the remaining two columns - attributes - fields - schema - Extra - auto_increment - for column - attribute - field - personID - schema - Default - NULL - for column - attribute - field - name [1]  "
   ]
  },
  {
   "cell_type": "markdown",
   "metadata": {},
   "source": [
    "- schema - Default - NULL - mysql - does not insert anything into the table - entity - relation [1]\n",
    "\n",
    "```sql\n",
    "ERROR 1364 (HY000): Field 'name' doesn't have a default value\n",
    "```\n",
    "\n",
    "- schema - Null - NO - null value not allowed for the column - attribute - field - name - force user to enter some value for the row - record - tuple - most inportant value to be inserted into a table - entity - relation - is a persons name - all other values have default values or auto-incremented - cannot give a person a default name - NULL is a special value in - mysql - different from a string of zero characters or the number zero [1]"
   ]
  },
  {
   "cell_type": "markdown",
   "metadata": {},
   "source": [
    "```sql\n",
    "mysql> INSERT\n",
    "    -> INTO person\n",
    "    -> (age,sex,isStudent)\n",
    "    -> VALUES (20,\"F\",0);\n",
    "ERROR 1364 (HY000): Field 'name' doesn't have a default value\n",
    "```"
   ]
  },
  {
   "cell_type": "markdown",
   "metadata": {},
   "source": [
    "[MySQL Documentation](http://web.archive.org/web/20200803100245/https://dev.mysql.com/doc/refman/5.7/en/working-with-null.html)"
   ]
  },
  {
   "cell_type": "markdown",
   "metadata": {},
   "source": [
    "***\n",
    "# END"
   ]
  }
 ],
 "metadata": {
  "kernelspec": {
   "display_name": "Python 3",
   "language": "python",
   "name": "python3"
  },
  "language_info": {
   "codemirror_mode": {
    "name": "ipython",
    "version": 3
   },
   "file_extension": ".py",
   "mimetype": "text/x-python",
   "name": "python",
   "nbconvert_exporter": "python",
   "pygments_lexer": "ipython3",
   "version": "3.7.6"
  }
 },
 "nbformat": 4,
 "nbformat_minor": 4
}
