{
 "cells": [
  {
   "cell_type": "markdown",
   "metadata": {},
   "source": [
    "# data-database\n",
    "> [TABLE OF CONTENTS](https://nbviewer.jupyter.org/github/SeanOhAileasa/adb-MySQL/blob/main/adb-MySQL.ipynb#top)\n",
    "***"
   ]
  },
  {
   "cell_type": "markdown",
   "metadata": {},
   "source": [
    "- **never** **used** - **database** - still need to **store** **information** so that it can be - **accessed** - **updated** - **used** - in the **future** - hard disk - is a collection - array - of data [1]"
   ]
  },
  {
   "cell_type": "markdown",
   "metadata": {},
   "source": [
    "<img src=\"img/02-01-01.png\" />"
   ]
  },
  {
   "cell_type": "markdown",
   "metadata": {},
   "source": [
    "- store **files** - make **backups** - january 7 - start writing an important document - january 8 - make some changes - decide to call the document a different name - now have **two** copies - **versions** - of the same document - january 9 - realise some major mistakes in what was wrote in the document on the previous day - **can** **revert** - database parlance - **roll** **back** - to the previous version of the document - use that as the basis for the new work - january 9 - can use this way of working to save different versions of data - files - can **quickly** gets **complicated** - multiple versions of the document to keep track - lot of **duplication** [1]"
   ]
  },
  {
   "cell_type": "markdown",
   "metadata": {},
   "source": [
    "<img src=\"img/02-01-01-1.png\" />"
   ]
  },
  {
   "cell_type": "markdown",
   "metadata": {},
   "source": [
    "- **database** - **collection** - array - of **related** **data** - organised in a way that the data can be easily - **accessed** - **managed** - **updated** - differs from data on a hard disk [1]"
   ]
  },
  {
   "cell_type": "markdown",
   "metadata": {},
   "source": [
    "<img src=\"img/02-01-01-2.png\" />"
   ]
  },
  {
   "cell_type": "markdown",
   "metadata": {},
   "source": [
    "***\n",
    "# END"
   ]
  }
 ],
 "metadata": {
  "kernelspec": {
   "display_name": "Python 3",
   "language": "python",
   "name": "python3"
  },
  "language_info": {
   "codemirror_mode": {
    "name": "ipython",
    "version": 3
   },
   "file_extension": ".py",
   "mimetype": "text/x-python",
   "name": "python",
   "nbconvert_exporter": "python",
   "pygments_lexer": "ipython3",
   "version": "3.8.8"
  }
 },
 "nbformat": 4,
 "nbformat_minor": 4
}
