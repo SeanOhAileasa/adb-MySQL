{
 "cells": [
  {
   "cell_type": "markdown",
   "metadata": {},
   "source": [
    "# data-database-types-relational-normalisation-process\n",
    "> [TABLE OF CONTENTS](https://nbviewer.jupyter.org/github/SeanOhAileasa/adb-MySQL/blob/main/adb-MySQL.ipynb#top)\n",
    "***"
   ]
  },
  {
   "cell_type": "markdown",
   "metadata": {},
   "source": [
    "- **table** - entity - relation - **Hospital** - columns - attributes - fields - Doctor - Doctor_Phone - schema - information about patients and doctors - six columns - attrtibutes - fields - PPSN - First_Name - Surname - Address - Doctor - Doctor_Phone [1]"
   ]
  },
  {
   "cell_type": "markdown",
   "metadata": {},
   "source": [
    "<img src=\"img/07-04-03.png\" />"
   ]
  },
  {
   "cell_type": "markdown",
   "metadata": {},
   "source": [
    "- table - entity - relation - data - not organised in a way that can be easily managed [1]"
   ]
  },
  {
   "cell_type": "markdown",
   "metadata": {},
   "source": [
    "<img src=\"img/07-04-06-01.png\" />"
   ]
  },
  {
   "cell_type": "markdown",
   "metadata": {},
   "source": [
    "- **normalised** **version** of the **table** - entity - relation - **Hospital** - would mean **splitting** the database into two - table - entity - relation - Patient_Table - table - entity - relation - Doctor_Table - **link** between **both** [1]"
   ]
  },
  {
   "cell_type": "markdown",
   "metadata": {},
   "source": [
    "- table - entity - relation - Patient_Table - holds a link to the table - entity - relation - Doctor_Table - column - attribute - field - DoctorId - any patient associated with a doctor just **reference** the doctors data - **rather** **than** **duplicating** [1]"
   ]
  },
  {
   "cell_type": "markdown",
   "metadata": {},
   "source": [
    "<img src=\"img/07-04-06-02.png\" />"
   ]
  },
  {
   "cell_type": "markdown",
   "metadata": {},
   "source": [
    "- patients - john smith - fred collins - both are treated by doctor jones - the only item the table - entity - relation - Patient_Table - needs to store is the doctors id which references the specific row - record - tuple - value 100 - from  column - attribute - field - DoctorID - in the table - entity - relation - Doctor_Table [1]"
   ]
  },
  {
   "cell_type": "markdown",
   "metadata": {},
   "source": [
    "<img src=\"img/07-04-06-02-1.png\" />"
   ]
  },
  {
   "cell_type": "markdown",
   "metadata": {},
   "source": [
    "- **check** - **update** **anomaly** - doctor jones phone number changed - only update the table - entity - relation - Doctor_Table - column - attribute - field - Phone - reviewing patients treated by doctor jones - table - entity - relation - Patient_Table - column - attribute - field - DoctorID - references table - entity - relation - Doctor_Table - columns - attributes - fields - DoctorID - Phone [1]"
   ]
  },
  {
   "cell_type": "markdown",
   "metadata": {},
   "source": [
    "<img src=\"img/07-04-06-02-2.png\" />"
   ]
  },
  {
   "cell_type": "markdown",
   "metadata": {},
   "source": [
    "- **check** - **insertion** **anomaly** - adding new doctor - doctor rice - does not yet have patients - now possible - just add to table - entity - relation - Doctor_Table - given no patient treated by the new doctor - no references are made in the table - entity - relation - Patient_Table [1]"
   ]
  },
  {
   "cell_type": "markdown",
   "metadata": {},
   "source": [
    "<img src=\"img/07-04-06-02-3.png\" />"
   ]
  },
  {
   "cell_type": "markdown",
   "metadata": {},
   "source": [
    "- **check** - **deletion** **anomaly** - removing existing doctor - doctor jones - now just delete information from the table - entity - relation - Doctor_Table [1]"
   ]
  },
  {
   "cell_type": "markdown",
   "metadata": {},
   "source": [
    "<img src=\"img/07-04-06-02-4.png\" />"
   ]
  },
  {
   "cell_type": "markdown",
   "metadata": {},
   "source": [
    "- patients treated by doctor jones - update the table - entity - relation - Patient_Table - column - attribute - field - DoctorID - different value or NULL [1]"
   ]
  },
  {
   "cell_type": "markdown",
   "metadata": {},
   "source": [
    "<img src=\"img/07-04-06-02-5.png\" />"
   ]
  },
  {
   "cell_type": "markdown",
   "metadata": {},
   "source": [
    "***\n",
    "# END"
   ]
  }
 ],
 "metadata": {
  "kernelspec": {
   "display_name": "Python 3",
   "language": "python",
   "name": "python3"
  },
  "language_info": {
   "codemirror_mode": {
    "name": "ipython",
    "version": 3
   },
   "file_extension": ".py",
   "mimetype": "text/x-python",
   "name": "python",
   "nbconvert_exporter": "python",
   "pygments_lexer": "ipython3",
   "version": "3.7.6"
  }
 },
 "nbformat": 4,
 "nbformat_minor": 4
}
