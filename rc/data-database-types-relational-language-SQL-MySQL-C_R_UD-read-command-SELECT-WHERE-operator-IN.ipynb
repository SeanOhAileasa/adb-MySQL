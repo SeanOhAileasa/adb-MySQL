{
 "cells": [
  {
   "cell_type": "markdown",
   "metadata": {},
   "source": [
    "# data-database-types-relational-language-SQL-MySQL-C_R_UD-read-command-SELECT-WHERE-operator-IN\n",
    "> [TABLE OF CONTENTS](https://nbviewer.jupyter.org/github/SeanOhAileasa/adb-MySQL/blob/main/adb-MySQL.ipynb#top)\n",
    "***"
   ]
  },
  {
   "cell_type": "markdown",
   "metadata": {},
   "source": [
    "- **determine** if a **specified** **value** **matches** **any** **value** **in** a **set** of **values** or returned by a subquery [1]"
   ]
  },
  {
   "cell_type": "markdown",
   "metadata": {},
   "source": [
    "```sql\n",
    "mysql> use lab1;\n",
    "Database changed\n",
    "```"
   ]
  },
  {
   "cell_type": "markdown",
   "metadata": {},
   "source": [
    "```sql\n",
    "mysql> show tables;\n",
    "+----------------+\n",
    "| Tables_in_lab1 |\n",
    "+----------------+\n",
    "| car            |\n",
    "| person         |\n",
    "+----------------+\n",
    "2 rows in set (0.00 sec)\n",
    "```"
   ]
  },
  {
   "cell_type": "markdown",
   "metadata": {},
   "source": [
    "```sql\n",
    "mysql> SELECT *\n",
    "    -> FROM person;\n",
    "+----------+-------+------+------+------------+-----------+\n",
    "| personID | name  | age  | sex  | dob        | isStudent |\n",
    "+----------+-------+------+------+------------+-----------+\n",
    "|        1 | John  |   23 | M    | 2000-01-01 |         1 |\n",
    "|        2 | Tom   |   64 | M    | 1958-03-11 |         0 |\n",
    "|        3 | Mary  |   12 | F    | 2005-04-11 |         1 |\n",
    "|        4 | Alan  |   12 | M    | 2005-11-21 |         1 |\n",
    "|        5 | Pat   |   29 | M    | 1993-03-17 |         0 |\n",
    "|        6 | Shane |   40 | M    | 1988-07-21 |         0 |\n",
    "|        7 | Shane |   14 | M    | 2003-06-01 |         1 |\n",
    "|        8 | Alice |   24 | F    | 1999-03-01 |         1 |\n",
    "|        9 | Pat   |   37 | F    | 1988-04-15 |         0 |\n",
    "+----------+-------+------+------+------------+-----------+\n",
    "9 rows in set (0.00 sec)\n",
    "```"
   ]
  },
  {
   "cell_type": "markdown",
   "metadata": {},
   "source": [
    "- returned rows - records - tuples - from columns - attributes - fields - personID - name - clause - WHERE - column - attribute - field - age - value is age 12 or 13 or 14 or 15 - **operator** - **OR** - **verbose** - **operator** - **IN** - **better** for **readability** [1]"
   ]
  },
  {
   "cell_type": "markdown",
   "metadata": {},
   "source": [
    "```sql\n",
    "mysql> SELECT personID,name\n",
    "    -> FROM person\n",
    "    -> WHERE age=12\n",
    "    -> OR age=13\n",
    "    -> OR age=14\n",
    "    -> OR age=15;\n",
    "+----------+-------+\n",
    "| personID | name  |\n",
    "+----------+-------+\n",
    "|        3 | Mary  |\n",
    "|        4 | Alan  |\n",
    "|        7 | Shane |\n",
    "+----------+-------+\n",
    "3 rows in set (0.00 sec)\n",
    "```"
   ]
  },
  {
   "cell_type": "markdown",
   "metadata": {},
   "source": [
    "```sql\n",
    "mysql> SELECT personID,name\n",
    "    -> FROM person\n",
    "    -> WHERE age IN\n",
    "    -> (12,13,14,15);\n",
    "+----------+-------+\n",
    "| personID | name  |\n",
    "+----------+-------+\n",
    "|        3 | Mary  |\n",
    "|        4 | Alan  |\n",
    "|        7 | Shane |\n",
    "+----------+-------+\n",
    "3 rows in set (0.00 sec)\n",
    "```"
   ]
  },
  {
   "cell_type": "markdown",
   "metadata": {},
   "source": [
    "***\n",
    "# END"
   ]
  }
 ],
 "metadata": {
  "kernelspec": {
   "display_name": "Python 3",
   "language": "python",
   "name": "python3"
  },
  "language_info": {
   "codemirror_mode": {
    "name": "ipython",
    "version": 3
   },
   "file_extension": ".py",
   "mimetype": "text/x-python",
   "name": "python",
   "nbconvert_exporter": "python",
   "pygments_lexer": "ipython3",
   "version": "3.7.6"
  }
 },
 "nbformat": 4,
 "nbformat_minor": 4
}
