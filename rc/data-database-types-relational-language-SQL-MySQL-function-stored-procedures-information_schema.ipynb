{
 "cells": [
  {
   "cell_type": "markdown",
   "metadata": {},
   "source": [
    "# data-database-types-relational-language-SQL-MySQL-function-stored-procedures-information_schema\n",
    "> [TABLE OF CONTENTS](https://nbviewer.jupyter.org/github/SeanOhAileasa/adb-MySQL/blob/main/adb-MySQL.ipynb#top)\n",
    "***"
   ]
  },
  {
   "cell_type": "markdown",
   "metadata": {},
   "source": [
    "- **procedures** - **functions** - can be **found** in the **table** - entity - relation - **routines** - in the - **database** - **information_schema** [1]"
   ]
  },
  {
   "cell_type": "markdown",
   "metadata": {},
   "source": [
    "```sql\n",
    "mysql> SELECT routine_name,routine_type\n",
    "    -> FROM information_schema.routines\n",
    "    -> WHERE routine_name IN (\"AddTwoNumbers\");\n",
    "+---------------+--------------+\n",
    "| ROUTINE_NAME  | ROUTINE_TYPE |\n",
    "+---------------+--------------+\n",
    "| AddTwoNumbers | FUNCTION     |\n",
    "+---------------+--------------+\n",
    "1 row in set (0.00 sec)\n",
    "```"
   ]
  },
  {
   "cell_type": "markdown",
   "metadata": {},
   "source": [
    "***\n",
    "# END"
   ]
  }
 ],
 "metadata": {
  "kernelspec": {
   "display_name": "Python 3",
   "language": "python",
   "name": "python3"
  },
  "language_info": {
   "codemirror_mode": {
    "name": "ipython",
    "version": 3
   },
   "file_extension": ".py",
   "mimetype": "text/x-python",
   "name": "python",
   "nbconvert_exporter": "python",
   "pygments_lexer": "ipython3",
   "version": "3.7.6"
  }
 },
 "nbformat": 4,
 "nbformat_minor": 4
}
