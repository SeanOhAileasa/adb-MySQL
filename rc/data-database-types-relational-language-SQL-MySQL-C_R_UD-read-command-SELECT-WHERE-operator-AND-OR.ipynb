{
 "cells": [
  {
   "cell_type": "markdown",
   "metadata": {},
   "source": [
    "# data-database-types-relational-language-SQL-MySQL-C_R_UD-read-command-SELECT-WHERE-operator-AND-OR\n",
    "> [TABLE OF CONTENTS](https://nbviewer.jupyter.org/github/SeanOhAileasa/adb-MySQL/blob/main/adb-MySQL.ipynb#top)\n",
    "***"
   ]
  },
  {
   "cell_type": "markdown",
   "metadata": {},
   "source": [
    "```sql\n",
    "mysql> use lab1;\n",
    "Database changed\n",
    "```"
   ]
  },
  {
   "cell_type": "markdown",
   "metadata": {},
   "source": [
    "```sql\n",
    "mysql> show tables;\n",
    "+----------------+\n",
    "| Tables_in_lab1 |\n",
    "+----------------+\n",
    "| car            |\n",
    "| person         |\n",
    "+----------------+\n",
    "2 rows in set (0.00 sec)\n",
    "```"
   ]
  },
  {
   "cell_type": "markdown",
   "metadata": {},
   "source": [
    "```sql\n",
    "mysql> SELECT *\n",
    "    -> FROM person;\n",
    "+----------+-------+------+------+------------+-----------+\n",
    "| personID | name  | age  | sex  | dob        | isStudent |\n",
    "+----------+-------+------+------+------------+-----------+\n",
    "|        1 | John  |   23 | M    | 2000-01-01 |         1 |\n",
    "|        2 | Tom   |   64 | M    | 1958-03-11 |         0 |\n",
    "|        3 | Mary  |   12 | F    | 2005-04-11 |         1 |\n",
    "|        4 | Alan  |   12 | M    | 2005-11-21 |         1 |\n",
    "|        5 | Pat   |   29 | M    | 1993-03-17 |         0 |\n",
    "|        6 | Shane |   40 | M    | 1988-07-21 |         0 |\n",
    "|        7 | Shane |   14 | M    | 2003-06-01 |         1 |\n",
    "|        8 | Alice |   24 | F    | 1999-03-01 |         1 |\n",
    "|        9 | Pat   |   37 | F    | 1988-04-15 |         0 |\n",
    "+----------+-------+------+------+------------+-----------+\n",
    "9 rows in set (0.00 sec)\n",
    "```"
   ]
  },
  {
   "cell_type": "markdown",
   "metadata": {},
   "source": [
    "```sql\n",
    "mysql> describe person;\n",
    "+-----------+---------------+------+-----+---------+----------------+\n",
    "| Field     | Type          | Null | Key | Default | Extra          |\n",
    "+-----------+---------------+------+-----+---------+----------------+\n",
    "| personID  | int           | NO   | PRI | NULL    | auto_increment |\n",
    "| name      | varchar(20)   | NO   |     | NULL    |                |\n",
    "| age       | int           | YES  |     | NULL    |                |\n",
    "| sex       | enum('M','F') | YES  |     | M       |                |\n",
    "| dob       | date          | YES  |     | NULL    |                |\n",
    "| isStudent | tinyint(1)    | YES  |     | NULL    |                |\n",
    "+-----------+---------------+------+-----+---------+----------------+\n",
    "6 rows in set (0.00 sec)\n",
    "```"
   ]
  },
  {
   "cell_type": "markdown",
   "metadata": {},
   "source": [
    "- returned rows - records - tuples - from column - attribute - field - name - claus - WHERE - column - attribute - field - isStudent - value one - True - operator - AND - claus - WHERE - column - attribute - field - sex - value - M - male [1]"
   ]
  },
  {
   "cell_type": "markdown",
   "metadata": {},
   "source": [
    "```sql\n",
    "mysql> SELECT name\n",
    "    -> FROM person\n",
    "    -> WHERE isStudent\n",
    "    -> AND sex=\"M\";\n",
    "+-------+\n",
    "| name  |\n",
    "+-------+\n",
    "| John  |\n",
    "| Alan  |\n",
    "| Shane |\n",
    "+-------+\n",
    "3 rows in set (0.00 sec)\n",
    "```"
   ]
  },
  {
   "cell_type": "markdown",
   "metadata": {},
   "source": [
    "- returned rows - records - tuples - from columns - attributes - fields - name - age - claus - WHERE - column - attribute - field - sex - value - M - operator - AND - column - attribute - field - name - begins with letter - S - operator - OR - column - attribute - field - name - begins with letter - A - returned row - record - tuple - value - Alice - albeit female - **operator** **precedence** - **order** of **execution** - operator - **AND** - has a **higher** **precedence** over - **OR** - query match any row - record - tuple - where the condition 1 - operator - OR condition 2 is met [1]\n",
    "\n",
    "```sql\n",
    "-- condition 1\n",
    "WHERE sex=\"M\"\n",
    "AND name LIKE \"S%\"\n",
    "```\n",
    "\n",
    "```sql\n",
    "-- condition 2\n",
    "OR name LIKE \"A%\"\n",
    "```\n",
    "\n",
    "- condition 1 - column - attribute - field - sex - value - M - operator - AND - column - attribute - field - name - value - begins with letter - S - or zero or more characters after the S - condition 2 - column - attribute - field - name - value - begins with letter - A - or zero or more characters after the A - row - record - tuple - value - Alice - included albeit did not satisfy condition 1 - query - OR - condition 2 [1]"
   ]
  },
  {
   "cell_type": "markdown",
   "metadata": {},
   "source": [
    "```sql\n",
    "mysql> SELECT name,age\n",
    "    -> FROM person\n",
    "    -> WHERE sex=\"M\"\n",
    "    -> AND name LIKE \"S%\"\n",
    "    -> OR name LIKE \"A%\";\n",
    "+-------+------+\n",
    "| name  | age  |\n",
    "+-------+------+\n",
    "| Alan  |   12 |\n",
    "| Shane |   40 |\n",
    "| Shane |   14 |\n",
    "| Alice |   24 |\n",
    "+-------+------+\n",
    "4 rows in set (0.00 sec)\n",
    "```"
   ]
  },
  {
   "cell_type": "markdown",
   "metadata": {},
   "source": [
    "```sql\n",
    "INTERVAL\n",
    "BINARY, COLLATE\n",
    "!\n",
    "- (unary minus), ~ (unary bit inversion)\n",
    "^\n",
    "*, /, DIV, %, MOD\n",
    "-, +\n",
    "<<, >>\n",
    "&\n",
    "|\n",
    "= (comparison), <=>, >=, >, <=, <, <>, !=, IS, LIKE, REGEXP, IN, MEMBER OF\n",
    "BETWEEN, CASE, WHEN, THEN, ELSE\n",
    "NOT\n",
    "AND, &&\n",
    "XOR\n",
    "OR, ||\n",
    "= (assignment), :=\n",
    "```"
   ]
  },
  {
   "cell_type": "markdown",
   "metadata": {},
   "source": [
    "- using **parentheses** - match any rows - records - tuples - clause - WHERE - condition A - operator - AND - condition B - is met - if condition A is not satisfied then does not matter what condition B is given both conditions must be satisfied [1]\n",
    "\n",
    "```sql\n",
    "-- condition A\n",
    "WHERE sex=\"M\"\n",
    "```\n",
    "\n",
    "```sql\n",
    "-- condition B\n",
    "AND (name LIKE \"S%\" OR name LIKE \"A%\")\n",
    "```"
   ]
  },
  {
   "cell_type": "markdown",
   "metadata": {},
   "source": [
    "```sql\n",
    "mysql> SELECT name,age\n",
    "    -> FROM person\n",
    "    -> WHERE sex=\"M\"\n",
    "    -> AND (name LIKE \"S%\" OR name LIKE \"A%\");\n",
    "+-------+------+\n",
    "| name  | age  |\n",
    "+-------+------+\n",
    "| Alan  |   12 |\n",
    "| Shane |   40 |\n",
    "| Shane |   14 |\n",
    "+-------+------+\n",
    "3 rows in set (0.00 sec)\n",
    "```"
   ]
  },
  {
   "cell_type": "markdown",
   "metadata": {},
   "source": [
    "***\n",
    "# END"
   ]
  }
 ],
 "metadata": {
  "kernelspec": {
   "display_name": "Python 3",
   "language": "python",
   "name": "python3"
  },
  "language_info": {
   "codemirror_mode": {
    "name": "ipython",
    "version": 3
   },
   "file_extension": ".py",
   "mimetype": "text/x-python",
   "name": "python",
   "nbconvert_exporter": "python",
   "pygments_lexer": "ipython3",
   "version": "3.7.6"
  }
 },
 "nbformat": 4,
 "nbformat_minor": 4
}
