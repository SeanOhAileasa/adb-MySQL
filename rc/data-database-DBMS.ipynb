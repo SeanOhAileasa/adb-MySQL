{
 "cells": [
  {
   "cell_type": "markdown",
   "metadata": {},
   "source": [
    "# data-database-DBMS\n",
    "> [TABLE OF CONTENTS](https://nbviewer.jupyter.org/github/SeanOhAileasa/adb-MySQL/blob/main/adb-MySQL.ipynb#top)\n",
    "***"
   ]
  },
  {
   "cell_type": "markdown",
   "metadata": {},
   "source": [
    "- DBMS - **software** - **creating** - **managing** - **databases** - like an operating system for databases - same as using operating system tools - file manager - store documents - pictures [1]"
   ]
  },
  {
   "cell_type": "markdown",
   "metadata": {},
   "source": [
    "- **interacts** with the **user** **database** itself - **sometimes** **other** **systems** to - **store** - **retrieve** - **update** - data stored in the database [1]"
   ]
  },
  {
   "cell_type": "markdown",
   "metadata": {},
   "source": [
    "- **centralised** **view** of the **data** - can be **accessed** by **multiple** **users** from **multiple** **locations** in a **controlled** manner - handles **concurrency** - two or more users accessing the same data at the same time [1]"
   ]
  },
  {
   "cell_type": "markdown",
   "metadata": {},
   "source": [
    "- **limit** what the **end** **user** **sees** as well as **how** that end user can **view** the data stored [1]"
   ]
  },
  {
   "cell_type": "markdown",
   "metadata": {},
   "source": [
    "- table - entity - relation - Employee Table - with columns - attributes - fields - EID - Name - Salary - Next of Kin - Job Title - DBMS - **manage** different **types** of **user** who could **see** **different** **aspects** of the table - entity - relation [1]"
   ]
  },
  {
   "cell_type": "markdown",
   "metadata": {},
   "source": [
    "<img src=\"img/11-01-01.png\" />"
   ]
  },
  {
   "cell_type": "markdown",
   "metadata": {},
   "source": [
    "- hr department - may be able to see all the details of the employee [1]"
   ]
  },
  {
   "cell_type": "markdown",
   "metadata": {},
   "source": [
    "<img src=\"img/11-01-01-1.png\" />"
   ]
  },
  {
   "cell_type": "markdown",
   "metadata": {},
   "source": [
    "- project manager - accessing an employee row - record - tuple - will be unlikely to need to know the employee salary or next of kin details [1]"
   ]
  },
  {
   "cell_type": "markdown",
   "metadata": {},
   "source": [
    "<img src=\"img/11-01-01-2.png\" />"
   ]
  },
  {
   "cell_type": "markdown",
   "metadata": {},
   "source": [
    "- both - hr - project manager - accessing the employees data in the database - **DBMS** - **provides** many **different** **views** on the same data - provides **data** **independence** - if the underlying hardware or storage implementation changes - user is not affected - freeing users - application programs - from knowing where or how the data is stored - any changes in how or where the data is stored is completely transparent due to the DBMS [1]"
   ]
  },
  {
   "cell_type": "markdown",
   "metadata": {},
   "source": [
    "***\n",
    "# END"
   ]
  }
 ],
 "metadata": {
  "kernelspec": {
   "display_name": "Python 3",
   "language": "python",
   "name": "python3"
  },
  "language_info": {
   "codemirror_mode": {
    "name": "ipython",
    "version": 3
   },
   "file_extension": ".py",
   "mimetype": "text/x-python",
   "name": "python",
   "nbconvert_exporter": "python",
   "pygments_lexer": "ipython3",
   "version": "3.7.6"
  }
 },
 "nbformat": 4,
 "nbformat_minor": 4
}
