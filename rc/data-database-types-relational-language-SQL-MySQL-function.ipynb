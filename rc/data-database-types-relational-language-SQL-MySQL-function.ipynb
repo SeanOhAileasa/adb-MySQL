{
 "cells": [
  {
   "cell_type": "markdown",
   "metadata": {},
   "source": [
    "# data-database-types-relational-language-SQL-MySQL-function\n",
    "> [TABLE OF CONTENTS](https://nbviewer.jupyter.org/github/SeanOhAileasa/adb-MySQL/blob/main/adb-MySQL.ipynb#top)\n",
    "***"
   ]
  },
  {
   "cell_type": "markdown",
   "metadata": {},
   "source": [
    "- **mysql** - can **do** **more** with **data** **than** **just** - **store** - **retrieve** - **can** **manipulate** the data **before** **storing** or **retrieving** it [1]"
   ]
  },
  {
   "cell_type": "markdown",
   "metadata": {},
   "source": [
    "- **function**  - **piece** of **code** that **performs** **some** **operation** and **returns** a **result** - some accept parameters - others do not [1]"
   ]
  },
  {
   "cell_type": "markdown",
   "metadata": {},
   "source": [
    "- **company** **storing** **information** in a **database** [1]"
   ]
  },
  {
   "cell_type": "markdown",
   "metadata": {},
   "source": [
    "<img src=\"img/07-03-01.png\" />"
   ]
  },
  {
   "cell_type": "markdown",
   "metadata": {},
   "source": [
    "- hire **software** development **company** to **develop** a **website** so **staff** can **access** **information** - sales - customer - from **any** **web** **browser** [1]"
   ]
  },
  {
   "cell_type": "markdown",
   "metadata": {},
   "source": [
    "<img src=\"img/07-03-01-1.png\" />"
   ]
  },
  {
   "cell_type": "markdown",
   "metadata": {},
   "source": [
    "- **give** a **specification** to the **software** development **company** - specifying **how** the **data** should be **presented** - **levels** of **security** [1]"
   ]
  },
  {
   "cell_type": "markdown",
   "metadata": {},
   "source": [
    "<img src=\"img/07-03-01-2.png\" />"
   ]
  },
  {
   "cell_type": "markdown",
   "metadata": {},
   "source": [
    "- **software** development **company** - **implements** request in a **programming** **language** so that the **website** will **interact** with the **underlying** **database** [1]"
   ]
  },
  {
   "cell_type": "markdown",
   "metadata": {},
   "source": [
    "<img src=\"img/07-03-01-3.png\" />"
   ]
  },
  {
   "attachments": {},
   "cell_type": "markdown",
   "metadata": {},
   "source": [
    "- after some time the **company** **decides** that **staff** **should** be able to **access** the **database** on **mobile** **devices** [1]"
   ]
  },
  {
   "cell_type": "markdown",
   "metadata": {},
   "source": [
    "<img src=\"img/07-03-01-4.png\" />"
   ]
  },
  {
   "cell_type": "markdown",
   "metadata": {},
   "source": [
    "- **hire** a **different** **software** development **company** that **specialises** in **mobile** app **development** - the **specification** is **given** to the software development company outlining needs [1]"
   ]
  },
  {
   "cell_type": "markdown",
   "metadata": {},
   "source": [
    "<img src=\"img/07-03-01-5.png\" />"
   ]
  },
  {
   "cell_type": "markdown",
   "metadata": {},
   "source": [
    "- the **software** development **company** - **implements** request in a **programming** **language** - so that the **mobile** **app** will **interact** with the **underlying** **database** [1]"
   ]
  },
  {
   "cell_type": "markdown",
   "metadata": {},
   "source": [
    "- given the **same** **business** **logic** is **implemented** in **two** different **locations** - **inconsistencies** are **possible** [1]"
   ]
  },
  {
   "cell_type": "markdown",
   "metadata": {},
   "source": [
    "- **placing** **some** **business** **logic** **directly** into the **database** in the **form** of **functions** [1]"
   ]
  },
  {
   "cell_type": "markdown",
   "metadata": {},
   "source": [
    "- **information** can be more **easily** **accessed** by **both** **applications** as **opposed** to have the business logic **rewritten** for **each** application [1]"
   ]
  },
  {
   "cell_type": "markdown",
   "metadata": {},
   "source": [
    "<img src=\"img/07-03-01-6.png\" />"
   ]
  },
  {
   "cell_type": "markdown",
   "metadata": {},
   "source": [
    "- other times **may** **not** **want** the **business** **logic** - some of the business logic - **stored** in the **database** [1]"
   ]
  },
  {
   "cell_type": "markdown",
   "metadata": {},
   "source": [
    "- **developing** a **web** **interface** to the **database** for the **usa** and one for **europe** - might want **different** **logic** for **each** **region** - due to different laws or regulations in each [1]"
   ]
  },
  {
   "cell_type": "markdown",
   "metadata": {},
   "source": [
    "- **best** **not** to have the **business** **logic** **directly** **applied** in the **database** - **instead** have it in the **business** **logic** **layer** in **each** **location** [1]"
   ]
  },
  {
   "cell_type": "markdown",
   "metadata": {},
   "source": [
    "- **no** **one** **size** **fits** **all** on where the **rules** for the data should be **stored** - will differ according to needs [1]"
   ]
  },
  {
   "cell_type": "markdown",
   "metadata": {},
   "source": [
    "<img src=\"img/07-03-01-7.png\" />"
   ]
  },
  {
   "cell_type": "markdown",
   "metadata": {},
   "source": [
    "***\n",
    "# END"
   ]
  }
 ],
 "metadata": {
  "kernelspec": {
   "display_name": "Python 3",
   "language": "python",
   "name": "python3"
  },
  "language_info": {
   "codemirror_mode": {
    "name": "ipython",
    "version": 3
   },
   "file_extension": ".py",
   "mimetype": "text/x-python",
   "name": "python",
   "nbconvert_exporter": "python",
   "pygments_lexer": "ipython3",
   "version": "3.7.6"
  }
 },
 "nbformat": 4,
 "nbformat_minor": 4
}
