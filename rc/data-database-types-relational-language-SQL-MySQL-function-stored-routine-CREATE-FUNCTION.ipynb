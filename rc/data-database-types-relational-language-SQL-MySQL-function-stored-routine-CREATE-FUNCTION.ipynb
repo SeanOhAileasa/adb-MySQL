{
 "cells": [
  {
   "cell_type": "markdown",
   "metadata": {},
   "source": [
    "# data-database-types-relational-language-SQL-MySQL-function-stored-routine-CREATE-FUNCTION\n",
    "> [TABLE OF CONTENTS](https://nbviewer.jupyter.org/github/SeanOhAileasa/adb-MySQL/blob/main/adb-MySQL.ipynb#top)\n",
    "***"
   ]
  },
  {
   "cell_type": "markdown",
   "metadata": {},
   "source": [
    "- **mysql** - **statements** - can **run** **over** **many** **lines** - **semi-colon** - will **terminate** **statement** [1]"
   ]
  },
  {
   "cell_type": "markdown",
   "metadata": {},
   "source": [
    "- **run** - **function** - **include** a **semi-colon** - **change** **delimiter** [1]"
   ]
  },
  {
   "cell_type": "markdown",
   "metadata": {},
   "source": [
    "- when **mysql** **encounters** the **delimiter** - // - **executes** - **runs** **statement** - do not forget to change delimiter back to the semi-colon [1]\n",
    "\n",
    "```sql\n",
    "delimiter //\n",
    "```"
   ]
  },
  {
   "cell_type": "markdown",
   "metadata": {},
   "source": [
    "- define - stored function - arguments - accepted - two integers [1]\n",
    "\n",
    "```sql\n",
    "CREATE FUNCTION AddTwoNumbers\n",
    "```"
   ]
  },
  {
   "cell_type": "markdown",
   "metadata": {},
   "source": [
    "- parameters - two integers - num1 - num2 [1]\n",
    "\n",
    "```sql\n",
    "CREATE FUNCTION AddTwoNumbers(num1 integer,num2 integer)\n",
    "```"
   ]
  },
  {
   "cell_type": "markdown",
   "metadata": {},
   "source": [
    "- function **always** - **RETURNS** - a **value** - **specify** - **data** **type** - integer [1]\n",
    "\n",
    "```sql\n",
    "CREATE FUNCTION AddTwoNumbers(num1 integer,num2 integer)\n",
    "RETURNS integer\n",
    "```"
   ]
  },
  {
   "cell_type": "markdown",
   "metadata": {},
   "source": [
    "- **specify** **characteristics** of the function - either - **deterministic** or **non-deterministic** [1]"
   ]
  },
  {
   "cell_type": "markdown",
   "metadata": {},
   "source": [
    " - **non-deterministic** function **modifies** the **data** - have **statements** - **UPDATE** - **DELETE** - **INSERT** [1]\n",
    "\n",
    "```sql\n",
    "CREATE FUNCTION AddTwoNumbers(num1 integer,num2 integer)\n",
    "RETURNS integer\n",
    "DETERMINISTIC\n",
    "```"
   ]
  },
  {
   "cell_type": "markdown",
   "metadata": {},
   "source": [
    "- actual **code** is **written** between **statements** - **BEGIN** - **END** [1]\n",
    "\n",
    "```sql\n",
    "CREATE FUNCTION AddTwoNumbers(num1 integer,num2 integer)\n",
    "RETURNS integer\n",
    "DETERMINISTIC\n",
    "BEGIN\n",
    "END\n",
    "```"
   ]
  },
  {
   "cell_type": "markdown",
   "metadata": {},
   "source": [
    "- function - **RETURN** - an integer - **result** [1]\n",
    "\n",
    "```sql\n",
    "CREATE FUNCTION AddTwoNumbers(num1 integer,num2 integer)\n",
    "RETURNS integer\n",
    "DETERMINISTIC\n",
    "BEGIN\n",
    "    RETURN num1+num2;\n",
    "END\n",
    "```"
   ]
  },
  {
   "cell_type": "markdown",
   "metadata": {},
   "source": [
    "- **change** **delimiter** back to **default** **semi-colon** [1]\n",
    "\n",
    "```sql\n",
    "delimiter ;\n",
    "```"
   ]
  },
  {
   "cell_type": "markdown",
   "metadata": {},
   "source": [
    "```sql\n",
    "mysql> delimiter //\n",
    "mysql> CREATE FUNCTION AddTwoNumbers(num1 integer,num2 integer)\n",
    "    -> RETURNS integer\n",
    "    -> DETERMINISTIC\n",
    "    -> BEGIN\n",
    "    ->   RETURN num1+num2;\n",
    "    -> END\n",
    "    -> //\n",
    "Query OK, 0 rows affected (0.03 sec)\n",
    "```"
   ]
  },
  {
   "cell_type": "markdown",
   "metadata": {},
   "source": [
    "- stored function - AddTwoNumbers - re-written [1]"
   ]
  },
  {
   "cell_type": "markdown",
   "metadata": {},
   "source": [
    "```sql\n",
    "mysql> delimiter //\n",
    "mysql> CREATE FUNCTION AddTwoNumbers(num1 INTEGER,num2 INTEGER)\n",
    "    -> RETURNS INTEGER\n",
    "    -> DETERMINISTIC\n",
    "    -> BEGIN\n",
    "    ->   RETURN num1+num2;\n",
    "    -> END\n",
    "    ->\n",
    "    -> //\n",
    "Query OK, 0 rows affected (0.01 sec)\n",
    "```"
   ]
  },
  {
   "cell_type": "markdown",
   "metadata": {},
   "source": [
    "```sql\n",
    "mysql> delimiter ;\n",
    "mysql> SELECT AddTwoNumbers(2,3);\n",
    "+--------------------+\n",
    "| AddTwoNumbers(2,3) |\n",
    "+--------------------+\n",
    "|                  5 |\n",
    "+--------------------+\n",
    "1 row in set (0.00 sec)\n",
    "```"
   ]
  },
  {
   "cell_type": "markdown",
   "metadata": {},
   "source": [
    "```sql\n",
    "mysql> use lab1;\n",
    "Database changed\n",
    "```"
   ]
  },
  {
   "cell_type": "markdown",
   "metadata": {},
   "source": [
    "```sql\n",
    "mysql> show tables;\n",
    "+----------------+\n",
    "| Tables_in_lab1 |\n",
    "+----------------+\n",
    "| car            |\n",
    "| person         |\n",
    "| personex       |\n",
    "+----------------+\n",
    "3 rows in set (0.00 sec)\n",
    "```"
   ]
  },
  {
   "cell_type": "markdown",
   "metadata": {},
   "source": [
    "```sql\n",
    "mysql> SELECT *\n",
    "    -> FROM person;\n",
    "+----------+-------+------+------+------------+-----------+\n",
    "| personID | name  | age  | sex  | dob        | isStudent |\n",
    "+----------+-------+------+------+------------+-----------+\n",
    "|        1 | John  |   23 | M    | 2000-01-01 |         1 |\n",
    "|        2 | Tom   |   64 | M    | 1958-03-11 |         0 |\n",
    "|        3 | Mary  |   12 | F    | 2005-04-11 |         1 |\n",
    "|        4 | Alan  |   12 | M    | 2005-11-21 |         1 |\n",
    "|        5 | Pat   |   29 | M    | 1993-03-17 |         0 |\n",
    "|        6 | Shane |   40 | M    | 1988-07-21 |         0 |\n",
    "|        7 | Shane |   14 | M    | 2003-06-01 |         1 |\n",
    "|        8 | Alice |   24 | F    | 1999-03-01 |         1 |\n",
    "|        9 | Pat   |   37 | F    | 1988-04-15 |         0 |\n",
    "+----------+-------+------+------+------------+-----------+\n",
    "9 rows in set (0.00 sec)\n",
    "```"
   ]
  },
  {
   "cell_type": "markdown",
   "metadata": {},
   "source": [
    "```sql\n",
    "mysql> DESCRIBE person;\n",
    "+-----------+---------------+------+-----+---------+----------------+\n",
    "| Field     | Type          | Null | Key | Default | Extra          |\n",
    "+-----------+---------------+------+-----+---------+----------------+\n",
    "| personID  | int           | NO   | PRI | NULL    | auto_increment |\n",
    "| name      | varchar(20)   | NO   |     | NULL    |                |\n",
    "| age       | int           | YES  |     | NULL    |                |\n",
    "| sex       | enum('M','F') | YES  |     | M       |                |\n",
    "| dob       | date          | YES  |     | NULL    |                |\n",
    "| isStudent | tinyint(1)    | YES  |     | NULL    |                |\n",
    "+-----------+---------------+------+-----+---------+----------------+\n",
    "6 rows in set (0.00 sec)\n",
    "```"
   ]
  },
  {
   "cell_type": "markdown",
   "metadata": {},
   "source": [
    "- **stored** **function** - **Discount** - accepts one parameter - age - data type - INT(11) - apply a discount based on argument passed [1] \n",
    "\n",
    "```sql\n",
    "CREATE FUNCTION Discount(age INT(11))\n",
    "```\n",
    "\n",
    "- returns a string of three characters [1]\n",
    "\n",
    "```sql\n",
    "RETURNS VARCHAR(3)\n",
    "```\n",
    "\n",
    "- does not modify data [1]\n",
    "\n",
    "```sql\n",
    "DETERMINISTIC\n",
    "```"
   ]
  },
  {
   "cell_type": "markdown",
   "metadata": {},
   "source": [
    "```sql\n",
    "mysql> delimiter //\n",
    "mysql> CREATE FUNCTION Discount(age INT(11))\n",
    "    -> RETURNS VARCHAR(3)\n",
    "    -> DETERMINISTIC\n",
    "    -> BEGIN\n",
    "    ->   IF age<16 THEN\n",
    "    ->     RETURN \"0%\";\n",
    "    ->   ELSEIF age<26 THEN\n",
    "    ->     RETURN \"10%\";\n",
    "    ->   ELSEIF age<40 THEN\n",
    "    ->     RETURN \"20%\";\n",
    "    ->   ELSEIF age<60 THEN\n",
    "    ->     RETURN \"30%\";\n",
    "    ->   ELSE\n",
    "    ->     RETURN \"40%\";\n",
    "    ->   END IF;\n",
    "    -> END\n",
    "    -> //\n",
    "Query OK, 0 rows affected, 1 warning (0.01 sec)\n",
    "```"
   ]
  },
  {
   "cell_type": "markdown",
   "metadata": {},
   "source": [
    "```sql\n",
    "mysql> delimiter ;\n",
    "mysql> SELECT Discount(15);\n",
    "+--------------+\n",
    "| Discount(15) |\n",
    "+--------------+\n",
    "| 0%           |\n",
    "+--------------+\n",
    "1 row in set (0.00 sec)\n",
    "\n",
    "mysql> SELECT Discount(25);\n",
    "+--------------+\n",
    "| Discount(25) |\n",
    "+--------------+\n",
    "| 10%          |\n",
    "+--------------+\n",
    "1 row in set (0.00 sec)\n",
    "\n",
    "mysql> SELECT Discount(39);\n",
    "+--------------+\n",
    "| Discount(39) |\n",
    "+--------------+\n",
    "| 20%          |\n",
    "+--------------+\n",
    "1 row in set (0.00 sec)\n",
    "\n",
    "mysql> SELECT Discount(59);\n",
    "+--------------+\n",
    "| Discount(59) |\n",
    "+--------------+\n",
    "| 30%          |\n",
    "+--------------+\n",
    "1 row in set (0.00 sec)\n",
    "\n",
    "mysql> SELECT Discount(60);\n",
    "+--------------+\n",
    "| Discount(60) |\n",
    "+--------------+\n",
    "| 40%          |\n",
    "+--------------+\n",
    "1 row in set (0.00 sec)\n",
    "```"
   ]
  },
  {
   "cell_type": "markdown",
   "metadata": {},
   "source": [
    "- apply to the column - attribute - field - age - in the table - entity - relation - person - stored function - Discount - accepts as an argument the column - attribute - field - age - for each row - record - field [1]"
   ]
  },
  {
   "cell_type": "markdown",
   "metadata": {},
   "source": [
    "```sql\n",
    "mysql> SELECT name,age,Discount(age) as \"Discount\"\n",
    "    -> FROM person;\n",
    "+-------+------+----------+\n",
    "| name  | age  | Discount |\n",
    "+-------+------+----------+\n",
    "| John  |   23 | 10%      |\n",
    "| Tom   |   64 | 40%      |\n",
    "| Mary  |   12 | 0%       |\n",
    "| Alan  |   12 | 0%       |\n",
    "| Pat   |   29 | 20%      |\n",
    "| Shane |   40 | 30%      |\n",
    "| Shane |   14 | 0%       |\n",
    "| Alice |   24 | 10%      |\n",
    "| Pat   |   37 | 20%      |\n",
    "+-------+------+----------+\n",
    "9 rows in set (0.00 sec)\n",
    "```"
   ]
  },
  {
   "cell_type": "markdown",
   "metadata": {},
   "source": [
    "```sql\n",
    "mysql> SHOW FUNCTION STATUS\n",
    "    -> WHERE db=\"lab1\";\n",
    "+------+---------------+----------+----------------+---------------------+---------------------+---------------+---------+----------------------+----------------------+--------------------+\n",
    "| Db   | Name          | Type     | Definer        | Modified            | Created             | Security_type | Comment | character_set_client | collation_connection | Database Collation |\n",
    "+------+---------------+----------+----------------+---------------------+---------------------+---------------+---------+----------------------+----------------------+--------------------+\n",
    "| lab1 | AddTwoNumbers | FUNCTION | root@localhost | 2020-07-11 14:55:32 | 2020-07-11 14:55:32 | DEFINER       |         | cp850                | cp850_general_ci     | utf8mb4_0900_ai_ci |\n",
    "| lab1 | Discount      | FUNCTION | root@localhost | 2020-07-11 14:35:22 | 2020-07-11 14:35:22 | DEFINER       |         | cp850                | cp850_general_ci     | utf8mb4_0900_ai_ci |\n",
    "+------+---------------+----------+----------------+---------------------+---------------------+---------------+---------+----------------------+----------------------+--------------------+\n",
    "2 rows in set (0.00 sec)\n",
    "```"
   ]
  },
  {
   "cell_type": "markdown",
   "metadata": {},
   "source": [
    "```sql\n",
    "mysql> DROP FUNCTION AddTwoNumbers;\n",
    "Query OK, 0 rows affected (0.01 sec)\n",
    "\n",
    "mysql> DROP FUNCTION Discount;\n",
    "Query OK, 0 rows affected (0.01 sec)\n",
    "\n",
    "mysql> SHOW FUNCTION STATUS\n",
    "    -> WHERE db=\"lab1\";\n",
    "Empty set (0.00 sec)\n",
    "```"
   ]
  },
  {
   "cell_type": "markdown",
   "metadata": {},
   "source": [
    "***\n",
    "# END"
   ]
  }
 ],
 "metadata": {
  "kernelspec": {
   "display_name": "Python 3",
   "language": "python",
   "name": "python3"
  },
  "language_info": {
   "codemirror_mode": {
    "name": "ipython",
    "version": 3
   },
   "file_extension": ".py",
   "mimetype": "text/x-python",
   "name": "python",
   "nbconvert_exporter": "python",
   "pygments_lexer": "ipython3",
   "version": "3.7.6"
  }
 },
 "nbformat": 4,
 "nbformat_minor": 4
}
