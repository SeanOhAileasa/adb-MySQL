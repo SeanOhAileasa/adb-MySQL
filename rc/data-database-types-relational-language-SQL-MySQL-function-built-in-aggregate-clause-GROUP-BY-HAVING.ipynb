{
 "cells": [
  {
   "cell_type": "markdown",
   "metadata": {},
   "source": [
    "# data-database-types-relational-language-SQL-MySQL-function-built-in-aggregate-clause-GROUP-BY-HAVING\n",
    "> [TABLE OF CONTENTS](https://nbviewer.jupyter.org/github/SeanOhAileasa/adb-MySQL/blob/main/adb-MySQL.ipynb#top)\n",
    "***"
   ]
  },
  {
   "cell_type": "markdown",
   "metadata": {},
   "source": [
    "- **clause** - **HAVING** - **often** **used** **with** - **clause** - **GROUP** **BY** - to **filter** **groups** based on a **specified** **condition** [1]"
   ]
  },
  {
   "cell_type": "markdown",
   "metadata": {},
   "source": [
    "- **clause** - **GROUP** **BY** - **omitted** - **clause** - **HAVING** - **behaves** like the - **clause** - **WHERE** [1]"
   ]
  },
  {
   "cell_type": "markdown",
   "metadata": {},
   "source": [
    " - **clause** - **HAVING** - **applies** a **filter** **condition** to **each** **group** of **rows** - records - tuples [1]"
   ]
  },
  {
   "cell_type": "markdown",
   "metadata": {},
   "source": [
    "- **clause** - **WHERE** - **applies** the **filter** **condition** to **each** **individual** **row** - record - tuple [1]"
   ]
  },
  {
   "cell_type": "markdown",
   "metadata": {},
   "source": [
    "```sql\n",
    "mysql> use lab5;\n",
    "Database changed\n",
    "```"
   ]
  },
  {
   "cell_type": "markdown",
   "metadata": {},
   "source": [
    "```sql\n",
    "mysql> show tables;\n",
    "+----------------+\n",
    "| Tables_in_lab5 |\n",
    "+----------------+\n",
    "| car            |\n",
    "| person         |\n",
    "+----------------+\n",
    "2 rows in set (0.00 sec)\n",
    "```"
   ]
  },
  {
   "cell_type": "markdown",
   "metadata": {},
   "source": [
    "```sql\n",
    "mysql> SELECT *\n",
    "    -> FROM car;\n",
    "+--------------+--------+------------+--------+---------+------------+\n",
    "| registration | make   | model      | colour | mileage | engineSize |\n",
    "+--------------+--------+------------+--------+---------+------------+\n",
    "| 05-MO-17931  | Toyota | Highlander | Green  |  253789 |        1.6 |\n",
    "| 10-G-2334    | Toyota | Corolla    | Green  |  123389 |        1.3 |\n",
    "| 10-WH-17931  | Toyota | Corolla    | Silver |  130389 |        1.4 |\n",
    "| 11-MO-23431  | Toyota | Corolla    | Black  | 1234123 |        1.3 |\n",
    "| 12-WH-123    | Ford   | Ka         | Black  |  125882 |        1.0 |\n",
    "| 132-G-9923   | Ford   | Ka         | Silver |  325883 |        1.0 |\n",
    "| 132-MO-19323 | Ford   | Galaxy     | Silver |    2343 |        1.5 |\n",
    "| 171-G-39532  | Toyota | Corolla    | Silver |   55882 |        1.3 |\n",
    "| 171-MO-12533 | Ford   | Fiesta     | Black  |   25882 |        1.0 |\n",
    "| 99-G-300     | Toyota | Corolla    | Green  |  599339 |        1.3 |\n",
    "+--------------+--------+------------+--------+---------+------------+\n",
    "10 rows in set (0.00 sec)\n",
    "```"
   ]
  },
  {
   "cell_type": "markdown",
   "metadata": {},
   "source": [
    "- using **clause** - **WHERE** - to **apply** a **filter** - average **columnn** - attribute - field - mileage - for each column - attribute - field - model - of car round to the nearest whole number - clause - WHERE - column - attribute - field - mileage - greater than sixty-thousand - alias - KMs - **clause** - **GROUP** **BY** - round average for each individual **column** - attribute - field - model [1]"
   ]
  },
  {
   "cell_type": "markdown",
   "metadata": {},
   "source": [
    "```sql\n",
    "mysql> SELECT model,ROUND(AVG(mileage)) as KMs\n",
    "    -> FROM car\n",
    "    -> WHERE mileage>60000\n",
    "    -> GROUP BY model;\n",
    "+------------+--------+\n",
    "| model      | KMs    |\n",
    "+------------+--------+\n",
    "| Highlander | 253789 |\n",
    "| Corolla    | 521810 |\n",
    "| Ka         | 225883 |\n",
    "+------------+--------+\n",
    "3 rows in set (0.00 sec)\n",
    "```"
   ]
  },
  {
   "cell_type": "markdown",
   "metadata": {},
   "source": [
    "- **applying** an **extra** **condition** - after finding the average - only **interested** in the **grouping** of the **column** - attribute - field - model - whose average is greater than two-hundred and fifty thousand [1]"
   ]
  },
  {
   "cell_type": "markdown",
   "metadata": {},
   "source": [
    "- **clause** - **HAVING** - applies a **filter** **condition** to **each** **group** of **rows** - records - tuples - **defined** **by** - **clause** - **GROUP** **BY** - the filter is the average column - attribute - field - mileage - for each column - attribute - field - model - greater than two-hundred and fifty thousand - clause - HAVING - eliminates the grouping of the column - attribute - field - value - Ka - given condition - clause - HAVING - greater than two-hundred and fifty thousand is not satisfied [1]"
   ]
  },
  {
   "cell_type": "markdown",
   "metadata": {},
   "source": [
    "```sql\n",
    "mysql> SELECT model,ROUND(AVG(mileage)) as KMs\n",
    "    -> FROM car\n",
    "    -> WHERE mileage>60000\n",
    "    -> GROUP BY model\n",
    "    -> HAVING KMs>250000;\n",
    "+------------+--------+\n",
    "| model      | KMs    |\n",
    "+------------+--------+\n",
    "| Highlander | 253789 |\n",
    "| Corolla    | 521810 |\n",
    "+------------+--------+\n",
    "2 rows in set (0.00 sec)\n",
    "```"
   ]
  },
  {
   "cell_type": "markdown",
   "metadata": {},
   "source": [
    "***\n",
    "# END"
   ]
  }
 ],
 "metadata": {
  "kernelspec": {
   "display_name": "Python 3",
   "language": "python",
   "name": "python3"
  },
  "language_info": {
   "codemirror_mode": {
    "name": "ipython",
    "version": 3
   },
   "file_extension": ".py",
   "mimetype": "text/x-python",
   "name": "python",
   "nbconvert_exporter": "python",
   "pygments_lexer": "ipython3",
   "version": "3.7.6"
  }
 },
 "nbformat": 4,
 "nbformat_minor": 4
}
