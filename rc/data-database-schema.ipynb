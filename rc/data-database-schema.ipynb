{
 "cells": [
  {
   "cell_type": "markdown",
   "metadata": {},
   "source": [
    "# data-database-schema\n",
    "> [TABLE OF CONTENTS](https://nbviewer.jupyter.org/github/SeanOhAileasa/adb-MySQL/blob/main/adb-MySQL.ipynb#top)\n",
    "***"
   ]
  },
  {
   "cell_type": "markdown",
   "metadata": {},
   "source": [
    "- **database** - **consists** - **schemas** - **tables** - **views** - other **objects** [1]"
   ]
  },
  {
   "cell_type": "markdown",
   "metadata": {},
   "source": [
    "- **schema** - usually a **drawing** that **represents** an **idea** - theory - makes it **easier** to **understand** [1]"
   ]
  },
  {
   "cell_type": "markdown",
   "metadata": {},
   "source": [
    "- **schematic** **diagram** of a car engine - **showing** at an **abstract** **level** how **everything** **works** together [1]"
   ]
  },
  {
   "cell_type": "markdown",
   "metadata": {},
   "source": [
    "- **database** **schema** - same thing - **defines** how the **data** - **relationships** **between** the data - is **stored** [1]"
   ]
  },
  {
   "cell_type": "markdown",
   "metadata": {},
   "source": [
    "- most **databases** **consist** of **more** than **one** **table** - entity - relation - the **schema** - **shows** how these - **tables** - entities - relations - are **associated** with **one** **another** [1]"
   ]
  },
  {
   "cell_type": "markdown",
   "metadata": {},
   "source": [
    "- **represents** the **logical** **configuration** - **all** - **part** - of a **database** - **defines** **how** the **data** and **relationships** **between** the **data** is **stored** [1]"
   ]
  },
  {
   "cell_type": "markdown",
   "metadata": {},
   "source": [
    "```sql\n",
    "mysql> use lab1;\n",
    "Database changed\n",
    "```"
   ]
  },
  {
   "cell_type": "markdown",
   "metadata": {},
   "source": [
    "```sql\n",
    "mysql> show tables;\n",
    "+----------------+\n",
    "| Tables_in_lab1 |\n",
    "+----------------+\n",
    "| car            |\n",
    "| person         |\n",
    "| personex       |\n",
    "+----------------+\n",
    "3 rows in set (0.01 sec)\n",
    "```"
   ]
  },
  {
   "cell_type": "markdown",
   "metadata": {},
   "source": [
    "- **table** - entity - relation - person - **schema** - **command** - **DESCRIBE** - shows must of the information about the table - entity - relation - do **not** **inform** on - **foreign** **keys** - albeit none in this table - entity - relation [1]"
   ]
  },
  {
   "cell_type": "markdown",
   "metadata": {},
   "source": [
    "```sql\n",
    "mysql> DESCRIBE person;\n",
    "+-----------+---------------+------+-----+---------+----------------+\n",
    "| Field     | Type          | Null | Key | Default | Extra          |\n",
    "+-----------+---------------+------+-----+---------+----------------+\n",
    "| personID  | int           | NO   | PRI | NULL    | auto_increment |\n",
    "| name      | varchar(20)   | NO   |     | NULL    |                |\n",
    "| age       | int           | YES  |     | NULL    |                |\n",
    "| sex       | enum('M','F') | YES  |     | M       |                |\n",
    "| dob       | date          | YES  |     | NULL    |                |\n",
    "| isStudent | tinyint(1)    | YES  |     | NULL    |                |\n",
    "+-----------+---------------+------+-----+---------+----------------+\n",
    "6 rows in set (0.01 sec)\n",
    "```"
   ]
  },
  {
   "cell_type": "markdown",
   "metadata": {},
   "source": [
    "- **relational** databases - early **1970s** - back then the **types** of **information** a company **kept** was more **straightforward** - designing a database - company - decided exactly what was to be - stored and how - schema - **logical** **schema** is **defined** **before** any **data** is **added** to the database [1]"
   ]
  },
  {
   "cell_type": "markdown",
   "metadata": {},
   "source": [
    "- customer table - entity - relation - defined - columns - attributes - fields - store information on the customer [1]"
   ]
  },
  {
   "cell_type": "markdown",
   "metadata": {},
   "source": [
    "<img src=\"img/08-01-01-04-[6].png\" />\n",
    "<img src=\"img/08-01-01-04-[6]-1.png\" />"
   ]
  },
  {
   "cell_type": "markdown",
   "metadata": {},
   "source": [
    "- nowadays - customers may prefer to be contacted by email - to meet customer demands - **schema** - of the database would have to be **updated** to **add** a **new** **column** - attribute - field - entire table - entity - relation - then updated with the new column - attribute - field - database large - **slow** **process** that involves significant **downtime** - table - entity - relation - **scaled** **horizontally** - may **take** even **longer** [1]"
   ]
  },
  {
   "cell_type": "markdown",
   "metadata": {},
   "source": [
    "<img src=\"img/08-01-01-04-[6]-2.png\" />"
   ]
  },
  {
   "cell_type": "markdown",
   "metadata": {},
   "source": [
    "- social media - some customers may wish to be contacted by tweet - **schema** - would have to be **changed** **again** - entire table - entity - relation updated with the new column - attribute - field - data stored - becoming **less** **structured** - **different** **customers** have **different** **details** [1]"
   ]
  },
  {
   "cell_type": "markdown",
   "metadata": {},
   "source": [
    " - **relational** **model** - must **store** the **same** **data** for **each** **customer** - column - attribute - field - Name - row - record - tuple - value - Tom - has no - email - twitter address - must **store** - **NULL** - for each of these columns - attributes - fields [1]"
   ]
  },
  {
   "cell_type": "markdown",
   "metadata": {},
   "source": [
    "<img src=\"img/08-01-01-04-[6]-3.png\" />"
   ]
  },
  {
   "cell_type": "markdown",
   "metadata": {},
   "source": [
    "- **constantly** **changing** **world** - **new** **information** is being **created** - **relational** database - **cannot** **cope** well with such changes - agile software development - software developed in a series of iterations - frequent changes from iteration to iteration - relational database is not suited to this constant change [1]"
   ]
  },
  {
   "cell_type": "markdown",
   "metadata": {},
   "source": [
    "***\n",
    "# END"
   ]
  }
 ],
 "metadata": {
  "kernelspec": {
   "display_name": "Python 3",
   "language": "python",
   "name": "python3"
  },
  "language_info": {
   "codemirror_mode": {
    "name": "ipython",
    "version": 3
   },
   "file_extension": ".py",
   "mimetype": "text/x-python",
   "name": "python",
   "nbconvert_exporter": "python",
   "pygments_lexer": "ipython3",
   "version": "3.7.6"
  }
 },
 "nbformat": 4,
 "nbformat_minor": 4
}
