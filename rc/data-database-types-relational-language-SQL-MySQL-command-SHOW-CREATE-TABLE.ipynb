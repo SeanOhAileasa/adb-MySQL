{
 "cells": [
  {
   "cell_type": "markdown",
   "metadata": {},
   "source": [
    "# data-database-types-relational-language-SQL-MySQL-command-SHOW-CREATE-TABLE\n",
    "> [TABLE OF CONTENTS](https://nbviewer.jupyter.org/github/SeanOhAileasa/adb-MySQL/blob/main/adb-MySQL.ipynb#top)\n",
    "***"
   ]
  },
  {
   "cell_type": "markdown",
   "metadata": {},
   "source": [
    "```sql\n",
    "mysql> use hospital;\n",
    "Database changed\n",
    "```"
   ]
  },
  {
   "cell_type": "markdown",
   "metadata": {},
   "source": [
    "```sql\n",
    "mysql> show tables;\n",
    "+--------------------+\n",
    "| Tables_in_hospital |\n",
    "+--------------------+\n",
    "| doctor_table       |\n",
    "| patient_table      |\n",
    "+--------------------+\n",
    "2 rows in set (0.00 sec)\n",
    "```"
   ]
  },
  {
   "cell_type": "markdown",
   "metadata": {},
   "source": [
    "```sql\n",
    "mysql> describe patient_table;\n",
    "+------------+--------------+------+-----+---------+-------+\n",
    "| Field      | Type         | Null | Key | Default | Extra |\n",
    "+------------+--------------+------+-----+---------+-------+\n",
    "| ppsn       | varchar(10)  | NO   | PRI | NULL    |       |\n",
    "| first_name | varchar(50)  | YES  |     | NULL    |       |\n",
    "| surname    | varchar(50)  | YES  |     | NULL    |       |\n",
    "| address    | varchar(200) | YES  |     | NULL    |       |\n",
    "| doctorID   | int          | YES  | MUL | NULL    |       |\n",
    "+------------+--------------+------+-----+---------+-------+\n",
    "5 rows in set (0.00 sec)\n",
    "```"
   ]
  },
  {
   "cell_type": "markdown",
   "metadata": {},
   "source": [
    "- **command** - **DESCRIBE** - does **not** **specify** that **within** the **table** - entity - relation - patient_table - **column** - attribute - field - doctorID - is a **foreign** **key** **referencing** **another** **table** - entity - relation [1]"
   ]
  },
  {
   "cell_type": "markdown",
   "metadata": {},
   "source": [
    "```sql\n",
    "mysql> SHOW CREATE TABLE patient_table;\n",
    "+---------------+----------------------------------------------------------------------------------------------------------------------------------------------------------------------------------------------------------------------------------------------------------------------------------------------------------------------------------------------------------------------------------------------------------------------+\n",
    "| Table         | Create Table                                                                                                                                                                                                                                                                                                                                                                                                         |\n",
    "+---------------+----------------------------------------------------------------------------------------------------------------------------------------------------------------------------------------------------------------------------------------------------------------------------------------------------------------------------------------------------------------------------------------------------------------------+\n",
    "| patient_table | CREATE TABLE `patient_table` (\n",
    "  `ppsn` varchar(10) NOT NULL,\n",
    "  `first_name` varchar(50) DEFAULT NULL,\n",
    "  `surname` varchar(50) DEFAULT NULL,\n",
    "  `address` varchar(200) DEFAULT NULL,\n",
    "  `doctorID` int DEFAULT NULL,\n",
    "  PRIMARY KEY (`ppsn`),\n",
    "  KEY `doctorID` (`doctorID`),\n",
    "  CONSTRAINT `patient_table_ibfk_1` FOREIGN KEY (`doctorID`) REFERENCES `doctor_table` (`doctorID`)\n",
    ") ENGINE=InnoDB DEFAULT CHARSET=latin1 |\n",
    "+---------------+----------------------------------------------------------------------------------------------------------------------------------------------------------------------------------------------------------------------------------------------------------------------------------------------------------------------------------------------------------------------------------------------------------------------+\n",
    "1 row in set (0.00 sec)\n",
    "```"
   ]
  },
  {
   "cell_type": "markdown",
   "metadata": {},
   "source": [
    "- **command** - **SHOW** **CREATE** **TABLE** - **same** **information** as the **command** - **DESCRIBE** - albeit **different** **format** **plus** **foreign** **key** information - table - entity - relation - patient_table - column - attribute - field - doctorID - foreign key - referencing table - entity - relation - doctor_table - column - attribute - field - doctorID [1]\n",
    "\n",
    "```sql\n",
    "CONSTRAINT `patient_table_ibfk_1` FOREIGN KEY (`doctorID`) REFERENCES `doctor_table` (`doctorID`)\n",
    "```"
   ]
  },
  {
   "cell_type": "markdown",
   "metadata": {},
   "source": [
    "***\n",
    "# END"
   ]
  }
 ],
 "metadata": {
  "kernelspec": {
   "display_name": "Python 3",
   "language": "python",
   "name": "python3"
  },
  "language_info": {
   "codemirror_mode": {
    "name": "ipython",
    "version": 3
   },
   "file_extension": ".py",
   "mimetype": "text/x-python",
   "name": "python",
   "nbconvert_exporter": "python",
   "pygments_lexer": "ipython3",
   "version": "3.7.6"
  }
 },
 "nbformat": 4,
 "nbformat_minor": 4
}
