{
 "cells": [
  {
   "cell_type": "markdown",
   "metadata": {},
   "source": [
    "# data-database-types-relational-language-SQL-MySQL-data-types\n",
    "> [TABLE OF CONTENTS](https://nbviewer.jupyter.org/github/SeanOhAileasa/adb-MySQL/blob/main/adb-MySQL.ipynb#top)\n",
    "***"
   ]
  },
  {
   "cell_type": "markdown",
   "metadata": {},
   "source": [
    "- database - collection of organised data - need to store the data - relational database - **data** is **stored** in **tables** - entities - relations -  which are **made** **up** of **columns** - attributes - fields - of which **each** can **store** a **different** - **data** **type** [1]"
   ]
  },
  {
   "cell_type": "markdown",
   "metadata": {},
   "source": [
    "> [MySQL Documentation](https://web.archive.org/web/20200801145405/https://dev.mysql.com/doc/refman/8.0/en/data-types.html)"
   ]
  },
  {
   "cell_type": "markdown",
   "metadata": {},
   "source": [
    "- store information about - car - many characteristics - columns - attributes - fields - make - model - registration - colour - mileage - engine size - number of cylinders - type of crankshaft - any characteristic - column - attribute - field - that a car has can be a column - attribute - field - in a table - entity - relation - representing a car - may not be interested in all of the characteristics hence do not need those columns - attributes - fields - in the table - entity - relation - **determine** the **data** **type** **each** **column** - attribute - field - **should** **hold** [1]"
   ]
  },
  {
   "cell_type": "markdown",
   "metadata": {},
   "source": [
    "- column - attribute - field - make - data type - string - 20 characters [1]\n",
    "\n",
    "```sql\n",
    "VARCHAR(20)\n",
    "```"
   ]
  },
  {
   "cell_type": "markdown",
   "metadata": {},
   "source": [
    "- column - attribute - field - model - data type - string - 20 characters [1]\n",
    "\n",
    "```sql\n",
    "VARCHAR(20)\n",
    "```"
   ]
  },
  {
   "cell_type": "markdown",
   "metadata": {},
   "source": [
    "- column - attribute - field - registration - data type - string - 15 characters - unlikely to exceed 15 characters [1]\n",
    "\n",
    "```sql\n",
    "VARCHAR(15)\n",
    "```"
   ]
  },
  {
   "cell_type": "markdown",
   "metadata": {},
   "source": [
    "- column - attribute - field - colour - data type - string - 10 characters [1]\n",
    "\n",
    "```sql\n",
    "VARCHAR(10)\n",
    "```"
   ]
  },
  {
   "cell_type": "markdown",
   "metadata": {},
   "source": [
    "- column - attribute - field - mileage - data type - integer - to the nearest kilometre [1]\n",
    "\n",
    "```sql\n",
    "INTEGER\n",
    "```"
   ]
  },
  {
   "cell_type": "markdown",
   "metadata": {},
   "source": [
    "- column - attribute - field - engine size - data type - float - two digits - one to the right of decimal point [1]\n",
    "\n",
    "```sql\n",
    "FLOAT(2,1)\n",
    "```"
   ]
  },
  {
   "cell_type": "markdown",
   "metadata": {},
   "source": [
    "***\n",
    "# END"
   ]
  }
 ],
 "metadata": {
  "kernelspec": {
   "display_name": "Python 3",
   "language": "python",
   "name": "python3"
  },
  "language_info": {
   "codemirror_mode": {
    "name": "ipython",
    "version": 3
   },
   "file_extension": ".py",
   "mimetype": "text/x-python",
   "name": "python",
   "nbconvert_exporter": "python",
   "pygments_lexer": "ipython3",
   "version": "3.8.8"
  }
 },
 "nbformat": 4,
 "nbformat_minor": 4
}
